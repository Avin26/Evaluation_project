{
 "cells": [
  {
   "cell_type": "markdown",
   "id": "d3b8c9be",
   "metadata": {},
   "source": [
    "# Census Income Project\n"
   ]
  },
  {
   "cell_type": "markdown",
   "id": "0f1d288c",
   "metadata": {},
   "source": [
    "## Problem Statement:\n",
    "\n",
    "\n",
    "This data was extracted from the 1994 Census bureau database by Ronny Kohavi and Barry Becker (Data Mining and Visualization, Silicon Graphics). A set of reasonably clean records was extracted using the following conditions: ((AAGE>16) && (AGI>100) && (AFNLWGT>1) && (HRSWK>0)). The prediction task is to determine whether a person makes over $50K a year.\n",
    "\n",
    "## Description of fnlwgt (final weight)\n",
    "The weights on the Current Population Survey (CPS) files are controlled to independent estimates of the civilian non-institutional population of the US. These are prepared monthly for us by Population Division here at the Census Bureau. We use 3 sets of controls. These are:\n",
    "\n",
    "1.A single cell estimate of the population 16+ for each state.\n",
    "\n",
    "2.Controls for Hispanic Origin by age and sex.\n",
    "\n",
    "3.Controls by Race, age and sex.\n",
    "\n",
    "We use all three sets of controls in our weighting program and \"rake\" through them 6 times so that by the end we come back to all the controls we used. The term estimate refers to population totals derived from CPS by creating \"weighted tallies\" of any specified socio-economic characteristics of the population. People with similar demographic characteristics should have similar weights. There is one important caveat to remember about this statement. That is that since the CPS sample is actually a collection of 51 state samples, each with its own probability of selection, the statement only applies within state."
   ]
  },
  {
   "cell_type": "code",
   "execution_count": 426,
   "id": "02e6ded1",
   "metadata": {},
   "outputs": [],
   "source": [
    "import pandas as pd\n",
    "import warnings\n",
    "warnings.filterwarnings('ignore')\n",
    "import seaborn as sns\n",
    "import matplotlib.pyplot as plt\n",
    "import numpy as np"
   ]
  },
  {
   "cell_type": "code",
   "execution_count": 427,
   "id": "a2a1c1e6",
   "metadata": {},
   "outputs": [],
   "source": [
    "df = pd.read_csv(\"census_income.csv\")"
   ]
  },
  {
   "cell_type": "code",
   "execution_count": 428,
   "id": "92bca51c",
   "metadata": {},
   "outputs": [
    {
     "data": {
      "text/html": [
       "<div>\n",
       "<style scoped>\n",
       "    .dataframe tbody tr th:only-of-type {\n",
       "        vertical-align: middle;\n",
       "    }\n",
       "\n",
       "    .dataframe tbody tr th {\n",
       "        vertical-align: top;\n",
       "    }\n",
       "\n",
       "    .dataframe thead th {\n",
       "        text-align: right;\n",
       "    }\n",
       "</style>\n",
       "<table border=\"1\" class=\"dataframe\">\n",
       "  <thead>\n",
       "    <tr style=\"text-align: right;\">\n",
       "      <th></th>\n",
       "      <th>Age</th>\n",
       "      <th>Workclass</th>\n",
       "      <th>Fnlwgt</th>\n",
       "      <th>Education</th>\n",
       "      <th>Education_num</th>\n",
       "      <th>Marital_status</th>\n",
       "      <th>Occupation</th>\n",
       "      <th>Relationship</th>\n",
       "      <th>Race</th>\n",
       "      <th>Sex</th>\n",
       "      <th>Capital_gain</th>\n",
       "      <th>Capital_loss</th>\n",
       "      <th>Hours_per_week</th>\n",
       "      <th>Native_country</th>\n",
       "      <th>Income</th>\n",
       "    </tr>\n",
       "  </thead>\n",
       "  <tbody>\n",
       "    <tr>\n",
       "      <th>0</th>\n",
       "      <td>50</td>\n",
       "      <td>Self-emp-not-inc</td>\n",
       "      <td>83311</td>\n",
       "      <td>Bachelors</td>\n",
       "      <td>13</td>\n",
       "      <td>Married-civ-spouse</td>\n",
       "      <td>Exec-managerial</td>\n",
       "      <td>Husband</td>\n",
       "      <td>White</td>\n",
       "      <td>Male</td>\n",
       "      <td>0</td>\n",
       "      <td>0</td>\n",
       "      <td>13</td>\n",
       "      <td>United-States</td>\n",
       "      <td>&lt;=50K</td>\n",
       "    </tr>\n",
       "    <tr>\n",
       "      <th>1</th>\n",
       "      <td>38</td>\n",
       "      <td>Private</td>\n",
       "      <td>215646</td>\n",
       "      <td>HS-grad</td>\n",
       "      <td>9</td>\n",
       "      <td>Divorced</td>\n",
       "      <td>Handlers-cleaners</td>\n",
       "      <td>Not-in-family</td>\n",
       "      <td>White</td>\n",
       "      <td>Male</td>\n",
       "      <td>0</td>\n",
       "      <td>0</td>\n",
       "      <td>40</td>\n",
       "      <td>United-States</td>\n",
       "      <td>&lt;=50K</td>\n",
       "    </tr>\n",
       "    <tr>\n",
       "      <th>2</th>\n",
       "      <td>53</td>\n",
       "      <td>Private</td>\n",
       "      <td>234721</td>\n",
       "      <td>11th</td>\n",
       "      <td>7</td>\n",
       "      <td>Married-civ-spouse</td>\n",
       "      <td>Handlers-cleaners</td>\n",
       "      <td>Husband</td>\n",
       "      <td>Black</td>\n",
       "      <td>Male</td>\n",
       "      <td>0</td>\n",
       "      <td>0</td>\n",
       "      <td>40</td>\n",
       "      <td>United-States</td>\n",
       "      <td>&lt;=50K</td>\n",
       "    </tr>\n",
       "    <tr>\n",
       "      <th>3</th>\n",
       "      <td>28</td>\n",
       "      <td>Private</td>\n",
       "      <td>338409</td>\n",
       "      <td>Bachelors</td>\n",
       "      <td>13</td>\n",
       "      <td>Married-civ-spouse</td>\n",
       "      <td>Prof-specialty</td>\n",
       "      <td>Wife</td>\n",
       "      <td>Black</td>\n",
       "      <td>Female</td>\n",
       "      <td>0</td>\n",
       "      <td>0</td>\n",
       "      <td>40</td>\n",
       "      <td>Cuba</td>\n",
       "      <td>&lt;=50K</td>\n",
       "    </tr>\n",
       "    <tr>\n",
       "      <th>4</th>\n",
       "      <td>37</td>\n",
       "      <td>Private</td>\n",
       "      <td>284582</td>\n",
       "      <td>Masters</td>\n",
       "      <td>14</td>\n",
       "      <td>Married-civ-spouse</td>\n",
       "      <td>Exec-managerial</td>\n",
       "      <td>Wife</td>\n",
       "      <td>White</td>\n",
       "      <td>Female</td>\n",
       "      <td>0</td>\n",
       "      <td>0</td>\n",
       "      <td>40</td>\n",
       "      <td>United-States</td>\n",
       "      <td>&lt;=50K</td>\n",
       "    </tr>\n",
       "    <tr>\n",
       "      <th>...</th>\n",
       "      <td>...</td>\n",
       "      <td>...</td>\n",
       "      <td>...</td>\n",
       "      <td>...</td>\n",
       "      <td>...</td>\n",
       "      <td>...</td>\n",
       "      <td>...</td>\n",
       "      <td>...</td>\n",
       "      <td>...</td>\n",
       "      <td>...</td>\n",
       "      <td>...</td>\n",
       "      <td>...</td>\n",
       "      <td>...</td>\n",
       "      <td>...</td>\n",
       "      <td>...</td>\n",
       "    </tr>\n",
       "    <tr>\n",
       "      <th>32555</th>\n",
       "      <td>27</td>\n",
       "      <td>Private</td>\n",
       "      <td>257302</td>\n",
       "      <td>Assoc-acdm</td>\n",
       "      <td>12</td>\n",
       "      <td>Married-civ-spouse</td>\n",
       "      <td>Tech-support</td>\n",
       "      <td>Wife</td>\n",
       "      <td>White</td>\n",
       "      <td>Female</td>\n",
       "      <td>0</td>\n",
       "      <td>0</td>\n",
       "      <td>38</td>\n",
       "      <td>United-States</td>\n",
       "      <td>&lt;=50K</td>\n",
       "    </tr>\n",
       "    <tr>\n",
       "      <th>32556</th>\n",
       "      <td>40</td>\n",
       "      <td>Private</td>\n",
       "      <td>154374</td>\n",
       "      <td>HS-grad</td>\n",
       "      <td>9</td>\n",
       "      <td>Married-civ-spouse</td>\n",
       "      <td>Machine-op-inspct</td>\n",
       "      <td>Husband</td>\n",
       "      <td>White</td>\n",
       "      <td>Male</td>\n",
       "      <td>0</td>\n",
       "      <td>0</td>\n",
       "      <td>40</td>\n",
       "      <td>United-States</td>\n",
       "      <td>&gt;50K</td>\n",
       "    </tr>\n",
       "    <tr>\n",
       "      <th>32557</th>\n",
       "      <td>58</td>\n",
       "      <td>Private</td>\n",
       "      <td>151910</td>\n",
       "      <td>HS-grad</td>\n",
       "      <td>9</td>\n",
       "      <td>Widowed</td>\n",
       "      <td>Adm-clerical</td>\n",
       "      <td>Unmarried</td>\n",
       "      <td>White</td>\n",
       "      <td>Female</td>\n",
       "      <td>0</td>\n",
       "      <td>0</td>\n",
       "      <td>40</td>\n",
       "      <td>United-States</td>\n",
       "      <td>&lt;=50K</td>\n",
       "    </tr>\n",
       "    <tr>\n",
       "      <th>32558</th>\n",
       "      <td>22</td>\n",
       "      <td>Private</td>\n",
       "      <td>201490</td>\n",
       "      <td>HS-grad</td>\n",
       "      <td>9</td>\n",
       "      <td>Never-married</td>\n",
       "      <td>Adm-clerical</td>\n",
       "      <td>Own-child</td>\n",
       "      <td>White</td>\n",
       "      <td>Male</td>\n",
       "      <td>0</td>\n",
       "      <td>0</td>\n",
       "      <td>20</td>\n",
       "      <td>United-States</td>\n",
       "      <td>&lt;=50K</td>\n",
       "    </tr>\n",
       "    <tr>\n",
       "      <th>32559</th>\n",
       "      <td>52</td>\n",
       "      <td>Self-emp-inc</td>\n",
       "      <td>287927</td>\n",
       "      <td>HS-grad</td>\n",
       "      <td>9</td>\n",
       "      <td>Married-civ-spouse</td>\n",
       "      <td>Exec-managerial</td>\n",
       "      <td>Wife</td>\n",
       "      <td>White</td>\n",
       "      <td>Female</td>\n",
       "      <td>15024</td>\n",
       "      <td>0</td>\n",
       "      <td>40</td>\n",
       "      <td>United-States</td>\n",
       "      <td>&gt;50K</td>\n",
       "    </tr>\n",
       "  </tbody>\n",
       "</table>\n",
       "<p>32560 rows × 15 columns</p>\n",
       "</div>"
      ],
      "text/plain": [
       "       Age          Workclass  Fnlwgt    Education  Education_num  \\\n",
       "0       50   Self-emp-not-inc   83311    Bachelors             13   \n",
       "1       38            Private  215646      HS-grad              9   \n",
       "2       53            Private  234721         11th              7   \n",
       "3       28            Private  338409    Bachelors             13   \n",
       "4       37            Private  284582      Masters             14   \n",
       "...    ...                ...     ...          ...            ...   \n",
       "32555   27            Private  257302   Assoc-acdm             12   \n",
       "32556   40            Private  154374      HS-grad              9   \n",
       "32557   58            Private  151910      HS-grad              9   \n",
       "32558   22            Private  201490      HS-grad              9   \n",
       "32559   52       Self-emp-inc  287927      HS-grad              9   \n",
       "\n",
       "            Marital_status          Occupation    Relationship    Race  \\\n",
       "0       Married-civ-spouse     Exec-managerial         Husband   White   \n",
       "1                 Divorced   Handlers-cleaners   Not-in-family   White   \n",
       "2       Married-civ-spouse   Handlers-cleaners         Husband   Black   \n",
       "3       Married-civ-spouse      Prof-specialty            Wife   Black   \n",
       "4       Married-civ-spouse     Exec-managerial            Wife   White   \n",
       "...                    ...                 ...             ...     ...   \n",
       "32555   Married-civ-spouse        Tech-support            Wife   White   \n",
       "32556   Married-civ-spouse   Machine-op-inspct         Husband   White   \n",
       "32557              Widowed        Adm-clerical       Unmarried   White   \n",
       "32558        Never-married        Adm-clerical       Own-child   White   \n",
       "32559   Married-civ-spouse     Exec-managerial            Wife   White   \n",
       "\n",
       "           Sex  Capital_gain  Capital_loss  Hours_per_week  Native_country  \\\n",
       "0         Male             0             0              13   United-States   \n",
       "1         Male             0             0              40   United-States   \n",
       "2         Male             0             0              40   United-States   \n",
       "3       Female             0             0              40            Cuba   \n",
       "4       Female             0             0              40   United-States   \n",
       "...        ...           ...           ...             ...             ...   \n",
       "32555   Female             0             0              38   United-States   \n",
       "32556     Male             0             0              40   United-States   \n",
       "32557   Female             0             0              40   United-States   \n",
       "32558     Male             0             0              20   United-States   \n",
       "32559   Female         15024             0              40   United-States   \n",
       "\n",
       "       Income  \n",
       "0       <=50K  \n",
       "1       <=50K  \n",
       "2       <=50K  \n",
       "3       <=50K  \n",
       "4       <=50K  \n",
       "...       ...  \n",
       "32555   <=50K  \n",
       "32556    >50K  \n",
       "32557   <=50K  \n",
       "32558   <=50K  \n",
       "32559    >50K  \n",
       "\n",
       "[32560 rows x 15 columns]"
      ]
     },
     "execution_count": 428,
     "metadata": {},
     "output_type": "execute_result"
    }
   ],
   "source": [
    "df"
   ]
  },
  {
   "cell_type": "markdown",
   "id": "cd2095fa",
   "metadata": {},
   "source": [
    "## Exploratory Data Analysis(EDA)\n"
   ]
  },
  {
   "cell_type": "code",
   "execution_count": 429,
   "id": "1c84fb70",
   "metadata": {},
   "outputs": [
    {
     "data": {
      "text/plain": [
       "(32560, 15)"
      ]
     },
     "execution_count": 429,
     "metadata": {},
     "output_type": "execute_result"
    }
   ],
   "source": [
    "df.shape"
   ]
  },
  {
   "cell_type": "code",
   "execution_count": 430,
   "id": "f4af00c0",
   "metadata": {
    "scrolled": true
   },
   "outputs": [
    {
     "data": {
      "text/plain": [
       "Age               0\n",
       "Workclass         0\n",
       "Fnlwgt            0\n",
       "Education         0\n",
       "Education_num     0\n",
       "Marital_status    0\n",
       "Occupation        0\n",
       "Relationship      0\n",
       "Race              0\n",
       "Sex               0\n",
       "Capital_gain      0\n",
       "Capital_loss      0\n",
       "Hours_per_week    0\n",
       "Native_country    0\n",
       "Income            0\n",
       "dtype: int64"
      ]
     },
     "execution_count": 430,
     "metadata": {},
     "output_type": "execute_result"
    }
   ],
   "source": [
    "df.isna().sum()"
   ]
  },
  {
   "cell_type": "markdown",
   "id": "046d9d20",
   "metadata": {},
   "source": [
    "* no missing value in any columns"
   ]
  },
  {
   "cell_type": "code",
   "execution_count": 431,
   "id": "5b655d00",
   "metadata": {},
   "outputs": [
    {
     "name": "stdout",
     "output_type": "stream",
     "text": [
      "<class 'pandas.core.frame.DataFrame'>\n",
      "RangeIndex: 32560 entries, 0 to 32559\n",
      "Data columns (total 15 columns):\n",
      " #   Column          Non-Null Count  Dtype \n",
      "---  ------          --------------  ----- \n",
      " 0   Age             32560 non-null  int64 \n",
      " 1   Workclass       32560 non-null  object\n",
      " 2   Fnlwgt          32560 non-null  int64 \n",
      " 3   Education       32560 non-null  object\n",
      " 4   Education_num   32560 non-null  int64 \n",
      " 5   Marital_status  32560 non-null  object\n",
      " 6   Occupation      32560 non-null  object\n",
      " 7   Relationship    32560 non-null  object\n",
      " 8   Race            32560 non-null  object\n",
      " 9   Sex             32560 non-null  object\n",
      " 10  Capital_gain    32560 non-null  int64 \n",
      " 11  Capital_loss    32560 non-null  int64 \n",
      " 12  Hours_per_week  32560 non-null  int64 \n",
      " 13  Native_country  32560 non-null  object\n",
      " 14  Income          32560 non-null  object\n",
      "dtypes: int64(6), object(9)\n",
      "memory usage: 3.7+ MB\n"
     ]
    }
   ],
   "source": [
    "# For getting the overview summary of the dataset\n",
    "df.info()"
   ]
  },
  {
   "cell_type": "code",
   "execution_count": 432,
   "id": "6feb04a1",
   "metadata": {
    "scrolled": false
   },
   "outputs": [
    {
     "name": "stdout",
     "output_type": "stream",
     "text": [
      "36    898\n",
      "31    888\n",
      "34    886\n",
      "23    877\n",
      "35    876\n",
      "     ... \n",
      "83      6\n",
      "88      3\n",
      "85      3\n",
      "86      1\n",
      "87      1\n",
      "Name: Age, Length: 73, dtype: int64\n",
      "\n",
      "\n",
      " Private             22696\n",
      " Self-emp-not-inc     2541\n",
      " Local-gov            2093\n",
      " ?                    1836\n",
      " State-gov            1297\n",
      " Self-emp-inc         1116\n",
      " Federal-gov           960\n",
      " Without-pay            14\n",
      " Never-worked            7\n",
      "Name: Workclass, dtype: int64\n",
      "\n",
      "\n",
      "164190    13\n",
      "203488    13\n",
      "123011    13\n",
      "148995    12\n",
      "126675    12\n",
      "          ..\n",
      "325573     1\n",
      "140176     1\n",
      "318264     1\n",
      "329205     1\n",
      "257302     1\n",
      "Name: Fnlwgt, Length: 21647, dtype: int64\n",
      "\n",
      "\n",
      " HS-grad         10501\n",
      " Some-college     7291\n",
      " Bachelors        5354\n",
      " Masters          1723\n",
      " Assoc-voc        1382\n",
      " 11th             1175\n",
      " Assoc-acdm       1067\n",
      " 10th              933\n",
      " 7th-8th           646\n",
      " Prof-school       576\n",
      " 9th               514\n",
      " 12th              433\n",
      " Doctorate         413\n",
      " 5th-6th           333\n",
      " 1st-4th           168\n",
      " Preschool          51\n",
      "Name: Education, dtype: int64\n",
      "\n",
      "\n",
      "9     10501\n",
      "10     7291\n",
      "13     5354\n",
      "14     1723\n",
      "11     1382\n",
      "7      1175\n",
      "12     1067\n",
      "6       933\n",
      "4       646\n",
      "15      576\n",
      "5       514\n",
      "8       433\n",
      "16      413\n",
      "3       333\n",
      "2       168\n",
      "1        51\n",
      "Name: Education_num, dtype: int64\n",
      "\n",
      "\n",
      " Married-civ-spouse       14976\n",
      " Never-married            10682\n",
      " Divorced                  4443\n",
      " Separated                 1025\n",
      " Widowed                    993\n",
      " Married-spouse-absent      418\n",
      " Married-AF-spouse           23\n",
      "Name: Marital_status, dtype: int64\n",
      "\n",
      "\n",
      " Prof-specialty       4140\n",
      " Craft-repair         4099\n",
      " Exec-managerial      4066\n",
      " Adm-clerical         3769\n",
      " Sales                3650\n",
      " Other-service        3295\n",
      " Machine-op-inspct    2002\n",
      " ?                    1843\n",
      " Transport-moving     1597\n",
      " Handlers-cleaners    1370\n",
      " Farming-fishing       994\n",
      " Tech-support          928\n",
      " Protective-serv       649\n",
      " Priv-house-serv       149\n",
      " Armed-Forces            9\n",
      "Name: Occupation, dtype: int64\n",
      "\n",
      "\n",
      " Husband           13193\n",
      " Not-in-family      8304\n",
      " Own-child          5068\n",
      " Unmarried          3446\n",
      " Wife               1568\n",
      " Other-relative      981\n",
      "Name: Relationship, dtype: int64\n",
      "\n",
      "\n",
      " White                 27815\n",
      " Black                  3124\n",
      " Asian-Pac-Islander     1039\n",
      " Amer-Indian-Eskimo      311\n",
      " Other                   271\n",
      "Name: Race, dtype: int64\n",
      "\n",
      "\n",
      " Male      21789\n",
      " Female    10771\n",
      "Name: Sex, dtype: int64\n",
      "\n",
      "\n",
      "0        29849\n",
      "15024      347\n",
      "7688       284\n",
      "7298       246\n",
      "99999      159\n",
      "         ...  \n",
      "1111         1\n",
      "2538         1\n",
      "22040        1\n",
      "4931         1\n",
      "5060         1\n",
      "Name: Capital_gain, Length: 119, dtype: int64\n",
      "\n",
      "\n",
      "0       31041\n",
      "1902      202\n",
      "1977      168\n",
      "1887      159\n",
      "1848       51\n",
      "        ...  \n",
      "2080        1\n",
      "1539        1\n",
      "1844        1\n",
      "2489        1\n",
      "1411        1\n",
      "Name: Capital_loss, Length: 92, dtype: int64\n",
      "\n",
      "\n",
      "40    15216\n",
      "50     2819\n",
      "45     1824\n",
      "60     1475\n",
      "35     1297\n",
      "      ...  \n",
      "82        1\n",
      "94        1\n",
      "92        1\n",
      "74        1\n",
      "87        1\n",
      "Name: Hours_per_week, Length: 94, dtype: int64\n",
      "\n",
      "\n",
      " United-States                 29169\n",
      " Mexico                          643\n",
      " ?                               583\n",
      " Philippines                     198\n",
      " Germany                         137\n",
      " Canada                          121\n",
      " Puerto-Rico                     114\n",
      " El-Salvador                     106\n",
      " India                           100\n",
      " Cuba                             95\n",
      " England                          90\n",
      " Jamaica                          81\n",
      " South                            80\n",
      " China                            75\n",
      " Italy                            73\n",
      " Dominican-Republic               70\n",
      " Vietnam                          67\n",
      " Guatemala                        64\n",
      " Japan                            62\n",
      " Poland                           60\n",
      " Columbia                         59\n",
      " Taiwan                           51\n",
      " Haiti                            44\n",
      " Iran                             43\n",
      " Portugal                         37\n",
      " Nicaragua                        34\n",
      " Peru                             31\n",
      " France                           29\n",
      " Greece                           29\n",
      " Ecuador                          28\n",
      " Ireland                          24\n",
      " Hong                             20\n",
      " Cambodia                         19\n",
      " Trinadad&Tobago                  19\n",
      " Laos                             18\n",
      " Thailand                         18\n",
      " Yugoslavia                       16\n",
      " Outlying-US(Guam-USVI-etc)       14\n",
      " Honduras                         13\n",
      " Hungary                          13\n",
      " Scotland                         12\n",
      " Holand-Netherlands                1\n",
      "Name: Native_country, dtype: int64\n",
      "\n",
      "\n",
      " <=50K    24719\n",
      " >50K      7841\n",
      "Name: Income, dtype: int64\n",
      "\n",
      "\n"
     ]
    }
   ],
   "source": [
    "# value  count of all the columns\n",
    "for i in df.columns:\n",
    "    print(df[i].value_counts())\n",
    "    print(\"\\n\")"
   ]
  },
  {
   "cell_type": "code",
   "execution_count": 433,
   "id": "37d5fec5",
   "metadata": {},
   "outputs": [
    {
     "data": {
      "text/plain": [
       "91.67383292383292"
      ]
     },
     "execution_count": 433,
     "metadata": {},
     "output_type": "execute_result"
    }
   ],
   "source": [
    "#calculate\n",
    "#32560 - 29849\n",
    "\n",
    "(29849/32560)*100"
   ]
  },
  {
   "cell_type": "code",
   "execution_count": 434,
   "id": "0496b41d",
   "metadata": {},
   "outputs": [
    {
     "data": {
      "text/plain": [
       "95.33476658476658"
      ]
     },
     "execution_count": 434,
     "metadata": {},
     "output_type": "execute_result"
    }
   ],
   "source": [
    "31041/32560*100"
   ]
  },
  {
   "cell_type": "code",
   "execution_count": null,
   "id": "c5f7f679",
   "metadata": {},
   "outputs": [],
   "source": []
  },
  {
   "cell_type": "markdown",
   "id": "639fe15c",
   "metadata": {},
   "source": [
    "* we can see '?' in Workclass,Native_country,Occupation \n",
    "\n",
    "So we will fill with the mode of the columns\n"
   ]
  },
  {
   "cell_type": "code",
   "execution_count": 435,
   "id": "66464075",
   "metadata": {},
   "outputs": [],
   "source": [
    "df['Workclass'] = df.Workclass.str.replace('?',str(df['Workclass'].mode()))\n",
    "df['Occupation'] = df.Occupation.str.replace('?', str(df['Occupation'].mode()))\n",
    "df['Native_country'] = df.Native_country.str.replace('?', str(df['Native_country'].mode()))"
   ]
  },
  {
   "cell_type": "code",
   "execution_count": 436,
   "id": "146c2931",
   "metadata": {
    "scrolled": true
   },
   "outputs": [
    {
     "name": "stdout",
     "output_type": "stream",
     "text": [
      " Private                         22696\n",
      " Self-emp-not-inc                 2541\n",
      " Local-gov                        2093\n",
      " 0     Private\\ndtype: object     1836\n",
      " State-gov                        1297\n",
      " Self-emp-inc                     1116\n",
      " Federal-gov                       960\n",
      " Without-pay                        14\n",
      " Never-worked                        7\n",
      "Name: Workclass, dtype: int64\n",
      "\n",
      "\n",
      " Prof-specialty                         4140\n",
      " Craft-repair                           4099\n",
      " Exec-managerial                        4066\n",
      " Adm-clerical                           3769\n",
      " Sales                                  3650\n",
      " Other-service                          3295\n",
      " Machine-op-inspct                      2002\n",
      " 0     Prof-specialty\\ndtype: object    1843\n",
      " Transport-moving                       1597\n",
      " Handlers-cleaners                      1370\n",
      " Farming-fishing                         994\n",
      " Tech-support                            928\n",
      " Protective-serv                         649\n",
      " Priv-house-serv                         149\n",
      " Armed-Forces                              9\n",
      "Name: Occupation, dtype: int64\n",
      "\n",
      "\n",
      " United-States                         29169\n",
      " Mexico                                  643\n",
      " 0     United-States\\ndtype: object      583\n",
      " Philippines                             198\n",
      " Germany                                 137\n",
      " Canada                                  121\n",
      " Puerto-Rico                             114\n",
      " El-Salvador                             106\n",
      " India                                   100\n",
      " Cuba                                     95\n",
      " England                                  90\n",
      " Jamaica                                  81\n",
      " South                                    80\n",
      " China                                    75\n",
      " Italy                                    73\n",
      " Dominican-Republic                       70\n",
      " Vietnam                                  67\n",
      " Guatemala                                64\n",
      " Japan                                    62\n",
      " Poland                                   60\n",
      " Columbia                                 59\n",
      " Taiwan                                   51\n",
      " Haiti                                    44\n",
      " Iran                                     43\n",
      " Portugal                                 37\n",
      " Nicaragua                                34\n",
      " Peru                                     31\n",
      " France                                   29\n",
      " Greece                                   29\n",
      " Ecuador                                  28\n",
      " Ireland                                  24\n",
      " Hong                                     20\n",
      " Cambodia                                 19\n",
      " Trinadad&Tobago                          19\n",
      " Laos                                     18\n",
      " Thailand                                 18\n",
      " Yugoslavia                               16\n",
      " Outlying-US(Guam-USVI-etc)               14\n",
      " Honduras                                 13\n",
      " Hungary                                  13\n",
      " Scotland                                 12\n",
      " Holand-Netherlands                        1\n",
      "Name: Native_country, dtype: int64\n",
      "\n",
      "\n"
     ]
    }
   ],
   "source": [
    "#Rechecking for '?' values\n",
    "for i in df[['Workclass', 'Occupation', 'Native_country']]:\n",
    "    print(df[i].value_counts())\n",
    "    print(\"\\n\")"
   ]
  },
  {
   "cell_type": "markdown",
   "id": "6b49e750",
   "metadata": {},
   "source": [
    "Now we can see there is no '?' sign"
   ]
  },
  {
   "cell_type": "code",
   "execution_count": 437,
   "id": "ea49b740",
   "metadata": {
    "scrolled": true
   },
   "outputs": [
    {
     "data": {
      "text/html": [
       "<div>\n",
       "<style scoped>\n",
       "    .dataframe tbody tr th:only-of-type {\n",
       "        vertical-align: middle;\n",
       "    }\n",
       "\n",
       "    .dataframe tbody tr th {\n",
       "        vertical-align: top;\n",
       "    }\n",
       "\n",
       "    .dataframe thead th {\n",
       "        text-align: right;\n",
       "    }\n",
       "</style>\n",
       "<table border=\"1\" class=\"dataframe\">\n",
       "  <thead>\n",
       "    <tr style=\"text-align: right;\">\n",
       "      <th></th>\n",
       "      <th>Age</th>\n",
       "      <th>Fnlwgt</th>\n",
       "      <th>Education_num</th>\n",
       "      <th>Capital_gain</th>\n",
       "      <th>Capital_loss</th>\n",
       "      <th>Hours_per_week</th>\n",
       "    </tr>\n",
       "  </thead>\n",
       "  <tbody>\n",
       "    <tr>\n",
       "      <th>count</th>\n",
       "      <td>32560.000000</td>\n",
       "      <td>3.256000e+04</td>\n",
       "      <td>32560.000000</td>\n",
       "      <td>32560.000000</td>\n",
       "      <td>32560.000000</td>\n",
       "      <td>32560.000000</td>\n",
       "    </tr>\n",
       "    <tr>\n",
       "      <th>mean</th>\n",
       "      <td>38.581634</td>\n",
       "      <td>1.897818e+05</td>\n",
       "      <td>10.080590</td>\n",
       "      <td>1077.615172</td>\n",
       "      <td>87.306511</td>\n",
       "      <td>40.437469</td>\n",
       "    </tr>\n",
       "    <tr>\n",
       "      <th>std</th>\n",
       "      <td>13.640642</td>\n",
       "      <td>1.055498e+05</td>\n",
       "      <td>2.572709</td>\n",
       "      <td>7385.402999</td>\n",
       "      <td>402.966116</td>\n",
       "      <td>12.347618</td>\n",
       "    </tr>\n",
       "    <tr>\n",
       "      <th>min</th>\n",
       "      <td>17.000000</td>\n",
       "      <td>1.228500e+04</td>\n",
       "      <td>1.000000</td>\n",
       "      <td>0.000000</td>\n",
       "      <td>0.000000</td>\n",
       "      <td>1.000000</td>\n",
       "    </tr>\n",
       "    <tr>\n",
       "      <th>25%</th>\n",
       "      <td>28.000000</td>\n",
       "      <td>1.178315e+05</td>\n",
       "      <td>9.000000</td>\n",
       "      <td>0.000000</td>\n",
       "      <td>0.000000</td>\n",
       "      <td>40.000000</td>\n",
       "    </tr>\n",
       "    <tr>\n",
       "      <th>50%</th>\n",
       "      <td>37.000000</td>\n",
       "      <td>1.783630e+05</td>\n",
       "      <td>10.000000</td>\n",
       "      <td>0.000000</td>\n",
       "      <td>0.000000</td>\n",
       "      <td>40.000000</td>\n",
       "    </tr>\n",
       "    <tr>\n",
       "      <th>75%</th>\n",
       "      <td>48.000000</td>\n",
       "      <td>2.370545e+05</td>\n",
       "      <td>12.000000</td>\n",
       "      <td>0.000000</td>\n",
       "      <td>0.000000</td>\n",
       "      <td>45.000000</td>\n",
       "    </tr>\n",
       "    <tr>\n",
       "      <th>max</th>\n",
       "      <td>90.000000</td>\n",
       "      <td>1.484705e+06</td>\n",
       "      <td>16.000000</td>\n",
       "      <td>99999.000000</td>\n",
       "      <td>4356.000000</td>\n",
       "      <td>99.000000</td>\n",
       "    </tr>\n",
       "  </tbody>\n",
       "</table>\n",
       "</div>"
      ],
      "text/plain": [
       "                Age        Fnlwgt  Education_num  Capital_gain  Capital_loss  \\\n",
       "count  32560.000000  3.256000e+04   32560.000000  32560.000000  32560.000000   \n",
       "mean      38.581634  1.897818e+05      10.080590   1077.615172     87.306511   \n",
       "std       13.640642  1.055498e+05       2.572709   7385.402999    402.966116   \n",
       "min       17.000000  1.228500e+04       1.000000      0.000000      0.000000   \n",
       "25%       28.000000  1.178315e+05       9.000000      0.000000      0.000000   \n",
       "50%       37.000000  1.783630e+05      10.000000      0.000000      0.000000   \n",
       "75%       48.000000  2.370545e+05      12.000000      0.000000      0.000000   \n",
       "max       90.000000  1.484705e+06      16.000000  99999.000000   4356.000000   \n",
       "\n",
       "       Hours_per_week  \n",
       "count    32560.000000  \n",
       "mean        40.437469  \n",
       "std         12.347618  \n",
       "min          1.000000  \n",
       "25%         40.000000  \n",
       "50%         40.000000  \n",
       "75%         45.000000  \n",
       "max         99.000000  "
      ]
     },
     "execution_count": 437,
     "metadata": {},
     "output_type": "execute_result"
    }
   ],
   "source": [
    "df.describe()"
   ]
  },
  {
   "cell_type": "markdown",
   "id": "a6ed0653",
   "metadata": {},
   "source": [
    "The mean is greater than the median(50%)in some columns which means they are skewed to the right.\n",
    "\n",
    "The mean and the median(50%) are almost equal in Education_num and Hours_per_week which means the data is symmetric in these columns hence the data is normal and no skewness present here.\n",
    "\n",
    "There is a huge difference in 75% amd max it shows that huge outliers are present in the columns."
   ]
  },
  {
   "cell_type": "code",
   "execution_count": 439,
   "id": "bbfa97a3",
   "metadata": {},
   "outputs": [
    {
     "data": {
      "text/plain": [
       "92"
      ]
     },
     "execution_count": 439,
     "metadata": {},
     "output_type": "execute_result"
    }
   ],
   "source": [
    "df['Capital_loss'].nunique()"
   ]
  },
  {
   "cell_type": "code",
   "execution_count": 440,
   "id": "dcd7af4d",
   "metadata": {},
   "outputs": [],
   "source": [
    "data = df.copy()"
   ]
  },
  {
   "cell_type": "code",
   "execution_count": 441,
   "id": "c87b4323",
   "metadata": {},
   "outputs": [
    {
     "data": {
      "text/plain": [
       "0        91.673833\n",
       "15024     1.065725\n",
       "7688      0.872236\n",
       "7298      0.755528\n",
       "99999     0.488329\n",
       "           ...    \n",
       "1111      0.003071\n",
       "2538      0.003071\n",
       "22040     0.003071\n",
       "4931      0.003071\n",
       "5060      0.003071\n",
       "Name: Capital_gain, Length: 119, dtype: float64"
      ]
     },
     "execution_count": 441,
     "metadata": {},
     "output_type": "execute_result"
    }
   ],
   "source": [
    "df['Capital_gain'].value_counts(normalize=True) * 100\n"
   ]
  },
  {
   "cell_type": "code",
   "execution_count": 442,
   "id": "1428be59",
   "metadata": {},
   "outputs": [
    {
     "data": {
      "text/plain": [
       "0       95.334767\n",
       "1902     0.620393\n",
       "1977     0.515971\n",
       "1887     0.488329\n",
       "1848     0.156634\n",
       "          ...    \n",
       "2080     0.003071\n",
       "1539     0.003071\n",
       "1844     0.003071\n",
       "2489     0.003071\n",
       "1411     0.003071\n",
       "Name: Capital_loss, Length: 92, dtype: float64"
      ]
     },
     "execution_count": 442,
     "metadata": {},
     "output_type": "execute_result"
    }
   ],
   "source": [
    "df['Capital_loss'].value_counts(normalize=True) * 100\n"
   ]
  },
  {
   "cell_type": "code",
   "execution_count": 443,
   "id": "6529ddad",
   "metadata": {},
   "outputs": [
    {
     "data": {
      "text/plain": [
       "(32560, 15)"
      ]
     },
     "execution_count": 443,
     "metadata": {},
     "output_type": "execute_result"
    }
   ],
   "source": [
    "df.shape"
   ]
  },
  {
   "cell_type": "markdown",
   "id": "f762ded0",
   "metadata": {},
   "source": [
    "# checking and removing the duplicate rows"
   ]
  },
  {
   "cell_type": "code",
   "execution_count": 444,
   "id": "b1b1b923",
   "metadata": {},
   "outputs": [
    {
     "name": "stdout",
     "output_type": "stream",
     "text": [
      "True\n",
      "(24, 15)\n"
     ]
    }
   ],
   "source": [
    "# calculate duplicates\n",
    "dups = df.duplicated()\n",
    "# report if there are any duplicates\n",
    "print(dups.any())\n",
    "# list all duplicate rows\n",
    "print(df[dups].shape)"
   ]
  },
  {
   "cell_type": "code",
   "execution_count": 445,
   "id": "d7f23e2a",
   "metadata": {},
   "outputs": [],
   "source": [
    "# checking the duplicates\n",
    "df.drop_duplicates(inplace=True)"
   ]
  },
  {
   "cell_type": "code",
   "execution_count": 446,
   "id": "cf5c1fba",
   "metadata": {},
   "outputs": [
    {
     "data": {
      "text/plain": [
       "(32536, 15)"
      ]
     },
     "execution_count": 446,
     "metadata": {},
     "output_type": "execute_result"
    }
   ],
   "source": [
    "df.shape"
   ]
  },
  {
   "cell_type": "markdown",
   "id": "a130c897",
   "metadata": {},
   "source": []
  },
  {
   "cell_type": "code",
   "execution_count": 447,
   "id": "913871b2",
   "metadata": {},
   "outputs": [
    {
     "data": {
      "text/plain": [
       "Age                0.557657\n",
       "Fnlwgt             1.447695\n",
       "Education_num     -0.309454\n",
       "Capital_gain      11.949245\n",
       "Capital_loss       4.592622\n",
       "Hours_per_week     0.228752\n",
       "dtype: float64"
      ]
     },
     "execution_count": 447,
     "metadata": {},
     "output_type": "execute_result"
    }
   ],
   "source": [
    "df.skew()"
   ]
  },
  {
   "cell_type": "markdown",
   "id": "3eb9a67d",
   "metadata": {},
   "source": [
    "## Distribution Of Data(Skewness Visualization)\n"
   ]
  },
  {
   "cell_type": "code",
   "execution_count": 448,
   "id": "15188a45",
   "metadata": {
    "scrolled": true
   },
   "outputs": [
    {
     "data": {
      "image/png": "[encoded data removed]",
      "text/plain": [
       "<Figure size 1440x1800 with 6 Axes>"
      ]
     },
     "metadata": {},
     "output_type": "display_data"
    }
   ],
   "source": [
    "# Checking the distribution of data in each numeric column\n",
    "\n",
    "plt.figure(figsize = (20, 25), facecolor = \"white\")\n",
    "plotnumber = 1\n",
    "\n",
    "for col in numerical_col:\n",
    "    if plotnumber<=6:\n",
    "        ax = plt.subplot(3, 2, plotnumber)\n",
    "        sns.distplot(df[col])\n",
    "        plt.xlabel(col, fontsize = 20)\n",
    "    plotnumber+=1\n",
    "plt.tight_layout()"
   ]
  },
  {
   "cell_type": "markdown",
   "id": "a6e9078a",
   "metadata": {},
   "source": [
    "* Age is skewed right slightly\n",
    "* Fnlwgt,Capital_loss and Capital_gain is very skewed to right\n",
    "* Education_num and Hours_per_week is also skewed"
   ]
  },
  {
   "cell_type": "markdown",
   "id": "eaba9be5",
   "metadata": {},
   "source": [
    "## Checking for outliers"
   ]
  },
  {
   "cell_type": "code",
   "execution_count": 449,
   "id": "8bdbeb71",
   "metadata": {
    "scrolled": true
   },
   "outputs": [
    {
     "data": {
      "image/png": "[encoded data removed]",
      "text/plain": [
       "<Figure size 720x720 with 6 Axes>"
      ]
     },
     "metadata": {},
     "output_type": "display_data"
    }
   ],
   "source": [
    "# Visualizing the outliers present in the numerical columns\n",
    "\n",
    "plt.figure(figsize = (10, 10), facecolor = \"white\")\n",
    "plotnumber = 1\n",
    "\n",
    "for col in numerical_col:\n",
    "    if plotnumber<=6:\n",
    "        ax = plt.subplot(2, 3, plotnumber)\n",
    "        sns.boxplot(df[col], color = 'g')\n",
    "        plt.xlabel(col, fontsize = 12)\n",
    "    plotnumber+=1\n",
    "plt.tight_layout()"
   ]
  },
  {
   "cell_type": "markdown",
   "id": "4dd774d6",
   "metadata": {},
   "source": [
    "# Removing outliers using zscore\n"
   ]
  },
  {
   "cell_type": "code",
   "execution_count": 450,
   "id": "190b7666",
   "metadata": {},
   "outputs": [
    {
     "data": {
      "text/html": [
       "<div>\n",
       "<style scoped>\n",
       "    .dataframe tbody tr th:only-of-type {\n",
       "        vertical-align: middle;\n",
       "    }\n",
       "\n",
       "    .dataframe tbody tr th {\n",
       "        vertical-align: top;\n",
       "    }\n",
       "\n",
       "    .dataframe thead th {\n",
       "        text-align: right;\n",
       "    }\n",
       "</style>\n",
       "<table border=\"1\" class=\"dataframe\">\n",
       "  <thead>\n",
       "    <tr style=\"text-align: right;\">\n",
       "      <th></th>\n",
       "      <th>Age</th>\n",
       "      <th>Fnlwgt</th>\n",
       "      <th>Education_num</th>\n",
       "      <th>Capital_gain</th>\n",
       "      <th>Capital_loss</th>\n",
       "      <th>Hours_per_week</th>\n",
       "    </tr>\n",
       "  </thead>\n",
       "  <tbody>\n",
       "    <tr>\n",
       "      <th>0</th>\n",
       "      <td>0.836961</td>\n",
       "      <td>1.008703</td>\n",
       "      <td>1.134817</td>\n",
       "      <td>0.145969</td>\n",
       "      <td>0.216747</td>\n",
       "      <td>2.222450</td>\n",
       "    </tr>\n",
       "    <tr>\n",
       "      <th>1</th>\n",
       "      <td>0.042934</td>\n",
       "      <td>0.245008</td>\n",
       "      <td>0.420646</td>\n",
       "      <td>0.145969</td>\n",
       "      <td>0.216747</td>\n",
       "      <td>0.035664</td>\n",
       "    </tr>\n",
       "    <tr>\n",
       "      <th>2</th>\n",
       "      <td>1.056935</td>\n",
       "      <td>0.425720</td>\n",
       "      <td>1.198377</td>\n",
       "      <td>0.145969</td>\n",
       "      <td>0.216747</td>\n",
       "      <td>0.035664</td>\n",
       "    </tr>\n",
       "    <tr>\n",
       "      <th>3</th>\n",
       "      <td>0.776180</td>\n",
       "      <td>1.408036</td>\n",
       "      <td>1.134817</td>\n",
       "      <td>0.145969</td>\n",
       "      <td>0.216747</td>\n",
       "      <td>0.035664</td>\n",
       "    </tr>\n",
       "    <tr>\n",
       "      <th>4</th>\n",
       "      <td>0.116259</td>\n",
       "      <td>0.898091</td>\n",
       "      <td>1.523683</td>\n",
       "      <td>0.145969</td>\n",
       "      <td>0.216747</td>\n",
       "      <td>0.035664</td>\n",
       "    </tr>\n",
       "    <tr>\n",
       "      <th>...</th>\n",
       "      <td>...</td>\n",
       "      <td>...</td>\n",
       "      <td>...</td>\n",
       "      <td>...</td>\n",
       "      <td>...</td>\n",
       "      <td>...</td>\n",
       "    </tr>\n",
       "    <tr>\n",
       "      <th>32555</th>\n",
       "      <td>0.849505</td>\n",
       "      <td>0.639647</td>\n",
       "      <td>0.745951</td>\n",
       "      <td>0.145969</td>\n",
       "      <td>0.216747</td>\n",
       "      <td>0.197648</td>\n",
       "    </tr>\n",
       "    <tr>\n",
       "      <th>32556</th>\n",
       "      <td>0.103715</td>\n",
       "      <td>0.335469</td>\n",
       "      <td>0.420646</td>\n",
       "      <td>0.145969</td>\n",
       "      <td>0.216747</td>\n",
       "      <td>0.035664</td>\n",
       "    </tr>\n",
       "    <tr>\n",
       "      <th>32557</th>\n",
       "      <td>1.423558</td>\n",
       "      <td>0.358812</td>\n",
       "      <td>0.420646</td>\n",
       "      <td>0.145969</td>\n",
       "      <td>0.216747</td>\n",
       "      <td>0.035664</td>\n",
       "    </tr>\n",
       "    <tr>\n",
       "      <th>32558</th>\n",
       "      <td>1.216128</td>\n",
       "      <td>0.110897</td>\n",
       "      <td>0.420646</td>\n",
       "      <td>0.145969</td>\n",
       "      <td>0.216747</td>\n",
       "      <td>1.655506</td>\n",
       "    </tr>\n",
       "    <tr>\n",
       "      <th>32559</th>\n",
       "      <td>0.983611</td>\n",
       "      <td>0.929781</td>\n",
       "      <td>0.420646</td>\n",
       "      <td>1.887612</td>\n",
       "      <td>0.216747</td>\n",
       "      <td>0.035664</td>\n",
       "    </tr>\n",
       "  </tbody>\n",
       "</table>\n",
       "<p>32536 rows × 6 columns</p>\n",
       "</div>"
      ],
      "text/plain": [
       "            Age    Fnlwgt  Education_num  Capital_gain  Capital_loss  \\\n",
       "0      0.836961  1.008703       1.134817      0.145969      0.216747   \n",
       "1      0.042934  0.245008       0.420646      0.145969      0.216747   \n",
       "2      1.056935  0.425720       1.198377      0.145969      0.216747   \n",
       "3      0.776180  1.408036       1.134817      0.145969      0.216747   \n",
       "4      0.116259  0.898091       1.523683      0.145969      0.216747   \n",
       "...         ...       ...            ...           ...           ...   \n",
       "32555  0.849505  0.639647       0.745951      0.145969      0.216747   \n",
       "32556  0.103715  0.335469       0.420646      0.145969      0.216747   \n",
       "32557  1.423558  0.358812       0.420646      0.145969      0.216747   \n",
       "32558  1.216128  0.110897       0.420646      0.145969      0.216747   \n",
       "32559  0.983611  0.929781       0.420646      1.887612      0.216747   \n",
       "\n",
       "       Hours_per_week  \n",
       "0            2.222450  \n",
       "1            0.035664  \n",
       "2            0.035664  \n",
       "3            0.035664  \n",
       "4            0.035664  \n",
       "...               ...  \n",
       "32555        0.197648  \n",
       "32556        0.035664  \n",
       "32557        0.035664  \n",
       "32558        1.655506  \n",
       "32559        0.035664  \n",
       "\n",
       "[32536 rows x 6 columns]"
      ]
     },
     "execution_count": 450,
     "metadata": {},
     "output_type": "execute_result"
    }
   ],
   "source": [
    "# Removing outliers using zscore\n",
    "from scipy.stats import zscore\n",
    "col = df[[\"Age\", \"Fnlwgt\", \"Education_num\",\"Capital_gain\",\"Capital_loss\",\"Hours_per_week\"]]\n",
    "z = np.abs(zscore(col))\n",
    "z"
   ]
  },
  {
   "cell_type": "code",
   "execution_count": 451,
   "id": "48075604",
   "metadata": {},
   "outputs": [
    {
     "data": {
      "text/html": [
       "<div>\n",
       "<style scoped>\n",
       "    .dataframe tbody tr th:only-of-type {\n",
       "        vertical-align: middle;\n",
       "    }\n",
       "\n",
       "    .dataframe tbody tr th {\n",
       "        vertical-align: top;\n",
       "    }\n",
       "\n",
       "    .dataframe thead th {\n",
       "        text-align: right;\n",
       "    }\n",
       "</style>\n",
       "<table border=\"1\" class=\"dataframe\">\n",
       "  <thead>\n",
       "    <tr style=\"text-align: right;\">\n",
       "      <th></th>\n",
       "      <th>Age</th>\n",
       "      <th>Workclass</th>\n",
       "      <th>Fnlwgt</th>\n",
       "      <th>Education</th>\n",
       "      <th>Education_num</th>\n",
       "      <th>Marital_status</th>\n",
       "      <th>Occupation</th>\n",
       "      <th>Relationship</th>\n",
       "      <th>Race</th>\n",
       "      <th>Sex</th>\n",
       "      <th>Capital_gain</th>\n",
       "      <th>Capital_loss</th>\n",
       "      <th>Hours_per_week</th>\n",
       "      <th>Native_country</th>\n",
       "      <th>Income</th>\n",
       "    </tr>\n",
       "  </thead>\n",
       "  <tbody>\n",
       "    <tr>\n",
       "      <th>0</th>\n",
       "      <td>50</td>\n",
       "      <td>Self-emp-not-inc</td>\n",
       "      <td>83311</td>\n",
       "      <td>Bachelors</td>\n",
       "      <td>13</td>\n",
       "      <td>Married-civ-spouse</td>\n",
       "      <td>Exec-managerial</td>\n",
       "      <td>Husband</td>\n",
       "      <td>White</td>\n",
       "      <td>Male</td>\n",
       "      <td>0</td>\n",
       "      <td>0</td>\n",
       "      <td>13</td>\n",
       "      <td>United-States</td>\n",
       "      <td>&lt;=50K</td>\n",
       "    </tr>\n",
       "    <tr>\n",
       "      <th>1</th>\n",
       "      <td>38</td>\n",
       "      <td>Private</td>\n",
       "      <td>215646</td>\n",
       "      <td>HS-grad</td>\n",
       "      <td>9</td>\n",
       "      <td>Divorced</td>\n",
       "      <td>Handlers-cleaners</td>\n",
       "      <td>Not-in-family</td>\n",
       "      <td>White</td>\n",
       "      <td>Male</td>\n",
       "      <td>0</td>\n",
       "      <td>0</td>\n",
       "      <td>40</td>\n",
       "      <td>United-States</td>\n",
       "      <td>&lt;=50K</td>\n",
       "    </tr>\n",
       "    <tr>\n",
       "      <th>2</th>\n",
       "      <td>53</td>\n",
       "      <td>Private</td>\n",
       "      <td>234721</td>\n",
       "      <td>11th</td>\n",
       "      <td>7</td>\n",
       "      <td>Married-civ-spouse</td>\n",
       "      <td>Handlers-cleaners</td>\n",
       "      <td>Husband</td>\n",
       "      <td>Black</td>\n",
       "      <td>Male</td>\n",
       "      <td>0</td>\n",
       "      <td>0</td>\n",
       "      <td>40</td>\n",
       "      <td>United-States</td>\n",
       "      <td>&lt;=50K</td>\n",
       "    </tr>\n",
       "    <tr>\n",
       "      <th>3</th>\n",
       "      <td>28</td>\n",
       "      <td>Private</td>\n",
       "      <td>338409</td>\n",
       "      <td>Bachelors</td>\n",
       "      <td>13</td>\n",
       "      <td>Married-civ-spouse</td>\n",
       "      <td>Prof-specialty</td>\n",
       "      <td>Wife</td>\n",
       "      <td>Black</td>\n",
       "      <td>Female</td>\n",
       "      <td>0</td>\n",
       "      <td>0</td>\n",
       "      <td>40</td>\n",
       "      <td>Cuba</td>\n",
       "      <td>&lt;=50K</td>\n",
       "    </tr>\n",
       "    <tr>\n",
       "      <th>4</th>\n",
       "      <td>37</td>\n",
       "      <td>Private</td>\n",
       "      <td>284582</td>\n",
       "      <td>Masters</td>\n",
       "      <td>14</td>\n",
       "      <td>Married-civ-spouse</td>\n",
       "      <td>Exec-managerial</td>\n",
       "      <td>Wife</td>\n",
       "      <td>White</td>\n",
       "      <td>Female</td>\n",
       "      <td>0</td>\n",
       "      <td>0</td>\n",
       "      <td>40</td>\n",
       "      <td>United-States</td>\n",
       "      <td>&lt;=50K</td>\n",
       "    </tr>\n",
       "    <tr>\n",
       "      <th>...</th>\n",
       "      <td>...</td>\n",
       "      <td>...</td>\n",
       "      <td>...</td>\n",
       "      <td>...</td>\n",
       "      <td>...</td>\n",
       "      <td>...</td>\n",
       "      <td>...</td>\n",
       "      <td>...</td>\n",
       "      <td>...</td>\n",
       "      <td>...</td>\n",
       "      <td>...</td>\n",
       "      <td>...</td>\n",
       "      <td>...</td>\n",
       "      <td>...</td>\n",
       "      <td>...</td>\n",
       "    </tr>\n",
       "    <tr>\n",
       "      <th>32555</th>\n",
       "      <td>27</td>\n",
       "      <td>Private</td>\n",
       "      <td>257302</td>\n",
       "      <td>Assoc-acdm</td>\n",
       "      <td>12</td>\n",
       "      <td>Married-civ-spouse</td>\n",
       "      <td>Tech-support</td>\n",
       "      <td>Wife</td>\n",
       "      <td>White</td>\n",
       "      <td>Female</td>\n",
       "      <td>0</td>\n",
       "      <td>0</td>\n",
       "      <td>38</td>\n",
       "      <td>United-States</td>\n",
       "      <td>&lt;=50K</td>\n",
       "    </tr>\n",
       "    <tr>\n",
       "      <th>32556</th>\n",
       "      <td>40</td>\n",
       "      <td>Private</td>\n",
       "      <td>154374</td>\n",
       "      <td>HS-grad</td>\n",
       "      <td>9</td>\n",
       "      <td>Married-civ-spouse</td>\n",
       "      <td>Machine-op-inspct</td>\n",
       "      <td>Husband</td>\n",
       "      <td>White</td>\n",
       "      <td>Male</td>\n",
       "      <td>0</td>\n",
       "      <td>0</td>\n",
       "      <td>40</td>\n",
       "      <td>United-States</td>\n",
       "      <td>&gt;50K</td>\n",
       "    </tr>\n",
       "    <tr>\n",
       "      <th>32557</th>\n",
       "      <td>58</td>\n",
       "      <td>Private</td>\n",
       "      <td>151910</td>\n",
       "      <td>HS-grad</td>\n",
       "      <td>9</td>\n",
       "      <td>Widowed</td>\n",
       "      <td>Adm-clerical</td>\n",
       "      <td>Unmarried</td>\n",
       "      <td>White</td>\n",
       "      <td>Female</td>\n",
       "      <td>0</td>\n",
       "      <td>0</td>\n",
       "      <td>40</td>\n",
       "      <td>United-States</td>\n",
       "      <td>&lt;=50K</td>\n",
       "    </tr>\n",
       "    <tr>\n",
       "      <th>32558</th>\n",
       "      <td>22</td>\n",
       "      <td>Private</td>\n",
       "      <td>201490</td>\n",
       "      <td>HS-grad</td>\n",
       "      <td>9</td>\n",
       "      <td>Never-married</td>\n",
       "      <td>Adm-clerical</td>\n",
       "      <td>Own-child</td>\n",
       "      <td>White</td>\n",
       "      <td>Male</td>\n",
       "      <td>0</td>\n",
       "      <td>0</td>\n",
       "      <td>20</td>\n",
       "      <td>United-States</td>\n",
       "      <td>&lt;=50K</td>\n",
       "    </tr>\n",
       "    <tr>\n",
       "      <th>32559</th>\n",
       "      <td>52</td>\n",
       "      <td>Self-emp-inc</td>\n",
       "      <td>287927</td>\n",
       "      <td>HS-grad</td>\n",
       "      <td>9</td>\n",
       "      <td>Married-civ-spouse</td>\n",
       "      <td>Exec-managerial</td>\n",
       "      <td>Wife</td>\n",
       "      <td>White</td>\n",
       "      <td>Female</td>\n",
       "      <td>15024</td>\n",
       "      <td>0</td>\n",
       "      <td>40</td>\n",
       "      <td>United-States</td>\n",
       "      <td>&gt;50K</td>\n",
       "    </tr>\n",
       "  </tbody>\n",
       "</table>\n",
       "<p>29808 rows × 15 columns</p>\n",
       "</div>"
      ],
      "text/plain": [
       "       Age          Workclass  Fnlwgt    Education  Education_num  \\\n",
       "0       50   Self-emp-not-inc   83311    Bachelors             13   \n",
       "1       38            Private  215646      HS-grad              9   \n",
       "2       53            Private  234721         11th              7   \n",
       "3       28            Private  338409    Bachelors             13   \n",
       "4       37            Private  284582      Masters             14   \n",
       "...    ...                ...     ...          ...            ...   \n",
       "32555   27            Private  257302   Assoc-acdm             12   \n",
       "32556   40            Private  154374      HS-grad              9   \n",
       "32557   58            Private  151910      HS-grad              9   \n",
       "32558   22            Private  201490      HS-grad              9   \n",
       "32559   52       Self-emp-inc  287927      HS-grad              9   \n",
       "\n",
       "            Marital_status          Occupation    Relationship    Race  \\\n",
       "0       Married-civ-spouse     Exec-managerial         Husband   White   \n",
       "1                 Divorced   Handlers-cleaners   Not-in-family   White   \n",
       "2       Married-civ-spouse   Handlers-cleaners         Husband   Black   \n",
       "3       Married-civ-spouse      Prof-specialty            Wife   Black   \n",
       "4       Married-civ-spouse     Exec-managerial            Wife   White   \n",
       "...                    ...                 ...             ...     ...   \n",
       "32555   Married-civ-spouse        Tech-support            Wife   White   \n",
       "32556   Married-civ-spouse   Machine-op-inspct         Husband   White   \n",
       "32557              Widowed        Adm-clerical       Unmarried   White   \n",
       "32558        Never-married        Adm-clerical       Own-child   White   \n",
       "32559   Married-civ-spouse     Exec-managerial            Wife   White   \n",
       "\n",
       "           Sex  Capital_gain  Capital_loss  Hours_per_week  Native_country  \\\n",
       "0         Male             0             0              13   United-States   \n",
       "1         Male             0             0              40   United-States   \n",
       "2         Male             0             0              40   United-States   \n",
       "3       Female             0             0              40            Cuba   \n",
       "4       Female             0             0              40   United-States   \n",
       "...        ...           ...           ...             ...             ...   \n",
       "32555   Female             0             0              38   United-States   \n",
       "32556     Male             0             0              40   United-States   \n",
       "32557   Female             0             0              40   United-States   \n",
       "32558     Male             0             0              20   United-States   \n",
       "32559   Female         15024             0              40   United-States   \n",
       "\n",
       "       Income  \n",
       "0       <=50K  \n",
       "1       <=50K  \n",
       "2       <=50K  \n",
       "3       <=50K  \n",
       "4       <=50K  \n",
       "...       ...  \n",
       "32555   <=50K  \n",
       "32556    >50K  \n",
       "32557   <=50K  \n",
       "32558   <=50K  \n",
       "32559    >50K  \n",
       "\n",
       "[29808 rows x 15 columns]"
      ]
     },
     "execution_count": 451,
     "metadata": {},
     "output_type": "execute_result"
    }
   ],
   "source": [
    "# Creating new dataframe\n",
    "new_df = df[(z<3).all(axis = 1)]\n",
    "new_df"
   ]
  },
  {
   "cell_type": "code",
   "execution_count": 452,
   "id": "1b839a31",
   "metadata": {},
   "outputs": [
    {
     "data": {
      "text/plain": [
       "(29808, 15)"
      ]
     },
     "execution_count": 452,
     "metadata": {},
     "output_type": "execute_result"
    }
   ],
   "source": [
    "new_df.shape"
   ]
  },
  {
   "cell_type": "code",
   "execution_count": 453,
   "id": "eab19ecc",
   "metadata": {},
   "outputs": [
    {
     "data": {
      "text/plain": [
       "8.384558642734202"
      ]
     },
     "execution_count": 453,
     "metadata": {},
     "output_type": "execute_result"
    }
   ],
   "source": [
    "(32536 - 29808)/32536*100"
   ]
  },
  {
   "cell_type": "markdown",
   "id": "91ce551a",
   "metadata": {},
   "source": [
    "Here we are losing only 8.3% data. Lets check with IQR technique.\n",
    "\n"
   ]
  },
  {
   "cell_type": "markdown",
   "id": "639ab109",
   "metadata": {},
   "source": [
    "## IQR(Inter Quartile Range)\n"
   ]
  },
  {
   "cell_type": "code",
   "execution_count": 454,
   "id": "2beed4a0",
   "metadata": {},
   "outputs": [
    {
     "data": {
      "text/html": [
       "<div>\n",
       "<style scoped>\n",
       "    .dataframe tbody tr th:only-of-type {\n",
       "        vertical-align: middle;\n",
       "    }\n",
       "\n",
       "    .dataframe tbody tr th {\n",
       "        vertical-align: top;\n",
       "    }\n",
       "\n",
       "    .dataframe thead th {\n",
       "        text-align: right;\n",
       "    }\n",
       "</style>\n",
       "<table border=\"1\" class=\"dataframe\">\n",
       "  <thead>\n",
       "    <tr style=\"text-align: right;\">\n",
       "      <th></th>\n",
       "      <th>Age</th>\n",
       "      <th>Workclass</th>\n",
       "      <th>Fnlwgt</th>\n",
       "      <th>Education</th>\n",
       "      <th>Education_num</th>\n",
       "      <th>Marital_status</th>\n",
       "      <th>Occupation</th>\n",
       "      <th>Relationship</th>\n",
       "      <th>Race</th>\n",
       "      <th>Sex</th>\n",
       "      <th>Capital_gain</th>\n",
       "      <th>Capital_loss</th>\n",
       "      <th>Hours_per_week</th>\n",
       "      <th>Native_country</th>\n",
       "      <th>Income</th>\n",
       "    </tr>\n",
       "  </thead>\n",
       "  <tbody>\n",
       "    <tr>\n",
       "      <th>1</th>\n",
       "      <td>38</td>\n",
       "      <td>Private</td>\n",
       "      <td>215646</td>\n",
       "      <td>HS-grad</td>\n",
       "      <td>9</td>\n",
       "      <td>Divorced</td>\n",
       "      <td>Handlers-cleaners</td>\n",
       "      <td>Not-in-family</td>\n",
       "      <td>White</td>\n",
       "      <td>Male</td>\n",
       "      <td>0</td>\n",
       "      <td>0</td>\n",
       "      <td>40</td>\n",
       "      <td>United-States</td>\n",
       "      <td>&lt;=50K</td>\n",
       "    </tr>\n",
       "    <tr>\n",
       "      <th>2</th>\n",
       "      <td>53</td>\n",
       "      <td>Private</td>\n",
       "      <td>234721</td>\n",
       "      <td>11th</td>\n",
       "      <td>7</td>\n",
       "      <td>Married-civ-spouse</td>\n",
       "      <td>Handlers-cleaners</td>\n",
       "      <td>Husband</td>\n",
       "      <td>Black</td>\n",
       "      <td>Male</td>\n",
       "      <td>0</td>\n",
       "      <td>0</td>\n",
       "      <td>40</td>\n",
       "      <td>United-States</td>\n",
       "      <td>&lt;=50K</td>\n",
       "    </tr>\n",
       "    <tr>\n",
       "      <th>3</th>\n",
       "      <td>28</td>\n",
       "      <td>Private</td>\n",
       "      <td>338409</td>\n",
       "      <td>Bachelors</td>\n",
       "      <td>13</td>\n",
       "      <td>Married-civ-spouse</td>\n",
       "      <td>Prof-specialty</td>\n",
       "      <td>Wife</td>\n",
       "      <td>Black</td>\n",
       "      <td>Female</td>\n",
       "      <td>0</td>\n",
       "      <td>0</td>\n",
       "      <td>40</td>\n",
       "      <td>Cuba</td>\n",
       "      <td>&lt;=50K</td>\n",
       "    </tr>\n",
       "    <tr>\n",
       "      <th>4</th>\n",
       "      <td>37</td>\n",
       "      <td>Private</td>\n",
       "      <td>284582</td>\n",
       "      <td>Masters</td>\n",
       "      <td>14</td>\n",
       "      <td>Married-civ-spouse</td>\n",
       "      <td>Exec-managerial</td>\n",
       "      <td>Wife</td>\n",
       "      <td>White</td>\n",
       "      <td>Female</td>\n",
       "      <td>0</td>\n",
       "      <td>0</td>\n",
       "      <td>40</td>\n",
       "      <td>United-States</td>\n",
       "      <td>&lt;=50K</td>\n",
       "    </tr>\n",
       "    <tr>\n",
       "      <th>6</th>\n",
       "      <td>52</td>\n",
       "      <td>Self-emp-not-inc</td>\n",
       "      <td>209642</td>\n",
       "      <td>HS-grad</td>\n",
       "      <td>9</td>\n",
       "      <td>Married-civ-spouse</td>\n",
       "      <td>Exec-managerial</td>\n",
       "      <td>Husband</td>\n",
       "      <td>White</td>\n",
       "      <td>Male</td>\n",
       "      <td>0</td>\n",
       "      <td>0</td>\n",
       "      <td>45</td>\n",
       "      <td>United-States</td>\n",
       "      <td>&gt;50K</td>\n",
       "    </tr>\n",
       "    <tr>\n",
       "      <th>...</th>\n",
       "      <td>...</td>\n",
       "      <td>...</td>\n",
       "      <td>...</td>\n",
       "      <td>...</td>\n",
       "      <td>...</td>\n",
       "      <td>...</td>\n",
       "      <td>...</td>\n",
       "      <td>...</td>\n",
       "      <td>...</td>\n",
       "      <td>...</td>\n",
       "      <td>...</td>\n",
       "      <td>...</td>\n",
       "      <td>...</td>\n",
       "      <td>...</td>\n",
       "      <td>...</td>\n",
       "    </tr>\n",
       "    <tr>\n",
       "      <th>32553</th>\n",
       "      <td>53</td>\n",
       "      <td>Private</td>\n",
       "      <td>321865</td>\n",
       "      <td>Masters</td>\n",
       "      <td>14</td>\n",
       "      <td>Married-civ-spouse</td>\n",
       "      <td>Exec-managerial</td>\n",
       "      <td>Husband</td>\n",
       "      <td>White</td>\n",
       "      <td>Male</td>\n",
       "      <td>0</td>\n",
       "      <td>0</td>\n",
       "      <td>40</td>\n",
       "      <td>United-States</td>\n",
       "      <td>&gt;50K</td>\n",
       "    </tr>\n",
       "    <tr>\n",
       "      <th>32554</th>\n",
       "      <td>22</td>\n",
       "      <td>Private</td>\n",
       "      <td>310152</td>\n",
       "      <td>Some-college</td>\n",
       "      <td>10</td>\n",
       "      <td>Never-married</td>\n",
       "      <td>Protective-serv</td>\n",
       "      <td>Not-in-family</td>\n",
       "      <td>White</td>\n",
       "      <td>Male</td>\n",
       "      <td>0</td>\n",
       "      <td>0</td>\n",
       "      <td>40</td>\n",
       "      <td>United-States</td>\n",
       "      <td>&lt;=50K</td>\n",
       "    </tr>\n",
       "    <tr>\n",
       "      <th>32555</th>\n",
       "      <td>27</td>\n",
       "      <td>Private</td>\n",
       "      <td>257302</td>\n",
       "      <td>Assoc-acdm</td>\n",
       "      <td>12</td>\n",
       "      <td>Married-civ-spouse</td>\n",
       "      <td>Tech-support</td>\n",
       "      <td>Wife</td>\n",
       "      <td>White</td>\n",
       "      <td>Female</td>\n",
       "      <td>0</td>\n",
       "      <td>0</td>\n",
       "      <td>38</td>\n",
       "      <td>United-States</td>\n",
       "      <td>&lt;=50K</td>\n",
       "    </tr>\n",
       "    <tr>\n",
       "      <th>32556</th>\n",
       "      <td>40</td>\n",
       "      <td>Private</td>\n",
       "      <td>154374</td>\n",
       "      <td>HS-grad</td>\n",
       "      <td>9</td>\n",
       "      <td>Married-civ-spouse</td>\n",
       "      <td>Machine-op-inspct</td>\n",
       "      <td>Husband</td>\n",
       "      <td>White</td>\n",
       "      <td>Male</td>\n",
       "      <td>0</td>\n",
       "      <td>0</td>\n",
       "      <td>40</td>\n",
       "      <td>United-States</td>\n",
       "      <td>&gt;50K</td>\n",
       "    </tr>\n",
       "    <tr>\n",
       "      <th>32557</th>\n",
       "      <td>58</td>\n",
       "      <td>Private</td>\n",
       "      <td>151910</td>\n",
       "      <td>HS-grad</td>\n",
       "      <td>9</td>\n",
       "      <td>Widowed</td>\n",
       "      <td>Adm-clerical</td>\n",
       "      <td>Unmarried</td>\n",
       "      <td>White</td>\n",
       "      <td>Female</td>\n",
       "      <td>0</td>\n",
       "      <td>0</td>\n",
       "      <td>40</td>\n",
       "      <td>United-States</td>\n",
       "      <td>&lt;=50K</td>\n",
       "    </tr>\n",
       "  </tbody>\n",
       "</table>\n",
       "<p>18983 rows × 15 columns</p>\n",
       "</div>"
      ],
      "text/plain": [
       "       Age          Workclass  Fnlwgt      Education  Education_num  \\\n",
       "1       38            Private  215646        HS-grad              9   \n",
       "2       53            Private  234721           11th              7   \n",
       "3       28            Private  338409      Bachelors             13   \n",
       "4       37            Private  284582        Masters             14   \n",
       "6       52   Self-emp-not-inc  209642        HS-grad              9   \n",
       "...    ...                ...     ...            ...            ...   \n",
       "32553   53            Private  321865        Masters             14   \n",
       "32554   22            Private  310152   Some-college             10   \n",
       "32555   27            Private  257302     Assoc-acdm             12   \n",
       "32556   40            Private  154374        HS-grad              9   \n",
       "32557   58            Private  151910        HS-grad              9   \n",
       "\n",
       "            Marital_status          Occupation    Relationship    Race  \\\n",
       "1                 Divorced   Handlers-cleaners   Not-in-family   White   \n",
       "2       Married-civ-spouse   Handlers-cleaners         Husband   Black   \n",
       "3       Married-civ-spouse      Prof-specialty            Wife   Black   \n",
       "4       Married-civ-spouse     Exec-managerial            Wife   White   \n",
       "6       Married-civ-spouse     Exec-managerial         Husband   White   \n",
       "...                    ...                 ...             ...     ...   \n",
       "32553   Married-civ-spouse     Exec-managerial         Husband   White   \n",
       "32554        Never-married     Protective-serv   Not-in-family   White   \n",
       "32555   Married-civ-spouse        Tech-support            Wife   White   \n",
       "32556   Married-civ-spouse   Machine-op-inspct         Husband   White   \n",
       "32557              Widowed        Adm-clerical       Unmarried   White   \n",
       "\n",
       "           Sex  Capital_gain  Capital_loss  Hours_per_week  Native_country  \\\n",
       "1         Male             0             0              40   United-States   \n",
       "2         Male             0             0              40   United-States   \n",
       "3       Female             0             0              40            Cuba   \n",
       "4       Female             0             0              40   United-States   \n",
       "6         Male             0             0              45   United-States   \n",
       "...        ...           ...           ...             ...             ...   \n",
       "32553     Male             0             0              40   United-States   \n",
       "32554     Male             0             0              40   United-States   \n",
       "32555   Female             0             0              38   United-States   \n",
       "32556     Male             0             0              40   United-States   \n",
       "32557   Female             0             0              40   United-States   \n",
       "\n",
       "       Income  \n",
       "1       <=50K  \n",
       "2       <=50K  \n",
       "3       <=50K  \n",
       "4       <=50K  \n",
       "6        >50K  \n",
       "...       ...  \n",
       "32553    >50K  \n",
       "32554   <=50K  \n",
       "32555   <=50K  \n",
       "32556    >50K  \n",
       "32557   <=50K  \n",
       "\n",
       "[18983 rows x 15 columns]"
      ]
     },
     "execution_count": 454,
     "metadata": {},
     "output_type": "execute_result"
    }
   ],
   "source": [
    "# Removing outliers using IQR\n",
    "Q1 = col.quantile(0.25)\n",
    "\n",
    "Q3 = col.quantile(0.75)\n",
    "\n",
    "#IQR\n",
    "IQR = Q3-Q1\n",
    "\n",
    "df1=df[~((df < (Q1 - 1.5 * IQR)) |(df > (Q3 + 1.5 * IQR))).any(axis=1)]\n",
    "df1"
   ]
  },
  {
   "cell_type": "code",
   "execution_count": 455,
   "id": "ce27d8e7",
   "metadata": {
    "scrolled": true
   },
   "outputs": [
    {
     "data": {
      "text/plain": [
       "(18983, 15)"
      ]
     },
     "execution_count": 455,
     "metadata": {},
     "output_type": "execute_result"
    }
   ],
   "source": [
    "df1.shape"
   ]
  },
  {
   "cell_type": "code",
   "execution_count": 456,
   "id": "45b663ec",
   "metadata": {},
   "outputs": [
    {
     "data": {
      "text/plain": [
       "41.65539709859847"
      ]
     },
     "execution_count": 456,
     "metadata": {},
     "output_type": "execute_result"
    }
   ],
   "source": [
    "(32536 - 18983)/32536*100"
   ]
  },
  {
   "cell_type": "markdown",
   "id": "fcd582b6",
   "metadata": {},
   "source": [
    "Using IQR methos, data loss is 41.65%. As it is more than 10%, we will consider Zscore method"
   ]
  },
  {
   "cell_type": "code",
   "execution_count": 457,
   "id": "86b2c3b5",
   "metadata": {},
   "outputs": [
    {
     "data": {
      "text/plain": [
       "Age                0.491125\n",
       "Fnlwgt             0.635160\n",
       "Education_num     -0.169811\n",
       "Capital_gain       4.941892\n",
       "Capital_loss      29.651762\n",
       "Hours_per_week    -0.353124\n",
       "dtype: float64"
      ]
     },
     "execution_count": 457,
     "metadata": {},
     "output_type": "execute_result"
    }
   ],
   "source": [
    "new_df.skew()\n"
   ]
  },
  {
   "cell_type": "code",
   "execution_count": 458,
   "id": "eadb8f60",
   "metadata": {},
   "outputs": [
    {
     "data": {
      "text/plain": [
       "Age                0.491125\n",
       "Fnlwgt             0.635160\n",
       "Education_num     -0.169811\n",
       "Capital_gain       4.941892\n",
       "Capital_loss      25.757548\n",
       "Hours_per_week    -0.353124\n",
       "dtype: float64"
      ]
     },
     "execution_count": 458,
     "metadata": {},
     "output_type": "execute_result"
    }
   ],
   "source": [
    "# Removing skewness using cube root method\n",
    "new_df[\"Capital_loss\"] = np.cbrt(df['Capital_loss'])\n",
    "new_df.skew()"
   ]
  },
  {
   "cell_type": "markdown",
   "id": "7d08a57e",
   "metadata": {},
   "source": [
    "## separating numerical and categorical columns"
   ]
  },
  {
   "cell_type": "code",
   "execution_count": 459,
   "id": "e0ec726e",
   "metadata": {
    "scrolled": true
   },
   "outputs": [],
   "source": [
    "numerical_col = new_df.select_dtypes(include=[np.number])\n",
    "categorical_col = new_df.select_dtypes(exclude=[np.number])"
   ]
  },
  {
   "cell_type": "code",
   "execution_count": 460,
   "id": "15312942",
   "metadata": {},
   "outputs": [
    {
     "data": {
      "text/plain": [
       "Age               -0.017077\n",
       "Fnlwgt            -0.034773\n",
       "Education_num      0.023046\n",
       "Capital_gain       3.072803\n",
       "Capital_loss      24.860889\n",
       "Hours_per_week     0.107978\n",
       "dtype: float64"
      ]
     },
     "execution_count": 460,
     "metadata": {},
     "output_type": "execute_result"
    }
   ],
   "source": [
    "# Using power_transform function to remove skewness from the dataset.\n",
    "from sklearn.preprocessing import power_transform\n",
    "\n",
    "df_new = power_transform(numerical_col)\n",
    "df_new = pd.DataFrame(df_new, columns = numerical_col.columns)\n",
    "\n",
    "df_new.skew()"
   ]
  },
  {
   "cell_type": "code",
   "execution_count": 461,
   "id": "021a7106",
   "metadata": {},
   "outputs": [
    {
     "data": {
      "text/html": [
       "<div>\n",
       "<style scoped>\n",
       "    .dataframe tbody tr th:only-of-type {\n",
       "        vertical-align: middle;\n",
       "    }\n",
       "\n",
       "    .dataframe tbody tr th {\n",
       "        vertical-align: top;\n",
       "    }\n",
       "\n",
       "    .dataframe thead th {\n",
       "        text-align: right;\n",
       "    }\n",
       "</style>\n",
       "<table border=\"1\" class=\"dataframe\">\n",
       "  <thead>\n",
       "    <tr style=\"text-align: right;\">\n",
       "      <th></th>\n",
       "      <th>Age</th>\n",
       "      <th>Fnlwgt</th>\n",
       "      <th>Education_num</th>\n",
       "      <th>Capital_gain</th>\n",
       "      <th>Capital_loss</th>\n",
       "      <th>Hours_per_week</th>\n",
       "    </tr>\n",
       "  </thead>\n",
       "  <tbody>\n",
       "    <tr>\n",
       "      <th>0</th>\n",
       "      <td>0.928278</td>\n",
       "      <td>-1.114017</td>\n",
       "      <td>1.209860</td>\n",
       "      <td>-0.296786</td>\n",
       "      <td>-0.040161</td>\n",
       "      <td>-2.217845</td>\n",
       "    </tr>\n",
       "    <tr>\n",
       "      <th>1</th>\n",
       "      <td>0.130080</td>\n",
       "      <td>0.425181</td>\n",
       "      <td>-0.465077</td>\n",
       "      <td>-0.296786</td>\n",
       "      <td>-0.040161</td>\n",
       "      <td>-0.036646</td>\n",
       "    </tr>\n",
       "    <tr>\n",
       "      <th>2</th>\n",
       "      <td>1.103227</td>\n",
       "      <td>0.605059</td>\n",
       "      <td>-1.249334</td>\n",
       "      <td>-0.296786</td>\n",
       "      <td>-0.040161</td>\n",
       "      <td>-0.036646</td>\n",
       "    </tr>\n",
       "    <tr>\n",
       "      <th>3</th>\n",
       "      <td>-0.709117</td>\n",
       "      <td>1.484239</td>\n",
       "      <td>1.209860</td>\n",
       "      <td>-0.296786</td>\n",
       "      <td>-0.040161</td>\n",
       "      <td>-0.036646</td>\n",
       "    </tr>\n",
       "    <tr>\n",
       "      <th>4</th>\n",
       "      <td>0.054756</td>\n",
       "      <td>1.046089</td>\n",
       "      <td>1.647550</td>\n",
       "      <td>-0.296786</td>\n",
       "      <td>-0.040161</td>\n",
       "      <td>-0.036646</td>\n",
       "    </tr>\n",
       "    <tr>\n",
       "      <th>...</th>\n",
       "      <td>...</td>\n",
       "      <td>...</td>\n",
       "      <td>...</td>\n",
       "      <td>...</td>\n",
       "      <td>...</td>\n",
       "      <td>...</td>\n",
       "    </tr>\n",
       "    <tr>\n",
       "      <th>29803</th>\n",
       "      <td>-0.805675</td>\n",
       "      <td>0.809600</td>\n",
       "      <td>0.779300</td>\n",
       "      <td>-0.296786</td>\n",
       "      <td>-0.040161</td>\n",
       "      <td>-0.219695</td>\n",
       "    </tr>\n",
       "    <tr>\n",
       "      <th>29804</th>\n",
       "      <td>0.276064</td>\n",
       "      <td>-0.208509</td>\n",
       "      <td>-0.465077</td>\n",
       "      <td>-0.296786</td>\n",
       "      <td>-0.040161</td>\n",
       "      <td>-0.036646</td>\n",
       "    </tr>\n",
       "    <tr>\n",
       "      <th>29805</th>\n",
       "      <td>1.377736</td>\n",
       "      <td>-0.236198</td>\n",
       "      <td>-0.465077</td>\n",
       "      <td>-0.296786</td>\n",
       "      <td>-0.040161</td>\n",
       "      <td>-0.036646</td>\n",
       "    </tr>\n",
       "    <tr>\n",
       "      <th>29806</th>\n",
       "      <td>-1.336144</td>\n",
       "      <td>0.286958</td>\n",
       "      <td>-0.465077</td>\n",
       "      <td>-0.296786</td>\n",
       "      <td>-0.040161</td>\n",
       "      <td>-1.722211</td>\n",
       "    </tr>\n",
       "    <tr>\n",
       "      <th>29807</th>\n",
       "      <td>1.045822</td>\n",
       "      <td>1.074362</td>\n",
       "      <td>-0.465077</td>\n",
       "      <td>3.369470</td>\n",
       "      <td>-0.040161</td>\n",
       "      <td>-0.036646</td>\n",
       "    </tr>\n",
       "  </tbody>\n",
       "</table>\n",
       "<p>29808 rows × 6 columns</p>\n",
       "</div>"
      ],
      "text/plain": [
       "            Age    Fnlwgt  Education_num  Capital_gain  Capital_loss  \\\n",
       "0      0.928278 -1.114017       1.209860     -0.296786     -0.040161   \n",
       "1      0.130080  0.425181      -0.465077     -0.296786     -0.040161   \n",
       "2      1.103227  0.605059      -1.249334     -0.296786     -0.040161   \n",
       "3     -0.709117  1.484239       1.209860     -0.296786     -0.040161   \n",
       "4      0.054756  1.046089       1.647550     -0.296786     -0.040161   \n",
       "...         ...       ...            ...           ...           ...   \n",
       "29803 -0.805675  0.809600       0.779300     -0.296786     -0.040161   \n",
       "29804  0.276064 -0.208509      -0.465077     -0.296786     -0.040161   \n",
       "29805  1.377736 -0.236198      -0.465077     -0.296786     -0.040161   \n",
       "29806 -1.336144  0.286958      -0.465077     -0.296786     -0.040161   \n",
       "29807  1.045822  1.074362      -0.465077      3.369470     -0.040161   \n",
       "\n",
       "       Hours_per_week  \n",
       "0           -2.217845  \n",
       "1           -0.036646  \n",
       "2           -0.036646  \n",
       "3           -0.036646  \n",
       "4           -0.036646  \n",
       "...               ...  \n",
       "29803       -0.219695  \n",
       "29804       -0.036646  \n",
       "29805       -0.036646  \n",
       "29806       -1.722211  \n",
       "29807       -0.036646  \n",
       "\n",
       "[29808 rows x 6 columns]"
      ]
     },
     "execution_count": 461,
     "metadata": {},
     "output_type": "execute_result"
    }
   ],
   "source": [
    "df_new"
   ]
  },
  {
   "cell_type": "code",
   "execution_count": 462,
   "id": "bb9d9b71",
   "metadata": {
    "scrolled": true
   },
   "outputs": [
    {
     "data": {
      "image/png": "[encoded data removed]",
      "text/plain": [
       "<Figure size 1440x1800 with 6 Axes>"
      ]
     },
     "metadata": {
      "needs_background": "light"
     },
     "output_type": "display_data"
    }
   ],
   "source": [
    "# Let's see how data is distributed for every column\n",
    "plt.figure(figsize=(20,25))\n",
    "plotnumber = 1\n",
    "\n",
    "for column in df_new:\n",
    "    if plotnumber <=6: # as there are 16 columns in the data\n",
    "        ax = plt.subplot(3,2,plotnumber)\n",
    "        sns.distplot(df_new[column])\n",
    "        plt.xlabel(column,fontsize=20)\n",
    "    plotnumber+=1\n",
    "plt.show()"
   ]
  },
  {
   "cell_type": "markdown",
   "id": "f082d6b5",
   "metadata": {},
   "source": [
    "## Encoding the categorical columns\n"
   ]
  },
  {
   "cell_type": "code",
   "execution_count": 463,
   "id": "b559e771",
   "metadata": {},
   "outputs": [],
   "source": [
    "from category_encoders import BinaryEncoder\n",
    "\n",
    "bi_enc = BinaryEncoder()\n",
    "\n",
    "bi_enc = BinaryEncoder(cols=['Workclass', 'Education', 'Marital_status', 'Occupation', 'Relationship', 'Race', 'Sex', 'Native_country']).fit(categorical_col)\n",
    "\n",
    "cat_enc = bi_enc.transform(categorical_col)"
   ]
  },
  {
   "cell_type": "code",
   "execution_count": 464,
   "id": "be6c7cee",
   "metadata": {},
   "outputs": [
    {
     "data": {
      "text/html": [
       "<div>\n",
       "<style scoped>\n",
       "    .dataframe tbody tr th:only-of-type {\n",
       "        vertical-align: middle;\n",
       "    }\n",
       "\n",
       "    .dataframe tbody tr th {\n",
       "        vertical-align: top;\n",
       "    }\n",
       "\n",
       "    .dataframe thead th {\n",
       "        text-align: right;\n",
       "    }\n",
       "</style>\n",
       "<table border=\"1\" class=\"dataframe\">\n",
       "  <thead>\n",
       "    <tr style=\"text-align: right;\">\n",
       "      <th></th>\n",
       "      <th>Workclass_0</th>\n",
       "      <th>Workclass_1</th>\n",
       "      <th>Workclass_2</th>\n",
       "      <th>Workclass_3</th>\n",
       "      <th>Education_0</th>\n",
       "      <th>Education_1</th>\n",
       "      <th>Education_2</th>\n",
       "      <th>Education_3</th>\n",
       "      <th>Marital_status_0</th>\n",
       "      <th>Marital_status_1</th>\n",
       "      <th>...</th>\n",
       "      <th>Race_2</th>\n",
       "      <th>Sex_0</th>\n",
       "      <th>Sex_1</th>\n",
       "      <th>Native_country_0</th>\n",
       "      <th>Native_country_1</th>\n",
       "      <th>Native_country_2</th>\n",
       "      <th>Native_country_3</th>\n",
       "      <th>Native_country_4</th>\n",
       "      <th>Native_country_5</th>\n",
       "      <th>Income</th>\n",
       "    </tr>\n",
       "  </thead>\n",
       "  <tbody>\n",
       "    <tr>\n",
       "      <th>0</th>\n",
       "      <td>0</td>\n",
       "      <td>0</td>\n",
       "      <td>0</td>\n",
       "      <td>1</td>\n",
       "      <td>0</td>\n",
       "      <td>0</td>\n",
       "      <td>0</td>\n",
       "      <td>1</td>\n",
       "      <td>0</td>\n",
       "      <td>0</td>\n",
       "      <td>...</td>\n",
       "      <td>1</td>\n",
       "      <td>0</td>\n",
       "      <td>1</td>\n",
       "      <td>0</td>\n",
       "      <td>0</td>\n",
       "      <td>0</td>\n",
       "      <td>0</td>\n",
       "      <td>0</td>\n",
       "      <td>1</td>\n",
       "      <td>&lt;=50K</td>\n",
       "    </tr>\n",
       "    <tr>\n",
       "      <th>1</th>\n",
       "      <td>0</td>\n",
       "      <td>0</td>\n",
       "      <td>1</td>\n",
       "      <td>0</td>\n",
       "      <td>0</td>\n",
       "      <td>0</td>\n",
       "      <td>1</td>\n",
       "      <td>0</td>\n",
       "      <td>0</td>\n",
       "      <td>1</td>\n",
       "      <td>...</td>\n",
       "      <td>1</td>\n",
       "      <td>0</td>\n",
       "      <td>1</td>\n",
       "      <td>0</td>\n",
       "      <td>0</td>\n",
       "      <td>0</td>\n",
       "      <td>0</td>\n",
       "      <td>0</td>\n",
       "      <td>1</td>\n",
       "      <td>&lt;=50K</td>\n",
       "    </tr>\n",
       "    <tr>\n",
       "      <th>2</th>\n",
       "      <td>0</td>\n",
       "      <td>0</td>\n",
       "      <td>1</td>\n",
       "      <td>0</td>\n",
       "      <td>0</td>\n",
       "      <td>0</td>\n",
       "      <td>1</td>\n",
       "      <td>1</td>\n",
       "      <td>0</td>\n",
       "      <td>0</td>\n",
       "      <td>...</td>\n",
       "      <td>0</td>\n",
       "      <td>0</td>\n",
       "      <td>1</td>\n",
       "      <td>0</td>\n",
       "      <td>0</td>\n",
       "      <td>0</td>\n",
       "      <td>0</td>\n",
       "      <td>0</td>\n",
       "      <td>1</td>\n",
       "      <td>&lt;=50K</td>\n",
       "    </tr>\n",
       "    <tr>\n",
       "      <th>3</th>\n",
       "      <td>0</td>\n",
       "      <td>0</td>\n",
       "      <td>1</td>\n",
       "      <td>0</td>\n",
       "      <td>0</td>\n",
       "      <td>0</td>\n",
       "      <td>0</td>\n",
       "      <td>1</td>\n",
       "      <td>0</td>\n",
       "      <td>0</td>\n",
       "      <td>...</td>\n",
       "      <td>0</td>\n",
       "      <td>1</td>\n",
       "      <td>0</td>\n",
       "      <td>0</td>\n",
       "      <td>0</td>\n",
       "      <td>0</td>\n",
       "      <td>0</td>\n",
       "      <td>1</td>\n",
       "      <td>0</td>\n",
       "      <td>&lt;=50K</td>\n",
       "    </tr>\n",
       "    <tr>\n",
       "      <th>4</th>\n",
       "      <td>0</td>\n",
       "      <td>0</td>\n",
       "      <td>1</td>\n",
       "      <td>0</td>\n",
       "      <td>0</td>\n",
       "      <td>1</td>\n",
       "      <td>0</td>\n",
       "      <td>0</td>\n",
       "      <td>0</td>\n",
       "      <td>0</td>\n",
       "      <td>...</td>\n",
       "      <td>1</td>\n",
       "      <td>1</td>\n",
       "      <td>0</td>\n",
       "      <td>0</td>\n",
       "      <td>0</td>\n",
       "      <td>0</td>\n",
       "      <td>0</td>\n",
       "      <td>0</td>\n",
       "      <td>1</td>\n",
       "      <td>&lt;=50K</td>\n",
       "    </tr>\n",
       "    <tr>\n",
       "      <th>...</th>\n",
       "      <td>...</td>\n",
       "      <td>...</td>\n",
       "      <td>...</td>\n",
       "      <td>...</td>\n",
       "      <td>...</td>\n",
       "      <td>...</td>\n",
       "      <td>...</td>\n",
       "      <td>...</td>\n",
       "      <td>...</td>\n",
       "      <td>...</td>\n",
       "      <td>...</td>\n",
       "      <td>...</td>\n",
       "      <td>...</td>\n",
       "      <td>...</td>\n",
       "      <td>...</td>\n",
       "      <td>...</td>\n",
       "      <td>...</td>\n",
       "      <td>...</td>\n",
       "      <td>...</td>\n",
       "      <td>...</td>\n",
       "      <td>...</td>\n",
       "    </tr>\n",
       "    <tr>\n",
       "      <th>32555</th>\n",
       "      <td>0</td>\n",
       "      <td>0</td>\n",
       "      <td>1</td>\n",
       "      <td>0</td>\n",
       "      <td>0</td>\n",
       "      <td>1</td>\n",
       "      <td>1</td>\n",
       "      <td>0</td>\n",
       "      <td>0</td>\n",
       "      <td>0</td>\n",
       "      <td>...</td>\n",
       "      <td>1</td>\n",
       "      <td>1</td>\n",
       "      <td>0</td>\n",
       "      <td>0</td>\n",
       "      <td>0</td>\n",
       "      <td>0</td>\n",
       "      <td>0</td>\n",
       "      <td>0</td>\n",
       "      <td>1</td>\n",
       "      <td>&lt;=50K</td>\n",
       "    </tr>\n",
       "    <tr>\n",
       "      <th>32556</th>\n",
       "      <td>0</td>\n",
       "      <td>0</td>\n",
       "      <td>1</td>\n",
       "      <td>0</td>\n",
       "      <td>0</td>\n",
       "      <td>0</td>\n",
       "      <td>1</td>\n",
       "      <td>0</td>\n",
       "      <td>0</td>\n",
       "      <td>0</td>\n",
       "      <td>...</td>\n",
       "      <td>1</td>\n",
       "      <td>0</td>\n",
       "      <td>1</td>\n",
       "      <td>0</td>\n",
       "      <td>0</td>\n",
       "      <td>0</td>\n",
       "      <td>0</td>\n",
       "      <td>0</td>\n",
       "      <td>1</td>\n",
       "      <td>&gt;50K</td>\n",
       "    </tr>\n",
       "    <tr>\n",
       "      <th>32557</th>\n",
       "      <td>0</td>\n",
       "      <td>0</td>\n",
       "      <td>1</td>\n",
       "      <td>0</td>\n",
       "      <td>0</td>\n",
       "      <td>0</td>\n",
       "      <td>1</td>\n",
       "      <td>0</td>\n",
       "      <td>1</td>\n",
       "      <td>1</td>\n",
       "      <td>...</td>\n",
       "      <td>1</td>\n",
       "      <td>1</td>\n",
       "      <td>0</td>\n",
       "      <td>0</td>\n",
       "      <td>0</td>\n",
       "      <td>0</td>\n",
       "      <td>0</td>\n",
       "      <td>0</td>\n",
       "      <td>1</td>\n",
       "      <td>&lt;=50K</td>\n",
       "    </tr>\n",
       "    <tr>\n",
       "      <th>32558</th>\n",
       "      <td>0</td>\n",
       "      <td>0</td>\n",
       "      <td>1</td>\n",
       "      <td>0</td>\n",
       "      <td>0</td>\n",
       "      <td>0</td>\n",
       "      <td>1</td>\n",
       "      <td>0</td>\n",
       "      <td>1</td>\n",
       "      <td>0</td>\n",
       "      <td>...</td>\n",
       "      <td>1</td>\n",
       "      <td>0</td>\n",
       "      <td>1</td>\n",
       "      <td>0</td>\n",
       "      <td>0</td>\n",
       "      <td>0</td>\n",
       "      <td>0</td>\n",
       "      <td>0</td>\n",
       "      <td>1</td>\n",
       "      <td>&lt;=50K</td>\n",
       "    </tr>\n",
       "    <tr>\n",
       "      <th>32559</th>\n",
       "      <td>0</td>\n",
       "      <td>1</td>\n",
       "      <td>1</td>\n",
       "      <td>1</td>\n",
       "      <td>0</td>\n",
       "      <td>0</td>\n",
       "      <td>1</td>\n",
       "      <td>0</td>\n",
       "      <td>0</td>\n",
       "      <td>0</td>\n",
       "      <td>...</td>\n",
       "      <td>1</td>\n",
       "      <td>1</td>\n",
       "      <td>0</td>\n",
       "      <td>0</td>\n",
       "      <td>0</td>\n",
       "      <td>0</td>\n",
       "      <td>0</td>\n",
       "      <td>0</td>\n",
       "      <td>1</td>\n",
       "      <td>&gt;50K</td>\n",
       "    </tr>\n",
       "  </tbody>\n",
       "</table>\n",
       "<p>29808 rows × 30 columns</p>\n",
       "</div>"
      ],
      "text/plain": [
       "       Workclass_0  Workclass_1  Workclass_2  Workclass_3  Education_0  \\\n",
       "0                0            0            0            1            0   \n",
       "1                0            0            1            0            0   \n",
       "2                0            0            1            0            0   \n",
       "3                0            0            1            0            0   \n",
       "4                0            0            1            0            0   \n",
       "...            ...          ...          ...          ...          ...   \n",
       "32555            0            0            1            0            0   \n",
       "32556            0            0            1            0            0   \n",
       "32557            0            0            1            0            0   \n",
       "32558            0            0            1            0            0   \n",
       "32559            0            1            1            1            0   \n",
       "\n",
       "       Education_1  Education_2  Education_3  Marital_status_0  \\\n",
       "0                0            0            1                 0   \n",
       "1                0            1            0                 0   \n",
       "2                0            1            1                 0   \n",
       "3                0            0            1                 0   \n",
       "4                1            0            0                 0   \n",
       "...            ...          ...          ...               ...   \n",
       "32555            1            1            0                 0   \n",
       "32556            0            1            0                 0   \n",
       "32557            0            1            0                 1   \n",
       "32558            0            1            0                 1   \n",
       "32559            0            1            0                 0   \n",
       "\n",
       "       Marital_status_1  ...  Race_2  Sex_0  Sex_1  Native_country_0  \\\n",
       "0                     0  ...       1      0      1                 0   \n",
       "1                     1  ...       1      0      1                 0   \n",
       "2                     0  ...       0      0      1                 0   \n",
       "3                     0  ...       0      1      0                 0   \n",
       "4                     0  ...       1      1      0                 0   \n",
       "...                 ...  ...     ...    ...    ...               ...   \n",
       "32555                 0  ...       1      1      0                 0   \n",
       "32556                 0  ...       1      0      1                 0   \n",
       "32557                 1  ...       1      1      0                 0   \n",
       "32558                 0  ...       1      0      1                 0   \n",
       "32559                 0  ...       1      1      0                 0   \n",
       "\n",
       "       Native_country_1  Native_country_2  Native_country_3  Native_country_4  \\\n",
       "0                     0                 0                 0                 0   \n",
       "1                     0                 0                 0                 0   \n",
       "2                     0                 0                 0                 0   \n",
       "3                     0                 0                 0                 1   \n",
       "4                     0                 0                 0                 0   \n",
       "...                 ...               ...               ...               ...   \n",
       "32555                 0                 0                 0                 0   \n",
       "32556                 0                 0                 0                 0   \n",
       "32557                 0                 0                 0                 0   \n",
       "32558                 0                 0                 0                 0   \n",
       "32559                 0                 0                 0                 0   \n",
       "\n",
       "       Native_country_5  Income  \n",
       "0                     1   <=50K  \n",
       "1                     1   <=50K  \n",
       "2                     1   <=50K  \n",
       "3                     0   <=50K  \n",
       "4                     1   <=50K  \n",
       "...                 ...     ...  \n",
       "32555                 1   <=50K  \n",
       "32556                 1    >50K  \n",
       "32557                 1   <=50K  \n",
       "32558                 1   <=50K  \n",
       "32559                 1    >50K  \n",
       "\n",
       "[29808 rows x 30 columns]"
      ]
     },
     "execution_count": 464,
     "metadata": {},
     "output_type": "execute_result"
    }
   ],
   "source": [
    "cat_enc"
   ]
  },
  {
   "cell_type": "code",
   "execution_count": 465,
   "id": "fc5591f6",
   "metadata": {},
   "outputs": [],
   "source": [
    "#categorical_col = ['Workclass', 'Education', 'Marital_status', 'Occupation', 'Relationship', 'Race', 'Sex', 'Native_country', 'Income']\n",
    "from sklearn.preprocessing import LabelEncoder\n",
    "lbl = LabelEncoder()\n",
    "cat_enc['Income'] = lbl.fit_transform(cat_enc['Income'])\n",
    "#cat_enc['Income'] = cat_enc['Income'].apply(lbl.fit_transform)"
   ]
  },
  {
   "cell_type": "code",
   "execution_count": 466,
   "id": "56f47c5f",
   "metadata": {},
   "outputs": [
    {
     "data": {
      "text/html": [
       "<div>\n",
       "<style scoped>\n",
       "    .dataframe tbody tr th:only-of-type {\n",
       "        vertical-align: middle;\n",
       "    }\n",
       "\n",
       "    .dataframe tbody tr th {\n",
       "        vertical-align: top;\n",
       "    }\n",
       "\n",
       "    .dataframe thead th {\n",
       "        text-align: right;\n",
       "    }\n",
       "</style>\n",
       "<table border=\"1\" class=\"dataframe\">\n",
       "  <thead>\n",
       "    <tr style=\"text-align: right;\">\n",
       "      <th></th>\n",
       "      <th>Workclass_0</th>\n",
       "      <th>Workclass_1</th>\n",
       "      <th>Workclass_2</th>\n",
       "      <th>Workclass_3</th>\n",
       "      <th>Education_0</th>\n",
       "      <th>Education_1</th>\n",
       "      <th>Education_2</th>\n",
       "      <th>Education_3</th>\n",
       "      <th>Marital_status_0</th>\n",
       "      <th>Marital_status_1</th>\n",
       "      <th>...</th>\n",
       "      <th>Race_2</th>\n",
       "      <th>Sex_0</th>\n",
       "      <th>Sex_1</th>\n",
       "      <th>Native_country_0</th>\n",
       "      <th>Native_country_1</th>\n",
       "      <th>Native_country_2</th>\n",
       "      <th>Native_country_3</th>\n",
       "      <th>Native_country_4</th>\n",
       "      <th>Native_country_5</th>\n",
       "      <th>Income</th>\n",
       "    </tr>\n",
       "  </thead>\n",
       "  <tbody>\n",
       "    <tr>\n",
       "      <th>0</th>\n",
       "      <td>0</td>\n",
       "      <td>0</td>\n",
       "      <td>0</td>\n",
       "      <td>1</td>\n",
       "      <td>0</td>\n",
       "      <td>0</td>\n",
       "      <td>0</td>\n",
       "      <td>1</td>\n",
       "      <td>0</td>\n",
       "      <td>0</td>\n",
       "      <td>...</td>\n",
       "      <td>1</td>\n",
       "      <td>0</td>\n",
       "      <td>1</td>\n",
       "      <td>0</td>\n",
       "      <td>0</td>\n",
       "      <td>0</td>\n",
       "      <td>0</td>\n",
       "      <td>0</td>\n",
       "      <td>1</td>\n",
       "      <td>0</td>\n",
       "    </tr>\n",
       "    <tr>\n",
       "      <th>1</th>\n",
       "      <td>0</td>\n",
       "      <td>0</td>\n",
       "      <td>1</td>\n",
       "      <td>0</td>\n",
       "      <td>0</td>\n",
       "      <td>0</td>\n",
       "      <td>1</td>\n",
       "      <td>0</td>\n",
       "      <td>0</td>\n",
       "      <td>1</td>\n",
       "      <td>...</td>\n",
       "      <td>1</td>\n",
       "      <td>0</td>\n",
       "      <td>1</td>\n",
       "      <td>0</td>\n",
       "      <td>0</td>\n",
       "      <td>0</td>\n",
       "      <td>0</td>\n",
       "      <td>0</td>\n",
       "      <td>1</td>\n",
       "      <td>0</td>\n",
       "    </tr>\n",
       "    <tr>\n",
       "      <th>2</th>\n",
       "      <td>0</td>\n",
       "      <td>0</td>\n",
       "      <td>1</td>\n",
       "      <td>0</td>\n",
       "      <td>0</td>\n",
       "      <td>0</td>\n",
       "      <td>1</td>\n",
       "      <td>1</td>\n",
       "      <td>0</td>\n",
       "      <td>0</td>\n",
       "      <td>...</td>\n",
       "      <td>0</td>\n",
       "      <td>0</td>\n",
       "      <td>1</td>\n",
       "      <td>0</td>\n",
       "      <td>0</td>\n",
       "      <td>0</td>\n",
       "      <td>0</td>\n",
       "      <td>0</td>\n",
       "      <td>1</td>\n",
       "      <td>0</td>\n",
       "    </tr>\n",
       "    <tr>\n",
       "      <th>3</th>\n",
       "      <td>0</td>\n",
       "      <td>0</td>\n",
       "      <td>1</td>\n",
       "      <td>0</td>\n",
       "      <td>0</td>\n",
       "      <td>0</td>\n",
       "      <td>0</td>\n",
       "      <td>1</td>\n",
       "      <td>0</td>\n",
       "      <td>0</td>\n",
       "      <td>...</td>\n",
       "      <td>0</td>\n",
       "      <td>1</td>\n",
       "      <td>0</td>\n",
       "      <td>0</td>\n",
       "      <td>0</td>\n",
       "      <td>0</td>\n",
       "      <td>0</td>\n",
       "      <td>1</td>\n",
       "      <td>0</td>\n",
       "      <td>0</td>\n",
       "    </tr>\n",
       "    <tr>\n",
       "      <th>4</th>\n",
       "      <td>0</td>\n",
       "      <td>0</td>\n",
       "      <td>1</td>\n",
       "      <td>0</td>\n",
       "      <td>0</td>\n",
       "      <td>1</td>\n",
       "      <td>0</td>\n",
       "      <td>0</td>\n",
       "      <td>0</td>\n",
       "      <td>0</td>\n",
       "      <td>...</td>\n",
       "      <td>1</td>\n",
       "      <td>1</td>\n",
       "      <td>0</td>\n",
       "      <td>0</td>\n",
       "      <td>0</td>\n",
       "      <td>0</td>\n",
       "      <td>0</td>\n",
       "      <td>0</td>\n",
       "      <td>1</td>\n",
       "      <td>0</td>\n",
       "    </tr>\n",
       "    <tr>\n",
       "      <th>...</th>\n",
       "      <td>...</td>\n",
       "      <td>...</td>\n",
       "      <td>...</td>\n",
       "      <td>...</td>\n",
       "      <td>...</td>\n",
       "      <td>...</td>\n",
       "      <td>...</td>\n",
       "      <td>...</td>\n",
       "      <td>...</td>\n",
       "      <td>...</td>\n",
       "      <td>...</td>\n",
       "      <td>...</td>\n",
       "      <td>...</td>\n",
       "      <td>...</td>\n",
       "      <td>...</td>\n",
       "      <td>...</td>\n",
       "      <td>...</td>\n",
       "      <td>...</td>\n",
       "      <td>...</td>\n",
       "      <td>...</td>\n",
       "      <td>...</td>\n",
       "    </tr>\n",
       "    <tr>\n",
       "      <th>32555</th>\n",
       "      <td>0</td>\n",
       "      <td>0</td>\n",
       "      <td>1</td>\n",
       "      <td>0</td>\n",
       "      <td>0</td>\n",
       "      <td>1</td>\n",
       "      <td>1</td>\n",
       "      <td>0</td>\n",
       "      <td>0</td>\n",
       "      <td>0</td>\n",
       "      <td>...</td>\n",
       "      <td>1</td>\n",
       "      <td>1</td>\n",
       "      <td>0</td>\n",
       "      <td>0</td>\n",
       "      <td>0</td>\n",
       "      <td>0</td>\n",
       "      <td>0</td>\n",
       "      <td>0</td>\n",
       "      <td>1</td>\n",
       "      <td>0</td>\n",
       "    </tr>\n",
       "    <tr>\n",
       "      <th>32556</th>\n",
       "      <td>0</td>\n",
       "      <td>0</td>\n",
       "      <td>1</td>\n",
       "      <td>0</td>\n",
       "      <td>0</td>\n",
       "      <td>0</td>\n",
       "      <td>1</td>\n",
       "      <td>0</td>\n",
       "      <td>0</td>\n",
       "      <td>0</td>\n",
       "      <td>...</td>\n",
       "      <td>1</td>\n",
       "      <td>0</td>\n",
       "      <td>1</td>\n",
       "      <td>0</td>\n",
       "      <td>0</td>\n",
       "      <td>0</td>\n",
       "      <td>0</td>\n",
       "      <td>0</td>\n",
       "      <td>1</td>\n",
       "      <td>1</td>\n",
       "    </tr>\n",
       "    <tr>\n",
       "      <th>32557</th>\n",
       "      <td>0</td>\n",
       "      <td>0</td>\n",
       "      <td>1</td>\n",
       "      <td>0</td>\n",
       "      <td>0</td>\n",
       "      <td>0</td>\n",
       "      <td>1</td>\n",
       "      <td>0</td>\n",
       "      <td>1</td>\n",
       "      <td>1</td>\n",
       "      <td>...</td>\n",
       "      <td>1</td>\n",
       "      <td>1</td>\n",
       "      <td>0</td>\n",
       "      <td>0</td>\n",
       "      <td>0</td>\n",
       "      <td>0</td>\n",
       "      <td>0</td>\n",
       "      <td>0</td>\n",
       "      <td>1</td>\n",
       "      <td>0</td>\n",
       "    </tr>\n",
       "    <tr>\n",
       "      <th>32558</th>\n",
       "      <td>0</td>\n",
       "      <td>0</td>\n",
       "      <td>1</td>\n",
       "      <td>0</td>\n",
       "      <td>0</td>\n",
       "      <td>0</td>\n",
       "      <td>1</td>\n",
       "      <td>0</td>\n",
       "      <td>1</td>\n",
       "      <td>0</td>\n",
       "      <td>...</td>\n",
       "      <td>1</td>\n",
       "      <td>0</td>\n",
       "      <td>1</td>\n",
       "      <td>0</td>\n",
       "      <td>0</td>\n",
       "      <td>0</td>\n",
       "      <td>0</td>\n",
       "      <td>0</td>\n",
       "      <td>1</td>\n",
       "      <td>0</td>\n",
       "    </tr>\n",
       "    <tr>\n",
       "      <th>32559</th>\n",
       "      <td>0</td>\n",
       "      <td>1</td>\n",
       "      <td>1</td>\n",
       "      <td>1</td>\n",
       "      <td>0</td>\n",
       "      <td>0</td>\n",
       "      <td>1</td>\n",
       "      <td>0</td>\n",
       "      <td>0</td>\n",
       "      <td>0</td>\n",
       "      <td>...</td>\n",
       "      <td>1</td>\n",
       "      <td>1</td>\n",
       "      <td>0</td>\n",
       "      <td>0</td>\n",
       "      <td>0</td>\n",
       "      <td>0</td>\n",
       "      <td>0</td>\n",
       "      <td>0</td>\n",
       "      <td>1</td>\n",
       "      <td>1</td>\n",
       "    </tr>\n",
       "  </tbody>\n",
       "</table>\n",
       "<p>29808 rows × 30 columns</p>\n",
       "</div>"
      ],
      "text/plain": [
       "       Workclass_0  Workclass_1  Workclass_2  Workclass_3  Education_0  \\\n",
       "0                0            0            0            1            0   \n",
       "1                0            0            1            0            0   \n",
       "2                0            0            1            0            0   \n",
       "3                0            0            1            0            0   \n",
       "4                0            0            1            0            0   \n",
       "...            ...          ...          ...          ...          ...   \n",
       "32555            0            0            1            0            0   \n",
       "32556            0            0            1            0            0   \n",
       "32557            0            0            1            0            0   \n",
       "32558            0            0            1            0            0   \n",
       "32559            0            1            1            1            0   \n",
       "\n",
       "       Education_1  Education_2  Education_3  Marital_status_0  \\\n",
       "0                0            0            1                 0   \n",
       "1                0            1            0                 0   \n",
       "2                0            1            1                 0   \n",
       "3                0            0            1                 0   \n",
       "4                1            0            0                 0   \n",
       "...            ...          ...          ...               ...   \n",
       "32555            1            1            0                 0   \n",
       "32556            0            1            0                 0   \n",
       "32557            0            1            0                 1   \n",
       "32558            0            1            0                 1   \n",
       "32559            0            1            0                 0   \n",
       "\n",
       "       Marital_status_1  ...  Race_2  Sex_0  Sex_1  Native_country_0  \\\n",
       "0                     0  ...       1      0      1                 0   \n",
       "1                     1  ...       1      0      1                 0   \n",
       "2                     0  ...       0      0      1                 0   \n",
       "3                     0  ...       0      1      0                 0   \n",
       "4                     0  ...       1      1      0                 0   \n",
       "...                 ...  ...     ...    ...    ...               ...   \n",
       "32555                 0  ...       1      1      0                 0   \n",
       "32556                 0  ...       1      0      1                 0   \n",
       "32557                 1  ...       1      1      0                 0   \n",
       "32558                 0  ...       1      0      1                 0   \n",
       "32559                 0  ...       1      1      0                 0   \n",
       "\n",
       "       Native_country_1  Native_country_2  Native_country_3  Native_country_4  \\\n",
       "0                     0                 0                 0                 0   \n",
       "1                     0                 0                 0                 0   \n",
       "2                     0                 0                 0                 0   \n",
       "3                     0                 0                 0                 1   \n",
       "4                     0                 0                 0                 0   \n",
       "...                 ...               ...               ...               ...   \n",
       "32555                 0                 0                 0                 0   \n",
       "32556                 0                 0                 0                 0   \n",
       "32557                 0                 0                 0                 0   \n",
       "32558                 0                 0                 0                 0   \n",
       "32559                 0                 0                 0                 0   \n",
       "\n",
       "       Native_country_5  Income  \n",
       "0                     1       0  \n",
       "1                     1       0  \n",
       "2                     1       0  \n",
       "3                     0       0  \n",
       "4                     1       0  \n",
       "...                 ...     ...  \n",
       "32555                 1       0  \n",
       "32556                 1       1  \n",
       "32557                 1       0  \n",
       "32558                 1       0  \n",
       "32559                 1       1  \n",
       "\n",
       "[29808 rows x 30 columns]"
      ]
     },
     "execution_count": 466,
     "metadata": {},
     "output_type": "execute_result"
    }
   ],
   "source": [
    "cat_enc"
   ]
  },
  {
   "cell_type": "code",
   "execution_count": 468,
   "id": "52ae478f",
   "metadata": {
    "scrolled": false
   },
   "outputs": [
    {
     "data": {
      "text/plain": [
       "<AxesSubplot:>"
      ]
     },
     "execution_count": 468,
     "metadata": {},
     "output_type": "execute_result"
    },
    {
     "data": {
      "image/png": "[encoded data removed]",
      "text/plain": [
       "<Figure size 720x720 with 2 Axes>"
      ]
     },
     "metadata": {
      "needs_background": "light"
     },
     "output_type": "display_data"
    }
   ],
   "source": [
    "# Visualizing correlation between dependent and independent variables by using heatmap\n",
    "plt.figure(figsize = (10, 10))\n",
    "sns.heatmap(numerical_col.corr(), linewidths = 0.1, fmt = \".4g\", annot = True)"
   ]
  },
  {
   "cell_type": "markdown",
   "id": "10fd62c3",
   "metadata": {},
   "source": []
  },
  {
   "cell_type": "code",
   "execution_count": 469,
   "id": "0e5b87f8",
   "metadata": {},
   "outputs": [
    {
     "data": {
      "text/plain": [
       "(29808, 6)"
      ]
     },
     "execution_count": 469,
     "metadata": {},
     "output_type": "execute_result"
    }
   ],
   "source": [
    "numerical_col.shape"
   ]
  },
  {
   "cell_type": "code",
   "execution_count": 470,
   "id": "2ed8b8d5",
   "metadata": {},
   "outputs": [
    {
     "data": {
      "text/plain": [
       "(29808, 30)"
      ]
     },
     "execution_count": 470,
     "metadata": {},
     "output_type": "execute_result"
    }
   ],
   "source": [
    "cat_enc.shape"
   ]
  },
  {
   "cell_type": "code",
   "execution_count": 471,
   "id": "1beec010",
   "metadata": {},
   "outputs": [],
   "source": [
    "final_data = pd.concat([numerical_col.reset_index(drop=True), cat_enc.reset_index(drop=True)], axis=1)"
   ]
  },
  {
   "cell_type": "code",
   "execution_count": 472,
   "id": "e1729deb",
   "metadata": {},
   "outputs": [
    {
     "data": {
      "text/plain": [
       "(29808, 36)"
      ]
     },
     "execution_count": 472,
     "metadata": {},
     "output_type": "execute_result"
    }
   ],
   "source": [
    "final_data.shape"
   ]
  },
  {
   "cell_type": "markdown",
   "id": "b59022c6",
   "metadata": {},
   "source": [
    "# separating features and target"
   ]
  },
  {
   "cell_type": "code",
   "execution_count": 473,
   "id": "a63c8531",
   "metadata": {},
   "outputs": [],
   "source": [
    "x = final_data.drop('Income', axis = 1)\n",
    "y = final_data['Income']"
   ]
  },
  {
   "cell_type": "code",
   "execution_count": 474,
   "id": "1e60fea1",
   "metadata": {},
   "outputs": [
    {
     "data": {
      "text/plain": [
       "Age                0.491125\n",
       "Fnlwgt             0.635160\n",
       "Education_num     -0.169811\n",
       "Capital_gain       4.941892\n",
       "Capital_loss      25.757548\n",
       "Hours_per_week    -0.353124\n",
       "dtype: float64"
      ]
     },
     "execution_count": 474,
     "metadata": {},
     "output_type": "execute_result"
    }
   ],
   "source": [
    "numerical_col.skew()"
   ]
  },
  {
   "cell_type": "markdown",
   "id": "5dc0186e",
   "metadata": {},
   "source": [
    "We have scaled the data using Standard Scaler method to overcome the issue of data biasness."
   ]
  },
  {
   "cell_type": "code",
   "execution_count": 475,
   "id": "f9f38b33",
   "metadata": {},
   "outputs": [
    {
     "data": {
      "text/plain": [
       "0    23156\n",
       "1     6652\n",
       "Name: Income, dtype: int64"
      ]
     },
     "execution_count": 475,
     "metadata": {},
     "output_type": "execute_result"
    }
   ],
   "source": [
    "y.value_counts()"
   ]
  },
  {
   "cell_type": "markdown",
   "id": "16c38f99",
   "metadata": {},
   "source": [
    "## Oversampling"
   ]
  },
  {
   "cell_type": "code",
   "execution_count": 476,
   "id": "fa2e2c5d",
   "metadata": {},
   "outputs": [],
   "source": [
    "# Oversampling the data\n",
    "from imblearn.over_sampling import SMOTE\n",
    "SM = SMOTE()\n",
    "x, y = SM.fit_resample(x,y)"
   ]
  },
  {
   "cell_type": "code",
   "execution_count": 477,
   "id": "1e9dd22a",
   "metadata": {},
   "outputs": [
    {
     "data": {
      "text/plain": [
       "0    23156\n",
       "1    23156\n",
       "Name: Income, dtype: int64"
      ]
     },
     "execution_count": 477,
     "metadata": {},
     "output_type": "execute_result"
    }
   ],
   "source": [
    "y.value_counts()\n"
   ]
  },
  {
   "cell_type": "code",
   "execution_count": 478,
   "id": "82bdddd2",
   "metadata": {},
   "outputs": [
    {
     "data": {
      "text/html": [
       "<div>\n",
       "<style scoped>\n",
       "    .dataframe tbody tr th:only-of-type {\n",
       "        vertical-align: middle;\n",
       "    }\n",
       "\n",
       "    .dataframe tbody tr th {\n",
       "        vertical-align: top;\n",
       "    }\n",
       "\n",
       "    .dataframe thead th {\n",
       "        text-align: right;\n",
       "    }\n",
       "</style>\n",
       "<table border=\"1\" class=\"dataframe\">\n",
       "  <thead>\n",
       "    <tr style=\"text-align: right;\">\n",
       "      <th></th>\n",
       "      <th>Age</th>\n",
       "      <th>Fnlwgt</th>\n",
       "      <th>Education_num</th>\n",
       "      <th>Capital_gain</th>\n",
       "      <th>Capital_loss</th>\n",
       "      <th>Hours_per_week</th>\n",
       "      <th>Workclass_0</th>\n",
       "      <th>Workclass_1</th>\n",
       "      <th>Workclass_2</th>\n",
       "      <th>Workclass_3</th>\n",
       "      <th>...</th>\n",
       "      <th>Race_2</th>\n",
       "      <th>Sex_0</th>\n",
       "      <th>Sex_1</th>\n",
       "      <th>Native_country_0</th>\n",
       "      <th>Native_country_1</th>\n",
       "      <th>Native_country_2</th>\n",
       "      <th>Native_country_3</th>\n",
       "      <th>Native_country_4</th>\n",
       "      <th>Native_country_5</th>\n",
       "      <th>Income</th>\n",
       "    </tr>\n",
       "  </thead>\n",
       "  <tbody>\n",
       "    <tr>\n",
       "      <th>0</th>\n",
       "      <td>50</td>\n",
       "      <td>83311</td>\n",
       "      <td>13</td>\n",
       "      <td>0</td>\n",
       "      <td>0.0</td>\n",
       "      <td>13</td>\n",
       "      <td>0</td>\n",
       "      <td>0</td>\n",
       "      <td>0</td>\n",
       "      <td>1</td>\n",
       "      <td>...</td>\n",
       "      <td>1</td>\n",
       "      <td>0</td>\n",
       "      <td>1</td>\n",
       "      <td>0</td>\n",
       "      <td>0</td>\n",
       "      <td>0</td>\n",
       "      <td>0</td>\n",
       "      <td>0</td>\n",
       "      <td>1</td>\n",
       "      <td>0</td>\n",
       "    </tr>\n",
       "    <tr>\n",
       "      <th>1</th>\n",
       "      <td>38</td>\n",
       "      <td>215646</td>\n",
       "      <td>9</td>\n",
       "      <td>0</td>\n",
       "      <td>0.0</td>\n",
       "      <td>40</td>\n",
       "      <td>0</td>\n",
       "      <td>0</td>\n",
       "      <td>1</td>\n",
       "      <td>0</td>\n",
       "      <td>...</td>\n",
       "      <td>1</td>\n",
       "      <td>0</td>\n",
       "      <td>1</td>\n",
       "      <td>0</td>\n",
       "      <td>0</td>\n",
       "      <td>0</td>\n",
       "      <td>0</td>\n",
       "      <td>0</td>\n",
       "      <td>1</td>\n",
       "      <td>0</td>\n",
       "    </tr>\n",
       "    <tr>\n",
       "      <th>2</th>\n",
       "      <td>53</td>\n",
       "      <td>234721</td>\n",
       "      <td>7</td>\n",
       "      <td>0</td>\n",
       "      <td>0.0</td>\n",
       "      <td>40</td>\n",
       "      <td>0</td>\n",
       "      <td>0</td>\n",
       "      <td>1</td>\n",
       "      <td>0</td>\n",
       "      <td>...</td>\n",
       "      <td>0</td>\n",
       "      <td>0</td>\n",
       "      <td>1</td>\n",
       "      <td>0</td>\n",
       "      <td>0</td>\n",
       "      <td>0</td>\n",
       "      <td>0</td>\n",
       "      <td>0</td>\n",
       "      <td>1</td>\n",
       "      <td>0</td>\n",
       "    </tr>\n",
       "    <tr>\n",
       "      <th>3</th>\n",
       "      <td>28</td>\n",
       "      <td>338409</td>\n",
       "      <td>13</td>\n",
       "      <td>0</td>\n",
       "      <td>0.0</td>\n",
       "      <td>40</td>\n",
       "      <td>0</td>\n",
       "      <td>0</td>\n",
       "      <td>1</td>\n",
       "      <td>0</td>\n",
       "      <td>...</td>\n",
       "      <td>0</td>\n",
       "      <td>1</td>\n",
       "      <td>0</td>\n",
       "      <td>0</td>\n",
       "      <td>0</td>\n",
       "      <td>0</td>\n",
       "      <td>0</td>\n",
       "      <td>1</td>\n",
       "      <td>0</td>\n",
       "      <td>0</td>\n",
       "    </tr>\n",
       "    <tr>\n",
       "      <th>4</th>\n",
       "      <td>37</td>\n",
       "      <td>284582</td>\n",
       "      <td>14</td>\n",
       "      <td>0</td>\n",
       "      <td>0.0</td>\n",
       "      <td>40</td>\n",
       "      <td>0</td>\n",
       "      <td>0</td>\n",
       "      <td>1</td>\n",
       "      <td>0</td>\n",
       "      <td>...</td>\n",
       "      <td>1</td>\n",
       "      <td>1</td>\n",
       "      <td>0</td>\n",
       "      <td>0</td>\n",
       "      <td>0</td>\n",
       "      <td>0</td>\n",
       "      <td>0</td>\n",
       "      <td>0</td>\n",
       "      <td>1</td>\n",
       "      <td>0</td>\n",
       "    </tr>\n",
       "  </tbody>\n",
       "</table>\n",
       "<p>5 rows × 36 columns</p>\n",
       "</div>"
      ],
      "text/plain": [
       "   Age  Fnlwgt  Education_num  Capital_gain  Capital_loss  Hours_per_week  \\\n",
       "0   50   83311             13             0           0.0              13   \n",
       "1   38  215646              9             0           0.0              40   \n",
       "2   53  234721              7             0           0.0              40   \n",
       "3   28  338409             13             0           0.0              40   \n",
       "4   37  284582             14             0           0.0              40   \n",
       "\n",
       "   Workclass_0  Workclass_1  Workclass_2  Workclass_3  ...  Race_2  Sex_0  \\\n",
       "0            0            0            0            1  ...       1      0   \n",
       "1            0            0            1            0  ...       1      0   \n",
       "2            0            0            1            0  ...       0      0   \n",
       "3            0            0            1            0  ...       0      1   \n",
       "4            0            0            1            0  ...       1      1   \n",
       "\n",
       "   Sex_1  Native_country_0  Native_country_1  Native_country_2  \\\n",
       "0      1                 0                 0                 0   \n",
       "1      1                 0                 0                 0   \n",
       "2      1                 0                 0                 0   \n",
       "3      0                 0                 0                 0   \n",
       "4      0                 0                 0                 0   \n",
       "\n",
       "   Native_country_3  Native_country_4  Native_country_5  Income  \n",
       "0                 0                 0                 1       0  \n",
       "1                 0                 0                 1       0  \n",
       "2                 0                 0                 1       0  \n",
       "3                 0                 1                 0       0  \n",
       "4                 0                 0                 1       0  \n",
       "\n",
       "[5 rows x 36 columns]"
      ]
     },
     "execution_count": 478,
     "metadata": {},
     "output_type": "execute_result"
    }
   ],
   "source": [
    "# Checking the dataframe after preprocessing and data cleaning.\n",
    "final_data.head()"
   ]
  },
  {
   "cell_type": "markdown",
   "id": "5d3f8274",
   "metadata": {},
   "source": [
    "## Creating train_test_split\n"
   ]
  },
  {
   "cell_type": "code",
   "execution_count": 479,
   "id": "ed465d82",
   "metadata": {},
   "outputs": [],
   "source": [
    "from sklearn.model_selection import train_test_split\n",
    "x_train, x_test, y_train, y_test = train_test_split(x, y, random_state = 42, test_size = 0.30)\n"
   ]
  },
  {
   "cell_type": "markdown",
   "id": "f41990ed",
   "metadata": {},
   "source": [
    "## Scaling the Data"
   ]
  },
  {
   "cell_type": "code",
   "execution_count": 484,
   "id": "aa82cfa7",
   "metadata": {},
   "outputs": [],
   "source": [
    "from sklearn.preprocessing import StandardScaler\n",
    "\n",
    "#list for cols to scale\n",
    "cols_to_scale = ['Age','Fnlwgt','Education_num','Capital_gain','Capital_loss','Hours_per_week']\n",
    "\n",
    "#create and fit scaler\n",
    "scaler = StandardScaler()\n",
    "scaler.fit(x_train[cols_to_scale])\n",
    "\n",
    "#scale selected data\n",
    "x_train[cols_to_scale] = scaler.transform(x_train[cols_to_scale])"
   ]
  },
  {
   "cell_type": "markdown",
   "id": "e8fa343d",
   "metadata": {},
   "source": [
    "## Classification Algorithms"
   ]
  },
  {
   "cell_type": "code",
   "execution_count": 485,
   "id": "a7fb5247",
   "metadata": {},
   "outputs": [],
   "source": [
    "from sklearn.tree import DecisionTreeClassifier\n",
    "from sklearn.ensemble import RandomForestClassifier, GradientBoostingClassifier\n",
    "from sklearn.linear_model import LogisticRegression\n",
    "from sklearn.neighbors import KNeighborsClassifier as KNN\n",
    "from sklearn.metrics import classification_report,confusion_matrix,roc_curve,accuracy_score"
   ]
  },
  {
   "cell_type": "code",
   "execution_count": 486,
   "id": "8eba0e1f",
   "metadata": {},
   "outputs": [
    {
     "name": "stdout",
     "output_type": "stream",
     "text": [
      "0.733482078595077\n",
      "[[5507 1409]\n",
      " [2294 4684]]\n",
      "              precision    recall  f1-score   support\n",
      "\n",
      "           0       0.71      0.80      0.75      6916\n",
      "           1       0.77      0.67      0.72      6978\n",
      "\n",
      "    accuracy                           0.73     13894\n",
      "   macro avg       0.74      0.73      0.73     13894\n",
      "weighted avg       0.74      0.73      0.73     13894\n",
      "\n"
     ]
    }
   ],
   "source": [
    "# checking accuracy_score for DecisionTreeClassifier\n",
    "DTC = DecisionTreeClassifier()\n",
    "DTC.fit(x_train, y_train)\n",
    "predDTC = DTC.predict(x_test)\n",
    "print(accuracy_score(y_test, predDTC))\n",
    "print(confusion_matrix(y_test, predDTC))\n",
    "print(classification_report(y_test, predDTC))"
   ]
  },
  {
   "cell_type": "code",
   "execution_count": 491,
   "id": "0e74c1a5",
   "metadata": {},
   "outputs": [
    {
     "data": {
      "image/png": "[encoded data removed]",
      "text/plain": [
       "<Figure size 504x504 with 2 Axes>"
      ]
     },
     "metadata": {
      "needs_background": "light"
     },
     "output_type": "display_data"
    }
   ],
   "source": [
    "# Lets plot confusion matrix for DTC\n",
    "cm = confusion_matrix(y_test, predDTC)\n",
    "#x_axis_labels = [\"0\", \"1\"]\n",
    "#y_axis_labels = [\"0\", \"1\"]\n",
    "f,ax = plt.subplots(figsize = (7, 7))\n",
    "sns.heatmap(cm, annot = True, linewidths = 0.2, linecolor = \"black\", fmt = \".0f\", ax = ax)\n",
    "plt.xlabel(\"PREDICTED LABEL\")\n",
    "plt.ylabel(\"TRUE LABEL\")\n",
    "plt.title(\"Confusion Matrix for Decision Tree Classifier\")\n",
    "plt.show()"
   ]
  },
  {
   "cell_type": "code",
   "execution_count": 487,
   "id": "e32d7e09",
   "metadata": {},
   "outputs": [
    {
     "name": "stdout",
     "output_type": "stream",
     "text": [
      "0.8208579242838635\n",
      "[[5300 1616]\n",
      " [ 873 6105]]\n",
      "              precision    recall  f1-score   support\n",
      "\n",
      "           0       0.86      0.77      0.81      6916\n",
      "           1       0.79      0.87      0.83      6978\n",
      "\n",
      "    accuracy                           0.82     13894\n",
      "   macro avg       0.82      0.82      0.82     13894\n",
      "weighted avg       0.82      0.82      0.82     13894\n",
      "\n"
     ]
    }
   ],
   "source": [
    "# Checking accuracy_score for RandomForestClassifier\n",
    "RFC = RandomForestClassifier()\n",
    "RFC.fit(x_train, y_train)\n",
    "predRFC = RFC.predict(x_test)\n",
    "print(accuracy_score(y_test, predRFC))\n",
    "print(confusion_matrix(y_test, predRFC))\n",
    "print(classification_report(y_test, predRFC))"
   ]
  },
  {
   "cell_type": "code",
   "execution_count": 492,
   "id": "d7d9ed8b",
   "metadata": {},
   "outputs": [
    {
     "data": {
      "image/png": "[encoded data removed]",
      "text/plain": [
       "<Figure size 504x504 with 2 Axes>"
      ]
     },
     "metadata": {
      "needs_background": "light"
     },
     "output_type": "display_data"
    }
   ],
   "source": [
    "# Lets plot confusion matrix for RFC\n",
    "cm = confusion_matrix(y_test, predRFC)\n",
    "#x_axis_labels = [\"0\", \"1\"]\n",
    "#y_axis_labels = [\"0\", \"1\"]\n",
    "f,ax = plt.subplots(figsize = (7, 7))\n",
    "sns.heatmap(cm, annot = True, linewidths = 0.2, linecolor = \"black\", fmt = \".0f\", ax = ax)\n",
    "plt.xlabel(\"PREDICTED LABEL\")\n",
    "plt.ylabel(\"TRUE LABEL\")\n",
    "plt.title(\"Confusion Matrix for RandomForestClassifier\")\n",
    "plt.show()"
   ]
  },
  {
   "cell_type": "code",
   "execution_count": 488,
   "id": "fe392f3d",
   "metadata": {},
   "outputs": [
    {
     "name": "stdout",
     "output_type": "stream",
     "text": [
      "0.5022311789261552\n",
      "[[   0 6916]\n",
      " [   0 6978]]\n",
      "              precision    recall  f1-score   support\n",
      "\n",
      "           0       0.00      0.00      0.00      6916\n",
      "           1       0.50      1.00      0.67      6978\n",
      "\n",
      "    accuracy                           0.50     13894\n",
      "   macro avg       0.25      0.50      0.33     13894\n",
      "weighted avg       0.25      0.50      0.34     13894\n",
      "\n"
     ]
    }
   ],
   "source": [
    "# Checking accuracy_score for LogisticRegression\n",
    "LR = LogisticRegression()\n",
    "LR.fit(x_train, y_train)\n",
    "predLR = LR.predict(x_test)\n",
    "print(accuracy_score(y_test, predLR))\n",
    "print(confusion_matrix(y_test, predLR))\n",
    "print(classification_report(y_test, predLR))"
   ]
  },
  {
   "cell_type": "code",
   "execution_count": 493,
   "id": "25cf2d23",
   "metadata": {},
   "outputs": [
    {
     "data": {
      "image/png": "[encoded data removed]",
      "text/plain": [
       "<Figure size 504x504 with 2 Axes>"
      ]
     },
     "metadata": {
      "needs_background": "light"
     },
     "output_type": "display_data"
    }
   ],
   "source": [
    "# Lets plot confusion matrix for LogisticRegression\n",
    "cm = confusion_matrix(y_test, predLR)\n",
    "#x_axis_labels = [\"0\", \"1\"]\n",
    "#y_axis_labels = [\"0\", \"1\"]\n",
    "f,ax = plt.subplots(figsize = (7, 7))\n",
    "sns.heatmap(cm, annot = True, linewidths = 0.2, linecolor = \"black\", fmt = \".0f\", ax = ax)\n",
    "plt.xlabel(\"PREDICTED LABEL\")\n",
    "plt.ylabel(\"TRUE LABEL\")\n",
    "plt.title(\"Confusion Matrix for LogisticRegression\")\n",
    "plt.show()"
   ]
  },
  {
   "cell_type": "code",
   "execution_count": 489,
   "id": "02967988",
   "metadata": {},
   "outputs": [
    {
     "name": "stdout",
     "output_type": "stream",
     "text": [
      "0.5022311789261552\n",
      "[[   0 6916]\n",
      " [   0 6978]]\n",
      "              precision    recall  f1-score   support\n",
      "\n",
      "           0       0.00      0.00      0.00      6916\n",
      "           1       0.50      1.00      0.67      6978\n",
      "\n",
      "    accuracy                           0.50     13894\n",
      "   macro avg       0.25      0.50      0.33     13894\n",
      "weighted avg       0.25      0.50      0.34     13894\n",
      "\n"
     ]
    }
   ],
   "source": [
    "# checking accuracy_score for KNeighborsClassifier\n",
    "knn = KNN()\n",
    "knn.fit(x_train, y_train)\n",
    "predknn = knn.predict(x_test)\n",
    "print(accuracy_score(y_test, predknn))\n",
    "print(confusion_matrix(y_test, predknn))\n",
    "print(classification_report(y_test, predknn))"
   ]
  },
  {
   "cell_type": "code",
   "execution_count": 494,
   "id": "3a3eef51",
   "metadata": {},
   "outputs": [
    {
     "data": {
      "image/png": "[encoded data removed]",
      "text/plain": [
       "<Figure size 504x504 with 2 Axes>"
      ]
     },
     "metadata": {
      "needs_background": "light"
     },
     "output_type": "display_data"
    }
   ],
   "source": [
    "# Lets plot confusion matrix for KNeighborsClassifier\n",
    "cm = confusion_matrix(y_test, predknn)\n",
    "#x_axis_labels = [\"0\", \"1\"]\n",
    "#y_axis_labels = [\"0\", \"1\"]\n",
    "f,ax = plt.subplots(figsize = (7, 7))\n",
    "sns.heatmap(cm, annot = True, linewidths = 0.2, linecolor = \"black\", fmt = \".0f\", ax = ax)\n",
    "plt.xlabel(\"PREDICTED LABEL\")\n",
    "plt.ylabel(\"TRUE LABEL\")\n",
    "plt.title(\"Confusion Matrix for KNeighborsClassifier\")\n",
    "plt.show()"
   ]
  },
  {
   "cell_type": "code",
   "execution_count": 490,
   "id": "3bc14a6e",
   "metadata": {},
   "outputs": [
    {
     "name": "stdout",
     "output_type": "stream",
     "text": [
      "0.7860227436303441\n",
      "[[4333 2583]\n",
      " [ 390 6588]]\n",
      "              precision    recall  f1-score   support\n",
      "\n",
      "           0       0.92      0.63      0.74      6916\n",
      "           1       0.72      0.94      0.82      6978\n",
      "\n",
      "    accuracy                           0.79     13894\n",
      "   macro avg       0.82      0.79      0.78     13894\n",
      "weighted avg       0.82      0.79      0.78     13894\n",
      "\n"
     ]
    }
   ],
   "source": [
    "# Checking accuracy_score for GradientBoostingClassifier\n",
    "GB = GradientBoostingClassifier()\n",
    "GB.fit(x_train, y_train)\n",
    "predGB = GB.predict(x_test)\n",
    "print(accuracy_score(y_test, predGB))\n",
    "print(confusion_matrix(y_test, predGB))\n",
    "print(classification_report(y_test, predGB))"
   ]
  },
  {
   "cell_type": "code",
   "execution_count": 495,
   "id": "cb96f63c",
   "metadata": {
    "scrolled": true
   },
   "outputs": [
    {
     "data": {
      "image/png": "[encoded data removed]",
      "text/plain": [
       "<Figure size 504x504 with 2 Axes>"
      ]
     },
     "metadata": {
      "needs_background": "light"
     },
     "output_type": "display_data"
    }
   ],
   "source": [
    "# Lets plot confusion matrix for GradientBoostingClassifier\n",
    "cm = confusion_matrix(y_test, predGB)\n",
    "#x_axis_labels = [\"0\", \"1\"]\n",
    "#y_axis_labels = [\"0\", \"1\"]\n",
    "f,ax = plt.subplots(figsize = (7, 7))\n",
    "sns.heatmap(cm, annot = True, linewidths = 0.2, linecolor = \"black\", fmt = \".0f\", ax = ax)\n",
    "plt.xlabel(\"PREDICTED LABEL\")\n",
    "plt.ylabel(\"TRUE LABEL\")\n",
    "plt.title(\"Confusion Matrix for GradientBoostingClassifier\")\n",
    "plt.show()"
   ]
  },
  {
   "cell_type": "markdown",
   "id": "f18b2443",
   "metadata": {},
   "source": [
    "## Checking the validation score"
   ]
  },
  {
   "cell_type": "code",
   "execution_count": 496,
   "id": "965f04da",
   "metadata": {},
   "outputs": [],
   "source": [
    "from sklearn.model_selection import cross_val_score\n"
   ]
  },
  {
   "cell_type": "code",
   "execution_count": 497,
   "id": "6e9d0509",
   "metadata": {},
   "outputs": [
    {
     "name": "stdout",
     "output_type": "stream",
     "text": [
      "0.8508844113007281\n"
     ]
    }
   ],
   "source": [
    "# CV score for Decision Tree Classifier\n",
    "print(cross_val_score(DTC, x, y, cv = 5).mean())"
   ]
  },
  {
   "cell_type": "code",
   "execution_count": 498,
   "id": "3ff6589e",
   "metadata": {},
   "outputs": [
    {
     "name": "stdout",
     "output_type": "stream",
     "text": [
      "0.8823454243941289\n"
     ]
    }
   ],
   "source": [
    "# CV score for Random Forest Classifier\n",
    "print(cross_val_score(RFC, x, y, cv = 5).mean())"
   ]
  },
  {
   "cell_type": "code",
   "execution_count": 499,
   "id": "97d1365e",
   "metadata": {
    "scrolled": true
   },
   "outputs": [
    {
     "name": "stdout",
     "output_type": "stream",
     "text": [
      "0.5870833623078078\n"
     ]
    }
   ],
   "source": [
    "# CV score for Logistic Regression\n",
    "print(cross_val_score(LR, x, y, cv = 5).mean())"
   ]
  },
  {
   "cell_type": "code",
   "execution_count": 500,
   "id": "3a0cc494",
   "metadata": {},
   "outputs": [
    {
     "name": "stdout",
     "output_type": "stream",
     "text": [
      "0.7203537859670359\n"
     ]
    }
   ],
   "source": [
    "# CV score for KNN Classifier\n",
    "print(cross_val_score(knn, x, y, cv = 5).mean())"
   ]
  },
  {
   "cell_type": "code",
   "execution_count": 501,
   "id": "602606c7",
   "metadata": {},
   "outputs": [
    {
     "name": "stdout",
     "output_type": "stream",
     "text": [
      "0.8848496861770112\n"
     ]
    }
   ],
   "source": [
    "# CV score for Gradient Boosting Classifier\n",
    "print(cross_val_score(GB, x, y, cv = 5).mean())"
   ]
  },
  {
   "cell_type": "markdown",
   "id": "4a5d3d2e",
   "metadata": {},
   "source": [
    "The difference between the accuracy score and the CV score of RandomForestClassifier is least i.e 6 percent. So, we can conclude that RandomForestClassifier as best fitting model."
   ]
  },
  {
   "cell_type": "markdown",
   "id": "dd651c35",
   "metadata": {},
   "source": [
    "## Hyperparameter Tuning\n"
   ]
  },
  {
   "cell_type": "code",
   "execution_count": 502,
   "id": "4c898705",
   "metadata": {},
   "outputs": [],
   "source": [
    "from sklearn.model_selection import GridSearchCV\n"
   ]
  },
  {
   "cell_type": "code",
   "execution_count": 503,
   "id": "91d75910",
   "metadata": {},
   "outputs": [],
   "source": [
    "# RandomForestClassifier\n",
    "parameters = {'criterion':[\"gini\", \"entropy\"],\n",
    "             'max_features':['auto', 'sqrt', 'log2'],\n",
    "             'max_depth':[10, 20, 30, 40, 50],\n",
    "             \"min_samples_leaf\":[2, 3, 4, 5, 6]}"
   ]
  },
  {
   "cell_type": "code",
   "execution_count": 504,
   "id": "64d815fd",
   "metadata": {},
   "outputs": [],
   "source": [
    "GCV=GridSearchCV(RandomForestClassifier(), parameters, cv = 5)\n"
   ]
  },
  {
   "cell_type": "code",
   "execution_count": 505,
   "id": "47575eb4",
   "metadata": {},
   "outputs": [
    {
     "data": {
      "text/plain": [
       "GridSearchCV(cv=5, estimator=RandomForestClassifier(),\n",
       "             param_grid={'criterion': ['gini', 'entropy'],\n",
       "                         'max_depth': [10, 20, 30, 40, 50],\n",
       "                         'max_features': ['auto', 'sqrt', 'log2'],\n",
       "                         'min_samples_leaf': [2, 3, 4, 5, 6]})"
      ]
     },
     "execution_count": 505,
     "metadata": {},
     "output_type": "execute_result"
    }
   ],
   "source": [
    "GCV.fit(x_train, y_train)\n"
   ]
  },
  {
   "cell_type": "code",
   "execution_count": 506,
   "id": "bae08b48",
   "metadata": {},
   "outputs": [
    {
     "data": {
      "text/plain": [
       "{'criterion': 'entropy',\n",
       " 'max_depth': 30,\n",
       " 'max_features': 'sqrt',\n",
       " 'min_samples_leaf': 2}"
      ]
     },
     "execution_count": 506,
     "metadata": {},
     "output_type": "execute_result"
    }
   ],
   "source": [
    "GCV.best_params_\n"
   ]
  },
  {
   "cell_type": "code",
   "execution_count": 507,
   "id": "33d71f7f",
   "metadata": {},
   "outputs": [
    {
     "name": "stdout",
     "output_type": "stream",
     "text": [
      "83.89952497480927\n"
     ]
    }
   ],
   "source": [
    "census = RandomForestClassifier(criterion = 'entropy', max_depth = 30, max_features = 'sqrt', min_samples_leaf = 2)\n",
    "census.fit(x_train, y_train)\n",
    "pred = census.predict(x_test)\n",
    "acc=accuracy_score(y_test, pred)\n",
    "print(acc*100)"
   ]
  },
  {
   "cell_type": "markdown",
   "id": "e6afce97",
   "metadata": {},
   "source": [
    "## Plotting ROC and compare AUC for all the models used\n"
   ]
  },
  {
   "cell_type": "code",
   "execution_count": 508,
   "id": "f97b1fd2",
   "metadata": {},
   "outputs": [
    {
     "data": {
      "image/png": "[encoded data removed]",
      "text/plain": [
       "<Figure size 432x288 with 1 Axes>"
      ]
     },
     "metadata": {
      "needs_background": "light"
     },
     "output_type": "display_data"
    }
   ],
   "source": [
    "# Plotting for all the models used here\n",
    "from sklearn import datasets \n",
    "from sklearn import metrics\n",
    "from sklearn import model_selection\n",
    "from sklearn.metrics import plot_roc_curve \n",
    "\n",
    "\n",
    "disp = plot_roc_curve(RFC, x_test, y_test)\n",
    "plot_roc_curve(DTC, x_test, y_test, ax = disp.ax_) \n",
    "plot_roc_curve(LR, x_test, y_test, ax = disp.ax_)\n",
    "plot_roc_curve(knn, x_test, y_test, ax = disp.ax_)\n",
    "plot_roc_curve(GB, x_test, y_test, ax = disp.ax_)\n",
    "\n",
    "plt.legend(prop={'size': 11}, loc = 'lower right')\n",
    "plt.show()"
   ]
  },
  {
   "cell_type": "markdown",
   "id": "1e9edea0",
   "metadata": {},
   "source": [
    "## Plotting ROC and Compare AUC for the best model\n"
   ]
  },
  {
   "cell_type": "code",
   "execution_count": 509,
   "id": "c2419f16",
   "metadata": {},
   "outputs": [
    {
     "data": {
      "image/png": "[encoded data removed]",
      "text/plain": [
       "<Figure size 432x288 with 1 Axes>"
      ]
     },
     "metadata": {
      "needs_background": "light"
     },
     "output_type": "display_data"
    }
   ],
   "source": [
    "# Let's check the Auc for the best model after hyper parameter tuning\n",
    "plot_roc_curve(census, x_test, y_test)\n",
    "plt.title(\"ROC for the best model\")\n",
    "plt.show()"
   ]
  },
  {
   "cell_type": "markdown",
   "id": "230ffd43",
   "metadata": {},
   "source": [
    "The AUC for best model is 0.94"
   ]
  },
  {
   "cell_type": "markdown",
   "id": "e4294751",
   "metadata": {},
   "source": [
    "## Saving The Model\n"
   ]
  },
  {
   "cell_type": "code",
   "execution_count": 510,
   "id": "54fe35bb",
   "metadata": {},
   "outputs": [
    {
     "data": {
      "text/plain": [
       "['Census Income Prediction.pkl']"
      ]
     },
     "execution_count": 510,
     "metadata": {},
     "output_type": "execute_result"
    }
   ],
   "source": [
    "# Saving the model using .pkl\n",
    "import joblib\n",
    "joblib.dump(census,\"Census Income Prediction.pkl\")"
   ]
  },
  {
   "cell_type": "code",
   "execution_count": 511,
   "id": "afa32489",
   "metadata": {},
   "outputs": [],
   "source": [
    "# Loading the saved model\n",
    "model = joblib.load(\"Census Income Prediction.pkl\")"
   ]
  },
  {
   "cell_type": "markdown",
   "id": "f5f0c118",
   "metadata": {},
   "source": [
    "## Predicting the saved model\n"
   ]
  },
  {
   "cell_type": "code",
   "execution_count": 512,
   "id": "7a37b3ec",
   "metadata": {},
   "outputs": [
    {
     "data": {
      "text/html": [
       "<div>\n",
       "<style scoped>\n",
       "    .dataframe tbody tr th:only-of-type {\n",
       "        vertical-align: middle;\n",
       "    }\n",
       "\n",
       "    .dataframe tbody tr th {\n",
       "        vertical-align: top;\n",
       "    }\n",
       "\n",
       "    .dataframe thead th {\n",
       "        text-align: right;\n",
       "    }\n",
       "</style>\n",
       "<table border=\"1\" class=\"dataframe\">\n",
       "  <thead>\n",
       "    <tr style=\"text-align: right;\">\n",
       "      <th></th>\n",
       "      <th>Original</th>\n",
       "      <th>Predicted</th>\n",
       "    </tr>\n",
       "  </thead>\n",
       "  <tbody>\n",
       "    <tr>\n",
       "      <th>0</th>\n",
       "      <td>1</td>\n",
       "      <td>1</td>\n",
       "    </tr>\n",
       "    <tr>\n",
       "      <th>1</th>\n",
       "      <td>0</td>\n",
       "      <td>1</td>\n",
       "    </tr>\n",
       "    <tr>\n",
       "      <th>2</th>\n",
       "      <td>0</td>\n",
       "      <td>0</td>\n",
       "    </tr>\n",
       "    <tr>\n",
       "      <th>3</th>\n",
       "      <td>0</td>\n",
       "      <td>0</td>\n",
       "    </tr>\n",
       "    <tr>\n",
       "      <th>4</th>\n",
       "      <td>0</td>\n",
       "      <td>0</td>\n",
       "    </tr>\n",
       "    <tr>\n",
       "      <th>...</th>\n",
       "      <td>...</td>\n",
       "      <td>...</td>\n",
       "    </tr>\n",
       "    <tr>\n",
       "      <th>13889</th>\n",
       "      <td>0</td>\n",
       "      <td>0</td>\n",
       "    </tr>\n",
       "    <tr>\n",
       "      <th>13890</th>\n",
       "      <td>0</td>\n",
       "      <td>0</td>\n",
       "    </tr>\n",
       "    <tr>\n",
       "      <th>13891</th>\n",
       "      <td>0</td>\n",
       "      <td>0</td>\n",
       "    </tr>\n",
       "    <tr>\n",
       "      <th>13892</th>\n",
       "      <td>1</td>\n",
       "      <td>1</td>\n",
       "    </tr>\n",
       "    <tr>\n",
       "      <th>13893</th>\n",
       "      <td>0</td>\n",
       "      <td>1</td>\n",
       "    </tr>\n",
       "  </tbody>\n",
       "</table>\n",
       "<p>13894 rows × 2 columns</p>\n",
       "</div>"
      ],
      "text/plain": [
       "       Original  Predicted\n",
       "0             1          1\n",
       "1             0          1\n",
       "2             0          0\n",
       "3             0          0\n",
       "4             0          0\n",
       "...         ...        ...\n",
       "13889         0          0\n",
       "13890         0          0\n",
       "13891         0          0\n",
       "13892         1          1\n",
       "13893         0          1\n",
       "\n",
       "[13894 rows x 2 columns]"
      ]
     },
     "execution_count": 512,
     "metadata": {},
     "output_type": "execute_result"
    }
   ],
   "source": [
    "a = np.array(y_test)\n",
    "predicted = np.array(model.predict(x_test))\n",
    "df_final = pd.DataFrame({'Original' : a, 'Predicted' : predicted}, index = range(len(a)))\n",
    "df_final"
   ]
  }
 ],
 "metadata": {
  "kernelspec": {
   "display_name": "Python 3 (ipykernel)",
   "language": "python",
   "name": "python3"
  },
  "language_info": {
   "codemirror_mode": {
    "name": "ipython",
    "version": 3
   },
   "file_extension": ".py",
   "mimetype": "text/x-python",
   "name": "python",
   "nbconvert_exporter": "python",
   "pygments_lexer": "ipython3",
   "version": "3.9.7"
  }
 },
 "nbformat": 4,
 "nbformat_minor": 5
}
