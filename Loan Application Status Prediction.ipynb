{
 "cells": [
  {
   "cell_type": "markdown",
   "id": "113e1d73",
   "metadata": {},
   "source": [
    "# Loan Application Status Prediction\n",
    "### Problem Statement:\n",
    "This dataset includes details of applicants who have applied for loan. The dataset includes details like credit history, loan amount, their income, dependents etc. \n",
    "\n",
    "Independent Variables:\n",
    "\n",
    "- Loan_ID\n",
    "\n",
    "- Gender\n",
    "\n",
    "- Married\n",
    "\n",
    "- Dependents\n",
    "\n",
    "- Education\n",
    "\n",
    "- Self_Employed\n",
    "\n",
    "- ApplicantIncome\n",
    "\n",
    "- CoapplicantIncome\n",
    "\n",
    "- Loan_Amount\n",
    "\n",
    "- Loan_Amount_Term\n",
    "\n",
    "- Credit History\n",
    "\n",
    "- Property_Area\n",
    "\n",
    "Dependent Variable (Target Variable):\n",
    "\n",
    "- Loan_Status\n",
    "\n",
    "You have to build a model that can predict whether the loan of the applicant will be approved or not on the basis of the details provided in the dataset. "
   ]
  },
  {
   "cell_type": "code",
   "execution_count": 1726,
   "id": "b40e53ca",
   "metadata": {},
   "outputs": [],
   "source": [
    "import pandas as pd\n",
    "import warnings\n",
    "warnings.filterwarnings('ignore')\n",
    "import seaborn as sns\n",
    "import matplotlib.pyplot as plt\n",
    "import numpy as np"
   ]
  },
  {
   "cell_type": "code",
   "execution_count": 1727,
   "id": "f73bfc10",
   "metadata": {},
   "outputs": [],
   "source": [
    "df = pd.read_csv(\"loan_prediction.csv\")"
   ]
  },
  {
   "cell_type": "code",
   "execution_count": 1728,
   "id": "26f9b034",
   "metadata": {
    "scrolled": true
   },
   "outputs": [
    {
     "data": {
      "text/html": [
       "<div>\n",
       "<style scoped>\n",
       "    .dataframe tbody tr th:only-of-type {\n",
       "        vertical-align: middle;\n",
       "    }\n",
       "\n",
       "    .dataframe tbody tr th {\n",
       "        vertical-align: top;\n",
       "    }\n",
       "\n",
       "    .dataframe thead th {\n",
       "        text-align: right;\n",
       "    }\n",
       "</style>\n",
       "<table border=\"1\" class=\"dataframe\">\n",
       "  <thead>\n",
       "    <tr style=\"text-align: right;\">\n",
       "      <th></th>\n",
       "      <th>Loan_ID</th>\n",
       "      <th>Gender</th>\n",
       "      <th>Married</th>\n",
       "      <th>Dependents</th>\n",
       "      <th>Education</th>\n",
       "      <th>Self_Employed</th>\n",
       "      <th>ApplicantIncome</th>\n",
       "      <th>CoapplicantIncome</th>\n",
       "      <th>LoanAmount</th>\n",
       "      <th>Loan_Amount_Term</th>\n",
       "      <th>Credit_History</th>\n",
       "      <th>Property_Area</th>\n",
       "      <th>Loan_Status</th>\n",
       "    </tr>\n",
       "  </thead>\n",
       "  <tbody>\n",
       "    <tr>\n",
       "      <th>0</th>\n",
       "      <td>LP001002</td>\n",
       "      <td>Male</td>\n",
       "      <td>No</td>\n",
       "      <td>0</td>\n",
       "      <td>Graduate</td>\n",
       "      <td>No</td>\n",
       "      <td>5849</td>\n",
       "      <td>0.0</td>\n",
       "      <td>NaN</td>\n",
       "      <td>360.0</td>\n",
       "      <td>1.0</td>\n",
       "      <td>Urban</td>\n",
       "      <td>Y</td>\n",
       "    </tr>\n",
       "    <tr>\n",
       "      <th>1</th>\n",
       "      <td>LP001003</td>\n",
       "      <td>Male</td>\n",
       "      <td>Yes</td>\n",
       "      <td>1</td>\n",
       "      <td>Graduate</td>\n",
       "      <td>No</td>\n",
       "      <td>4583</td>\n",
       "      <td>1508.0</td>\n",
       "      <td>128.0</td>\n",
       "      <td>360.0</td>\n",
       "      <td>1.0</td>\n",
       "      <td>Rural</td>\n",
       "      <td>N</td>\n",
       "    </tr>\n",
       "    <tr>\n",
       "      <th>2</th>\n",
       "      <td>LP001005</td>\n",
       "      <td>Male</td>\n",
       "      <td>Yes</td>\n",
       "      <td>0</td>\n",
       "      <td>Graduate</td>\n",
       "      <td>Yes</td>\n",
       "      <td>3000</td>\n",
       "      <td>0.0</td>\n",
       "      <td>66.0</td>\n",
       "      <td>360.0</td>\n",
       "      <td>1.0</td>\n",
       "      <td>Urban</td>\n",
       "      <td>Y</td>\n",
       "    </tr>\n",
       "    <tr>\n",
       "      <th>3</th>\n",
       "      <td>LP001006</td>\n",
       "      <td>Male</td>\n",
       "      <td>Yes</td>\n",
       "      <td>0</td>\n",
       "      <td>Not Graduate</td>\n",
       "      <td>No</td>\n",
       "      <td>2583</td>\n",
       "      <td>2358.0</td>\n",
       "      <td>120.0</td>\n",
       "      <td>360.0</td>\n",
       "      <td>1.0</td>\n",
       "      <td>Urban</td>\n",
       "      <td>Y</td>\n",
       "    </tr>\n",
       "    <tr>\n",
       "      <th>4</th>\n",
       "      <td>LP001008</td>\n",
       "      <td>Male</td>\n",
       "      <td>No</td>\n",
       "      <td>0</td>\n",
       "      <td>Graduate</td>\n",
       "      <td>No</td>\n",
       "      <td>6000</td>\n",
       "      <td>0.0</td>\n",
       "      <td>141.0</td>\n",
       "      <td>360.0</td>\n",
       "      <td>1.0</td>\n",
       "      <td>Urban</td>\n",
       "      <td>Y</td>\n",
       "    </tr>\n",
       "  </tbody>\n",
       "</table>\n",
       "</div>"
      ],
      "text/plain": [
       "    Loan_ID Gender Married Dependents     Education Self_Employed  \\\n",
       "0  LP001002   Male      No          0      Graduate            No   \n",
       "1  LP001003   Male     Yes          1      Graduate            No   \n",
       "2  LP001005   Male     Yes          0      Graduate           Yes   \n",
       "3  LP001006   Male     Yes          0  Not Graduate            No   \n",
       "4  LP001008   Male      No          0      Graduate            No   \n",
       "\n",
       "   ApplicantIncome  CoapplicantIncome  LoanAmount  Loan_Amount_Term  \\\n",
       "0             5849                0.0         NaN             360.0   \n",
       "1             4583             1508.0       128.0             360.0   \n",
       "2             3000                0.0        66.0             360.0   \n",
       "3             2583             2358.0       120.0             360.0   \n",
       "4             6000                0.0       141.0             360.0   \n",
       "\n",
       "   Credit_History Property_Area Loan_Status  \n",
       "0             1.0         Urban           Y  \n",
       "1             1.0         Rural           N  \n",
       "2             1.0         Urban           Y  \n",
       "3             1.0         Urban           Y  \n",
       "4             1.0         Urban           Y  "
      ]
     },
     "execution_count": 1728,
     "metadata": {},
     "output_type": "execute_result"
    }
   ],
   "source": [
    "df.head()"
   ]
  },
  {
   "cell_type": "code",
   "execution_count": 1729,
   "id": "79c69abf",
   "metadata": {
    "scrolled": true
   },
   "outputs": [
    {
     "data": {
      "text/plain": [
       "(614, 13)"
      ]
     },
     "execution_count": 1729,
     "metadata": {},
     "output_type": "execute_result"
    }
   ],
   "source": [
    "df.shape"
   ]
  },
  {
   "cell_type": "code",
   "execution_count": 1730,
   "id": "00df66e7",
   "metadata": {},
   "outputs": [
    {
     "name": "stdout",
     "output_type": "stream",
     "text": [
      "<class 'pandas.core.frame.DataFrame'>\n",
      "RangeIndex: 614 entries, 0 to 613\n",
      "Data columns (total 13 columns):\n",
      " #   Column             Non-Null Count  Dtype  \n",
      "---  ------             --------------  -----  \n",
      " 0   Loan_ID            614 non-null    object \n",
      " 1   Gender             601 non-null    object \n",
      " 2   Married            611 non-null    object \n",
      " 3   Dependents         599 non-null    object \n",
      " 4   Education          614 non-null    object \n",
      " 5   Self_Employed      582 non-null    object \n",
      " 6   ApplicantIncome    614 non-null    int64  \n",
      " 7   CoapplicantIncome  614 non-null    float64\n",
      " 8   LoanAmount         592 non-null    float64\n",
      " 9   Loan_Amount_Term   600 non-null    float64\n",
      " 10  Credit_History     564 non-null    float64\n",
      " 11  Property_Area      614 non-null    object \n",
      " 12  Loan_Status        614 non-null    object \n",
      "dtypes: float64(4), int64(1), object(8)\n",
      "memory usage: 62.5+ KB\n"
     ]
    }
   ],
   "source": [
    "df.info()"
   ]
  },
  {
   "cell_type": "code",
   "execution_count": 1731,
   "id": "df8776c0",
   "metadata": {},
   "outputs": [
    {
     "data": {
      "text/plain": [
       "Loan_ID               0\n",
       "Gender               13\n",
       "Married               3\n",
       "Dependents           15\n",
       "Education             0\n",
       "Self_Employed        32\n",
       "ApplicantIncome       0\n",
       "CoapplicantIncome     0\n",
       "LoanAmount           22\n",
       "Loan_Amount_Term     14\n",
       "Credit_History       50\n",
       "Property_Area         0\n",
       "Loan_Status           0\n",
       "dtype: int64"
      ]
     },
     "execution_count": 1731,
     "metadata": {},
     "output_type": "execute_result"
    }
   ],
   "source": [
    "df.isnull().sum()"
   ]
  },
  {
   "cell_type": "markdown",
   "id": "c4c32e3a",
   "metadata": {},
   "source": [
    "This dataframe contains a lot of null values.So we will use imputation techniques to treat this."
   ]
  },
  {
   "cell_type": "code",
   "execution_count": 1732,
   "id": "85dcfaf1",
   "metadata": {},
   "outputs": [
    {
     "data": {
      "text/html": [
       "<div>\n",
       "<style scoped>\n",
       "    .dataframe tbody tr th:only-of-type {\n",
       "        vertical-align: middle;\n",
       "    }\n",
       "\n",
       "    .dataframe tbody tr th {\n",
       "        vertical-align: top;\n",
       "    }\n",
       "\n",
       "    .dataframe thead th {\n",
       "        text-align: right;\n",
       "    }\n",
       "</style>\n",
       "<table border=\"1\" class=\"dataframe\">\n",
       "  <thead>\n",
       "    <tr style=\"text-align: right;\">\n",
       "      <th></th>\n",
       "      <th>ApplicantIncome</th>\n",
       "      <th>CoapplicantIncome</th>\n",
       "      <th>LoanAmount</th>\n",
       "      <th>Loan_Amount_Term</th>\n",
       "      <th>Credit_History</th>\n",
       "    </tr>\n",
       "  </thead>\n",
       "  <tbody>\n",
       "    <tr>\n",
       "      <th>count</th>\n",
       "      <td>614.000000</td>\n",
       "      <td>614.000000</td>\n",
       "      <td>592.000000</td>\n",
       "      <td>600.00000</td>\n",
       "      <td>564.000000</td>\n",
       "    </tr>\n",
       "    <tr>\n",
       "      <th>mean</th>\n",
       "      <td>5403.459283</td>\n",
       "      <td>1621.245798</td>\n",
       "      <td>146.412162</td>\n",
       "      <td>342.00000</td>\n",
       "      <td>0.842199</td>\n",
       "    </tr>\n",
       "    <tr>\n",
       "      <th>std</th>\n",
       "      <td>6109.041673</td>\n",
       "      <td>2926.248369</td>\n",
       "      <td>85.587325</td>\n",
       "      <td>65.12041</td>\n",
       "      <td>0.364878</td>\n",
       "    </tr>\n",
       "    <tr>\n",
       "      <th>min</th>\n",
       "      <td>150.000000</td>\n",
       "      <td>0.000000</td>\n",
       "      <td>9.000000</td>\n",
       "      <td>12.00000</td>\n",
       "      <td>0.000000</td>\n",
       "    </tr>\n",
       "    <tr>\n",
       "      <th>25%</th>\n",
       "      <td>2877.500000</td>\n",
       "      <td>0.000000</td>\n",
       "      <td>100.000000</td>\n",
       "      <td>360.00000</td>\n",
       "      <td>1.000000</td>\n",
       "    </tr>\n",
       "    <tr>\n",
       "      <th>50%</th>\n",
       "      <td>3812.500000</td>\n",
       "      <td>1188.500000</td>\n",
       "      <td>128.000000</td>\n",
       "      <td>360.00000</td>\n",
       "      <td>1.000000</td>\n",
       "    </tr>\n",
       "    <tr>\n",
       "      <th>75%</th>\n",
       "      <td>5795.000000</td>\n",
       "      <td>2297.250000</td>\n",
       "      <td>168.000000</td>\n",
       "      <td>360.00000</td>\n",
       "      <td>1.000000</td>\n",
       "    </tr>\n",
       "    <tr>\n",
       "      <th>max</th>\n",
       "      <td>81000.000000</td>\n",
       "      <td>41667.000000</td>\n",
       "      <td>700.000000</td>\n",
       "      <td>480.00000</td>\n",
       "      <td>1.000000</td>\n",
       "    </tr>\n",
       "  </tbody>\n",
       "</table>\n",
       "</div>"
      ],
      "text/plain": [
       "       ApplicantIncome  CoapplicantIncome  LoanAmount  Loan_Amount_Term  \\\n",
       "count       614.000000         614.000000  592.000000         600.00000   \n",
       "mean       5403.459283        1621.245798  146.412162         342.00000   \n",
       "std        6109.041673        2926.248369   85.587325          65.12041   \n",
       "min         150.000000           0.000000    9.000000          12.00000   \n",
       "25%        2877.500000           0.000000  100.000000         360.00000   \n",
       "50%        3812.500000        1188.500000  128.000000         360.00000   \n",
       "75%        5795.000000        2297.250000  168.000000         360.00000   \n",
       "max       81000.000000       41667.000000  700.000000         480.00000   \n",
       "\n",
       "       Credit_History  \n",
       "count      564.000000  \n",
       "mean         0.842199  \n",
       "std          0.364878  \n",
       "min          0.000000  \n",
       "25%          1.000000  \n",
       "50%          1.000000  \n",
       "75%          1.000000  \n",
       "max          1.000000  "
      ]
     },
     "execution_count": 1732,
     "metadata": {},
     "output_type": "execute_result"
    }
   ],
   "source": [
    "df.describe()"
   ]
  },
  {
   "cell_type": "markdown",
   "id": "7b4d6d79",
   "metadata": {},
   "source": [
    "- Applicantincome,CoapplicantIncome is skwed right\n",
    "- LoanAmount is skewed left\n",
    "- Credit_History is skewed strongly left .\n",
    "- Loan_Amount_Term has outlier after 50th percentile"
   ]
  },
  {
   "cell_type": "code",
   "execution_count": 1733,
   "id": "0dd06a27",
   "metadata": {},
   "outputs": [],
   "source": [
    "# Removing irrelevant Features\n",
    "# has nothing to do with the Loan_Status\n",
    "df.drop('Loan_ID',axis=1,inplace=True)"
   ]
  },
  {
   "cell_type": "code",
   "execution_count": 1734,
   "id": "51f2892a",
   "metadata": {
    "scrolled": true
   },
   "outputs": [
    {
     "name": "stdout",
     "output_type": "stream",
     "text": [
      "---- Gender ---\n",
      "Male      489\n",
      "Female    112\n",
      "Name: Gender, dtype: int64\n",
      "---- Married ---\n",
      "Yes    398\n",
      "No     213\n",
      "Name: Married, dtype: int64\n",
      "---- Dependents ---\n",
      "0     345\n",
      "1     102\n",
      "2     101\n",
      "3+     51\n",
      "Name: Dependents, dtype: int64\n",
      "---- Education ---\n",
      "Graduate        480\n",
      "Not Graduate    134\n",
      "Name: Education, dtype: int64\n",
      "---- Self_Employed ---\n",
      "No     500\n",
      "Yes     82\n",
      "Name: Self_Employed, dtype: int64\n",
      "---- ApplicantIncome ---\n",
      "2500    9\n",
      "4583    6\n",
      "6000    6\n",
      "2600    6\n",
      "3333    5\n",
      "       ..\n",
      "3244    1\n",
      "4408    1\n",
      "3917    1\n",
      "3992    1\n",
      "7583    1\n",
      "Name: ApplicantIncome, Length: 505, dtype: int64\n",
      "---- CoapplicantIncome ---\n",
      "0.0       273\n",
      "2500.0      5\n",
      "2083.0      5\n",
      "1666.0      5\n",
      "2250.0      3\n",
      "         ... \n",
      "2791.0      1\n",
      "1010.0      1\n",
      "1695.0      1\n",
      "2598.0      1\n",
      "240.0       1\n",
      "Name: CoapplicantIncome, Length: 287, dtype: int64\n",
      "---- LoanAmount ---\n",
      "120.0    20\n",
      "110.0    17\n",
      "100.0    15\n",
      "160.0    12\n",
      "187.0    12\n",
      "         ..\n",
      "240.0     1\n",
      "214.0     1\n",
      "59.0      1\n",
      "166.0     1\n",
      "253.0     1\n",
      "Name: LoanAmount, Length: 203, dtype: int64\n",
      "---- Loan_Amount_Term ---\n",
      "360.0    512\n",
      "180.0     44\n",
      "480.0     15\n",
      "300.0     13\n",
      "240.0      4\n",
      "84.0       4\n",
      "120.0      3\n",
      "60.0       2\n",
      "36.0       2\n",
      "12.0       1\n",
      "Name: Loan_Amount_Term, dtype: int64\n",
      "---- Credit_History ---\n",
      "1.0    475\n",
      "0.0     89\n",
      "Name: Credit_History, dtype: int64\n",
      "---- Property_Area ---\n",
      "Semiurban    233\n",
      "Urban        202\n",
      "Rural        179\n",
      "Name: Property_Area, dtype: int64\n",
      "---- Loan_Status ---\n",
      "Y    422\n",
      "N    192\n",
      "Name: Loan_Status, dtype: int64\n"
     ]
    }
   ],
   "source": [
    "for c in df.columns:\n",
    "    print (\"---- %s ---\" % c)\n",
    "    print (df[c].value_counts())"
   ]
  },
  {
   "cell_type": "markdown",
   "id": "8be371d1",
   "metadata": {},
   "source": [
    "- Property_Area  has 3 unique value"
   ]
  },
  {
   "cell_type": "markdown",
   "id": "bae74406",
   "metadata": {},
   "source": [
    "## Imputting the Data"
   ]
  },
  {
   "cell_type": "code",
   "execution_count": 1735,
   "id": "27b8161d",
   "metadata": {},
   "outputs": [],
   "source": [
    "from sklearn.experimental import enable_iterative_imputer\n",
    "from sklearn.impute import IterativeImputer"
   ]
  },
  {
   "cell_type": "code",
   "execution_count": 1736,
   "id": "e449027c",
   "metadata": {},
   "outputs": [],
   "source": [
    "iterativeimp = IterativeImputer()"
   ]
  },
  {
   "cell_type": "code",
   "execution_count": null,
   "id": "113b4766",
   "metadata": {},
   "outputs": [],
   "source": []
  },
  {
   "cell_type": "code",
   "execution_count": 1737,
   "id": "4961745c",
   "metadata": {},
   "outputs": [],
   "source": [
    "from sklearn.preprocessing import OneHotEncoder\n",
    "from sklearn.impute import SimpleImputer\n",
    "from sklearn.compose import make_column_transformer\n",
    "from sklearn.preprocessing import LabelEncoder"
   ]
  },
  {
   "cell_type": "code",
   "execution_count": 1738,
   "id": "91d25663",
   "metadata": {},
   "outputs": [
    {
     "data": {
      "text/plain": [
       "Index(['Gender', 'Married', 'Dependents', 'Education', 'Self_Employed',\n",
       "       'Property_Area', 'Loan_Status'],\n",
       "      dtype='object')"
      ]
     },
     "execution_count": 1738,
     "metadata": {},
     "output_type": "execute_result"
    }
   ],
   "source": [
    "categorical_columns = df.select_dtypes(include = \"object\").columns\n",
    "categorical_columns"
   ]
  },
  {
   "cell_type": "code",
   "execution_count": 1739,
   "id": "d3307dcf",
   "metadata": {},
   "outputs": [
    {
     "data": {
      "text/plain": [
       "Index(['ApplicantIncome', 'CoapplicantIncome', 'LoanAmount',\n",
       "       'Loan_Amount_Term', 'Credit_History'],\n",
       "      dtype='object')"
      ]
     },
     "execution_count": 1739,
     "metadata": {},
     "output_type": "execute_result"
    }
   ],
   "source": [
    "numerical_columns = df.select_dtypes(exclude = \"object\").columns\n",
    "numerical_columns"
   ]
  },
  {
   "cell_type": "code",
   "execution_count": 1740,
   "id": "96c5885a",
   "metadata": {},
   "outputs": [
    {
     "name": "stdout",
     "output_type": "stream",
     "text": [
      "<class 'pandas.core.frame.DataFrame'>\n",
      "RangeIndex: 614 entries, 0 to 613\n",
      "Data columns (total 12 columns):\n",
      " #   Column             Non-Null Count  Dtype  \n",
      "---  ------             --------------  -----  \n",
      " 0   Gender             601 non-null    object \n",
      " 1   Married            611 non-null    object \n",
      " 2   Dependents         599 non-null    object \n",
      " 3   Education          614 non-null    object \n",
      " 4   Self_Employed      582 non-null    object \n",
      " 5   ApplicantIncome    614 non-null    int64  \n",
      " 6   CoapplicantIncome  614 non-null    float64\n",
      " 7   LoanAmount         592 non-null    float64\n",
      " 8   Loan_Amount_Term   600 non-null    float64\n",
      " 9   Credit_History     564 non-null    float64\n",
      " 10  Property_Area      614 non-null    object \n",
      " 11  Loan_Status        614 non-null    object \n",
      "dtypes: float64(4), int64(1), object(7)\n",
      "memory usage: 57.7+ KB\n"
     ]
    }
   ],
   "source": [
    "df.info()"
   ]
  },
  {
   "cell_type": "code",
   "execution_count": 1741,
   "id": "8c0fac01",
   "metadata": {},
   "outputs": [],
   "source": [
    "\n",
    "\n",
    "# Encode Categorical Columns\n",
    "le = LabelEncoder()\n",
    "df[categorical_columns] = df[categorical_columns].apply(le.fit_transform)"
   ]
  },
  {
   "cell_type": "code",
   "execution_count": 1742,
   "id": "066dc1ee",
   "metadata": {},
   "outputs": [
    {
     "data": {
      "text/html": [
       "<div>\n",
       "<style scoped>\n",
       "    .dataframe tbody tr th:only-of-type {\n",
       "        vertical-align: middle;\n",
       "    }\n",
       "\n",
       "    .dataframe tbody tr th {\n",
       "        vertical-align: top;\n",
       "    }\n",
       "\n",
       "    .dataframe thead th {\n",
       "        text-align: right;\n",
       "    }\n",
       "</style>\n",
       "<table border=\"1\" class=\"dataframe\">\n",
       "  <thead>\n",
       "    <tr style=\"text-align: right;\">\n",
       "      <th></th>\n",
       "      <th>Gender</th>\n",
       "      <th>Married</th>\n",
       "      <th>Dependents</th>\n",
       "      <th>Education</th>\n",
       "      <th>Self_Employed</th>\n",
       "      <th>ApplicantIncome</th>\n",
       "      <th>CoapplicantIncome</th>\n",
       "      <th>LoanAmount</th>\n",
       "      <th>Loan_Amount_Term</th>\n",
       "      <th>Credit_History</th>\n",
       "      <th>Property_Area</th>\n",
       "      <th>Loan_Status</th>\n",
       "    </tr>\n",
       "  </thead>\n",
       "  <tbody>\n",
       "    <tr>\n",
       "      <th>0</th>\n",
       "      <td>1</td>\n",
       "      <td>0</td>\n",
       "      <td>0</td>\n",
       "      <td>0</td>\n",
       "      <td>0</td>\n",
       "      <td>5849</td>\n",
       "      <td>0.0</td>\n",
       "      <td>NaN</td>\n",
       "      <td>360.0</td>\n",
       "      <td>1.0</td>\n",
       "      <td>2</td>\n",
       "      <td>1</td>\n",
       "    </tr>\n",
       "    <tr>\n",
       "      <th>1</th>\n",
       "      <td>1</td>\n",
       "      <td>1</td>\n",
       "      <td>1</td>\n",
       "      <td>0</td>\n",
       "      <td>0</td>\n",
       "      <td>4583</td>\n",
       "      <td>1508.0</td>\n",
       "      <td>128.0</td>\n",
       "      <td>360.0</td>\n",
       "      <td>1.0</td>\n",
       "      <td>0</td>\n",
       "      <td>0</td>\n",
       "    </tr>\n",
       "    <tr>\n",
       "      <th>2</th>\n",
       "      <td>1</td>\n",
       "      <td>1</td>\n",
       "      <td>0</td>\n",
       "      <td>0</td>\n",
       "      <td>1</td>\n",
       "      <td>3000</td>\n",
       "      <td>0.0</td>\n",
       "      <td>66.0</td>\n",
       "      <td>360.0</td>\n",
       "      <td>1.0</td>\n",
       "      <td>2</td>\n",
       "      <td>1</td>\n",
       "    </tr>\n",
       "    <tr>\n",
       "      <th>3</th>\n",
       "      <td>1</td>\n",
       "      <td>1</td>\n",
       "      <td>0</td>\n",
       "      <td>1</td>\n",
       "      <td>0</td>\n",
       "      <td>2583</td>\n",
       "      <td>2358.0</td>\n",
       "      <td>120.0</td>\n",
       "      <td>360.0</td>\n",
       "      <td>1.0</td>\n",
       "      <td>2</td>\n",
       "      <td>1</td>\n",
       "    </tr>\n",
       "    <tr>\n",
       "      <th>4</th>\n",
       "      <td>1</td>\n",
       "      <td>0</td>\n",
       "      <td>0</td>\n",
       "      <td>0</td>\n",
       "      <td>0</td>\n",
       "      <td>6000</td>\n",
       "      <td>0.0</td>\n",
       "      <td>141.0</td>\n",
       "      <td>360.0</td>\n",
       "      <td>1.0</td>\n",
       "      <td>2</td>\n",
       "      <td>1</td>\n",
       "    </tr>\n",
       "    <tr>\n",
       "      <th>...</th>\n",
       "      <td>...</td>\n",
       "      <td>...</td>\n",
       "      <td>...</td>\n",
       "      <td>...</td>\n",
       "      <td>...</td>\n",
       "      <td>...</td>\n",
       "      <td>...</td>\n",
       "      <td>...</td>\n",
       "      <td>...</td>\n",
       "      <td>...</td>\n",
       "      <td>...</td>\n",
       "      <td>...</td>\n",
       "    </tr>\n",
       "    <tr>\n",
       "      <th>609</th>\n",
       "      <td>0</td>\n",
       "      <td>0</td>\n",
       "      <td>0</td>\n",
       "      <td>0</td>\n",
       "      <td>0</td>\n",
       "      <td>2900</td>\n",
       "      <td>0.0</td>\n",
       "      <td>71.0</td>\n",
       "      <td>360.0</td>\n",
       "      <td>1.0</td>\n",
       "      <td>0</td>\n",
       "      <td>1</td>\n",
       "    </tr>\n",
       "    <tr>\n",
       "      <th>610</th>\n",
       "      <td>1</td>\n",
       "      <td>1</td>\n",
       "      <td>3</td>\n",
       "      <td>0</td>\n",
       "      <td>0</td>\n",
       "      <td>4106</td>\n",
       "      <td>0.0</td>\n",
       "      <td>40.0</td>\n",
       "      <td>180.0</td>\n",
       "      <td>1.0</td>\n",
       "      <td>0</td>\n",
       "      <td>1</td>\n",
       "    </tr>\n",
       "    <tr>\n",
       "      <th>611</th>\n",
       "      <td>1</td>\n",
       "      <td>1</td>\n",
       "      <td>1</td>\n",
       "      <td>0</td>\n",
       "      <td>0</td>\n",
       "      <td>8072</td>\n",
       "      <td>240.0</td>\n",
       "      <td>253.0</td>\n",
       "      <td>360.0</td>\n",
       "      <td>1.0</td>\n",
       "      <td>2</td>\n",
       "      <td>1</td>\n",
       "    </tr>\n",
       "    <tr>\n",
       "      <th>612</th>\n",
       "      <td>1</td>\n",
       "      <td>1</td>\n",
       "      <td>2</td>\n",
       "      <td>0</td>\n",
       "      <td>0</td>\n",
       "      <td>7583</td>\n",
       "      <td>0.0</td>\n",
       "      <td>187.0</td>\n",
       "      <td>360.0</td>\n",
       "      <td>1.0</td>\n",
       "      <td>2</td>\n",
       "      <td>1</td>\n",
       "    </tr>\n",
       "    <tr>\n",
       "      <th>613</th>\n",
       "      <td>0</td>\n",
       "      <td>0</td>\n",
       "      <td>0</td>\n",
       "      <td>0</td>\n",
       "      <td>1</td>\n",
       "      <td>4583</td>\n",
       "      <td>0.0</td>\n",
       "      <td>133.0</td>\n",
       "      <td>360.0</td>\n",
       "      <td>0.0</td>\n",
       "      <td>1</td>\n",
       "      <td>0</td>\n",
       "    </tr>\n",
       "  </tbody>\n",
       "</table>\n",
       "<p>614 rows × 12 columns</p>\n",
       "</div>"
      ],
      "text/plain": [
       "     Gender  Married  Dependents  Education  Self_Employed  ApplicantIncome  \\\n",
       "0         1        0           0          0              0             5849   \n",
       "1         1        1           1          0              0             4583   \n",
       "2         1        1           0          0              1             3000   \n",
       "3         1        1           0          1              0             2583   \n",
       "4         1        0           0          0              0             6000   \n",
       "..      ...      ...         ...        ...            ...              ...   \n",
       "609       0        0           0          0              0             2900   \n",
       "610       1        1           3          0              0             4106   \n",
       "611       1        1           1          0              0             8072   \n",
       "612       1        1           2          0              0             7583   \n",
       "613       0        0           0          0              1             4583   \n",
       "\n",
       "     CoapplicantIncome  LoanAmount  Loan_Amount_Term  Credit_History  \\\n",
       "0                  0.0         NaN             360.0             1.0   \n",
       "1               1508.0       128.0             360.0             1.0   \n",
       "2                  0.0        66.0             360.0             1.0   \n",
       "3               2358.0       120.0             360.0             1.0   \n",
       "4                  0.0       141.0             360.0             1.0   \n",
       "..                 ...         ...               ...             ...   \n",
       "609                0.0        71.0             360.0             1.0   \n",
       "610                0.0        40.0             180.0             1.0   \n",
       "611              240.0       253.0             360.0             1.0   \n",
       "612                0.0       187.0             360.0             1.0   \n",
       "613                0.0       133.0             360.0             0.0   \n",
       "\n",
       "     Property_Area  Loan_Status  \n",
       "0                2            1  \n",
       "1                0            0  \n",
       "2                2            1  \n",
       "3                2            1  \n",
       "4                2            1  \n",
       "..             ...          ...  \n",
       "609              0            1  \n",
       "610              0            1  \n",
       "611              2            1  \n",
       "612              2            1  \n",
       "613              1            0  \n",
       "\n",
       "[614 rows x 12 columns]"
      ]
     },
     "execution_count": 1742,
     "metadata": {},
     "output_type": "execute_result"
    }
   ],
   "source": [
    "df"
   ]
  },
  {
   "cell_type": "code",
   "execution_count": 1743,
   "id": "29fd40b9",
   "metadata": {},
   "outputs": [],
   "source": [
    "df.iloc[:] = iterativeimp.fit_transform(df)"
   ]
  },
  {
   "cell_type": "code",
   "execution_count": 1744,
   "id": "ad934fa9",
   "metadata": {},
   "outputs": [
    {
     "data": {
      "text/plain": [
       "Gender               0\n",
       "Married              0\n",
       "Dependents           0\n",
       "Education            0\n",
       "Self_Employed        0\n",
       "ApplicantIncome      0\n",
       "CoapplicantIncome    0\n",
       "LoanAmount           0\n",
       "Loan_Amount_Term     0\n",
       "Credit_History       0\n",
       "Property_Area        0\n",
       "Loan_Status          0\n",
       "dtype: int64"
      ]
     },
     "execution_count": 1744,
     "metadata": {},
     "output_type": "execute_result"
    }
   ],
   "source": [
    "df.isna().sum()"
   ]
  },
  {
   "cell_type": "code",
   "execution_count": 1745,
   "id": "d2768a0d",
   "metadata": {},
   "outputs": [],
   "source": [
    "import category_encoders as ce\n",
    "\n",
    "encoder= ce.BinaryEncoder(cols=['Property_Area'])\n",
    "\n",
    "df = encoder.fit_transform(df)"
   ]
  },
  {
   "cell_type": "markdown",
   "id": "e928e1e6",
   "metadata": {},
   "source": [
    "- null values are treated"
   ]
  },
  {
   "cell_type": "code",
   "execution_count": 1746,
   "id": "91287760",
   "metadata": {},
   "outputs": [
    {
     "data": {
      "text/html": [
       "<div>\n",
       "<style scoped>\n",
       "    .dataframe tbody tr th:only-of-type {\n",
       "        vertical-align: middle;\n",
       "    }\n",
       "\n",
       "    .dataframe tbody tr th {\n",
       "        vertical-align: top;\n",
       "    }\n",
       "\n",
       "    .dataframe thead th {\n",
       "        text-align: right;\n",
       "    }\n",
       "</style>\n",
       "<table border=\"1\" class=\"dataframe\">\n",
       "  <thead>\n",
       "    <tr style=\"text-align: right;\">\n",
       "      <th></th>\n",
       "      <th>Gender</th>\n",
       "      <th>Married</th>\n",
       "      <th>Dependents</th>\n",
       "      <th>Education</th>\n",
       "      <th>Self_Employed</th>\n",
       "      <th>ApplicantIncome</th>\n",
       "      <th>CoapplicantIncome</th>\n",
       "      <th>LoanAmount</th>\n",
       "      <th>Loan_Amount_Term</th>\n",
       "      <th>Credit_History</th>\n",
       "      <th>Property_Area_0</th>\n",
       "      <th>Property_Area_1</th>\n",
       "      <th>Loan_Status</th>\n",
       "    </tr>\n",
       "  </thead>\n",
       "  <tbody>\n",
       "    <tr>\n",
       "      <th>0</th>\n",
       "      <td>1.0</td>\n",
       "      <td>0.0</td>\n",
       "      <td>0.0</td>\n",
       "      <td>0.0</td>\n",
       "      <td>0.0</td>\n",
       "      <td>5849.0</td>\n",
       "      <td>0.0</td>\n",
       "      <td>138.15929</td>\n",
       "      <td>360.0</td>\n",
       "      <td>1.0</td>\n",
       "      <td>0</td>\n",
       "      <td>1</td>\n",
       "      <td>1.0</td>\n",
       "    </tr>\n",
       "    <tr>\n",
       "      <th>1</th>\n",
       "      <td>1.0</td>\n",
       "      <td>1.0</td>\n",
       "      <td>1.0</td>\n",
       "      <td>0.0</td>\n",
       "      <td>0.0</td>\n",
       "      <td>4583.0</td>\n",
       "      <td>1508.0</td>\n",
       "      <td>128.00000</td>\n",
       "      <td>360.0</td>\n",
       "      <td>1.0</td>\n",
       "      <td>1</td>\n",
       "      <td>0</td>\n",
       "      <td>0.0</td>\n",
       "    </tr>\n",
       "    <tr>\n",
       "      <th>2</th>\n",
       "      <td>1.0</td>\n",
       "      <td>1.0</td>\n",
       "      <td>0.0</td>\n",
       "      <td>0.0</td>\n",
       "      <td>1.0</td>\n",
       "      <td>3000.0</td>\n",
       "      <td>0.0</td>\n",
       "      <td>66.00000</td>\n",
       "      <td>360.0</td>\n",
       "      <td>1.0</td>\n",
       "      <td>0</td>\n",
       "      <td>1</td>\n",
       "      <td>1.0</td>\n",
       "    </tr>\n",
       "    <tr>\n",
       "      <th>3</th>\n",
       "      <td>1.0</td>\n",
       "      <td>1.0</td>\n",
       "      <td>0.0</td>\n",
       "      <td>1.0</td>\n",
       "      <td>0.0</td>\n",
       "      <td>2583.0</td>\n",
       "      <td>2358.0</td>\n",
       "      <td>120.00000</td>\n",
       "      <td>360.0</td>\n",
       "      <td>1.0</td>\n",
       "      <td>0</td>\n",
       "      <td>1</td>\n",
       "      <td>1.0</td>\n",
       "    </tr>\n",
       "    <tr>\n",
       "      <th>4</th>\n",
       "      <td>1.0</td>\n",
       "      <td>0.0</td>\n",
       "      <td>0.0</td>\n",
       "      <td>0.0</td>\n",
       "      <td>0.0</td>\n",
       "      <td>6000.0</td>\n",
       "      <td>0.0</td>\n",
       "      <td>141.00000</td>\n",
       "      <td>360.0</td>\n",
       "      <td>1.0</td>\n",
       "      <td>0</td>\n",
       "      <td>1</td>\n",
       "      <td>1.0</td>\n",
       "    </tr>\n",
       "  </tbody>\n",
       "</table>\n",
       "</div>"
      ],
      "text/plain": [
       "   Gender  Married  Dependents  Education  Self_Employed  ApplicantIncome  \\\n",
       "0     1.0      0.0         0.0        0.0            0.0           5849.0   \n",
       "1     1.0      1.0         1.0        0.0            0.0           4583.0   \n",
       "2     1.0      1.0         0.0        0.0            1.0           3000.0   \n",
       "3     1.0      1.0         0.0        1.0            0.0           2583.0   \n",
       "4     1.0      0.0         0.0        0.0            0.0           6000.0   \n",
       "\n",
       "   CoapplicantIncome  LoanAmount  Loan_Amount_Term  Credit_History  \\\n",
       "0                0.0   138.15929             360.0             1.0   \n",
       "1             1508.0   128.00000             360.0             1.0   \n",
       "2                0.0    66.00000             360.0             1.0   \n",
       "3             2358.0   120.00000             360.0             1.0   \n",
       "4                0.0   141.00000             360.0             1.0   \n",
       "\n",
       "   Property_Area_0  Property_Area_1  Loan_Status  \n",
       "0                0                1          1.0  \n",
       "1                1                0          0.0  \n",
       "2                0                1          1.0  \n",
       "3                0                1          1.0  \n",
       "4                0                1          1.0  "
      ]
     },
     "execution_count": 1746,
     "metadata": {},
     "output_type": "execute_result"
    }
   ],
   "source": [
    "df.head()"
   ]
  },
  {
   "cell_type": "markdown",
   "id": "db10469b",
   "metadata": {},
   "source": [
    "# checking the Distribution"
   ]
  },
  {
   "cell_type": "code",
   "execution_count": 1747,
   "id": "4b7a28c0",
   "metadata": {},
   "outputs": [
    {
     "data": {
      "image/png": "[encoded data removed]",
      "text/plain": [
       "<Figure size 1440x1800 with 5 Axes>"
      ]
     },
     "metadata": {},
     "output_type": "display_data"
    }
   ],
   "source": [
    "# Checking how the data has been distributed in each column\n",
    "plt.figure(figsize = (20, 25), facecolor = 'white')\n",
    "plotnumber = 1\n",
    "for column in numerical_columns:\n",
    "    if plotnumber<=9:\n",
    "        ax = plt.subplot(3, 3, plotnumber)\n",
    "        sns.distplot(df[column], color = 'indigo')\n",
    "        plt.xlabel(column, fontsize = 20)  \n",
    "    plotnumber+=1\n",
    "plt.tight_layout()"
   ]
  },
  {
   "cell_type": "markdown",
   "id": "51161ade",
   "metadata": {},
   "source": [
    "From the above distribution plot we can observe\n",
    "\n",
    "The data is not normally distributed in any of the columns.\n",
    "\n",
    "The mean value is greater than the median in ApplicantIncome, CoapplicantIncome, LoanAmount and which means they are skewed to right.\n",
    "\n",
    "The median is greater than the mean in Loan_Amount_Term and Credit_History columns which means they are skewed to left. We will remove these skewness using appropriate methods in the later part."
   ]
  },
  {
   "cell_type": "markdown",
   "id": "4233d40e",
   "metadata": {},
   "source": [
    "## Identifying the outlier"
   ]
  },
  {
   "cell_type": "code",
   "execution_count": 1748,
   "id": "2340a103",
   "metadata": {
    "scrolled": true
   },
   "outputs": [
    {
     "data": {
      "image/png": "[encoded data removed]",
      "text/plain": [
       "<Figure size 720x720 with 5 Axes>"
      ]
     },
     "metadata": {},
     "output_type": "display_data"
    }
   ],
   "source": [
    "# Identifying the outliers present in numerical columns using boxplot\n",
    "\n",
    "plt.figure(figsize = (10, 10), facecolor = 'white')\n",
    "plotnumber = 1\n",
    "for column in numerical_columns:\n",
    "    if plotnumber <= 9:\n",
    "        ax = plt.subplot(3, 3, plotnumber)\n",
    "        sns.boxplot(df[column], color = 'darkorange')\n",
    "        plt.xlabel(column, fontsize = 12)\n",
    "        \n",
    "    plotnumber += 1\n",
    "    \n",
    "plt.tight_layout()"
   ]
  },
  {
   "cell_type": "markdown",
   "id": "4d93aec3",
   "metadata": {},
   "source": [
    "As we can see there are all the features have outliers present.\n",
    "\n",
    "There are a lot of useful information in the outliers"
   ]
  },
  {
   "cell_type": "markdown",
   "id": "329521d5",
   "metadata": {},
   "source": [
    "## Zscore method "
   ]
  },
  {
   "cell_type": "code",
   "execution_count": 1749,
   "id": "d3bb5abc",
   "metadata": {},
   "outputs": [
    {
     "data": {
      "text/html": [
       "<div>\n",
       "<style scoped>\n",
       "    .dataframe tbody tr th:only-of-type {\n",
       "        vertical-align: middle;\n",
       "    }\n",
       "\n",
       "    .dataframe tbody tr th {\n",
       "        vertical-align: top;\n",
       "    }\n",
       "\n",
       "    .dataframe thead th {\n",
       "        text-align: right;\n",
       "    }\n",
       "</style>\n",
       "<table border=\"1\" class=\"dataframe\">\n",
       "  <thead>\n",
       "    <tr style=\"text-align: right;\">\n",
       "      <th></th>\n",
       "      <th>ApplicantIncome</th>\n",
       "      <th>CoapplicantIncome</th>\n",
       "      <th>LoanAmount</th>\n",
       "      <th>Loan_Amount_Term</th>\n",
       "    </tr>\n",
       "  </thead>\n",
       "  <tbody>\n",
       "    <tr>\n",
       "      <th>0</th>\n",
       "      <td>0.072991</td>\n",
       "      <td>0.554487</td>\n",
       "      <td>0.096047</td>\n",
       "      <td>0.279663</td>\n",
       "    </tr>\n",
       "    <tr>\n",
       "      <th>1</th>\n",
       "      <td>0.134412</td>\n",
       "      <td>0.038732</td>\n",
       "      <td>0.216680</td>\n",
       "      <td>0.279663</td>\n",
       "    </tr>\n",
       "    <tr>\n",
       "      <th>2</th>\n",
       "      <td>0.393747</td>\n",
       "      <td>0.554487</td>\n",
       "      <td>0.952878</td>\n",
       "      <td>0.279663</td>\n",
       "    </tr>\n",
       "    <tr>\n",
       "      <th>3</th>\n",
       "      <td>0.462062</td>\n",
       "      <td>0.251980</td>\n",
       "      <td>0.311674</td>\n",
       "      <td>0.279663</td>\n",
       "    </tr>\n",
       "    <tr>\n",
       "      <th>4</th>\n",
       "      <td>0.097728</td>\n",
       "      <td>0.554487</td>\n",
       "      <td>0.062316</td>\n",
       "      <td>0.279663</td>\n",
       "    </tr>\n",
       "    <tr>\n",
       "      <th>...</th>\n",
       "      <td>...</td>\n",
       "      <td>...</td>\n",
       "      <td>...</td>\n",
       "      <td>...</td>\n",
       "    </tr>\n",
       "    <tr>\n",
       "      <th>609</th>\n",
       "      <td>0.410130</td>\n",
       "      <td>0.554487</td>\n",
       "      <td>0.893507</td>\n",
       "      <td>0.279663</td>\n",
       "    </tr>\n",
       "    <tr>\n",
       "      <th>610</th>\n",
       "      <td>0.212557</td>\n",
       "      <td>0.554487</td>\n",
       "      <td>1.261606</td>\n",
       "      <td>2.518816</td>\n",
       "    </tr>\n",
       "    <tr>\n",
       "      <th>611</th>\n",
       "      <td>0.437174</td>\n",
       "      <td>0.472404</td>\n",
       "      <td>1.267589</td>\n",
       "      <td>0.279663</td>\n",
       "    </tr>\n",
       "    <tr>\n",
       "      <th>612</th>\n",
       "      <td>0.357064</td>\n",
       "      <td>0.554487</td>\n",
       "      <td>0.483895</td>\n",
       "      <td>0.279663</td>\n",
       "    </tr>\n",
       "    <tr>\n",
       "      <th>613</th>\n",
       "      <td>0.134412</td>\n",
       "      <td>0.554487</td>\n",
       "      <td>0.157310</td>\n",
       "      <td>0.279663</td>\n",
       "    </tr>\n",
       "  </tbody>\n",
       "</table>\n",
       "<p>614 rows × 4 columns</p>\n",
       "</div>"
      ],
      "text/plain": [
       "     ApplicantIncome  CoapplicantIncome  LoanAmount  Loan_Amount_Term\n",
       "0           0.072991           0.554487    0.096047          0.279663\n",
       "1           0.134412           0.038732    0.216680          0.279663\n",
       "2           0.393747           0.554487    0.952878          0.279663\n",
       "3           0.462062           0.251980    0.311674          0.279663\n",
       "4           0.097728           0.554487    0.062316          0.279663\n",
       "..               ...                ...         ...               ...\n",
       "609         0.410130           0.554487    0.893507          0.279663\n",
       "610         0.212557           0.554487    1.261606          2.518816\n",
       "611         0.437174           0.472404    1.267589          0.279663\n",
       "612         0.357064           0.554487    0.483895          0.279663\n",
       "613         0.134412           0.554487    0.157310          0.279663\n",
       "\n",
       "[614 rows x 4 columns]"
      ]
     },
     "execution_count": 1749,
     "metadata": {},
     "output_type": "execute_result"
    }
   ],
   "source": [
    "# Numerical columns containing outliers\n",
    "features = df[['ApplicantIncome', 'CoapplicantIncome', 'LoanAmount', 'Loan_Amount_Term']]\n",
    "from scipy.stats import zscore\n",
    "z = np.abs(zscore(features))\n",
    "z\n",
    "#features['ApplicantIncome']"
   ]
  },
  {
   "cell_type": "code",
   "execution_count": 1750,
   "id": "9c1ac111",
   "metadata": {},
   "outputs": [
    {
     "data": {
      "text/html": [
       "<div>\n",
       "<style scoped>\n",
       "    .dataframe tbody tr th:only-of-type {\n",
       "        vertical-align: middle;\n",
       "    }\n",
       "\n",
       "    .dataframe tbody tr th {\n",
       "        vertical-align: top;\n",
       "    }\n",
       "\n",
       "    .dataframe thead th {\n",
       "        text-align: right;\n",
       "    }\n",
       "</style>\n",
       "<table border=\"1\" class=\"dataframe\">\n",
       "  <thead>\n",
       "    <tr style=\"text-align: right;\">\n",
       "      <th></th>\n",
       "      <th>Gender</th>\n",
       "      <th>Married</th>\n",
       "      <th>Dependents</th>\n",
       "      <th>Education</th>\n",
       "      <th>Self_Employed</th>\n",
       "      <th>ApplicantIncome</th>\n",
       "      <th>CoapplicantIncome</th>\n",
       "      <th>LoanAmount</th>\n",
       "      <th>Loan_Amount_Term</th>\n",
       "      <th>Credit_History</th>\n",
       "      <th>Property_Area_0</th>\n",
       "      <th>Property_Area_1</th>\n",
       "      <th>Loan_Status</th>\n",
       "    </tr>\n",
       "  </thead>\n",
       "  <tbody>\n",
       "    <tr>\n",
       "      <th>0</th>\n",
       "      <td>1.0</td>\n",
       "      <td>0.0</td>\n",
       "      <td>0.0</td>\n",
       "      <td>0.0</td>\n",
       "      <td>0.0</td>\n",
       "      <td>5849.0</td>\n",
       "      <td>0.0</td>\n",
       "      <td>138.15929</td>\n",
       "      <td>360.0</td>\n",
       "      <td>1.0</td>\n",
       "      <td>0</td>\n",
       "      <td>1</td>\n",
       "      <td>1.0</td>\n",
       "    </tr>\n",
       "    <tr>\n",
       "      <th>1</th>\n",
       "      <td>1.0</td>\n",
       "      <td>1.0</td>\n",
       "      <td>1.0</td>\n",
       "      <td>0.0</td>\n",
       "      <td>0.0</td>\n",
       "      <td>4583.0</td>\n",
       "      <td>1508.0</td>\n",
       "      <td>128.00000</td>\n",
       "      <td>360.0</td>\n",
       "      <td>1.0</td>\n",
       "      <td>1</td>\n",
       "      <td>0</td>\n",
       "      <td>0.0</td>\n",
       "    </tr>\n",
       "    <tr>\n",
       "      <th>2</th>\n",
       "      <td>1.0</td>\n",
       "      <td>1.0</td>\n",
       "      <td>0.0</td>\n",
       "      <td>0.0</td>\n",
       "      <td>1.0</td>\n",
       "      <td>3000.0</td>\n",
       "      <td>0.0</td>\n",
       "      <td>66.00000</td>\n",
       "      <td>360.0</td>\n",
       "      <td>1.0</td>\n",
       "      <td>0</td>\n",
       "      <td>1</td>\n",
       "      <td>1.0</td>\n",
       "    </tr>\n",
       "    <tr>\n",
       "      <th>3</th>\n",
       "      <td>1.0</td>\n",
       "      <td>1.0</td>\n",
       "      <td>0.0</td>\n",
       "      <td>1.0</td>\n",
       "      <td>0.0</td>\n",
       "      <td>2583.0</td>\n",
       "      <td>2358.0</td>\n",
       "      <td>120.00000</td>\n",
       "      <td>360.0</td>\n",
       "      <td>1.0</td>\n",
       "      <td>0</td>\n",
       "      <td>1</td>\n",
       "      <td>1.0</td>\n",
       "    </tr>\n",
       "    <tr>\n",
       "      <th>4</th>\n",
       "      <td>1.0</td>\n",
       "      <td>0.0</td>\n",
       "      <td>0.0</td>\n",
       "      <td>0.0</td>\n",
       "      <td>0.0</td>\n",
       "      <td>6000.0</td>\n",
       "      <td>0.0</td>\n",
       "      <td>141.00000</td>\n",
       "      <td>360.0</td>\n",
       "      <td>1.0</td>\n",
       "      <td>0</td>\n",
       "      <td>1</td>\n",
       "      <td>1.0</td>\n",
       "    </tr>\n",
       "    <tr>\n",
       "      <th>...</th>\n",
       "      <td>...</td>\n",
       "      <td>...</td>\n",
       "      <td>...</td>\n",
       "      <td>...</td>\n",
       "      <td>...</td>\n",
       "      <td>...</td>\n",
       "      <td>...</td>\n",
       "      <td>...</td>\n",
       "      <td>...</td>\n",
       "      <td>...</td>\n",
       "      <td>...</td>\n",
       "      <td>...</td>\n",
       "      <td>...</td>\n",
       "    </tr>\n",
       "    <tr>\n",
       "      <th>609</th>\n",
       "      <td>0.0</td>\n",
       "      <td>0.0</td>\n",
       "      <td>0.0</td>\n",
       "      <td>0.0</td>\n",
       "      <td>0.0</td>\n",
       "      <td>2900.0</td>\n",
       "      <td>0.0</td>\n",
       "      <td>71.00000</td>\n",
       "      <td>360.0</td>\n",
       "      <td>1.0</td>\n",
       "      <td>1</td>\n",
       "      <td>0</td>\n",
       "      <td>1.0</td>\n",
       "    </tr>\n",
       "    <tr>\n",
       "      <th>610</th>\n",
       "      <td>1.0</td>\n",
       "      <td>1.0</td>\n",
       "      <td>3.0</td>\n",
       "      <td>0.0</td>\n",
       "      <td>0.0</td>\n",
       "      <td>4106.0</td>\n",
       "      <td>0.0</td>\n",
       "      <td>40.00000</td>\n",
       "      <td>180.0</td>\n",
       "      <td>1.0</td>\n",
       "      <td>1</td>\n",
       "      <td>0</td>\n",
       "      <td>1.0</td>\n",
       "    </tr>\n",
       "    <tr>\n",
       "      <th>611</th>\n",
       "      <td>1.0</td>\n",
       "      <td>1.0</td>\n",
       "      <td>1.0</td>\n",
       "      <td>0.0</td>\n",
       "      <td>0.0</td>\n",
       "      <td>8072.0</td>\n",
       "      <td>240.0</td>\n",
       "      <td>253.00000</td>\n",
       "      <td>360.0</td>\n",
       "      <td>1.0</td>\n",
       "      <td>0</td>\n",
       "      <td>1</td>\n",
       "      <td>1.0</td>\n",
       "    </tr>\n",
       "    <tr>\n",
       "      <th>612</th>\n",
       "      <td>1.0</td>\n",
       "      <td>1.0</td>\n",
       "      <td>2.0</td>\n",
       "      <td>0.0</td>\n",
       "      <td>0.0</td>\n",
       "      <td>7583.0</td>\n",
       "      <td>0.0</td>\n",
       "      <td>187.00000</td>\n",
       "      <td>360.0</td>\n",
       "      <td>1.0</td>\n",
       "      <td>0</td>\n",
       "      <td>1</td>\n",
       "      <td>1.0</td>\n",
       "    </tr>\n",
       "    <tr>\n",
       "      <th>613</th>\n",
       "      <td>0.0</td>\n",
       "      <td>0.0</td>\n",
       "      <td>0.0</td>\n",
       "      <td>0.0</td>\n",
       "      <td>1.0</td>\n",
       "      <td>4583.0</td>\n",
       "      <td>0.0</td>\n",
       "      <td>133.00000</td>\n",
       "      <td>360.0</td>\n",
       "      <td>0.0</td>\n",
       "      <td>1</td>\n",
       "      <td>1</td>\n",
       "      <td>0.0</td>\n",
       "    </tr>\n",
       "  </tbody>\n",
       "</table>\n",
       "<p>577 rows × 13 columns</p>\n",
       "</div>"
      ],
      "text/plain": [
       "     Gender  Married  Dependents  Education  Self_Employed  ApplicantIncome  \\\n",
       "0       1.0      0.0         0.0        0.0            0.0           5849.0   \n",
       "1       1.0      1.0         1.0        0.0            0.0           4583.0   \n",
       "2       1.0      1.0         0.0        0.0            1.0           3000.0   \n",
       "3       1.0      1.0         0.0        1.0            0.0           2583.0   \n",
       "4       1.0      0.0         0.0        0.0            0.0           6000.0   \n",
       "..      ...      ...         ...        ...            ...              ...   \n",
       "609     0.0      0.0         0.0        0.0            0.0           2900.0   \n",
       "610     1.0      1.0         3.0        0.0            0.0           4106.0   \n",
       "611     1.0      1.0         1.0        0.0            0.0           8072.0   \n",
       "612     1.0      1.0         2.0        0.0            0.0           7583.0   \n",
       "613     0.0      0.0         0.0        0.0            1.0           4583.0   \n",
       "\n",
       "     CoapplicantIncome  LoanAmount  Loan_Amount_Term  Credit_History  \\\n",
       "0                  0.0   138.15929             360.0             1.0   \n",
       "1               1508.0   128.00000             360.0             1.0   \n",
       "2                  0.0    66.00000             360.0             1.0   \n",
       "3               2358.0   120.00000             360.0             1.0   \n",
       "4                  0.0   141.00000             360.0             1.0   \n",
       "..                 ...         ...               ...             ...   \n",
       "609                0.0    71.00000             360.0             1.0   \n",
       "610                0.0    40.00000             180.0             1.0   \n",
       "611              240.0   253.00000             360.0             1.0   \n",
       "612                0.0   187.00000             360.0             1.0   \n",
       "613                0.0   133.00000             360.0             0.0   \n",
       "\n",
       "     Property_Area_0  Property_Area_1  Loan_Status  \n",
       "0                  0                1          1.0  \n",
       "1                  1                0          0.0  \n",
       "2                  0                1          1.0  \n",
       "3                  0                1          1.0  \n",
       "4                  0                1          1.0  \n",
       "..               ...              ...          ...  \n",
       "609                1                0          1.0  \n",
       "610                1                0          1.0  \n",
       "611                0                1          1.0  \n",
       "612                0                1          1.0  \n",
       "613                1                1          0.0  \n",
       "\n",
       "[577 rows x 13 columns]"
      ]
     },
     "execution_count": 1750,
     "metadata": {},
     "output_type": "execute_result"
    }
   ],
   "source": [
    "# Creating new dataframe\n",
    "new_df = df[(z<3).all(axis = 1)]\n",
    "new_df"
   ]
  },
  {
   "cell_type": "code",
   "execution_count": 1751,
   "id": "51066f63",
   "metadata": {},
   "outputs": [
    {
     "data": {
      "text/plain": [
       "(577, 13)"
      ]
     },
     "execution_count": 1751,
     "metadata": {},
     "output_type": "execute_result"
    }
   ],
   "source": [
    "new_df.shape"
   ]
  },
  {
   "cell_type": "code",
   "execution_count": 1752,
   "id": "8a75f247",
   "metadata": {},
   "outputs": [
    {
     "data": {
      "text/plain": [
       "(614, 13)"
      ]
     },
     "execution_count": 1752,
     "metadata": {},
     "output_type": "execute_result"
    }
   ],
   "source": [
    "df.shape"
   ]
  },
  {
   "cell_type": "code",
   "execution_count": 1753,
   "id": "368fb60e",
   "metadata": {},
   "outputs": [
    {
     "data": {
      "text/plain": [
       "6.026058631921824"
      ]
     },
     "execution_count": 1753,
     "metadata": {},
     "output_type": "execute_result"
    }
   ],
   "source": [
    "(614-577)/614*100"
   ]
  },
  {
   "cell_type": "markdown",
   "id": "d484ee7d",
   "metadata": {},
   "source": [
    "We can afford to loose 6 percent of the data."
   ]
  },
  {
   "cell_type": "markdown",
   "id": "2631eba7",
   "metadata": {},
   "source": [
    "## Removing Skewness"
   ]
  },
  {
   "cell_type": "markdown",
   "id": "b08b4c1f",
   "metadata": {},
   "source": [
    "- Credit_History is a binary feature so we will not transform it"
   ]
  },
  {
   "cell_type": "code",
   "execution_count": 1754,
   "id": "7d1f655c",
   "metadata": {},
   "outputs": [
    {
     "data": {
      "text/plain": [
       "\"\\nparameters:\\nmethod = 'box-cox' or 'yeo-johnson'\\n\""
      ]
     },
     "execution_count": 1754,
     "metadata": {},
     "output_type": "execute_result"
    }
   ],
   "source": [
    "# Removing skewness using yeo-johnson method\n",
    "skew = ['ApplicantIncome', 'CoapplicantIncome', 'LoanAmount','Loan_Amount_Term']\n",
    "\n",
    "from sklearn.preprocessing import PowerTransformer\n",
    "scaler = PowerTransformer(method = 'yeo-johnson')\n",
    "'''\n",
    "parameters:\n",
    "method = 'box-cox' or 'yeo-johnson'\n",
    "'''"
   ]
  },
  {
   "cell_type": "code",
   "execution_count": 1755,
   "id": "4fac302a",
   "metadata": {},
   "outputs": [
    {
     "data": {
      "text/html": [
       "<div>\n",
       "<style scoped>\n",
       "    .dataframe tbody tr th:only-of-type {\n",
       "        vertical-align: middle;\n",
       "    }\n",
       "\n",
       "    .dataframe tbody tr th {\n",
       "        vertical-align: top;\n",
       "    }\n",
       "\n",
       "    .dataframe thead th {\n",
       "        text-align: right;\n",
       "    }\n",
       "</style>\n",
       "<table border=\"1\" class=\"dataframe\">\n",
       "  <thead>\n",
       "    <tr style=\"text-align: right;\">\n",
       "      <th></th>\n",
       "      <th>ApplicantIncome</th>\n",
       "      <th>CoapplicantIncome</th>\n",
       "      <th>LoanAmount</th>\n",
       "      <th>Loan_Amount_Term</th>\n",
       "    </tr>\n",
       "  </thead>\n",
       "  <tbody>\n",
       "    <tr>\n",
       "      <th>0</th>\n",
       "      <td>0.681780</td>\n",
       "      <td>-1.122446</td>\n",
       "      <td>0.177805</td>\n",
       "      <td>0.142283</td>\n",
       "    </tr>\n",
       "    <tr>\n",
       "      <th>1</th>\n",
       "      <td>0.234783</td>\n",
       "      <td>0.744117</td>\n",
       "      <td>-0.007978</td>\n",
       "      <td>0.142283</td>\n",
       "    </tr>\n",
       "    <tr>\n",
       "      <th>2</th>\n",
       "      <td>-0.527201</td>\n",
       "      <td>-1.122446</td>\n",
       "      <td>-1.435892</td>\n",
       "      <td>0.142283</td>\n",
       "    </tr>\n",
       "    <tr>\n",
       "      <th>3</th>\n",
       "      <td>-0.791972</td>\n",
       "      <td>0.895786</td>\n",
       "      <td>-0.161343</td>\n",
       "      <td>0.142283</td>\n",
       "    </tr>\n",
       "    <tr>\n",
       "      <th>4</th>\n",
       "      <td>0.728848</td>\n",
       "      <td>-1.122446</td>\n",
       "      <td>0.228109</td>\n",
       "      <td>0.142283</td>\n",
       "    </tr>\n",
       "  </tbody>\n",
       "</table>\n",
       "</div>"
      ],
      "text/plain": [
       "   ApplicantIncome  CoapplicantIncome  LoanAmount  Loan_Amount_Term\n",
       "0         0.681780          -1.122446    0.177805          0.142283\n",
       "1         0.234783           0.744117   -0.007978          0.142283\n",
       "2        -0.527201          -1.122446   -1.435892          0.142283\n",
       "3        -0.791972           0.895786   -0.161343          0.142283\n",
       "4         0.728848          -1.122446    0.228109          0.142283"
      ]
     },
     "execution_count": 1755,
     "metadata": {},
     "output_type": "execute_result"
    }
   ],
   "source": [
    "new_df[skew] = scaler.fit_transform(new_df[skew].values)\n",
    "new_df[skew].head()"
   ]
  },
  {
   "cell_type": "code",
   "execution_count": 1756,
   "id": "03658748",
   "metadata": {},
   "outputs": [
    {
     "data": {
      "text/plain": [
       "ApplicantIncome      0.027981\n",
       "CoapplicantIncome   -0.191876\n",
       "LoanAmount           0.045673\n",
       "Loan_Amount_Term     0.718900\n",
       "Credit_History      -1.885336\n",
       "dtype: float64"
      ]
     },
     "execution_count": 1756,
     "metadata": {},
     "output_type": "execute_result"
    }
   ],
   "source": [
    "new_df[numerical_columns].skew()"
   ]
  },
  {
   "cell_type": "markdown",
   "id": "189ee75a",
   "metadata": {},
   "source": [
    "Skewness has been removed"
   ]
  },
  {
   "cell_type": "markdown",
   "id": "2f36f38d",
   "metadata": {},
   "source": [
    "# checking the distribution now\n"
   ]
  },
  {
   "cell_type": "code",
   "execution_count": 1757,
   "id": "7e26fab9",
   "metadata": {},
   "outputs": [
    {
     "name": "stderr",
     "output_type": "stream",
     "text": [
      "Exception ignored in: <function WeakMethod.__new__.<locals>._cb at 0x000001E1B9C9A3A0>\n",
      "Traceback (most recent call last):\n",
      "  File \"D:\\Users\\avina\\anaconda3_new\\lib\\weakref.py\", line 57, in _cb\n",
      "    self = self_wr()\n",
      "KeyboardInterrupt: \n"
     ]
    },
    {
     "data": {
      "image/png": "[encoded data removed]",
      "text/plain": [
       "<Figure size 1440x1800 with 5 Axes>"
      ]
     },
     "metadata": {},
     "output_type": "display_data"
    }
   ],
   "source": [
    "\n",
    "# Checking how the data has been distributed in each column\n",
    "plt.figure(figsize = (20, 25), facecolor = 'white')\n",
    "plotnumber = 1\n",
    "for column in numerical_columns:\n",
    "    if plotnumber<=9:\n",
    "        ax = plt.subplot(3, 3, plotnumber)\n",
    "        sns.distplot(new_df[column], color = 'indigo')\n",
    "        plt.xlabel(column, fontsize = 20)  \n",
    "    plotnumber+=1\n",
    "plt.tight_layout()"
   ]
  },
  {
   "cell_type": "markdown",
   "id": "d7383eaf",
   "metadata": {},
   "source": [
    "The data is almost normal also we have removed the skewness that we can notice in the above dist plot."
   ]
  },
  {
   "cell_type": "code",
   "execution_count": 1758,
   "id": "bcd9baf2",
   "metadata": {},
   "outputs": [
    {
     "data": {
      "image/png": "[encoded data removed]",
      "text/plain": [
       "<Figure size 720x576 with 2 Axes>"
      ]
     },
     "metadata": {
      "needs_background": "light"
     },
     "output_type": "display_data"
    }
   ],
   "source": [
    "import seaborn as sns\n",
    "\n",
    "plt.figure(figsize = (10, 8))  \n",
    "# plotting correlation heatmap\n",
    "dataplot = sns.heatmap(new_df.corr(), cmap=\"YlGnBu\", annot=True)\n"
   ]
  },
  {
   "cell_type": "code",
   "execution_count": 1759,
   "id": "662e078e",
   "metadata": {},
   "outputs": [],
   "source": [
    "# with the following function we can select highly correlated features\n",
    "# it will remove the first feature that is correlated with anything other feature\n",
    "\n",
    "def correlation(dataset, threshold):\n",
    "    col_corr = set()  # Set of all the names of correlated columns\n",
    "    corr_matrix = dataset.corr()\n",
    "    for i in range(len(corr_matrix.columns)):\n",
    "        for j in range(i):\n",
    "            if abs(corr_matrix.iloc[i, j]) > threshold: # we are interested in absolute coeff value\n",
    "                colname = corr_matrix.columns[i]  # getting the name of column\n",
    "                col_corr.add(colname)\n",
    "    return col_corr"
   ]
  },
  {
   "cell_type": "code",
   "execution_count": 1760,
   "id": "26f24860",
   "metadata": {},
   "outputs": [
    {
     "data": {
      "text/plain": [
       "0"
      ]
     },
     "execution_count": 1760,
     "metadata": {},
     "output_type": "execute_result"
    }
   ],
   "source": [
    "corr_features = correlation(new_df, 0.7)\n",
    "len(set(corr_features))"
   ]
  },
  {
   "cell_type": "markdown",
   "id": "ef99d488",
   "metadata": {},
   "source": [
    "- No Two features are highly coorelated"
   ]
  },
  {
   "cell_type": "code",
   "execution_count": 1761,
   "id": "17c59e51",
   "metadata": {},
   "outputs": [
    {
     "data": {
      "text/html": [
       "<div>\n",
       "<style scoped>\n",
       "    .dataframe tbody tr th:only-of-type {\n",
       "        vertical-align: middle;\n",
       "    }\n",
       "\n",
       "    .dataframe tbody tr th {\n",
       "        vertical-align: top;\n",
       "    }\n",
       "\n",
       "    .dataframe thead th {\n",
       "        text-align: right;\n",
       "    }\n",
       "</style>\n",
       "<table border=\"1\" class=\"dataframe\">\n",
       "  <thead>\n",
       "    <tr style=\"text-align: right;\">\n",
       "      <th></th>\n",
       "      <th>Gender</th>\n",
       "      <th>Married</th>\n",
       "      <th>Dependents</th>\n",
       "      <th>Education</th>\n",
       "      <th>Self_Employed</th>\n",
       "      <th>Property_Area_0</th>\n",
       "      <th>Property_Area_1</th>\n",
       "    </tr>\n",
       "  </thead>\n",
       "  <tbody>\n",
       "    <tr>\n",
       "      <th>0</th>\n",
       "      <td>1.0</td>\n",
       "      <td>0.0</td>\n",
       "      <td>0.0</td>\n",
       "      <td>0.0</td>\n",
       "      <td>0.0</td>\n",
       "      <td>0</td>\n",
       "      <td>1</td>\n",
       "    </tr>\n",
       "    <tr>\n",
       "      <th>1</th>\n",
       "      <td>1.0</td>\n",
       "      <td>1.0</td>\n",
       "      <td>1.0</td>\n",
       "      <td>0.0</td>\n",
       "      <td>0.0</td>\n",
       "      <td>1</td>\n",
       "      <td>0</td>\n",
       "    </tr>\n",
       "    <tr>\n",
       "      <th>2</th>\n",
       "      <td>1.0</td>\n",
       "      <td>1.0</td>\n",
       "      <td>0.0</td>\n",
       "      <td>0.0</td>\n",
       "      <td>1.0</td>\n",
       "      <td>0</td>\n",
       "      <td>1</td>\n",
       "    </tr>\n",
       "    <tr>\n",
       "      <th>3</th>\n",
       "      <td>1.0</td>\n",
       "      <td>1.0</td>\n",
       "      <td>0.0</td>\n",
       "      <td>1.0</td>\n",
       "      <td>0.0</td>\n",
       "      <td>0</td>\n",
       "      <td>1</td>\n",
       "    </tr>\n",
       "    <tr>\n",
       "      <th>4</th>\n",
       "      <td>1.0</td>\n",
       "      <td>0.0</td>\n",
       "      <td>0.0</td>\n",
       "      <td>0.0</td>\n",
       "      <td>0.0</td>\n",
       "      <td>0</td>\n",
       "      <td>1</td>\n",
       "    </tr>\n",
       "    <tr>\n",
       "      <th>...</th>\n",
       "      <td>...</td>\n",
       "      <td>...</td>\n",
       "      <td>...</td>\n",
       "      <td>...</td>\n",
       "      <td>...</td>\n",
       "      <td>...</td>\n",
       "      <td>...</td>\n",
       "    </tr>\n",
       "    <tr>\n",
       "      <th>609</th>\n",
       "      <td>0.0</td>\n",
       "      <td>0.0</td>\n",
       "      <td>0.0</td>\n",
       "      <td>0.0</td>\n",
       "      <td>0.0</td>\n",
       "      <td>1</td>\n",
       "      <td>0</td>\n",
       "    </tr>\n",
       "    <tr>\n",
       "      <th>610</th>\n",
       "      <td>1.0</td>\n",
       "      <td>1.0</td>\n",
       "      <td>3.0</td>\n",
       "      <td>0.0</td>\n",
       "      <td>0.0</td>\n",
       "      <td>1</td>\n",
       "      <td>0</td>\n",
       "    </tr>\n",
       "    <tr>\n",
       "      <th>611</th>\n",
       "      <td>1.0</td>\n",
       "      <td>1.0</td>\n",
       "      <td>1.0</td>\n",
       "      <td>0.0</td>\n",
       "      <td>0.0</td>\n",
       "      <td>0</td>\n",
       "      <td>1</td>\n",
       "    </tr>\n",
       "    <tr>\n",
       "      <th>612</th>\n",
       "      <td>1.0</td>\n",
       "      <td>1.0</td>\n",
       "      <td>2.0</td>\n",
       "      <td>0.0</td>\n",
       "      <td>0.0</td>\n",
       "      <td>0</td>\n",
       "      <td>1</td>\n",
       "    </tr>\n",
       "    <tr>\n",
       "      <th>613</th>\n",
       "      <td>0.0</td>\n",
       "      <td>0.0</td>\n",
       "      <td>0.0</td>\n",
       "      <td>0.0</td>\n",
       "      <td>1.0</td>\n",
       "      <td>1</td>\n",
       "      <td>1</td>\n",
       "    </tr>\n",
       "  </tbody>\n",
       "</table>\n",
       "<p>577 rows × 7 columns</p>\n",
       "</div>"
      ],
      "text/plain": [
       "     Gender  Married  Dependents  Education  Self_Employed  Property_Area_0  \\\n",
       "0       1.0      0.0         0.0        0.0            0.0                0   \n",
       "1       1.0      1.0         1.0        0.0            0.0                1   \n",
       "2       1.0      1.0         0.0        0.0            1.0                0   \n",
       "3       1.0      1.0         0.0        1.0            0.0                0   \n",
       "4       1.0      0.0         0.0        0.0            0.0                0   \n",
       "..      ...      ...         ...        ...            ...              ...   \n",
       "609     0.0      0.0         0.0        0.0            0.0                1   \n",
       "610     1.0      1.0         3.0        0.0            0.0                1   \n",
       "611     1.0      1.0         1.0        0.0            0.0                0   \n",
       "612     1.0      1.0         2.0        0.0            0.0                0   \n",
       "613     0.0      0.0         0.0        0.0            1.0                1   \n",
       "\n",
       "     Property_Area_1  \n",
       "0                  1  \n",
       "1                  0  \n",
       "2                  1  \n",
       "3                  1  \n",
       "4                  1  \n",
       "..               ...  \n",
       "609                0  \n",
       "610                0  \n",
       "611                1  \n",
       "612                1  \n",
       "613                1  \n",
       "\n",
       "[577 rows x 7 columns]"
      ]
     },
     "execution_count": 1761,
     "metadata": {},
     "output_type": "execute_result"
    }
   ],
   "source": [
    "new_df[cat_col]"
   ]
  },
  {
   "cell_type": "code",
   "execution_count": 1762,
   "id": "5a9738bf",
   "metadata": {},
   "outputs": [
    {
     "data": {
      "text/plain": [
       "Gender              -0.991250\n",
       "Married             -0.517759\n",
       "Dependents           1.134133\n",
       "Education            1.306588\n",
       "Self_Employed        2.274082\n",
       "ApplicantIncome      0.027981\n",
       "CoapplicantIncome   -0.191876\n",
       "LoanAmount           0.045673\n",
       "Loan_Amount_Term     0.718900\n",
       "Credit_History      -1.885336\n",
       "Property_Area_0     -0.736780\n",
       "Property_Area_1     -0.894207\n",
       "Loan_Status         -0.822635\n",
       "dtype: float64"
      ]
     },
     "execution_count": 1762,
     "metadata": {},
     "output_type": "execute_result"
    }
   ],
   "source": [
    "new_df.skew()"
   ]
  },
  {
   "cell_type": "code",
   "execution_count": null,
   "id": "accd1f6a",
   "metadata": {},
   "outputs": [],
   "source": []
  },
  {
   "cell_type": "code",
   "execution_count": 1763,
   "id": "d7d90267",
   "metadata": {},
   "outputs": [],
   "source": [
    "new_df = new_df.dropna().reset_index(drop=True)"
   ]
  },
  {
   "cell_type": "markdown",
   "id": "0793f364",
   "metadata": {},
   "source": [
    "# Splitting the Dependent and Independent Data"
   ]
  },
  {
   "cell_type": "code",
   "execution_count": 1764,
   "id": "342f819b",
   "metadata": {},
   "outputs": [],
   "source": [
    "X = new_df.iloc[:,:-1]\n",
    "#y = new_df[:]\n",
    "y = new_df.iloc[:,-1:]"
   ]
  },
  {
   "cell_type": "code",
   "execution_count": 1765,
   "id": "19a3dcf2",
   "metadata": {
    "scrolled": true
   },
   "outputs": [
    {
     "data": {
      "text/plain": [
       "(577, 12)"
      ]
     },
     "execution_count": 1765,
     "metadata": {},
     "output_type": "execute_result"
    }
   ],
   "source": [
    "X.shape"
   ]
  },
  {
   "cell_type": "code",
   "execution_count": 1766,
   "id": "fdaf6f35",
   "metadata": {},
   "outputs": [
    {
     "data": {
      "text/html": [
       "<div>\n",
       "<style scoped>\n",
       "    .dataframe tbody tr th:only-of-type {\n",
       "        vertical-align: middle;\n",
       "    }\n",
       "\n",
       "    .dataframe tbody tr th {\n",
       "        vertical-align: top;\n",
       "    }\n",
       "\n",
       "    .dataframe thead th {\n",
       "        text-align: right;\n",
       "    }\n",
       "</style>\n",
       "<table border=\"1\" class=\"dataframe\">\n",
       "  <thead>\n",
       "    <tr style=\"text-align: right;\">\n",
       "      <th></th>\n",
       "      <th>Gender</th>\n",
       "      <th>Married</th>\n",
       "      <th>Dependents</th>\n",
       "      <th>Education</th>\n",
       "      <th>Self_Employed</th>\n",
       "      <th>ApplicantIncome</th>\n",
       "      <th>CoapplicantIncome</th>\n",
       "      <th>LoanAmount</th>\n",
       "      <th>Loan_Amount_Term</th>\n",
       "      <th>Credit_History</th>\n",
       "      <th>Property_Area_0</th>\n",
       "      <th>Property_Area_1</th>\n",
       "    </tr>\n",
       "  </thead>\n",
       "  <tbody>\n",
       "    <tr>\n",
       "      <th>0</th>\n",
       "      <td>1.0</td>\n",
       "      <td>0.0</td>\n",
       "      <td>0.0</td>\n",
       "      <td>0.0</td>\n",
       "      <td>0.0</td>\n",
       "      <td>0.681780</td>\n",
       "      <td>-1.122446</td>\n",
       "      <td>0.177805</td>\n",
       "      <td>0.142283</td>\n",
       "      <td>1.0</td>\n",
       "      <td>0</td>\n",
       "      <td>1</td>\n",
       "    </tr>\n",
       "    <tr>\n",
       "      <th>1</th>\n",
       "      <td>1.0</td>\n",
       "      <td>1.0</td>\n",
       "      <td>1.0</td>\n",
       "      <td>0.0</td>\n",
       "      <td>0.0</td>\n",
       "      <td>0.234783</td>\n",
       "      <td>0.744117</td>\n",
       "      <td>-0.007978</td>\n",
       "      <td>0.142283</td>\n",
       "      <td>1.0</td>\n",
       "      <td>1</td>\n",
       "      <td>0</td>\n",
       "    </tr>\n",
       "    <tr>\n",
       "      <th>2</th>\n",
       "      <td>1.0</td>\n",
       "      <td>1.0</td>\n",
       "      <td>0.0</td>\n",
       "      <td>0.0</td>\n",
       "      <td>1.0</td>\n",
       "      <td>-0.527201</td>\n",
       "      <td>-1.122446</td>\n",
       "      <td>-1.435892</td>\n",
       "      <td>0.142283</td>\n",
       "      <td>1.0</td>\n",
       "      <td>0</td>\n",
       "      <td>1</td>\n",
       "    </tr>\n",
       "    <tr>\n",
       "      <th>3</th>\n",
       "      <td>1.0</td>\n",
       "      <td>1.0</td>\n",
       "      <td>0.0</td>\n",
       "      <td>1.0</td>\n",
       "      <td>0.0</td>\n",
       "      <td>-0.791972</td>\n",
       "      <td>0.895786</td>\n",
       "      <td>-0.161343</td>\n",
       "      <td>0.142283</td>\n",
       "      <td>1.0</td>\n",
       "      <td>0</td>\n",
       "      <td>1</td>\n",
       "    </tr>\n",
       "    <tr>\n",
       "      <th>4</th>\n",
       "      <td>1.0</td>\n",
       "      <td>0.0</td>\n",
       "      <td>0.0</td>\n",
       "      <td>0.0</td>\n",
       "      <td>0.0</td>\n",
       "      <td>0.728848</td>\n",
       "      <td>-1.122446</td>\n",
       "      <td>0.228109</td>\n",
       "      <td>0.142283</td>\n",
       "      <td>1.0</td>\n",
       "      <td>0</td>\n",
       "      <td>1</td>\n",
       "    </tr>\n",
       "    <tr>\n",
       "      <th>...</th>\n",
       "      <td>...</td>\n",
       "      <td>...</td>\n",
       "      <td>...</td>\n",
       "      <td>...</td>\n",
       "      <td>...</td>\n",
       "      <td>...</td>\n",
       "      <td>...</td>\n",
       "      <td>...</td>\n",
       "      <td>...</td>\n",
       "      <td>...</td>\n",
       "      <td>...</td>\n",
       "      <td>...</td>\n",
       "    </tr>\n",
       "    <tr>\n",
       "      <th>572</th>\n",
       "      <td>0.0</td>\n",
       "      <td>0.0</td>\n",
       "      <td>0.0</td>\n",
       "      <td>0.0</td>\n",
       "      <td>0.0</td>\n",
       "      <td>-0.587375</td>\n",
       "      <td>-1.122446</td>\n",
       "      <td>-1.293505</td>\n",
       "      <td>0.142283</td>\n",
       "      <td>1.0</td>\n",
       "      <td>1</td>\n",
       "      <td>0</td>\n",
       "    </tr>\n",
       "    <tr>\n",
       "      <th>573</th>\n",
       "      <td>1.0</td>\n",
       "      <td>1.0</td>\n",
       "      <td>3.0</td>\n",
       "      <td>0.0</td>\n",
       "      <td>0.0</td>\n",
       "      <td>0.035386</td>\n",
       "      <td>-1.122446</td>\n",
       "      <td>-2.323223</td>\n",
       "      <td>-2.559394</td>\n",
       "      <td>1.0</td>\n",
       "      <td>1</td>\n",
       "      <td>0</td>\n",
       "    </tr>\n",
       "    <tr>\n",
       "      <th>574</th>\n",
       "      <td>1.0</td>\n",
       "      <td>1.0</td>\n",
       "      <td>1.0</td>\n",
       "      <td>0.0</td>\n",
       "      <td>0.0</td>\n",
       "      <td>1.281658</td>\n",
       "      <td>0.173344</td>\n",
       "      <td>1.827191</td>\n",
       "      <td>0.142283</td>\n",
       "      <td>1.0</td>\n",
       "      <td>0</td>\n",
       "      <td>1</td>\n",
       "    </tr>\n",
       "    <tr>\n",
       "      <th>575</th>\n",
       "      <td>1.0</td>\n",
       "      <td>1.0</td>\n",
       "      <td>2.0</td>\n",
       "      <td>0.0</td>\n",
       "      <td>0.0</td>\n",
       "      <td>1.164426</td>\n",
       "      <td>-1.122446</td>\n",
       "      <td>0.962002</td>\n",
       "      <td>0.142283</td>\n",
       "      <td>1.0</td>\n",
       "      <td>0</td>\n",
       "      <td>1</td>\n",
       "    </tr>\n",
       "    <tr>\n",
       "      <th>576</th>\n",
       "      <td>0.0</td>\n",
       "      <td>0.0</td>\n",
       "      <td>0.0</td>\n",
       "      <td>0.0</td>\n",
       "      <td>1.0</td>\n",
       "      <td>0.234783</td>\n",
       "      <td>-1.122446</td>\n",
       "      <td>0.084644</td>\n",
       "      <td>0.142283</td>\n",
       "      <td>0.0</td>\n",
       "      <td>1</td>\n",
       "      <td>1</td>\n",
       "    </tr>\n",
       "  </tbody>\n",
       "</table>\n",
       "<p>577 rows × 12 columns</p>\n",
       "</div>"
      ],
      "text/plain": [
       "     Gender  Married  Dependents  Education  Self_Employed  ApplicantIncome  \\\n",
       "0       1.0      0.0         0.0        0.0            0.0         0.681780   \n",
       "1       1.0      1.0         1.0        0.0            0.0         0.234783   \n",
       "2       1.0      1.0         0.0        0.0            1.0        -0.527201   \n",
       "3       1.0      1.0         0.0        1.0            0.0        -0.791972   \n",
       "4       1.0      0.0         0.0        0.0            0.0         0.728848   \n",
       "..      ...      ...         ...        ...            ...              ...   \n",
       "572     0.0      0.0         0.0        0.0            0.0        -0.587375   \n",
       "573     1.0      1.0         3.0        0.0            0.0         0.035386   \n",
       "574     1.0      1.0         1.0        0.0            0.0         1.281658   \n",
       "575     1.0      1.0         2.0        0.0            0.0         1.164426   \n",
       "576     0.0      0.0         0.0        0.0            1.0         0.234783   \n",
       "\n",
       "     CoapplicantIncome  LoanAmount  Loan_Amount_Term  Credit_History  \\\n",
       "0            -1.122446    0.177805          0.142283             1.0   \n",
       "1             0.744117   -0.007978          0.142283             1.0   \n",
       "2            -1.122446   -1.435892          0.142283             1.0   \n",
       "3             0.895786   -0.161343          0.142283             1.0   \n",
       "4            -1.122446    0.228109          0.142283             1.0   \n",
       "..                 ...         ...               ...             ...   \n",
       "572          -1.122446   -1.293505          0.142283             1.0   \n",
       "573          -1.122446   -2.323223         -2.559394             1.0   \n",
       "574           0.173344    1.827191          0.142283             1.0   \n",
       "575          -1.122446    0.962002          0.142283             1.0   \n",
       "576          -1.122446    0.084644          0.142283             0.0   \n",
       "\n",
       "     Property_Area_0  Property_Area_1  \n",
       "0                  0                1  \n",
       "1                  1                0  \n",
       "2                  0                1  \n",
       "3                  0                1  \n",
       "4                  0                1  \n",
       "..               ...              ...  \n",
       "572                1                0  \n",
       "573                1                0  \n",
       "574                0                1  \n",
       "575                0                1  \n",
       "576                1                1  \n",
       "\n",
       "[577 rows x 12 columns]"
      ]
     },
     "execution_count": 1766,
     "metadata": {},
     "output_type": "execute_result"
    }
   ],
   "source": [
    "X"
   ]
  },
  {
   "cell_type": "code",
   "execution_count": 1768,
   "id": "be575bfd",
   "metadata": {},
   "outputs": [
    {
     "data": {
      "text/plain": [
       "Gender               0\n",
       "Married              0\n",
       "Dependents           0\n",
       "Education            0\n",
       "Self_Employed        0\n",
       "ApplicantIncome      0\n",
       "CoapplicantIncome    0\n",
       "LoanAmount           0\n",
       "Loan_Amount_Term     0\n",
       "Credit_History       0\n",
       "Property_Area_0      0\n",
       "Property_Area_1      0\n",
       "dtype: int64"
      ]
     },
     "execution_count": 1768,
     "metadata": {},
     "output_type": "execute_result"
    }
   ],
   "source": [
    "X.isna().sum()"
   ]
  },
  {
   "cell_type": "code",
   "execution_count": 1769,
   "id": "711afaad",
   "metadata": {},
   "outputs": [
    {
     "data": {
      "text/plain": [
       "Gender               0\n",
       "Married              0\n",
       "Dependents           0\n",
       "Education            0\n",
       "Self_Employed        0\n",
       "ApplicantIncome      0\n",
       "CoapplicantIncome    0\n",
       "LoanAmount           0\n",
       "Loan_Amount_Term     0\n",
       "Credit_History       0\n",
       "Property_Area_0      0\n",
       "Property_Area_1      0\n",
       "Loan_Status          0\n",
       "dtype: int64"
      ]
     },
     "execution_count": 1769,
     "metadata": {},
     "output_type": "execute_result"
    }
   ],
   "source": [
    "new_df.isna().sum()"
   ]
  },
  {
   "cell_type": "markdown",
   "id": "ecbd952f",
   "metadata": {},
   "source": [
    "## Feature Scaling using Standard Scaler\n"
   ]
  },
  {
   "cell_type": "code",
   "execution_count": 1770,
   "id": "32ebe7db",
   "metadata": {},
   "outputs": [],
   "source": [
    "# Excluding other columns because they have binary data\n",
    "transform_numerical_columns = ['ApplicantIncome', 'CoapplicantIncome', 'LoanAmount','Loan_Amount_Term']"
   ]
  },
  {
   "cell_type": "code",
   "execution_count": 1771,
   "id": "bf79081f",
   "metadata": {},
   "outputs": [],
   "source": [
    "from sklearn.preprocessing import StandardScaler\n",
    "\n",
    "scaler = StandardScaler()\n",
    "X[transform_numerical_columns] = pd.DataFrame(scaler.fit_transform(X[transform_numerical_columns]), columns = X[transform_numerical_columns].columns)\n"
   ]
  },
  {
   "cell_type": "code",
   "execution_count": 1772,
   "id": "d5e2b8ed",
   "metadata": {
    "scrolled": true
   },
   "outputs": [
    {
     "data": {
      "text/plain": [
       "Gender               0\n",
       "Married              0\n",
       "Dependents           0\n",
       "Education            0\n",
       "Self_Employed        0\n",
       "ApplicantIncome      0\n",
       "CoapplicantIncome    0\n",
       "LoanAmount           0\n",
       "Loan_Amount_Term     0\n",
       "Credit_History       0\n",
       "Property_Area_0      0\n",
       "Property_Area_1      0\n",
       "dtype: int64"
      ]
     },
     "execution_count": 1772,
     "metadata": {},
     "output_type": "execute_result"
    }
   ],
   "source": [
    "X.isna().sum()"
   ]
  },
  {
   "cell_type": "code",
   "execution_count": 1773,
   "id": "b2d6b4bd",
   "metadata": {},
   "outputs": [
    {
     "data": {
      "text/plain": [
       "Gender              -0.991250\n",
       "Married             -0.517759\n",
       "Dependents           1.134133\n",
       "Education            1.306588\n",
       "Self_Employed        2.274082\n",
       "ApplicantIncome      0.027981\n",
       "CoapplicantIncome   -0.191876\n",
       "LoanAmount           0.045673\n",
       "Loan_Amount_Term     0.718900\n",
       "Credit_History      -1.885336\n",
       "Property_Area_0     -0.736780\n",
       "Property_Area_1     -0.894207\n",
       "dtype: float64"
      ]
     },
     "execution_count": 1773,
     "metadata": {},
     "output_type": "execute_result"
    }
   ],
   "source": [
    "X.skew()"
   ]
  },
  {
   "cell_type": "code",
   "execution_count": 1774,
   "id": "1a765e82",
   "metadata": {},
   "outputs": [],
   "source": [
    "from sklearn.model_selection import train_test_split\n",
    "\n",
    "X_train, X_test, y_train, y_test = train_test_split(X, y, test_size=0.33, random_state=1,stratify = y)\n"
   ]
  },
  {
   "cell_type": "code",
   "execution_count": 1775,
   "id": "a29f52c0",
   "metadata": {},
   "outputs": [
    {
     "data": {
      "text/plain": [
       "Gender               0\n",
       "Married              0\n",
       "Dependents           0\n",
       "Education            0\n",
       "Self_Employed        0\n",
       "ApplicantIncome      0\n",
       "CoapplicantIncome    0\n",
       "LoanAmount           0\n",
       "Loan_Amount_Term     0\n",
       "Credit_History       0\n",
       "Property_Area_0      0\n",
       "Property_Area_1      0\n",
       "dtype: int64"
      ]
     },
     "execution_count": 1775,
     "metadata": {},
     "output_type": "execute_result"
    }
   ],
   "source": [
    "X_test.isna().sum()"
   ]
  },
  {
   "cell_type": "code",
   "execution_count": 1776,
   "id": "40f9bbb8",
   "metadata": {},
   "outputs": [
    {
     "data": {
      "text/plain": [
       "Loan_Status\n",
       "1.0            398\n",
       "0.0            179\n",
       "dtype: int64"
      ]
     },
     "execution_count": 1776,
     "metadata": {},
     "output_type": "execute_result"
    }
   ],
   "source": [
    "y.value_counts()"
   ]
  },
  {
   "cell_type": "markdown",
   "id": "3e55e0cf",
   "metadata": {},
   "source": [
    "# Treating the Imbalanced Dataset"
   ]
  },
  {
   "cell_type": "code",
   "execution_count": 1777,
   "id": "68e9e72a",
   "metadata": {},
   "outputs": [],
   "source": [
    "# Oversampling the data\n",
    "from imblearn.over_sampling import SMOTE\n",
    "SM = SMOTE()\n",
    "X_train, y_train = SM.fit_resample(X_train, y_train)\n",
    "#X_test, y_test = SM.fit_resample(X_test, y_test)"
   ]
  },
  {
   "cell_type": "code",
   "execution_count": 1778,
   "id": "96a23824",
   "metadata": {},
   "outputs": [
    {
     "data": {
      "text/plain": [
       "Loan_Status\n",
       "0.0            266\n",
       "1.0            266\n",
       "dtype: int64"
      ]
     },
     "execution_count": 1778,
     "metadata": {},
     "output_type": "execute_result"
    }
   ],
   "source": [
    "y_train.value_counts()"
   ]
  },
  {
   "cell_type": "code",
   "execution_count": 1779,
   "id": "0ed0eeab",
   "metadata": {},
   "outputs": [
    {
     "data": {
      "text/plain": [
       "Loan_Status\n",
       "1.0            132\n",
       "0.0             59\n",
       "dtype: int64"
      ]
     },
     "execution_count": 1779,
     "metadata": {},
     "output_type": "execute_result"
    }
   ],
   "source": [
    "y_test.value_counts()"
   ]
  },
  {
   "cell_type": "markdown",
   "id": "c9eb95d9",
   "metadata": {},
   "source": [
    "## Modelling"
   ]
  },
  {
   "cell_type": "code",
   "execution_count": 1780,
   "id": "b21d6448",
   "metadata": {},
   "outputs": [],
   "source": [
    "from sklearn.tree import DecisionTreeClassifier\n",
    "from sklearn.ensemble import RandomForestClassifier\n",
    "from sklearn.linear_model import LogisticRegression\n",
    "from sklearn.svm import SVC\n",
    "from sklearn.neighbors import KNeighborsClassifier\n",
    "from sklearn.ensemble import GradientBoostingClassifier, AdaBoostClassifier\n",
    "from sklearn.metrics import confusion_matrix, classification_report, roc_curve, accuracy_score"
   ]
  },
  {
   "cell_type": "code",
   "execution_count": 1781,
   "id": "85534ae3",
   "metadata": {},
   "outputs": [
    {
     "name": "stdout",
     "output_type": "stream",
     "text": [
      "0.774869109947644\n",
      "[[ 37  22]\n",
      " [ 21 111]]\n",
      "              precision    recall  f1-score   support\n",
      "\n",
      "         0.0       0.64      0.63      0.63        59\n",
      "         1.0       0.83      0.84      0.84       132\n",
      "\n",
      "    accuracy                           0.77       191\n",
      "   macro avg       0.74      0.73      0.74       191\n",
      "weighted avg       0.77      0.77      0.77       191\n",
      "\n"
     ]
    }
   ],
   "source": [
    "# Checking accuracy for Decision Tree Classifier\n",
    "DTC = DecisionTreeClassifier()\n",
    "DTC.fit(X_train, y_train)\n",
    "predDTC = DTC.predict(X_test)\n",
    "print(accuracy_score(y_test, predDTC))\n",
    "print(confusion_matrix(y_test, predDTC))\n",
    "print(classification_report(y_test, predDTC))"
   ]
  },
  {
   "cell_type": "code",
   "execution_count": 1782,
   "id": "ee4494a0",
   "metadata": {},
   "outputs": [
    {
     "name": "stdout",
     "output_type": "stream",
     "text": [
      "0.8219895287958116\n",
      "[[ 37  22]\n",
      " [ 12 120]]\n",
      "              precision    recall  f1-score   support\n",
      "\n",
      "         0.0       0.76      0.63      0.69        59\n",
      "         1.0       0.85      0.91      0.88       132\n",
      "\n",
      "    accuracy                           0.82       191\n",
      "   macro avg       0.80      0.77      0.78       191\n",
      "weighted avg       0.82      0.82      0.82       191\n",
      "\n"
     ]
    }
   ],
   "source": [
    "# Checking accuracy for RandomForestClassifier\n",
    "RFC = RandomForestClassifier()\n",
    "RFC.fit(X_train, y_train)\n",
    "predRFC = RFC.predict(X_test)\n",
    "print(accuracy_score(y_test, predRFC))\n",
    "print(confusion_matrix(y_test, predRFC))\n",
    "print(classification_report(y_test, predRFC))"
   ]
  },
  {
   "cell_type": "code",
   "execution_count": 1783,
   "id": "d4114f20",
   "metadata": {},
   "outputs": [
    {
     "name": "stdout",
     "output_type": "stream",
     "text": [
      "0.7958115183246073\n",
      "[[ 35  24]\n",
      " [ 15 117]]\n",
      "              precision    recall  f1-score   support\n",
      "\n",
      "         0.0       0.70      0.59      0.64        59\n",
      "         1.0       0.83      0.89      0.86       132\n",
      "\n",
      "    accuracy                           0.80       191\n",
      "   macro avg       0.76      0.74      0.75       191\n",
      "weighted avg       0.79      0.80      0.79       191\n",
      "\n"
     ]
    }
   ],
   "source": [
    "# Checking accuracy for LogisticRegression\n",
    "LR = LogisticRegression()\n",
    "LR.fit(X_train, y_train)\n",
    "predLR = LR.predict(X_test)\n",
    "print(accuracy_score(y_test, predLR))\n",
    "print(confusion_matrix(y_test, predLR))\n",
    "print(classification_report(y_test, predLR))"
   ]
  },
  {
   "cell_type": "code",
   "execution_count": 1784,
   "id": "85fd2cdd",
   "metadata": {},
   "outputs": [
    {
     "name": "stdout",
     "output_type": "stream",
     "text": [
      "0.8115183246073299\n",
      "[[ 33  26]\n",
      " [ 10 122]]\n",
      "              precision    recall  f1-score   support\n",
      "\n",
      "         0.0       0.77      0.56      0.65        59\n",
      "         1.0       0.82      0.92      0.87       132\n",
      "\n",
      "    accuracy                           0.81       191\n",
      "   macro avg       0.80      0.74      0.76       191\n",
      "weighted avg       0.81      0.81      0.80       191\n",
      "\n"
     ]
    }
   ],
   "source": [
    "# Checking accuracy for Support Vector Machine Classifier\n",
    "svc = SVC()\n",
    "svc.fit(X_train, y_train)\n",
    "predsvc = svc.predict(X_test)\n",
    "print(accuracy_score(y_test, predsvc))\n",
    "print(confusion_matrix(y_test, predsvc))\n",
    "print(classification_report(y_test, predsvc))"
   ]
  },
  {
   "cell_type": "code",
   "execution_count": 1785,
   "id": "c3a64f8a",
   "metadata": {},
   "outputs": [
    {
     "name": "stdout",
     "output_type": "stream",
     "text": [
      "0.7120418848167539\n",
      "[[ 34  25]\n",
      " [ 30 102]]\n",
      "              precision    recall  f1-score   support\n",
      "\n",
      "         0.0       0.53      0.58      0.55        59\n",
      "         1.0       0.80      0.77      0.79       132\n",
      "\n",
      "    accuracy                           0.71       191\n",
      "   macro avg       0.67      0.67      0.67       191\n",
      "weighted avg       0.72      0.71      0.72       191\n",
      "\n"
     ]
    }
   ],
   "source": [
    "# Checking accuracy for KNeighbors Classifier\n",
    "knn = KNeighborsClassifier()\n",
    "knn.fit(X_train, y_train)\n",
    "predknn = knn.predict(X_test)\n",
    "print(accuracy_score(y_test, predknn))\n",
    "print(confusion_matrix(y_test, predknn))\n",
    "print(classification_report(y_test, predknn))"
   ]
  },
  {
   "cell_type": "code",
   "execution_count": 1786,
   "id": "c4133c78",
   "metadata": {
    "scrolled": true
   },
   "outputs": [
    {
     "name": "stdout",
     "output_type": "stream",
     "text": [
      "0.8272251308900523\n",
      "[[ 38  21]\n",
      " [ 12 120]]\n",
      "              precision    recall  f1-score   support\n",
      "\n",
      "         0.0       0.76      0.64      0.70        59\n",
      "         1.0       0.85      0.91      0.88       132\n",
      "\n",
      "    accuracy                           0.83       191\n",
      "   macro avg       0.81      0.78      0.79       191\n",
      "weighted avg       0.82      0.83      0.82       191\n",
      "\n"
     ]
    }
   ],
   "source": [
    "# Checking accuracy for GradientBoosting Classifier\n",
    "GB = GradientBoostingClassifier()\n",
    "GB.fit(X_train, y_train)\n",
    "predGB = GB.predict(X_test)\n",
    "print(accuracy_score(y_test, predGB))\n",
    "print(confusion_matrix(y_test, predGB))\n",
    "print(classification_report(y_test, predGB))"
   ]
  },
  {
   "cell_type": "code",
   "execution_count": 1787,
   "id": "880b4089",
   "metadata": {},
   "outputs": [
    {
     "name": "stdout",
     "output_type": "stream",
     "text": [
      "0.8272251308900523\n",
      "[[ 37  22]\n",
      " [ 11 121]]\n",
      "              precision    recall  f1-score   support\n",
      "\n",
      "         0.0       0.77      0.63      0.69        59\n",
      "         1.0       0.85      0.92      0.88       132\n",
      "\n",
      "    accuracy                           0.83       191\n",
      "   macro avg       0.81      0.77      0.79       191\n",
      "weighted avg       0.82      0.83      0.82       191\n",
      "\n"
     ]
    }
   ],
   "source": [
    "# Checking accuracy for AdaBoost Classifier\n",
    "ADA = AdaBoostClassifier()\n",
    "ADA.fit(X_train, y_train)\n",
    "predADA = ADA.predict(X_test)\n",
    "print(accuracy_score(y_test, predADA))\n",
    "print(confusion_matrix(y_test, predADA))\n",
    "print(classification_report(y_test, predADA))"
   ]
  },
  {
   "cell_type": "markdown",
   "id": "7b7983c1",
   "metadata": {},
   "source": [
    "## Checking the Cross Validation Score\n"
   ]
  },
  {
   "cell_type": "code",
   "execution_count": 1788,
   "id": "9bb68fad",
   "metadata": {},
   "outputs": [],
   "source": [
    "from sklearn.model_selection import cross_val_score\n"
   ]
  },
  {
   "cell_type": "code",
   "execution_count": 1789,
   "id": "4272f35c",
   "metadata": {},
   "outputs": [
    {
     "name": "stdout",
     "output_type": "stream",
     "text": [
      "0.7383958020989505\n"
     ]
    }
   ],
   "source": [
    "# CV score for Decision Tree Classifier\n",
    "print(cross_val_score(DTC, X, y, cv = 5).mean())"
   ]
  },
  {
   "cell_type": "code",
   "execution_count": 1790,
   "id": "9e1ffbad",
   "metadata": {},
   "outputs": [
    {
     "name": "stdout",
     "output_type": "stream",
     "text": [
      "0.833688155922039\n"
     ]
    }
   ],
   "source": [
    "# CV score for Random Forest Classifier\n",
    "print(cross_val_score(RFC, X, y, cv = 5).mean())"
   ]
  },
  {
   "cell_type": "code",
   "execution_count": 1791,
   "id": "f81394f3",
   "metadata": {},
   "outputs": [
    {
     "name": "stdout",
     "output_type": "stream",
     "text": [
      "0.8319490254872564\n"
     ]
    }
   ],
   "source": [
    "# CV score for Logistic Regression Classifier\n",
    "print(cross_val_score(LR, X, y, cv = 5).mean())"
   ]
  },
  {
   "cell_type": "code",
   "execution_count": 1792,
   "id": "8e260220",
   "metadata": {},
   "outputs": [
    {
     "name": "stdout",
     "output_type": "stream",
     "text": [
      "0.8163418290854573\n"
     ]
    }
   ],
   "source": [
    "# CV score for Support Vector Machine Classifier\n",
    "print(cross_val_score(svc, X, y, cv = 5).mean())"
   ]
  },
  {
   "cell_type": "code",
   "execution_count": 1793,
   "id": "33242cde",
   "metadata": {},
   "outputs": [
    {
     "name": "stdout",
     "output_type": "stream",
     "text": [
      "0.734887556221889\n"
     ]
    }
   ],
   "source": [
    "# CV score for KNN Classifier\n",
    "print(cross_val_score(knn, X, y, cv = 5).mean())"
   ]
  },
  {
   "cell_type": "code",
   "execution_count": 1794,
   "id": "158ed37d",
   "metadata": {},
   "outputs": [
    {
     "name": "stdout",
     "output_type": "stream",
     "text": [
      "0.811184407796102\n"
     ]
    }
   ],
   "source": [
    "# Cv score for Gradient Boosting Classifier\n",
    "print(cross_val_score(GB, X, y, cv = 5).mean())"
   ]
  },
  {
   "cell_type": "code",
   "execution_count": 1795,
   "id": "8b1da044",
   "metadata": {},
   "outputs": [
    {
     "name": "stdout",
     "output_type": "stream",
     "text": [
      "0.8059970014992504\n"
     ]
    }
   ],
   "source": [
    "# CV score for AdaBoosting Classifier\n",
    "print(cross_val_score(ADA, X, y, cv = 5).mean())"
   ]
  },
  {
   "cell_type": "markdown",
   "id": "72a35ebb",
   "metadata": {},
   "source": [
    "We will go with SVC as it has least difference between test_score and accuracy."
   ]
  },
  {
   "cell_type": "markdown",
   "id": "ba95d0dc",
   "metadata": {},
   "source": [
    "## Hyper Parameter Tuning\n"
   ]
  },
  {
   "cell_type": "code",
   "execution_count": 1796,
   "id": "0cd2c94f",
   "metadata": {},
   "outputs": [],
   "source": [
    "param_grid = [\n",
    "  {'C': [1, 10, 100, 1000], 'kernel': ['linear']},\n",
    "  {'C': [1, 10, 100, 1000], 'gamma': [0.001, 0.0001], 'kernel': ['rbf']},\n",
    " ]"
   ]
  },
  {
   "cell_type": "code",
   "execution_count": 1797,
   "id": "d9a6d2bd",
   "metadata": {},
   "outputs": [
    {
     "data": {
      "text/plain": [
       "GridSearchCV(cv=5, estimator=LogisticRegression(),\n",
       "             param_grid=[{'C': array([1.00000000e-04, 2.63665090e-04, 6.95192796e-04, 1.83298071e-03,\n",
       "       4.83293024e-03, 1.27427499e-02, 3.35981829e-02, 8.85866790e-02,\n",
       "       2.33572147e-01, 6.15848211e-01, 1.62377674e+00, 4.28133240e+00,\n",
       "       1.12883789e+01, 2.97635144e+01, 7.84759970e+01, 2.06913808e+02,\n",
       "       5.45559478e+02, 1.43844989e+03, 3.79269019e+03, 1.00000000e+04]),\n",
       "                          'max_iter': [100, 1000, 2500, 5000],\n",
       "                          'penalty': ['l1', 'l2', 'elasticnet', 'none'],\n",
       "                          'solver': ['lbfgs', 'newton-cg', 'liblinear', 'sag',\n",
       "                                     'saga']}])"
      ]
     },
     "execution_count": 1797,
     "metadata": {},
     "output_type": "execute_result"
    }
   ],
   "source": [
    "\n",
    "from sklearn.model_selection import GridSearchCV\n",
    " \n",
    "# defining parameter range\n",
    "\"\"\"param_grid = {'C': [0.1, 1, 10, 100, 1000],\n",
    "              'gamma': [1, 0.1, 0.01, 0.001, 0.0001],\n",
    "              'kernel': ['rbf']}\n",
    "\"\"\"\n",
    "\"\"\"                \n",
    "param_grid = [\n",
    "  {'C': [1, 10, 100, 1000], 'kernel': ['linear']},\n",
    "  {'C': [1, 10, 100, 1000], 'gamma': [0.001, 0.0001], 'kernel': ['rbf']},\n",
    " ]\n",
    "\"\"\"\n",
    "param_grid = [    \n",
    "    {'penalty' : ['l1', 'l2', 'elasticnet', 'none'],\n",
    "    'C' : np.logspace(-4, 4, 20),\n",
    "    'solver' : ['lbfgs','newton-cg','liblinear','sag','saga'],\n",
    "    'max_iter' : [100, 1000,2500, 5000]\n",
    "    }\n",
    "]\n",
    "\n",
    " \n",
    "grid = GridSearchCV(LR, param_grid, cv=5)\n",
    " \n",
    "# fitting the model for grid search\n",
    "grid.fit(X_train, y_train)"
   ]
  },
  {
   "cell_type": "code",
   "execution_count": 1798,
   "id": "33df1dd1",
   "metadata": {
    "scrolled": true
   },
   "outputs": [
    {
     "name": "stdout",
     "output_type": "stream",
     "text": [
      "{'C': 0.615848211066026, 'max_iter': 1000, 'penalty': 'l1', 'solver': 'saga'}\n"
     ]
    }
   ],
   "source": [
    "# print best parameter after tuning\n",
    "print(grid.best_params_)"
   ]
  },
  {
   "cell_type": "code",
   "execution_count": 1799,
   "id": "0cb75a47",
   "metadata": {},
   "outputs": [
    {
     "name": "stdout",
     "output_type": "stream",
     "text": [
      "LogisticRegression(C=0.615848211066026, max_iter=1000, penalty='l1',\n",
      "                   solver='saga')\n"
     ]
    }
   ],
   "source": [
    "\n",
    " \n",
    "# print how our model looks after hyper-parameter tuning\n",
    "print(grid.best_estimator_)"
   ]
  },
  {
   "cell_type": "code",
   "execution_count": 1807,
   "id": "0c36cc47",
   "metadata": {
    "scrolled": true
   },
   "outputs": [
    {
     "name": "stdout",
     "output_type": "stream",
     "text": [
      "79.58115183246073\n"
     ]
    }
   ],
   "source": [
    "Loan = LogisticRegression(C=0.615848211066026,max_iter=1000, penalty='l1', solver='saga',)\n",
    "Loan.fit(X_train, y_train)\n",
    "pred = Loan.predict(X_test)\n",
    "acc = accuracy_score(y_test, pred)\n",
    "print(acc*100)"
   ]
  },
  {
   "cell_type": "markdown",
   "id": "0debeaea",
   "metadata": {},
   "source": [
    "## Plotting ROC and compare AUC for all the models used"
   ]
  },
  {
   "cell_type": "code",
   "execution_count": 1801,
   "id": "c89149b1",
   "metadata": {},
   "outputs": [
    {
     "data": {
      "image/png": "[encoded data removed]",
      "text/plain": [
       "<Figure size 432x288 with 1 Axes>"
      ]
     },
     "metadata": {
      "needs_background": "light"
     },
     "output_type": "display_data"
    }
   ],
   "source": [
    "# Plotting for all the models used here\n",
    "from sklearn import datasets \n",
    "from sklearn import metrics\n",
    "from sklearn import model_selection\n",
    "from sklearn.metrics import plot_roc_curve \n",
    "\n",
    "\n",
    "disp = plot_roc_curve(knn,X_test, y_test)\n",
    "plot_roc_curve(DTC, X_test, y_test, ax=disp.ax_)     # ax_=Axes with confusion matrix\n",
    "plot_roc_curve(RFC, X_test, y_test, ax=disp.ax_)\n",
    "plot_roc_curve(LR, X_test, y_test, ax=disp.ax_)\n",
    "plot_roc_curve(svc, X_test, y_test, ax=disp.ax_)\n",
    "plot_roc_curve(GB, X_test, y_test, ax=disp.ax_)\n",
    "plot_roc_curve(ADA, X_test, y_test, ax=disp.ax_)\n",
    "\n",
    "plt.legend(prop={'size':11}, loc='lower right')\n",
    "plt.show()"
   ]
  },
  {
   "cell_type": "markdown",
   "id": "0e0a86ba",
   "metadata": {},
   "source": [
    "## Plotting ROC and Compare AUC for the best model LogisticRegression\n"
   ]
  },
  {
   "cell_type": "code",
   "execution_count": 1802,
   "id": "ce82f048",
   "metadata": {},
   "outputs": [
    {
     "data": {
      "image/png": "[encoded data removed]",
      "text/plain": [
       "<Figure size 432x288 with 1 Axes>"
      ]
     },
     "metadata": {
      "needs_background": "light"
     },
     "output_type": "display_data"
    }
   ],
   "source": [
    "# Let's check the Auc for the best model after hyper parameter tuning\n",
    "plot_roc_curve(Loan, X_test, y_test)\n",
    "plt.title(\"ROC for the best model\")\n",
    "plt.show()"
   ]
  },
  {
   "cell_type": "markdown",
   "id": "b08d878b",
   "metadata": {},
   "source": [
    "## Saving the Model"
   ]
  },
  {
   "cell_type": "code",
   "execution_count": 1803,
   "id": "8fecb8cc",
   "metadata": {},
   "outputs": [
    {
     "data": {
      "text/plain": [
       "['Loan_Application_Status.pkl']"
      ]
     },
     "execution_count": 1803,
     "metadata": {},
     "output_type": "execute_result"
    }
   ],
   "source": [
    "# Saving the model using .pkl\n",
    "import joblib\n",
    "joblib.dump(Loan, \"Loan_Application_Status.pkl\")"
   ]
  },
  {
   "cell_type": "markdown",
   "id": "9b33dd95",
   "metadata": {},
   "source": [
    "## Predicting the saved model\n"
   ]
  },
  {
   "cell_type": "code",
   "execution_count": 1804,
   "id": "aac7aa1a",
   "metadata": {},
   "outputs": [],
   "source": [
    "# Loading the saved model\n",
    "model = joblib.load(\"Loan_Application_Status.pkl\")"
   ]
  },
  {
   "cell_type": "code",
   "execution_count": 1821,
   "id": "3d033e82",
   "metadata": {},
   "outputs": [
    {
     "data": {
      "text/html": [
       "<div>\n",
       "<style scoped>\n",
       "    .dataframe tbody tr th:only-of-type {\n",
       "        vertical-align: middle;\n",
       "    }\n",
       "\n",
       "    .dataframe tbody tr th {\n",
       "        vertical-align: top;\n",
       "    }\n",
       "\n",
       "    .dataframe thead th {\n",
       "        text-align: right;\n",
       "    }\n",
       "</style>\n",
       "<table border=\"1\" class=\"dataframe\">\n",
       "  <thead>\n",
       "    <tr style=\"text-align: right;\">\n",
       "      <th></th>\n",
       "      <th>Original</th>\n",
       "      <th>Predicted</th>\n",
       "    </tr>\n",
       "  </thead>\n",
       "  <tbody>\n",
       "    <tr>\n",
       "      <th>0</th>\n",
       "      <td>0.0</td>\n",
       "      <td>1.0</td>\n",
       "    </tr>\n",
       "    <tr>\n",
       "      <th>1</th>\n",
       "      <td>0.0</td>\n",
       "      <td>0.0</td>\n",
       "    </tr>\n",
       "    <tr>\n",
       "      <th>2</th>\n",
       "      <td>0.0</td>\n",
       "      <td>1.0</td>\n",
       "    </tr>\n",
       "    <tr>\n",
       "      <th>3</th>\n",
       "      <td>1.0</td>\n",
       "      <td>1.0</td>\n",
       "    </tr>\n",
       "    <tr>\n",
       "      <th>4</th>\n",
       "      <td>1.0</td>\n",
       "      <td>1.0</td>\n",
       "    </tr>\n",
       "    <tr>\n",
       "      <th>...</th>\n",
       "      <td>...</td>\n",
       "      <td>...</td>\n",
       "    </tr>\n",
       "    <tr>\n",
       "      <th>186</th>\n",
       "      <td>1.0</td>\n",
       "      <td>1.0</td>\n",
       "    </tr>\n",
       "    <tr>\n",
       "      <th>187</th>\n",
       "      <td>1.0</td>\n",
       "      <td>1.0</td>\n",
       "    </tr>\n",
       "    <tr>\n",
       "      <th>188</th>\n",
       "      <td>1.0</td>\n",
       "      <td>1.0</td>\n",
       "    </tr>\n",
       "    <tr>\n",
       "      <th>189</th>\n",
       "      <td>1.0</td>\n",
       "      <td>1.0</td>\n",
       "    </tr>\n",
       "    <tr>\n",
       "      <th>190</th>\n",
       "      <td>1.0</td>\n",
       "      <td>1.0</td>\n",
       "    </tr>\n",
       "  </tbody>\n",
       "</table>\n",
       "<p>191 rows × 2 columns</p>\n",
       "</div>"
      ],
      "text/plain": [
       "     Original  Predicted\n",
       "0         0.0        1.0\n",
       "1         0.0        0.0\n",
       "2         0.0        1.0\n",
       "3         1.0        1.0\n",
       "4         1.0        1.0\n",
       "..        ...        ...\n",
       "186       1.0        1.0\n",
       "187       1.0        1.0\n",
       "188       1.0        1.0\n",
       "189       1.0        1.0\n",
       "190       1.0        1.0\n",
       "\n",
       "[191 rows x 2 columns]"
      ]
     },
     "execution_count": 1821,
     "metadata": {},
     "output_type": "execute_result"
    }
   ],
   "source": [
    "a = np.array(y_test).flatten()\n",
    "predicted = np.array(model.predict(X_test))\n",
    "df_final = pd.DataFrame({'Original' : a, 'Predicted' : predicted}, index = range(len(a)))\n",
    "df_final"
   ]
  },
  {
   "cell_type": "code",
   "execution_count": 1824,
   "id": "ad9375ac",
   "metadata": {},
   "outputs": [
    {
     "name": "stdout",
     "output_type": "stream",
     "text": [
      "[[ 33  26]\n",
      " [  8 124]]\n",
      "              precision    recall  f1-score   support\n",
      "\n",
      "         0.0       0.80      0.56      0.66        59\n",
      "         1.0       0.83      0.94      0.88       132\n",
      "\n",
      "    accuracy                           0.82       191\n",
      "   macro avg       0.82      0.75      0.77       191\n",
      "weighted avg       0.82      0.82      0.81       191\n",
      "\n"
     ]
    }
   ],
   "source": [
    "print(confusion_matrix(a, predicted))\n",
    "print(classification_report(a, predicted))"
   ]
  },
  {
   "cell_type": "code",
   "execution_count": null,
   "id": "5318be3f",
   "metadata": {},
   "outputs": [],
   "source": [
    "df_final"
   ]
  }
 ],
 "metadata": {
  "kernelspec": {
   "display_name": "Python 3 (ipykernel)",
   "language": "python",
   "name": "python3"
  },
  "language_info": {
   "codemirror_mode": {
    "name": "ipython",
    "version": 3
   },
   "file_extension": ".py",
   "mimetype": "text/x-python",
   "name": "python",
   "nbconvert_exporter": "python",
   "pygments_lexer": "ipython3",
   "version": "3.9.7"
  }
 },
 "nbformat": 4,
 "nbformat_minor": 5
}
