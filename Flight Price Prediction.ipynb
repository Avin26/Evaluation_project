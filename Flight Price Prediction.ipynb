{
 "cells": [
  {
   "cell_type": "markdown",
   "id": "0a3dd93f",
   "metadata": {},
   "source": [
    "## Flight Price Prediction\t\n"
   ]
  },
  {
   "cell_type": "markdown",
   "id": "86ec0494",
   "metadata": {},
   "source": [
    "## Problem Statement:\n",
    "Flight ticket prices can be something hard to guess, today we might see a price, check out the price of the same flight tomorrow, it will be a different story. We might have often heard travellers saying that flight ticket prices are so unpredictable. Here you will be provided with prices of flight tickets for various airlines between the months of March and June of 2019 and between various cities.\n",
    "\n",
    "Size of training set: 10683 records\n",
    "\n",
    "Size of test set: 2671 records\n",
    "\n",
    "## FEATURES:\n",
    "Airline: The name of the airline.\n",
    "\n",
    "Date_of_Journey: The date of the journey\n",
    "\n",
    "Source: The source from which the service begins.\n",
    "\n",
    "Destination: The destination where the service ends.\n",
    "\n",
    "Route: The route taken by the flight to reach the destination.\n",
    "\n",
    "Dep_Time: The time when the journey starts from the source.\n",
    "\n",
    "Arrival_Time: Time of arrival at the destination.\n",
    "\n",
    "Duration: Total duration of the flight.\n",
    "\n",
    "Total_Stops: Total stops between the source and destination.\n",
    "\n",
    "Additional_Info: Additional information about the flight\n",
    "\n",
    "Price: The price of the ticket\n",
    "\n",
    "You have to use your skills as a data scientist and build a machine learning model to predict the price of the flight ticket. "
   ]
  },
  {
   "cell_type": "code",
   "execution_count": 40,
   "id": "417811fd",
   "metadata": {},
   "outputs": [],
   "source": [
    "import pandas as pd\n",
    "import numpy as np\n",
    "import seaborn as sns\n",
    "import matplotlib.pyplot as plt\n",
    "import warnings\n",
    "warnings.filterwarnings('ignore')"
   ]
  },
  {
   "cell_type": "code",
   "execution_count": 8,
   "id": "252d3506",
   "metadata": {},
   "outputs": [],
   "source": [
    "df = pd.read_excel('Flight_Price_Prediction_Data_Train.xlsx')"
   ]
  },
  {
   "cell_type": "code",
   "execution_count": 9,
   "id": "eea39bcf",
   "metadata": {},
   "outputs": [
    {
     "data": {
      "text/html": [
       "<div>\n",
       "<style scoped>\n",
       "    .dataframe tbody tr th:only-of-type {\n",
       "        vertical-align: middle;\n",
       "    }\n",
       "\n",
       "    .dataframe tbody tr th {\n",
       "        vertical-align: top;\n",
       "    }\n",
       "\n",
       "    .dataframe thead th {\n",
       "        text-align: right;\n",
       "    }\n",
       "</style>\n",
       "<table border=\"1\" class=\"dataframe\">\n",
       "  <thead>\n",
       "    <tr style=\"text-align: right;\">\n",
       "      <th></th>\n",
       "      <th>Airline</th>\n",
       "      <th>Date_of_Journey</th>\n",
       "      <th>Source</th>\n",
       "      <th>Destination</th>\n",
       "      <th>Route</th>\n",
       "      <th>Dep_Time</th>\n",
       "      <th>Arrival_Time</th>\n",
       "      <th>Duration</th>\n",
       "      <th>Total_Stops</th>\n",
       "      <th>Additional_Info</th>\n",
       "      <th>Price</th>\n",
       "    </tr>\n",
       "  </thead>\n",
       "  <tbody>\n",
       "    <tr>\n",
       "      <th>0</th>\n",
       "      <td>IndiGo</td>\n",
       "      <td>24/03/2019</td>\n",
       "      <td>Banglore</td>\n",
       "      <td>New Delhi</td>\n",
       "      <td>BLR → DEL</td>\n",
       "      <td>22:20</td>\n",
       "      <td>01:10 22 Mar</td>\n",
       "      <td>2h 50m</td>\n",
       "      <td>non-stop</td>\n",
       "      <td>No info</td>\n",
       "      <td>3897</td>\n",
       "    </tr>\n",
       "    <tr>\n",
       "      <th>1</th>\n",
       "      <td>Air India</td>\n",
       "      <td>1/05/2019</td>\n",
       "      <td>Kolkata</td>\n",
       "      <td>Banglore</td>\n",
       "      <td>CCU → IXR → BBI → BLR</td>\n",
       "      <td>05:50</td>\n",
       "      <td>13:15</td>\n",
       "      <td>7h 25m</td>\n",
       "      <td>2 stops</td>\n",
       "      <td>No info</td>\n",
       "      <td>7662</td>\n",
       "    </tr>\n",
       "    <tr>\n",
       "      <th>2</th>\n",
       "      <td>Jet Airways</td>\n",
       "      <td>9/06/2019</td>\n",
       "      <td>Delhi</td>\n",
       "      <td>Cochin</td>\n",
       "      <td>DEL → LKO → BOM → COK</td>\n",
       "      <td>09:25</td>\n",
       "      <td>04:25 10 Jun</td>\n",
       "      <td>19h</td>\n",
       "      <td>2 stops</td>\n",
       "      <td>No info</td>\n",
       "      <td>13882</td>\n",
       "    </tr>\n",
       "    <tr>\n",
       "      <th>3</th>\n",
       "      <td>IndiGo</td>\n",
       "      <td>12/05/2019</td>\n",
       "      <td>Kolkata</td>\n",
       "      <td>Banglore</td>\n",
       "      <td>CCU → NAG → BLR</td>\n",
       "      <td>18:05</td>\n",
       "      <td>23:30</td>\n",
       "      <td>5h 25m</td>\n",
       "      <td>1 stop</td>\n",
       "      <td>No info</td>\n",
       "      <td>6218</td>\n",
       "    </tr>\n",
       "    <tr>\n",
       "      <th>4</th>\n",
       "      <td>IndiGo</td>\n",
       "      <td>01/03/2019</td>\n",
       "      <td>Banglore</td>\n",
       "      <td>New Delhi</td>\n",
       "      <td>BLR → NAG → DEL</td>\n",
       "      <td>16:50</td>\n",
       "      <td>21:35</td>\n",
       "      <td>4h 45m</td>\n",
       "      <td>1 stop</td>\n",
       "      <td>No info</td>\n",
       "      <td>13302</td>\n",
       "    </tr>\n",
       "  </tbody>\n",
       "</table>\n",
       "</div>"
      ],
      "text/plain": [
       "       Airline Date_of_Journey    Source Destination                  Route  \\\n",
       "0       IndiGo      24/03/2019  Banglore   New Delhi              BLR → DEL   \n",
       "1    Air India       1/05/2019   Kolkata    Banglore  CCU → IXR → BBI → BLR   \n",
       "2  Jet Airways       9/06/2019     Delhi      Cochin  DEL → LKO → BOM → COK   \n",
       "3       IndiGo      12/05/2019   Kolkata    Banglore        CCU → NAG → BLR   \n",
       "4       IndiGo      01/03/2019  Banglore   New Delhi        BLR → NAG → DEL   \n",
       "\n",
       "  Dep_Time  Arrival_Time Duration Total_Stops Additional_Info  Price  \n",
       "0    22:20  01:10 22 Mar   2h 50m    non-stop         No info   3897  \n",
       "1    05:50         13:15   7h 25m     2 stops         No info   7662  \n",
       "2    09:25  04:25 10 Jun      19h     2 stops         No info  13882  \n",
       "3    18:05         23:30   5h 25m      1 stop         No info   6218  \n",
       "4    16:50         21:35   4h 45m      1 stop         No info  13302  "
      ]
     },
     "execution_count": 9,
     "metadata": {},
     "output_type": "execute_result"
    }
   ],
   "source": [
    "df.head()"
   ]
  },
  {
   "cell_type": "code",
   "execution_count": 10,
   "id": "74da5ada",
   "metadata": {
    "scrolled": true
   },
   "outputs": [
    {
     "name": "stdout",
     "output_type": "stream",
     "text": [
      "<class 'pandas.core.frame.DataFrame'>\n",
      "RangeIndex: 10683 entries, 0 to 10682\n",
      "Data columns (total 11 columns):\n",
      " #   Column           Non-Null Count  Dtype \n",
      "---  ------           --------------  ----- \n",
      " 0   Airline          10683 non-null  object\n",
      " 1   Date_of_Journey  10683 non-null  object\n",
      " 2   Source           10683 non-null  object\n",
      " 3   Destination      10683 non-null  object\n",
      " 4   Route            10682 non-null  object\n",
      " 5   Dep_Time         10683 non-null  object\n",
      " 6   Arrival_Time     10683 non-null  object\n",
      " 7   Duration         10683 non-null  object\n",
      " 8   Total_Stops      10682 non-null  object\n",
      " 9   Additional_Info  10683 non-null  object\n",
      " 10  Price            10683 non-null  int64 \n",
      "dtypes: int64(1), object(10)\n",
      "memory usage: 918.2+ KB\n"
     ]
    }
   ],
   "source": [
    "df.info()"
   ]
  },
  {
   "cell_type": "code",
   "execution_count": 11,
   "id": "b8fe1ea2",
   "metadata": {},
   "outputs": [
    {
     "name": "stdout",
     "output_type": "stream",
     "text": [
      "<class 'pandas.core.frame.DataFrame'>\n",
      "RangeIndex: 2671 entries, 0 to 2670\n",
      "Data columns (total 10 columns):\n",
      " #   Column           Non-Null Count  Dtype \n",
      "---  ------           --------------  ----- \n",
      " 0   Airline          2671 non-null   object\n",
      " 1   Date_of_Journey  2671 non-null   object\n",
      " 2   Source           2671 non-null   object\n",
      " 3   Destination      2671 non-null   object\n",
      " 4   Route            2671 non-null   object\n",
      " 5   Dep_Time         2671 non-null   object\n",
      " 6   Arrival_Time     2671 non-null   object\n",
      " 7   Duration         2671 non-null   object\n",
      " 8   Total_Stops      2671 non-null   object\n",
      " 9   Additional_Info  2671 non-null   object\n",
      "dtypes: object(10)\n",
      "memory usage: 208.8+ KB\n"
     ]
    }
   ],
   "source": [
    "df_test = pd.read_excel(\"Flight_Price_Prediction_Test_set.xlsx\")\n",
    "df_test.info()"
   ]
  },
  {
   "cell_type": "markdown",
   "id": "4fc7991d",
   "metadata": {},
   "source": [
    "# Exploratory Data Analysis"
   ]
  },
  {
   "cell_type": "markdown",
   "id": "7bdc96d6",
   "metadata": {},
   "source": [
    "## Feature Engineering\n"
   ]
  },
  {
   "cell_type": "markdown",
   "id": "04bb9a34",
   "metadata": {},
   "source": [
    "Working on all the columns and converting them to numeric\n",
    "\n",
    "The columns Date_of_Journey, Arrival_Time and Dep_Time has datetime datatype but its reflecting as object. So lets convert this datatype into timestamp to use it properly for prediction.Convering the dateframe"
   ]
  },
  {
   "cell_type": "code",
   "execution_count": 6,
   "id": "5d75b4a4",
   "metadata": {},
   "outputs": [
    {
     "data": {
      "text/plain": [
       "Airline            0\n",
       "Date_of_Journey    0\n",
       "Source             0\n",
       "Destination        0\n",
       "Route              1\n",
       "Dep_Time           0\n",
       "Arrival_Time       0\n",
       "Duration           0\n",
       "Total_Stops        1\n",
       "Additional_Info    0\n",
       "Price              0\n",
       "dtype: int64"
      ]
     },
     "execution_count": 6,
     "metadata": {},
     "output_type": "execute_result"
    }
   ],
   "source": [
    "# Checking for null values in the dataframe\n",
    "df.isnull().sum()"
   ]
  },
  {
   "cell_type": "code",
   "execution_count": 15,
   "id": "52a76971",
   "metadata": {},
   "outputs": [
    {
     "data": {
      "text/plain": [
       "(10683, 11)"
      ]
     },
     "execution_count": 15,
     "metadata": {},
     "output_type": "execute_result"
    }
   ],
   "source": [
    "df.shape"
   ]
  },
  {
   "cell_type": "code",
   "execution_count": 16,
   "id": "50504864",
   "metadata": {},
   "outputs": [],
   "source": [
    "df.dropna(inplace=True)"
   ]
  },
  {
   "cell_type": "code",
   "execution_count": 17,
   "id": "f86bf9ed",
   "metadata": {},
   "outputs": [
    {
     "data": {
      "text/plain": [
       "Airline            0\n",
       "Date_of_Journey    0\n",
       "Source             0\n",
       "Destination        0\n",
       "Route              0\n",
       "Dep_Time           0\n",
       "Arrival_Time       0\n",
       "Duration           0\n",
       "Total_Stops        0\n",
       "Additional_Info    0\n",
       "Price              0\n",
       "dtype: int64"
      ]
     },
     "execution_count": 17,
     "metadata": {},
     "output_type": "execute_result"
    }
   ],
   "source": [
    "# Checking for null values in the dataframe\n",
    "df.isnull().sum()"
   ]
  },
  {
   "cell_type": "code",
   "execution_count": null,
   "id": "158999d0",
   "metadata": {},
   "outputs": [],
   "source": []
  },
  {
   "cell_type": "code",
   "execution_count": 20,
   "id": "9d0669b8",
   "metadata": {},
   "outputs": [],
   "source": [
    "# Converting Date and time columns from object type to Datetime type\n",
    "df['Date_of_Journey'] = pd.to_datetime(df['Date_of_Journey'])\n",
    "df['Dep_Time'] = pd.to_datetime(df['Dep_Time'])\n",
    "df['Arrival_Time']=pd.to_datetime(df['Arrival_Time'])"
   ]
  },
  {
   "cell_type": "code",
   "execution_count": 21,
   "id": "fa424af0",
   "metadata": {},
   "outputs": [
    {
     "data": {
      "text/plain": [
       "Airline                    object\n",
       "Date_of_Journey    datetime64[ns]\n",
       "Source                     object\n",
       "Destination                object\n",
       "Route                      object\n",
       "Dep_Time           datetime64[ns]\n",
       "Arrival_Time       datetime64[ns]\n",
       "Duration                   object\n",
       "Total_Stops                object\n",
       "Additional_Info            object\n",
       "Price                       int64\n",
       "dtype: object"
      ]
     },
     "execution_count": 21,
     "metadata": {},
     "output_type": "execute_result"
    }
   ],
   "source": [
    "# Rechecking the datatypes\n",
    "df.dtypes"
   ]
  },
  {
   "cell_type": "markdown",
   "id": "86d6daac",
   "metadata": {},
   "source": [
    "Now splitting Date_of_journey into Month and Day, and as the dataset contains only 2019 year data so no need to take year column."
   ]
  },
  {
   "cell_type": "code",
   "execution_count": 22,
   "id": "b0771704",
   "metadata": {},
   "outputs": [],
   "source": [
    "# Extracting Day from Date_of_journey column\n",
    "df['Journey_Day'] = pd.to_datetime(df.Date_of_Journey, format = \"%d/%m/%Y\").dt.day\n",
    "\n",
    "# Extracting Month from Date_of_journey column\n",
    "df['Journey_Month'] = pd.to_datetime(df.Date_of_Journey, format = \"%d/%m/%Y\").dt.month"
   ]
  },
  {
   "cell_type": "markdown",
   "id": "181f8b06",
   "metadata": {},
   "source": [
    "So we have splitted the column Date_of_Journey into integer datatype , now we can drop this column as it is of no use.\n",
    "\n"
   ]
  },
  {
   "cell_type": "code",
   "execution_count": 23,
   "id": "5c80de8f",
   "metadata": {},
   "outputs": [],
   "source": [
    "# Dropping Date_of_journey column\n",
    "df.drop(\"Date_of_Journey\", axis = 1, inplace = True)"
   ]
  },
  {
   "cell_type": "code",
   "execution_count": 24,
   "id": "40a5466f",
   "metadata": {
    "scrolled": true
   },
   "outputs": [
    {
     "data": {
      "text/html": [
       "<div>\n",
       "<style scoped>\n",
       "    .dataframe tbody tr th:only-of-type {\n",
       "        vertical-align: middle;\n",
       "    }\n",
       "\n",
       "    .dataframe tbody tr th {\n",
       "        vertical-align: top;\n",
       "    }\n",
       "\n",
       "    .dataframe thead th {\n",
       "        text-align: right;\n",
       "    }\n",
       "</style>\n",
       "<table border=\"1\" class=\"dataframe\">\n",
       "  <thead>\n",
       "    <tr style=\"text-align: right;\">\n",
       "      <th></th>\n",
       "      <th>Airline</th>\n",
       "      <th>Source</th>\n",
       "      <th>Destination</th>\n",
       "      <th>Route</th>\n",
       "      <th>Dep_Time</th>\n",
       "      <th>Arrival_Time</th>\n",
       "      <th>Duration</th>\n",
       "      <th>Total_Stops</th>\n",
       "      <th>Additional_Info</th>\n",
       "      <th>Price</th>\n",
       "      <th>Journey_Day</th>\n",
       "      <th>Journey_Month</th>\n",
       "    </tr>\n",
       "  </thead>\n",
       "  <tbody>\n",
       "    <tr>\n",
       "      <th>0</th>\n",
       "      <td>IndiGo</td>\n",
       "      <td>Banglore</td>\n",
       "      <td>New Delhi</td>\n",
       "      <td>BLR → DEL</td>\n",
       "      <td>2022-07-29 22:20:00</td>\n",
       "      <td>2022-03-22 01:10:00</td>\n",
       "      <td>2h 50m</td>\n",
       "      <td>non-stop</td>\n",
       "      <td>No info</td>\n",
       "      <td>3897</td>\n",
       "      <td>24</td>\n",
       "      <td>3</td>\n",
       "    </tr>\n",
       "    <tr>\n",
       "      <th>1</th>\n",
       "      <td>Air India</td>\n",
       "      <td>Kolkata</td>\n",
       "      <td>Banglore</td>\n",
       "      <td>CCU → IXR → BBI → BLR</td>\n",
       "      <td>2022-07-29 05:50:00</td>\n",
       "      <td>2022-07-29 13:15:00</td>\n",
       "      <td>7h 25m</td>\n",
       "      <td>2 stops</td>\n",
       "      <td>No info</td>\n",
       "      <td>7662</td>\n",
       "      <td>5</td>\n",
       "      <td>1</td>\n",
       "    </tr>\n",
       "    <tr>\n",
       "      <th>2</th>\n",
       "      <td>Jet Airways</td>\n",
       "      <td>Delhi</td>\n",
       "      <td>Cochin</td>\n",
       "      <td>DEL → LKO → BOM → COK</td>\n",
       "      <td>2022-07-29 09:25:00</td>\n",
       "      <td>2022-06-10 04:25:00</td>\n",
       "      <td>19h</td>\n",
       "      <td>2 stops</td>\n",
       "      <td>No info</td>\n",
       "      <td>13882</td>\n",
       "      <td>6</td>\n",
       "      <td>9</td>\n",
       "    </tr>\n",
       "    <tr>\n",
       "      <th>3</th>\n",
       "      <td>IndiGo</td>\n",
       "      <td>Kolkata</td>\n",
       "      <td>Banglore</td>\n",
       "      <td>CCU → NAG → BLR</td>\n",
       "      <td>2022-07-29 18:05:00</td>\n",
       "      <td>2022-07-29 23:30:00</td>\n",
       "      <td>5h 25m</td>\n",
       "      <td>1 stop</td>\n",
       "      <td>No info</td>\n",
       "      <td>6218</td>\n",
       "      <td>5</td>\n",
       "      <td>12</td>\n",
       "    </tr>\n",
       "    <tr>\n",
       "      <th>4</th>\n",
       "      <td>IndiGo</td>\n",
       "      <td>Banglore</td>\n",
       "      <td>New Delhi</td>\n",
       "      <td>BLR → NAG → DEL</td>\n",
       "      <td>2022-07-29 16:50:00</td>\n",
       "      <td>2022-07-29 21:35:00</td>\n",
       "      <td>4h 45m</td>\n",
       "      <td>1 stop</td>\n",
       "      <td>No info</td>\n",
       "      <td>13302</td>\n",
       "      <td>3</td>\n",
       "      <td>1</td>\n",
       "    </tr>\n",
       "    <tr>\n",
       "      <th>...</th>\n",
       "      <td>...</td>\n",
       "      <td>...</td>\n",
       "      <td>...</td>\n",
       "      <td>...</td>\n",
       "      <td>...</td>\n",
       "      <td>...</td>\n",
       "      <td>...</td>\n",
       "      <td>...</td>\n",
       "      <td>...</td>\n",
       "      <td>...</td>\n",
       "      <td>...</td>\n",
       "      <td>...</td>\n",
       "    </tr>\n",
       "    <tr>\n",
       "      <th>10678</th>\n",
       "      <td>Air Asia</td>\n",
       "      <td>Kolkata</td>\n",
       "      <td>Banglore</td>\n",
       "      <td>CCU → BLR</td>\n",
       "      <td>2022-07-29 19:55:00</td>\n",
       "      <td>2022-07-29 22:25:00</td>\n",
       "      <td>2h 30m</td>\n",
       "      <td>non-stop</td>\n",
       "      <td>No info</td>\n",
       "      <td>4107</td>\n",
       "      <td>4</td>\n",
       "      <td>9</td>\n",
       "    </tr>\n",
       "    <tr>\n",
       "      <th>10679</th>\n",
       "      <td>Air India</td>\n",
       "      <td>Kolkata</td>\n",
       "      <td>Banglore</td>\n",
       "      <td>CCU → BLR</td>\n",
       "      <td>2022-07-29 20:45:00</td>\n",
       "      <td>2022-07-29 23:20:00</td>\n",
       "      <td>2h 35m</td>\n",
       "      <td>non-stop</td>\n",
       "      <td>No info</td>\n",
       "      <td>4145</td>\n",
       "      <td>27</td>\n",
       "      <td>4</td>\n",
       "    </tr>\n",
       "    <tr>\n",
       "      <th>10680</th>\n",
       "      <td>Jet Airways</td>\n",
       "      <td>Banglore</td>\n",
       "      <td>Delhi</td>\n",
       "      <td>BLR → DEL</td>\n",
       "      <td>2022-07-29 08:20:00</td>\n",
       "      <td>2022-07-29 11:20:00</td>\n",
       "      <td>3h</td>\n",
       "      <td>non-stop</td>\n",
       "      <td>No info</td>\n",
       "      <td>7229</td>\n",
       "      <td>27</td>\n",
       "      <td>4</td>\n",
       "    </tr>\n",
       "    <tr>\n",
       "      <th>10681</th>\n",
       "      <td>Vistara</td>\n",
       "      <td>Banglore</td>\n",
       "      <td>New Delhi</td>\n",
       "      <td>BLR → DEL</td>\n",
       "      <td>2022-07-29 11:30:00</td>\n",
       "      <td>2022-07-29 14:10:00</td>\n",
       "      <td>2h 40m</td>\n",
       "      <td>non-stop</td>\n",
       "      <td>No info</td>\n",
       "      <td>12648</td>\n",
       "      <td>3</td>\n",
       "      <td>1</td>\n",
       "    </tr>\n",
       "    <tr>\n",
       "      <th>10682</th>\n",
       "      <td>Air India</td>\n",
       "      <td>Delhi</td>\n",
       "      <td>Cochin</td>\n",
       "      <td>DEL → GOI → BOM → COK</td>\n",
       "      <td>2022-07-29 10:55:00</td>\n",
       "      <td>2022-07-29 19:15:00</td>\n",
       "      <td>8h 20m</td>\n",
       "      <td>2 stops</td>\n",
       "      <td>No info</td>\n",
       "      <td>11753</td>\n",
       "      <td>5</td>\n",
       "      <td>9</td>\n",
       "    </tr>\n",
       "  </tbody>\n",
       "</table>\n",
       "<p>10682 rows × 12 columns</p>\n",
       "</div>"
      ],
      "text/plain": [
       "           Airline    Source Destination                  Route  \\\n",
       "0           IndiGo  Banglore   New Delhi              BLR → DEL   \n",
       "1        Air India   Kolkata    Banglore  CCU → IXR → BBI → BLR   \n",
       "2      Jet Airways     Delhi      Cochin  DEL → LKO → BOM → COK   \n",
       "3           IndiGo   Kolkata    Banglore        CCU → NAG → BLR   \n",
       "4           IndiGo  Banglore   New Delhi        BLR → NAG → DEL   \n",
       "...            ...       ...         ...                    ...   \n",
       "10678     Air Asia   Kolkata    Banglore              CCU → BLR   \n",
       "10679    Air India   Kolkata    Banglore              CCU → BLR   \n",
       "10680  Jet Airways  Banglore       Delhi              BLR → DEL   \n",
       "10681      Vistara  Banglore   New Delhi              BLR → DEL   \n",
       "10682    Air India     Delhi      Cochin  DEL → GOI → BOM → COK   \n",
       "\n",
       "                 Dep_Time        Arrival_Time Duration Total_Stops  \\\n",
       "0     2022-07-29 22:20:00 2022-03-22 01:10:00   2h 50m    non-stop   \n",
       "1     2022-07-29 05:50:00 2022-07-29 13:15:00   7h 25m     2 stops   \n",
       "2     2022-07-29 09:25:00 2022-06-10 04:25:00      19h     2 stops   \n",
       "3     2022-07-29 18:05:00 2022-07-29 23:30:00   5h 25m      1 stop   \n",
       "4     2022-07-29 16:50:00 2022-07-29 21:35:00   4h 45m      1 stop   \n",
       "...                   ...                 ...      ...         ...   \n",
       "10678 2022-07-29 19:55:00 2022-07-29 22:25:00   2h 30m    non-stop   \n",
       "10679 2022-07-29 20:45:00 2022-07-29 23:20:00   2h 35m    non-stop   \n",
       "10680 2022-07-29 08:20:00 2022-07-29 11:20:00       3h    non-stop   \n",
       "10681 2022-07-29 11:30:00 2022-07-29 14:10:00   2h 40m    non-stop   \n",
       "10682 2022-07-29 10:55:00 2022-07-29 19:15:00   8h 20m     2 stops   \n",
       "\n",
       "      Additional_Info  Price  Journey_Day  Journey_Month  \n",
       "0             No info   3897           24              3  \n",
       "1             No info   7662            5              1  \n",
       "2             No info  13882            6              9  \n",
       "3             No info   6218            5             12  \n",
       "4             No info  13302            3              1  \n",
       "...               ...    ...          ...            ...  \n",
       "10678         No info   4107            4              9  \n",
       "10679         No info   4145           27              4  \n",
       "10680         No info   7229           27              4  \n",
       "10681         No info  12648            3              1  \n",
       "10682         No info  11753            5              9  \n",
       "\n",
       "[10682 rows x 12 columns]"
      ]
     },
     "execution_count": 24,
     "metadata": {},
     "output_type": "execute_result"
    }
   ],
   "source": [
    "df"
   ]
  },
  {
   "cell_type": "code",
   "execution_count": 25,
   "id": "331cb903",
   "metadata": {},
   "outputs": [],
   "source": [
    "# Duration\n",
    "\n",
    "df['Duration'] = df['Duration'].str.replace('h', '*60').str.replace(' ', '+').str.replace('m', '*1').apply(eval)\n",
    "\n",
    "#now lets convert this column into a numeric\n",
    "\n",
    "df['Duration'] = pd.to_numeric(df['Duration'])"
   ]
  },
  {
   "cell_type": "code",
   "execution_count": 26,
   "id": "c01acd8f",
   "metadata": {},
   "outputs": [
    {
     "data": {
      "text/plain": [
       "0         170\n",
       "1         445\n",
       "2        1140\n",
       "3         325\n",
       "4         285\n",
       "         ... \n",
       "10678     150\n",
       "10679     155\n",
       "10680     180\n",
       "10681     160\n",
       "10682     500\n",
       "Name: Duration, Length: 10682, dtype: int64"
      ]
     },
     "execution_count": 26,
     "metadata": {},
     "output_type": "execute_result"
    }
   ],
   "source": [
    "df['Duration']"
   ]
  },
  {
   "cell_type": "markdown",
   "id": "3407c909",
   "metadata": {},
   "source": [
    "Extracting hours and mins from Dep_Time column and dropping Dep_Time."
   ]
  },
  {
   "cell_type": "code",
   "execution_count": 27,
   "id": "1748461d",
   "metadata": {},
   "outputs": [],
   "source": [
    "# Extracting Hours from Dep_Time column\n",
    "df['Dep_Hour'] = pd.to_datetime(df['Dep_Time']).dt.hour\n",
    "\n",
    "# Extracting Minutes from Dep_Time column\n",
    "df['Dep_Min'] = pd.to_datetime(df['Dep_Time']).dt.minute"
   ]
  },
  {
   "cell_type": "code",
   "execution_count": 28,
   "id": "f674f16a",
   "metadata": {},
   "outputs": [],
   "source": [
    "# Dropping Dep_Time column\n",
    "df.drop(\"Dep_Time\", axis = 1, inplace = True)\n"
   ]
  },
  {
   "cell_type": "code",
   "execution_count": 29,
   "id": "c0975113",
   "metadata": {},
   "outputs": [],
   "source": [
    "# Extracting Arrival_Hour from Arrival_Time column\n",
    "df['Arrival_Hour'] = pd.to_datetime(df['Arrival_Time']).dt.hour\n",
    "\n",
    "# Extracting Arrival_Min from Arrival_Time column\n",
    "df['Arrival_Min'] = pd.to_datetime(df['Arrival_Time']).dt.minute\n",
    "\n",
    "# Dropping Arruval_Time column\n",
    "df.drop(\"Arrival_Time\", axis = 1, inplace = True)"
   ]
  },
  {
   "cell_type": "code",
   "execution_count": 30,
   "id": "4931304c",
   "metadata": {},
   "outputs": [
    {
     "data": {
      "text/html": [
       "<div>\n",
       "<style scoped>\n",
       "    .dataframe tbody tr th:only-of-type {\n",
       "        vertical-align: middle;\n",
       "    }\n",
       "\n",
       "    .dataframe tbody tr th {\n",
       "        vertical-align: top;\n",
       "    }\n",
       "\n",
       "    .dataframe thead th {\n",
       "        text-align: right;\n",
       "    }\n",
       "</style>\n",
       "<table border=\"1\" class=\"dataframe\">\n",
       "  <thead>\n",
       "    <tr style=\"text-align: right;\">\n",
       "      <th></th>\n",
       "      <th>Airline</th>\n",
       "      <th>Source</th>\n",
       "      <th>Destination</th>\n",
       "      <th>Route</th>\n",
       "      <th>Duration</th>\n",
       "      <th>Total_Stops</th>\n",
       "      <th>Additional_Info</th>\n",
       "      <th>Price</th>\n",
       "      <th>Journey_Day</th>\n",
       "      <th>Journey_Month</th>\n",
       "      <th>Dep_Hour</th>\n",
       "      <th>Dep_Min</th>\n",
       "      <th>Arrival_Hour</th>\n",
       "      <th>Arrival_Min</th>\n",
       "    </tr>\n",
       "  </thead>\n",
       "  <tbody>\n",
       "    <tr>\n",
       "      <th>0</th>\n",
       "      <td>IndiGo</td>\n",
       "      <td>Banglore</td>\n",
       "      <td>New Delhi</td>\n",
       "      <td>BLR → DEL</td>\n",
       "      <td>170</td>\n",
       "      <td>non-stop</td>\n",
       "      <td>No info</td>\n",
       "      <td>3897</td>\n",
       "      <td>24</td>\n",
       "      <td>3</td>\n",
       "      <td>22</td>\n",
       "      <td>20</td>\n",
       "      <td>1</td>\n",
       "      <td>10</td>\n",
       "    </tr>\n",
       "    <tr>\n",
       "      <th>1</th>\n",
       "      <td>Air India</td>\n",
       "      <td>Kolkata</td>\n",
       "      <td>Banglore</td>\n",
       "      <td>CCU → IXR → BBI → BLR</td>\n",
       "      <td>445</td>\n",
       "      <td>2 stops</td>\n",
       "      <td>No info</td>\n",
       "      <td>7662</td>\n",
       "      <td>5</td>\n",
       "      <td>1</td>\n",
       "      <td>5</td>\n",
       "      <td>50</td>\n",
       "      <td>13</td>\n",
       "      <td>15</td>\n",
       "    </tr>\n",
       "    <tr>\n",
       "      <th>2</th>\n",
       "      <td>Jet Airways</td>\n",
       "      <td>Delhi</td>\n",
       "      <td>Cochin</td>\n",
       "      <td>DEL → LKO → BOM → COK</td>\n",
       "      <td>1140</td>\n",
       "      <td>2 stops</td>\n",
       "      <td>No info</td>\n",
       "      <td>13882</td>\n",
       "      <td>6</td>\n",
       "      <td>9</td>\n",
       "      <td>9</td>\n",
       "      <td>25</td>\n",
       "      <td>4</td>\n",
       "      <td>25</td>\n",
       "    </tr>\n",
       "    <tr>\n",
       "      <th>3</th>\n",
       "      <td>IndiGo</td>\n",
       "      <td>Kolkata</td>\n",
       "      <td>Banglore</td>\n",
       "      <td>CCU → NAG → BLR</td>\n",
       "      <td>325</td>\n",
       "      <td>1 stop</td>\n",
       "      <td>No info</td>\n",
       "      <td>6218</td>\n",
       "      <td>5</td>\n",
       "      <td>12</td>\n",
       "      <td>18</td>\n",
       "      <td>5</td>\n",
       "      <td>23</td>\n",
       "      <td>30</td>\n",
       "    </tr>\n",
       "    <tr>\n",
       "      <th>4</th>\n",
       "      <td>IndiGo</td>\n",
       "      <td>Banglore</td>\n",
       "      <td>New Delhi</td>\n",
       "      <td>BLR → NAG → DEL</td>\n",
       "      <td>285</td>\n",
       "      <td>1 stop</td>\n",
       "      <td>No info</td>\n",
       "      <td>13302</td>\n",
       "      <td>3</td>\n",
       "      <td>1</td>\n",
       "      <td>16</td>\n",
       "      <td>50</td>\n",
       "      <td>21</td>\n",
       "      <td>35</td>\n",
       "    </tr>\n",
       "  </tbody>\n",
       "</table>\n",
       "</div>"
      ],
      "text/plain": [
       "       Airline    Source Destination                  Route  Duration  \\\n",
       "0       IndiGo  Banglore   New Delhi              BLR → DEL       170   \n",
       "1    Air India   Kolkata    Banglore  CCU → IXR → BBI → BLR       445   \n",
       "2  Jet Airways     Delhi      Cochin  DEL → LKO → BOM → COK      1140   \n",
       "3       IndiGo   Kolkata    Banglore        CCU → NAG → BLR       325   \n",
       "4       IndiGo  Banglore   New Delhi        BLR → NAG → DEL       285   \n",
       "\n",
       "  Total_Stops Additional_Info  Price  Journey_Day  Journey_Month  Dep_Hour  \\\n",
       "0    non-stop         No info   3897           24              3        22   \n",
       "1     2 stops         No info   7662            5              1         5   \n",
       "2     2 stops         No info  13882            6              9         9   \n",
       "3      1 stop         No info   6218            5             12        18   \n",
       "4      1 stop         No info  13302            3              1        16   \n",
       "\n",
       "   Dep_Min  Arrival_Hour  Arrival_Min  \n",
       "0       20             1           10  \n",
       "1       50            13           15  \n",
       "2       25             4           25  \n",
       "3        5            23           30  \n",
       "4       50            21           35  "
      ]
     },
     "execution_count": 30,
     "metadata": {},
     "output_type": "execute_result"
    }
   ],
   "source": [
    "# Lets check dataframe now\n",
    "df.head()"
   ]
  },
  {
   "cell_type": "code",
   "execution_count": 31,
   "id": "0d3bb7bd",
   "metadata": {},
   "outputs": [
    {
     "name": "stdout",
     "output_type": "stream",
     "text": [
      "Jet Airways                          3849\n",
      "IndiGo                               2053\n",
      "Air India                            1751\n",
      "Multiple carriers                    1196\n",
      "SpiceJet                              818\n",
      "Vistara                               479\n",
      "Air Asia                              319\n",
      "GoAir                                 194\n",
      "Multiple carriers Premium economy      13\n",
      "Jet Airways Business                    6\n",
      "Vistara Premium economy                 3\n",
      "Trujet                                  1\n",
      "Name: Airline, dtype: int64\n",
      "\n",
      "\n",
      "Delhi       4536\n",
      "Kolkata     2871\n",
      "Banglore    2197\n",
      "Mumbai       697\n",
      "Chennai      381\n",
      "Name: Source, dtype: int64\n",
      "\n",
      "\n",
      "Cochin       4536\n",
      "Banglore     2871\n",
      "Delhi        1265\n",
      "New Delhi     932\n",
      "Hyderabad     697\n",
      "Kolkata       381\n",
      "Name: Destination, dtype: int64\n",
      "\n",
      "\n",
      "DEL → BOM → COK          2376\n",
      "BLR → DEL                1552\n",
      "CCU → BOM → BLR           979\n",
      "CCU → BLR                 724\n",
      "BOM → HYD                 621\n",
      "                         ... \n",
      "CCU → VTZ → BLR             1\n",
      "CCU → IXZ → MAA → BLR       1\n",
      "BOM → COK → MAA → HYD       1\n",
      "BOM → CCU → HYD             1\n",
      "BOM → BBI → HYD             1\n",
      "Name: Route, Length: 128, dtype: int64\n",
      "\n",
      "\n",
      "170     550\n",
      "90      386\n",
      "165     337\n",
      "175     337\n",
      "155     329\n",
      "       ... \n",
      "1890      1\n",
      "1825      1\n",
      "2525      1\n",
      "250       1\n",
      "2860      1\n",
      "Name: Duration, Length: 368, dtype: int64\n",
      "\n",
      "\n",
      "1 stop      5625\n",
      "non-stop    3491\n",
      "2 stops     1520\n",
      "3 stops       45\n",
      "4 stops        1\n",
      "Name: Total_Stops, dtype: int64\n",
      "\n",
      "\n",
      "No info                         8344\n",
      "In-flight meal not included     1982\n",
      "No check-in baggage included     320\n",
      "1 Long layover                    19\n",
      "Change airports                    7\n",
      "Business class                     4\n",
      "No Info                            3\n",
      "1 Short layover                    1\n",
      "Red-eye flight                     1\n",
      "2 Long layover                     1\n",
      "Name: Additional_Info, dtype: int64\n",
      "\n",
      "\n",
      "10262    258\n",
      "10844    212\n",
      "7229     162\n",
      "4804     160\n",
      "4823     131\n",
      "        ... \n",
      "14153      1\n",
      "8488       1\n",
      "7826       1\n",
      "6315       1\n",
      "12648      1\n",
      "Name: Price, Length: 1870, dtype: int64\n",
      "\n",
      "\n",
      "6     2166\n",
      "5     1391\n",
      "3     1361\n",
      "27    1130\n",
      "21    1111\n",
      "24    1052\n",
      "15     984\n",
      "18     832\n",
      "4      655\n",
      "Name: Journey_Day, dtype: int64\n",
      "\n",
      "\n",
      "6     2535\n",
      "3     2211\n",
      "5     2074\n",
      "9     1406\n",
      "1     1075\n",
      "12     957\n",
      "4      424\n",
      "Name: Journey_Month, dtype: int64\n",
      "\n",
      "\n",
      "9     915\n",
      "7     867\n",
      "8     697\n",
      "17    695\n",
      "6     687\n",
      "20    651\n",
      "5     629\n",
      "11    580\n",
      "19    567\n",
      "10    536\n",
      "14    523\n",
      "21    492\n",
      "16    472\n",
      "18    444\n",
      "13    417\n",
      "22    387\n",
      "15    319\n",
      "2     194\n",
      "12    178\n",
      "4     170\n",
      "23    161\n",
      "0      40\n",
      "1      37\n",
      "3      24\n",
      "Name: Dep_Hour, dtype: int64\n",
      "\n",
      "\n",
      "0     2062\n",
      "30    1215\n",
      "55    1058\n",
      "10     890\n",
      "45     875\n",
      "5      773\n",
      "15     692\n",
      "25     691\n",
      "20     666\n",
      "35     665\n",
      "50     591\n",
      "40     504\n",
      "Name: Dep_Min, dtype: int64\n",
      "\n",
      "\n",
      "19    1626\n",
      "12     897\n",
      "4      838\n",
      "21     703\n",
      "22     647\n",
      "1      529\n",
      "18     514\n",
      "9      489\n",
      "23     485\n",
      "10     476\n",
      "8      471\n",
      "7      417\n",
      "20     377\n",
      "16     370\n",
      "0      322\n",
      "13     308\n",
      "11     298\n",
      "14     295\n",
      "17     191\n",
      "15     182\n",
      "2       79\n",
      "5       69\n",
      "6       52\n",
      "3       47\n",
      "Name: Arrival_Hour, dtype: int64\n",
      "\n",
      "\n",
      "0     1447\n",
      "25    1301\n",
      "15    1286\n",
      "35    1111\n",
      "20     902\n",
      "30     832\n",
      "50     750\n",
      "45     697\n",
      "5      660\n",
      "40     629\n",
      "10     577\n",
      "55     490\n",
      "Name: Arrival_Min, dtype: int64\n",
      "\n",
      "\n"
     ]
    }
   ],
   "source": [
    "# Checking the value counts of each column\n",
    "for i in df.columns:\n",
    "    print(df[i].value_counts())\n",
    "    print(\"\\n\")"
   ]
  },
  {
   "cell_type": "markdown",
   "id": "cc355216",
   "metadata": {},
   "source": [
    "From the above list of unique values, we can see some repeated categories in some columns. Lets replace them."
   ]
  },
  {
   "cell_type": "code",
   "execution_count": 32,
   "id": "c0e2cb34",
   "metadata": {},
   "outputs": [],
   "source": [
    "\n",
    "\n",
    "# Replacing \"New Delhi\" as \"Delhi\" in Destination column\n",
    "df[\"Destination\"] = df[\"Destination\"].replace(\"New Delhi\",\"Delhi\")\n",
    "\n",
    "# In the column \"Additional Info\", \"No Info\" and \"No info\" are same so replacing it by \"No Info\n",
    "df['Additional_Info'] = df['Additional_Info'].replace(\"No info\", \"No Info\")\n"
   ]
  },
  {
   "cell_type": "code",
   "execution_count": 33,
   "id": "f55deb12",
   "metadata": {},
   "outputs": [
    {
     "data": {
      "text/plain": [
       "['Airline',\n",
       " 'Source',\n",
       " 'Destination',\n",
       " 'Route',\n",
       " 'Duration',\n",
       " 'Total_Stops',\n",
       " 'Additional_Info',\n",
       " 'Price',\n",
       " 'Journey_Day',\n",
       " 'Journey_Month',\n",
       " 'Dep_Hour',\n",
       " 'Dep_Min',\n",
       " 'Arrival_Hour',\n",
       " 'Arrival_Min']"
      ]
     },
     "execution_count": 33,
     "metadata": {},
     "output_type": "execute_result"
    }
   ],
   "source": [
    "# Checking for columns in the dataset\n",
    "df.columns.tolist()"
   ]
  },
  {
   "cell_type": "code",
   "execution_count": 35,
   "id": "69b6f7f7",
   "metadata": {},
   "outputs": [
    {
     "data": {
      "text/plain": [
       "10262    258\n",
       "10844    212\n",
       "7229     162\n",
       "4804     160\n",
       "4823     131\n",
       "        ... \n",
       "14153      1\n",
       "8488       1\n",
       "7826       1\n",
       "6315       1\n",
       "12648      1\n",
       "Name: Price, Length: 1870, dtype: int64"
      ]
     },
     "execution_count": 35,
     "metadata": {},
     "output_type": "execute_result"
    }
   ],
   "source": [
    "# Checking the list of counts in the target column.\n",
    "df[\"Price\"].value_counts()"
   ]
  },
  {
   "cell_type": "code",
   "execution_count": 34,
   "id": "82d52591",
   "metadata": {},
   "outputs": [
    {
     "data": {
      "text/html": [
       "<div>\n",
       "<style scoped>\n",
       "    .dataframe tbody tr th:only-of-type {\n",
       "        vertical-align: middle;\n",
       "    }\n",
       "\n",
       "    .dataframe tbody tr th {\n",
       "        vertical-align: top;\n",
       "    }\n",
       "\n",
       "    .dataframe thead th {\n",
       "        text-align: right;\n",
       "    }\n",
       "</style>\n",
       "<table border=\"1\" class=\"dataframe\">\n",
       "  <thead>\n",
       "    <tr style=\"text-align: right;\">\n",
       "      <th></th>\n",
       "      <th>Airline</th>\n",
       "      <th>Source</th>\n",
       "      <th>Destination</th>\n",
       "      <th>Route</th>\n",
       "      <th>Duration</th>\n",
       "      <th>Total_Stops</th>\n",
       "      <th>Additional_Info</th>\n",
       "      <th>Price</th>\n",
       "      <th>Journey_Day</th>\n",
       "      <th>Journey_Month</th>\n",
       "      <th>Dep_Hour</th>\n",
       "      <th>Dep_Min</th>\n",
       "      <th>Arrival_Hour</th>\n",
       "      <th>Arrival_Min</th>\n",
       "    </tr>\n",
       "  </thead>\n",
       "  <tbody>\n",
       "  </tbody>\n",
       "</table>\n",
       "</div>"
      ],
      "text/plain": [
       "Empty DataFrame\n",
       "Columns: [Airline, Source, Destination, Route, Duration, Total_Stops, Additional_Info, Price, Journey_Day, Journey_Month, Dep_Hour, Dep_Min, Arrival_Hour, Arrival_Min]\n",
       "Index: []"
      ]
     },
     "execution_count": 34,
     "metadata": {},
     "output_type": "execute_result"
    }
   ],
   "source": [
    "# Checking whether the dataset contains any space\n",
    "df.loc[df['Price']==\" \"]"
   ]
  },
  {
   "cell_type": "markdown",
   "id": "f931cb83",
   "metadata": {},
   "source": [
    "There is no empty space in any of the columns."
   ]
  },
  {
   "cell_type": "markdown",
   "id": "4a1be8fe",
   "metadata": {},
   "source": [
    "## Description of Dataset"
   ]
  },
  {
   "cell_type": "code",
   "execution_count": 36,
   "id": "f5ae66eb",
   "metadata": {},
   "outputs": [
    {
     "data": {
      "text/html": [
       "<div>\n",
       "<style scoped>\n",
       "    .dataframe tbody tr th:only-of-type {\n",
       "        vertical-align: middle;\n",
       "    }\n",
       "\n",
       "    .dataframe tbody tr th {\n",
       "        vertical-align: top;\n",
       "    }\n",
       "\n",
       "    .dataframe thead th {\n",
       "        text-align: right;\n",
       "    }\n",
       "</style>\n",
       "<table border=\"1\" class=\"dataframe\">\n",
       "  <thead>\n",
       "    <tr style=\"text-align: right;\">\n",
       "      <th></th>\n",
       "      <th>Duration</th>\n",
       "      <th>Price</th>\n",
       "      <th>Journey_Day</th>\n",
       "      <th>Journey_Month</th>\n",
       "      <th>Dep_Hour</th>\n",
       "      <th>Dep_Min</th>\n",
       "      <th>Arrival_Hour</th>\n",
       "      <th>Arrival_Min</th>\n",
       "    </tr>\n",
       "  </thead>\n",
       "  <tbody>\n",
       "    <tr>\n",
       "      <th>count</th>\n",
       "      <td>10682.000000</td>\n",
       "      <td>10682.000000</td>\n",
       "      <td>10682.000000</td>\n",
       "      <td>10682.000000</td>\n",
       "      <td>10682.000000</td>\n",
       "      <td>10682.000000</td>\n",
       "      <td>10682.000000</td>\n",
       "      <td>10682.000000</td>\n",
       "    </tr>\n",
       "    <tr>\n",
       "      <th>mean</th>\n",
       "      <td>643.020502</td>\n",
       "      <td>9087.214567</td>\n",
       "      <td>12.682925</td>\n",
       "      <td>5.534731</td>\n",
       "      <td>12.491013</td>\n",
       "      <td>24.409287</td>\n",
       "      <td>13.349186</td>\n",
       "      <td>24.690601</td>\n",
       "    </tr>\n",
       "    <tr>\n",
       "      <th>std</th>\n",
       "      <td>507.830133</td>\n",
       "      <td>4611.548810</td>\n",
       "      <td>8.803800</td>\n",
       "      <td>2.987626</td>\n",
       "      <td>5.748820</td>\n",
       "      <td>18.767801</td>\n",
       "      <td>6.859317</td>\n",
       "      <td>16.506808</td>\n",
       "    </tr>\n",
       "    <tr>\n",
       "      <th>min</th>\n",
       "      <td>5.000000</td>\n",
       "      <td>1759.000000</td>\n",
       "      <td>3.000000</td>\n",
       "      <td>1.000000</td>\n",
       "      <td>0.000000</td>\n",
       "      <td>0.000000</td>\n",
       "      <td>0.000000</td>\n",
       "      <td>0.000000</td>\n",
       "    </tr>\n",
       "    <tr>\n",
       "      <th>25%</th>\n",
       "      <td>170.000000</td>\n",
       "      <td>5277.000000</td>\n",
       "      <td>5.000000</td>\n",
       "      <td>3.000000</td>\n",
       "      <td>8.000000</td>\n",
       "      <td>5.000000</td>\n",
       "      <td>8.000000</td>\n",
       "      <td>10.000000</td>\n",
       "    </tr>\n",
       "    <tr>\n",
       "      <th>50%</th>\n",
       "      <td>520.000000</td>\n",
       "      <td>8372.000000</td>\n",
       "      <td>6.000000</td>\n",
       "      <td>5.000000</td>\n",
       "      <td>11.000000</td>\n",
       "      <td>25.000000</td>\n",
       "      <td>14.000000</td>\n",
       "      <td>25.000000</td>\n",
       "    </tr>\n",
       "    <tr>\n",
       "      <th>75%</th>\n",
       "      <td>930.000000</td>\n",
       "      <td>12373.000000</td>\n",
       "      <td>21.000000</td>\n",
       "      <td>6.000000</td>\n",
       "      <td>18.000000</td>\n",
       "      <td>40.000000</td>\n",
       "      <td>19.000000</td>\n",
       "      <td>35.000000</td>\n",
       "    </tr>\n",
       "    <tr>\n",
       "      <th>max</th>\n",
       "      <td>2860.000000</td>\n",
       "      <td>79512.000000</td>\n",
       "      <td>27.000000</td>\n",
       "      <td>12.000000</td>\n",
       "      <td>23.000000</td>\n",
       "      <td>55.000000</td>\n",
       "      <td>23.000000</td>\n",
       "      <td>55.000000</td>\n",
       "    </tr>\n",
       "  </tbody>\n",
       "</table>\n",
       "</div>"
      ],
      "text/plain": [
       "           Duration         Price   Journey_Day  Journey_Month      Dep_Hour  \\\n",
       "count  10682.000000  10682.000000  10682.000000   10682.000000  10682.000000   \n",
       "mean     643.020502   9087.214567     12.682925       5.534731     12.491013   \n",
       "std      507.830133   4611.548810      8.803800       2.987626      5.748820   \n",
       "min        5.000000   1759.000000      3.000000       1.000000      0.000000   \n",
       "25%      170.000000   5277.000000      5.000000       3.000000      8.000000   \n",
       "50%      520.000000   8372.000000      6.000000       5.000000     11.000000   \n",
       "75%      930.000000  12373.000000     21.000000       6.000000     18.000000   \n",
       "max     2860.000000  79512.000000     27.000000      12.000000     23.000000   \n",
       "\n",
       "            Dep_Min  Arrival_Hour   Arrival_Min  \n",
       "count  10682.000000  10682.000000  10682.000000  \n",
       "mean      24.409287     13.349186     24.690601  \n",
       "std       18.767801      6.859317     16.506808  \n",
       "min        0.000000      0.000000      0.000000  \n",
       "25%        5.000000      8.000000     10.000000  \n",
       "50%       25.000000     14.000000     25.000000  \n",
       "75%       40.000000     19.000000     35.000000  \n",
       "max       55.000000     23.000000     55.000000  "
      ]
     },
     "execution_count": 36,
     "metadata": {},
     "output_type": "execute_result"
    }
   ],
   "source": [
    "# Statistical summary of the dataset\n",
    "df.describe()"
   ]
  },
  {
   "cell_type": "markdown",
   "id": "eb899b6d",
   "metadata": {},
   "source": [
    "* No missing values\n",
    "* The mean value is greater than the median(50%) in the columns Price,Journey_Day,Duration and Dep_Hour so we can say they are skewed to right.\n",
    "* The median(50%) is bit greater than mean in Dep_Min,Arrival_Hour and Arrival_Min which means they are skewed to left.\n",
    "* Also there is a huge difference in maximum and 75% percentile in the columns Price, Arrival_Min which leads to outlies in thoe columns\n",
    "* The std of target variable is high which means it has high rate of dispersion."
   ]
  },
  {
   "cell_type": "markdown",
   "id": "95ac684a",
   "metadata": {},
   "source": [
    "# Lets separate numerical and categorical column.\n"
   ]
  },
  {
   "cell_type": "code",
   "execution_count": 37,
   "id": "58bf9b1a",
   "metadata": {},
   "outputs": [
    {
     "name": "stdout",
     "output_type": "stream",
     "text": [
      "['Airline', 'Source', 'Destination', 'Route', 'Total_Stops', 'Additional_Info']\n"
     ]
    }
   ],
   "source": [
    "\n",
    "# Checking categorical columns\n",
    "categorical_col = []\n",
    "for i in df.dtypes.index:\n",
    "    if df.dtypes[i] == 'object':\n",
    "        categorical_col.append(i) \n",
    "print(categorical_col)"
   ]
  },
  {
   "cell_type": "code",
   "execution_count": 38,
   "id": "3ff9f3cc",
   "metadata": {},
   "outputs": [
    {
     "name": "stdout",
     "output_type": "stream",
     "text": [
      "['Duration', 'Price', 'Journey_Day', 'Journey_Month', 'Dep_Hour', 'Dep_Min', 'Arrival_Hour', 'Arrival_Min']\n"
     ]
    }
   ],
   "source": [
    "# Checking numerical column\n",
    "numerical_col = []\n",
    "for i in df.dtypes.index:\n",
    "    if df.dtypes[i]!='object':\n",
    "        numerical_col.append(i)\n",
    "print(numerical_col)"
   ]
  },
  {
   "cell_type": "markdown",
   "id": "e29f5262",
   "metadata": {},
   "source": [
    "# Distribution of skewness\n"
   ]
  },
  {
   "cell_type": "markdown",
   "id": "1c95ff9d",
   "metadata": {},
   "source": [
    "## Plotting numerical columns\n"
   ]
  },
  {
   "cell_type": "code",
   "execution_count": 41,
   "id": "0eea12dd",
   "metadata": {},
   "outputs": [
    {
     "data": {
      "image/png": "[encoded data removed]",
      "text/plain": [
       "<Figure size 1080x1080 with 8 Axes>"
      ]
     },
     "metadata": {
      "needs_background": "light"
     },
     "output_type": "display_data"
    }
   ],
   "source": [
    "# Checking numerical columns\n",
    "plt.figure(figsize = (15, 15))\n",
    "plotnumber = 1\n",
    "for col in numerical_col:\n",
    "    if plotnumber<=8:\n",
    "        ax = plt.subplot(3, 3, plotnumber)\n",
    "        sns.distplot(df[col], color = 'indigo')\n",
    "        plt.xlabel(col, fontsize = 20)\n",
    "    plotnumber+=1\n",
    "plt.tight_layout()"
   ]
  },
  {
   "cell_type": "markdown",
   "id": "9fd217b2",
   "metadata": {},
   "source": [
    "# Outliers"
   ]
  },
  {
   "cell_type": "code",
   "execution_count": 42,
   "id": "32263f09",
   "metadata": {},
   "outputs": [
    {
     "data": {
      "image/png": "[encoded data removed]",
      "text/plain": [
       "<Figure size 1080x1080 with 8 Axes>"
      ]
     },
     "metadata": {},
     "output_type": "display_data"
    }
   ],
   "source": [
    "# Identifying the outliers using boxplot\n",
    "\n",
    "plt.figure(figsize = (15, 15), facecolor = \"white\")\n",
    "plotnumber = 1\n",
    "for col in numerical_col:\n",
    "    if plotnumber<=8:\n",
    "        ax = plt.subplot(3, 3, plotnumber)\n",
    "        sns.boxplot(df[col], color = \"darkorange\")\n",
    "        plt.xlabel(col, fontsize = 15)\n",
    "    plotnumber+=1\n",
    "plt.tight_layout() "
   ]
  },
  {
   "cell_type": "markdown",
   "id": "df9f8aaa",
   "metadata": {},
   "source": [
    "* The outliers are present in the columns \"Duration\",\"Journey_Month\" and the target variable \"Price\".\n"
   ]
  },
  {
   "cell_type": "markdown",
   "id": "3ccd6ca8",
   "metadata": {},
   "source": [
    "Since \"Price\" is the target column so no need to remove outliers from this column.\n",
    "\n",
    " We need to remove the outliers from the other two columns using zscore or IQR methods"
   ]
  },
  {
   "cell_type": "code",
   "execution_count": null,
   "id": "246c80cd",
   "metadata": {},
   "outputs": [],
   "source": []
  },
  {
   "cell_type": "code",
   "execution_count": 43,
   "id": "7e71b8af",
   "metadata": {},
   "outputs": [
    {
     "data": {
      "text/html": [
       "<div>\n",
       "<style scoped>\n",
       "    .dataframe tbody tr th:only-of-type {\n",
       "        vertical-align: middle;\n",
       "    }\n",
       "\n",
       "    .dataframe tbody tr th {\n",
       "        vertical-align: top;\n",
       "    }\n",
       "\n",
       "    .dataframe thead th {\n",
       "        text-align: right;\n",
       "    }\n",
       "</style>\n",
       "<table border=\"1\" class=\"dataframe\">\n",
       "  <thead>\n",
       "    <tr style=\"text-align: right;\">\n",
       "      <th></th>\n",
       "      <th>Duration</th>\n",
       "      <th>Journey_Month</th>\n",
       "    </tr>\n",
       "  </thead>\n",
       "  <tbody>\n",
       "    <tr>\n",
       "      <th>0</th>\n",
       "      <td>0.931498</td>\n",
       "      <td>0.848450</td>\n",
       "    </tr>\n",
       "    <tr>\n",
       "      <th>1</th>\n",
       "      <td>0.389953</td>\n",
       "      <td>1.517909</td>\n",
       "    </tr>\n",
       "    <tr>\n",
       "      <th>2</th>\n",
       "      <td>0.978679</td>\n",
       "      <td>1.159928</td>\n",
       "    </tr>\n",
       "    <tr>\n",
       "      <th>3</th>\n",
       "      <td>0.626263</td>\n",
       "      <td>2.164117</td>\n",
       "    </tr>\n",
       "    <tr>\n",
       "      <th>4</th>\n",
       "      <td>0.705034</td>\n",
       "      <td>1.517909</td>\n",
       "    </tr>\n",
       "    <tr>\n",
       "      <th>...</th>\n",
       "      <td>...</td>\n",
       "      <td>...</td>\n",
       "    </tr>\n",
       "    <tr>\n",
       "      <th>10678</th>\n",
       "      <td>0.970883</td>\n",
       "      <td>1.159928</td>\n",
       "    </tr>\n",
       "    <tr>\n",
       "      <th>10679</th>\n",
       "      <td>0.961037</td>\n",
       "      <td>0.513720</td>\n",
       "    </tr>\n",
       "    <tr>\n",
       "      <th>10680</th>\n",
       "      <td>0.911805</td>\n",
       "      <td>0.513720</td>\n",
       "    </tr>\n",
       "    <tr>\n",
       "      <th>10681</th>\n",
       "      <td>0.951190</td>\n",
       "      <td>1.517909</td>\n",
       "    </tr>\n",
       "    <tr>\n",
       "      <th>10682</th>\n",
       "      <td>0.281644</td>\n",
       "      <td>1.159928</td>\n",
       "    </tr>\n",
       "  </tbody>\n",
       "</table>\n",
       "<p>10682 rows × 2 columns</p>\n",
       "</div>"
      ],
      "text/plain": [
       "       Duration  Journey_Month\n",
       "0      0.931498       0.848450\n",
       "1      0.389953       1.517909\n",
       "2      0.978679       1.159928\n",
       "3      0.626263       2.164117\n",
       "4      0.705034       1.517909\n",
       "...         ...            ...\n",
       "10678  0.970883       1.159928\n",
       "10679  0.961037       0.513720\n",
       "10680  0.911805       0.513720\n",
       "10681  0.951190       1.517909\n",
       "10682  0.281644       1.159928\n",
       "\n",
       "[10682 rows x 2 columns]"
      ]
     },
     "execution_count": 43,
     "metadata": {},
     "output_type": "execute_result"
    }
   ],
   "source": [
    "# Z-sore method\n",
    "from scipy.stats import zscore\n",
    "# Features containing outliers\n",
    "features = df[[\"Duration\",\"Journey_Month\"]]\n",
    "z = np.abs(zscore(features))\n",
    "z"
   ]
  },
  {
   "cell_type": "code",
   "execution_count": 44,
   "id": "c8c76ee9",
   "metadata": {},
   "outputs": [
    {
     "data": {
      "text/html": [
       "<div>\n",
       "<style scoped>\n",
       "    .dataframe tbody tr th:only-of-type {\n",
       "        vertical-align: middle;\n",
       "    }\n",
       "\n",
       "    .dataframe tbody tr th {\n",
       "        vertical-align: top;\n",
       "    }\n",
       "\n",
       "    .dataframe thead th {\n",
       "        text-align: right;\n",
       "    }\n",
       "</style>\n",
       "<table border=\"1\" class=\"dataframe\">\n",
       "  <thead>\n",
       "    <tr style=\"text-align: right;\">\n",
       "      <th></th>\n",
       "      <th>Airline</th>\n",
       "      <th>Source</th>\n",
       "      <th>Destination</th>\n",
       "      <th>Route</th>\n",
       "      <th>Duration</th>\n",
       "      <th>Total_Stops</th>\n",
       "      <th>Additional_Info</th>\n",
       "      <th>Price</th>\n",
       "      <th>Journey_Day</th>\n",
       "      <th>Journey_Month</th>\n",
       "      <th>Dep_Hour</th>\n",
       "      <th>Dep_Min</th>\n",
       "      <th>Arrival_Hour</th>\n",
       "      <th>Arrival_Min</th>\n",
       "    </tr>\n",
       "  </thead>\n",
       "  <tbody>\n",
       "    <tr>\n",
       "      <th>0</th>\n",
       "      <td>IndiGo</td>\n",
       "      <td>Banglore</td>\n",
       "      <td>Delhi</td>\n",
       "      <td>BLR → DEL</td>\n",
       "      <td>170</td>\n",
       "      <td>non-stop</td>\n",
       "      <td>No Info</td>\n",
       "      <td>3897</td>\n",
       "      <td>24</td>\n",
       "      <td>3</td>\n",
       "      <td>22</td>\n",
       "      <td>20</td>\n",
       "      <td>1</td>\n",
       "      <td>10</td>\n",
       "    </tr>\n",
       "    <tr>\n",
       "      <th>1</th>\n",
       "      <td>Air India</td>\n",
       "      <td>Kolkata</td>\n",
       "      <td>Banglore</td>\n",
       "      <td>CCU → IXR → BBI → BLR</td>\n",
       "      <td>445</td>\n",
       "      <td>2 stops</td>\n",
       "      <td>No Info</td>\n",
       "      <td>7662</td>\n",
       "      <td>5</td>\n",
       "      <td>1</td>\n",
       "      <td>5</td>\n",
       "      <td>50</td>\n",
       "      <td>13</td>\n",
       "      <td>15</td>\n",
       "    </tr>\n",
       "    <tr>\n",
       "      <th>2</th>\n",
       "      <td>Jet Airways</td>\n",
       "      <td>Delhi</td>\n",
       "      <td>Cochin</td>\n",
       "      <td>DEL → LKO → BOM → COK</td>\n",
       "      <td>1140</td>\n",
       "      <td>2 stops</td>\n",
       "      <td>No Info</td>\n",
       "      <td>13882</td>\n",
       "      <td>6</td>\n",
       "      <td>9</td>\n",
       "      <td>9</td>\n",
       "      <td>25</td>\n",
       "      <td>4</td>\n",
       "      <td>25</td>\n",
       "    </tr>\n",
       "    <tr>\n",
       "      <th>3</th>\n",
       "      <td>IndiGo</td>\n",
       "      <td>Kolkata</td>\n",
       "      <td>Banglore</td>\n",
       "      <td>CCU → NAG → BLR</td>\n",
       "      <td>325</td>\n",
       "      <td>1 stop</td>\n",
       "      <td>No Info</td>\n",
       "      <td>6218</td>\n",
       "      <td>5</td>\n",
       "      <td>12</td>\n",
       "      <td>18</td>\n",
       "      <td>5</td>\n",
       "      <td>23</td>\n",
       "      <td>30</td>\n",
       "    </tr>\n",
       "    <tr>\n",
       "      <th>4</th>\n",
       "      <td>IndiGo</td>\n",
       "      <td>Banglore</td>\n",
       "      <td>Delhi</td>\n",
       "      <td>BLR → NAG → DEL</td>\n",
       "      <td>285</td>\n",
       "      <td>1 stop</td>\n",
       "      <td>No Info</td>\n",
       "      <td>13302</td>\n",
       "      <td>3</td>\n",
       "      <td>1</td>\n",
       "      <td>16</td>\n",
       "      <td>50</td>\n",
       "      <td>21</td>\n",
       "      <td>35</td>\n",
       "    </tr>\n",
       "    <tr>\n",
       "      <th>...</th>\n",
       "      <td>...</td>\n",
       "      <td>...</td>\n",
       "      <td>...</td>\n",
       "      <td>...</td>\n",
       "      <td>...</td>\n",
       "      <td>...</td>\n",
       "      <td>...</td>\n",
       "      <td>...</td>\n",
       "      <td>...</td>\n",
       "      <td>...</td>\n",
       "      <td>...</td>\n",
       "      <td>...</td>\n",
       "      <td>...</td>\n",
       "      <td>...</td>\n",
       "    </tr>\n",
       "    <tr>\n",
       "      <th>10678</th>\n",
       "      <td>Air Asia</td>\n",
       "      <td>Kolkata</td>\n",
       "      <td>Banglore</td>\n",
       "      <td>CCU → BLR</td>\n",
       "      <td>150</td>\n",
       "      <td>non-stop</td>\n",
       "      <td>No Info</td>\n",
       "      <td>4107</td>\n",
       "      <td>4</td>\n",
       "      <td>9</td>\n",
       "      <td>19</td>\n",
       "      <td>55</td>\n",
       "      <td>22</td>\n",
       "      <td>25</td>\n",
       "    </tr>\n",
       "    <tr>\n",
       "      <th>10679</th>\n",
       "      <td>Air India</td>\n",
       "      <td>Kolkata</td>\n",
       "      <td>Banglore</td>\n",
       "      <td>CCU → BLR</td>\n",
       "      <td>155</td>\n",
       "      <td>non-stop</td>\n",
       "      <td>No Info</td>\n",
       "      <td>4145</td>\n",
       "      <td>27</td>\n",
       "      <td>4</td>\n",
       "      <td>20</td>\n",
       "      <td>45</td>\n",
       "      <td>23</td>\n",
       "      <td>20</td>\n",
       "    </tr>\n",
       "    <tr>\n",
       "      <th>10680</th>\n",
       "      <td>Jet Airways</td>\n",
       "      <td>Banglore</td>\n",
       "      <td>Delhi</td>\n",
       "      <td>BLR → DEL</td>\n",
       "      <td>180</td>\n",
       "      <td>non-stop</td>\n",
       "      <td>No Info</td>\n",
       "      <td>7229</td>\n",
       "      <td>27</td>\n",
       "      <td>4</td>\n",
       "      <td>8</td>\n",
       "      <td>20</td>\n",
       "      <td>11</td>\n",
       "      <td>20</td>\n",
       "    </tr>\n",
       "    <tr>\n",
       "      <th>10681</th>\n",
       "      <td>Vistara</td>\n",
       "      <td>Banglore</td>\n",
       "      <td>Delhi</td>\n",
       "      <td>BLR → DEL</td>\n",
       "      <td>160</td>\n",
       "      <td>non-stop</td>\n",
       "      <td>No Info</td>\n",
       "      <td>12648</td>\n",
       "      <td>3</td>\n",
       "      <td>1</td>\n",
       "      <td>11</td>\n",
       "      <td>30</td>\n",
       "      <td>14</td>\n",
       "      <td>10</td>\n",
       "    </tr>\n",
       "    <tr>\n",
       "      <th>10682</th>\n",
       "      <td>Air India</td>\n",
       "      <td>Delhi</td>\n",
       "      <td>Cochin</td>\n",
       "      <td>DEL → GOI → BOM → COK</td>\n",
       "      <td>500</td>\n",
       "      <td>2 stops</td>\n",
       "      <td>No Info</td>\n",
       "      <td>11753</td>\n",
       "      <td>5</td>\n",
       "      <td>9</td>\n",
       "      <td>10</td>\n",
       "      <td>55</td>\n",
       "      <td>19</td>\n",
       "      <td>15</td>\n",
       "    </tr>\n",
       "  </tbody>\n",
       "</table>\n",
       "<p>10616 rows × 14 columns</p>\n",
       "</div>"
      ],
      "text/plain": [
       "           Airline    Source Destination                  Route  Duration  \\\n",
       "0           IndiGo  Banglore       Delhi              BLR → DEL       170   \n",
       "1        Air India   Kolkata    Banglore  CCU → IXR → BBI → BLR       445   \n",
       "2      Jet Airways     Delhi      Cochin  DEL → LKO → BOM → COK      1140   \n",
       "3           IndiGo   Kolkata    Banglore        CCU → NAG → BLR       325   \n",
       "4           IndiGo  Banglore       Delhi        BLR → NAG → DEL       285   \n",
       "...            ...       ...         ...                    ...       ...   \n",
       "10678     Air Asia   Kolkata    Banglore              CCU → BLR       150   \n",
       "10679    Air India   Kolkata    Banglore              CCU → BLR       155   \n",
       "10680  Jet Airways  Banglore       Delhi              BLR → DEL       180   \n",
       "10681      Vistara  Banglore       Delhi              BLR → DEL       160   \n",
       "10682    Air India     Delhi      Cochin  DEL → GOI → BOM → COK       500   \n",
       "\n",
       "      Total_Stops Additional_Info  Price  Journey_Day  Journey_Month  \\\n",
       "0        non-stop         No Info   3897           24              3   \n",
       "1         2 stops         No Info   7662            5              1   \n",
       "2         2 stops         No Info  13882            6              9   \n",
       "3          1 stop         No Info   6218            5             12   \n",
       "4          1 stop         No Info  13302            3              1   \n",
       "...           ...             ...    ...          ...            ...   \n",
       "10678    non-stop         No Info   4107            4              9   \n",
       "10679    non-stop         No Info   4145           27              4   \n",
       "10680    non-stop         No Info   7229           27              4   \n",
       "10681    non-stop         No Info  12648            3              1   \n",
       "10682     2 stops         No Info  11753            5              9   \n",
       "\n",
       "       Dep_Hour  Dep_Min  Arrival_Hour  Arrival_Min  \n",
       "0            22       20             1           10  \n",
       "1             5       50            13           15  \n",
       "2             9       25             4           25  \n",
       "3            18        5            23           30  \n",
       "4            16       50            21           35  \n",
       "...         ...      ...           ...          ...  \n",
       "10678        19       55            22           25  \n",
       "10679        20       45            23           20  \n",
       "10680         8       20            11           20  \n",
       "10681        11       30            14           10  \n",
       "10682        10       55            19           15  \n",
       "\n",
       "[10616 rows x 14 columns]"
      ]
     },
     "execution_count": 44,
     "metadata": {},
     "output_type": "execute_result"
    }
   ],
   "source": [
    "# Creating new dataframe\n",
    "new_df = df[(z<3).all(axis=1)]\n",
    "new_df"
   ]
  },
  {
   "cell_type": "code",
   "execution_count": 45,
   "id": "2c02d60c",
   "metadata": {},
   "outputs": [
    {
     "name": "stdout",
     "output_type": "stream",
     "text": [
      "(10682, 14)\n",
      "(10616, 14)\n"
     ]
    }
   ],
   "source": [
    "# Checking the dimensions of both dataframes.\n",
    "print(df.shape)\n",
    "print(new_df.shape)"
   ]
  },
  {
   "cell_type": "code",
   "execution_count": 46,
   "id": "939f90bb",
   "metadata": {},
   "outputs": [
    {
     "data": {
      "text/plain": [
       "0.6178039876439202"
      ]
     },
     "execution_count": 46,
     "metadata": {},
     "output_type": "execute_result"
    }
   ],
   "source": [
    "# Checking data loss\n",
    "loss = (10683-10617)/10683*100\n",
    "loss"
   ]
  },
  {
   "cell_type": "markdown",
   "id": "fc21a8b6",
   "metadata": {},
   "source": [
    "# IQR(InterQuantileRange)\n"
   ]
  },
  {
   "cell_type": "code",
   "execution_count": 47,
   "id": "b4165fd0",
   "metadata": {},
   "outputs": [],
   "source": [
    "# 1st quantile\n",
    "Q1 = features.quantile(0.25)\n",
    "\n",
    "#3rd quantile\n",
    "Q3 = features.quantile(0.75)\n",
    "\n",
    "IQR = Q3 - Q1\n",
    "\n",
    "df1 = df[~((df<(Q1-1.5*IQR))|(df>(Q3+1.5*IQR))).any(axis = 1)]"
   ]
  },
  {
   "cell_type": "code",
   "execution_count": 48,
   "id": "c52811da",
   "metadata": {},
   "outputs": [
    {
     "data": {
      "text/plain": [
       "(9656, 14)"
      ]
     },
     "execution_count": 48,
     "metadata": {},
     "output_type": "execute_result"
    }
   ],
   "source": [
    "df1.shape\n"
   ]
  },
  {
   "cell_type": "code",
   "execution_count": 49,
   "id": "d8f2c56c",
   "metadata": {},
   "outputs": [
    {
     "data": {
      "text/plain": [
       "9.604043807919124"
      ]
     },
     "execution_count": 49,
     "metadata": {},
     "output_type": "execute_result"
    }
   ],
   "source": [
    "# Checking data loss using IQR\n",
    "loss = (10683-9657)/10683*100\n",
    "loss"
   ]
  },
  {
   "cell_type": "markdown",
   "id": "8fcdeb7e",
   "metadata": {},
   "source": [
    "Using IQR method we are losing 9.6% data. Lets consider Zscore method."
   ]
  },
  {
   "cell_type": "markdown",
   "id": "3ac5a1a2",
   "metadata": {},
   "source": [
    "# Checking Skewness\n"
   ]
  },
  {
   "cell_type": "code",
   "execution_count": 50,
   "id": "9349feb0",
   "metadata": {},
   "outputs": [
    {
     "data": {
      "text/plain": [
       "Duration         0.774576\n",
       "Price            1.824353\n",
       "Journey_Day      0.366867\n",
       "Journey_Month    0.628240\n",
       "Dep_Hour         0.103647\n",
       "Dep_Min          0.164757\n",
       "Arrival_Hour    -0.361408\n",
       "Arrival_Min      0.107806\n",
       "dtype: float64"
      ]
     },
     "execution_count": 50,
     "metadata": {},
     "output_type": "execute_result"
    }
   ],
   "source": [
    "# Checking skewness \n",
    "new_df.skew()"
   ]
  },
  {
   "cell_type": "markdown",
   "id": "c17ba506",
   "metadata": {},
   "source": [
    "* Skewness threshold is taken as +/-0.65.\n",
    "* We can find the skewnwss present in Price, Duration and Journey_Month columns\n",
    "* As Price is the target column no need to remove skewness from that column but will remove skewness from the other two columns.\n"
   ]
  },
  {
   "cell_type": "markdown",
   "id": "cb7d219e",
   "metadata": {},
   "source": [
    "# Removing Skewness using log transformation\n"
   ]
  },
  {
   "cell_type": "code",
   "execution_count": 51,
   "id": "1c6c9b1a",
   "metadata": {},
   "outputs": [],
   "source": [
    "new_df['Duration'] = np.log1p(new_df['Duration'])\n",
    "new_df['Journey_Month'] = np.log1p(new_df['Journey_Month'])"
   ]
  },
  {
   "cell_type": "code",
   "execution_count": 52,
   "id": "3a6dd084",
   "metadata": {},
   "outputs": [
    {
     "data": {
      "text/plain": [
       "Duration        -0.178207\n",
       "Price            1.824353\n",
       "Journey_Day      0.366867\n",
       "Journey_Month   -0.533575\n",
       "Dep_Hour         0.103647\n",
       "Dep_Min          0.164757\n",
       "Arrival_Hour    -0.361408\n",
       "Arrival_Min      0.107806\n",
       "dtype: float64"
      ]
     },
     "execution_count": 52,
     "metadata": {},
     "output_type": "execute_result"
    }
   ],
   "source": [
    "# Checking skewness again\n",
    "new_df.skew()"
   ]
  },
  {
   "cell_type": "markdown",
   "id": "762ffd01",
   "metadata": {},
   "source": [
    "We can observe the skewness has been removed from Duration and Journey_Month columns."
   ]
  },
  {
   "cell_type": "markdown",
   "id": "681d2dc7",
   "metadata": {},
   "source": [
    "# Label Encoding Categorical data"
   ]
  },
  {
   "cell_type": "code",
   "execution_count": 53,
   "id": "901dd590",
   "metadata": {},
   "outputs": [
    {
     "data": {
      "text/plain": [
       "['Airline', 'Source', 'Destination', 'Route', 'Total_Stops', 'Additional_Info']"
      ]
     },
     "execution_count": 53,
     "metadata": {},
     "output_type": "execute_result"
    }
   ],
   "source": [
    "categorical_col"
   ]
  },
  {
   "cell_type": "code",
   "execution_count": 54,
   "id": "10abfb9f",
   "metadata": {},
   "outputs": [
    {
     "data": {
      "text/html": [
       "<div>\n",
       "<style scoped>\n",
       "    .dataframe tbody tr th:only-of-type {\n",
       "        vertical-align: middle;\n",
       "    }\n",
       "\n",
       "    .dataframe tbody tr th {\n",
       "        vertical-align: top;\n",
       "    }\n",
       "\n",
       "    .dataframe thead th {\n",
       "        text-align: right;\n",
       "    }\n",
       "</style>\n",
       "<table border=\"1\" class=\"dataframe\">\n",
       "  <thead>\n",
       "    <tr style=\"text-align: right;\">\n",
       "      <th></th>\n",
       "      <th>Airline</th>\n",
       "      <th>Source</th>\n",
       "      <th>Destination</th>\n",
       "      <th>Route</th>\n",
       "      <th>Duration</th>\n",
       "      <th>Total_Stops</th>\n",
       "      <th>Additional_Info</th>\n",
       "      <th>Price</th>\n",
       "      <th>Journey_Day</th>\n",
       "      <th>Journey_Month</th>\n",
       "      <th>Dep_Hour</th>\n",
       "      <th>Dep_Min</th>\n",
       "      <th>Arrival_Hour</th>\n",
       "      <th>Arrival_Min</th>\n",
       "    </tr>\n",
       "  </thead>\n",
       "  <tbody>\n",
       "    <tr>\n",
       "      <th>0</th>\n",
       "      <td>3</td>\n",
       "      <td>0</td>\n",
       "      <td>2</td>\n",
       "      <td>18</td>\n",
       "      <td>5.141664</td>\n",
       "      <td>4</td>\n",
       "      <td>6</td>\n",
       "      <td>3897</td>\n",
       "      <td>24</td>\n",
       "      <td>1.386294</td>\n",
       "      <td>22</td>\n",
       "      <td>20</td>\n",
       "      <td>1</td>\n",
       "      <td>10</td>\n",
       "    </tr>\n",
       "    <tr>\n",
       "      <th>1</th>\n",
       "      <td>1</td>\n",
       "      <td>3</td>\n",
       "      <td>0</td>\n",
       "      <td>84</td>\n",
       "      <td>6.100319</td>\n",
       "      <td>1</td>\n",
       "      <td>6</td>\n",
       "      <td>7662</td>\n",
       "      <td>5</td>\n",
       "      <td>0.693147</td>\n",
       "      <td>5</td>\n",
       "      <td>50</td>\n",
       "      <td>13</td>\n",
       "      <td>15</td>\n",
       "    </tr>\n",
       "    <tr>\n",
       "      <th>2</th>\n",
       "      <td>4</td>\n",
       "      <td>2</td>\n",
       "      <td>1</td>\n",
       "      <td>118</td>\n",
       "      <td>7.039660</td>\n",
       "      <td>1</td>\n",
       "      <td>6</td>\n",
       "      <td>13882</td>\n",
       "      <td>6</td>\n",
       "      <td>2.302585</td>\n",
       "      <td>9</td>\n",
       "      <td>25</td>\n",
       "      <td>4</td>\n",
       "      <td>25</td>\n",
       "    </tr>\n",
       "    <tr>\n",
       "      <th>3</th>\n",
       "      <td>3</td>\n",
       "      <td>3</td>\n",
       "      <td>0</td>\n",
       "      <td>91</td>\n",
       "      <td>5.786897</td>\n",
       "      <td>0</td>\n",
       "      <td>6</td>\n",
       "      <td>6218</td>\n",
       "      <td>5</td>\n",
       "      <td>2.564949</td>\n",
       "      <td>18</td>\n",
       "      <td>5</td>\n",
       "      <td>23</td>\n",
       "      <td>30</td>\n",
       "    </tr>\n",
       "    <tr>\n",
       "      <th>4</th>\n",
       "      <td>3</td>\n",
       "      <td>0</td>\n",
       "      <td>2</td>\n",
       "      <td>29</td>\n",
       "      <td>5.655992</td>\n",
       "      <td>0</td>\n",
       "      <td>6</td>\n",
       "      <td>13302</td>\n",
       "      <td>3</td>\n",
       "      <td>0.693147</td>\n",
       "      <td>16</td>\n",
       "      <td>50</td>\n",
       "      <td>21</td>\n",
       "      <td>35</td>\n",
       "    </tr>\n",
       "    <tr>\n",
       "      <th>...</th>\n",
       "      <td>...</td>\n",
       "      <td>...</td>\n",
       "      <td>...</td>\n",
       "      <td>...</td>\n",
       "      <td>...</td>\n",
       "      <td>...</td>\n",
       "      <td>...</td>\n",
       "      <td>...</td>\n",
       "      <td>...</td>\n",
       "      <td>...</td>\n",
       "      <td>...</td>\n",
       "      <td>...</td>\n",
       "      <td>...</td>\n",
       "      <td>...</td>\n",
       "    </tr>\n",
       "    <tr>\n",
       "      <th>10678</th>\n",
       "      <td>0</td>\n",
       "      <td>3</td>\n",
       "      <td>0</td>\n",
       "      <td>64</td>\n",
       "      <td>5.017280</td>\n",
       "      <td>4</td>\n",
       "      <td>6</td>\n",
       "      <td>4107</td>\n",
       "      <td>4</td>\n",
       "      <td>2.302585</td>\n",
       "      <td>19</td>\n",
       "      <td>55</td>\n",
       "      <td>22</td>\n",
       "      <td>25</td>\n",
       "    </tr>\n",
       "    <tr>\n",
       "      <th>10679</th>\n",
       "      <td>1</td>\n",
       "      <td>3</td>\n",
       "      <td>0</td>\n",
       "      <td>64</td>\n",
       "      <td>5.049856</td>\n",
       "      <td>4</td>\n",
       "      <td>6</td>\n",
       "      <td>4145</td>\n",
       "      <td>27</td>\n",
       "      <td>1.609438</td>\n",
       "      <td>20</td>\n",
       "      <td>45</td>\n",
       "      <td>23</td>\n",
       "      <td>20</td>\n",
       "    </tr>\n",
       "    <tr>\n",
       "      <th>10680</th>\n",
       "      <td>4</td>\n",
       "      <td>0</td>\n",
       "      <td>2</td>\n",
       "      <td>18</td>\n",
       "      <td>5.198497</td>\n",
       "      <td>4</td>\n",
       "      <td>6</td>\n",
       "      <td>7229</td>\n",
       "      <td>27</td>\n",
       "      <td>1.609438</td>\n",
       "      <td>8</td>\n",
       "      <td>20</td>\n",
       "      <td>11</td>\n",
       "      <td>20</td>\n",
       "    </tr>\n",
       "    <tr>\n",
       "      <th>10681</th>\n",
       "      <td>10</td>\n",
       "      <td>0</td>\n",
       "      <td>2</td>\n",
       "      <td>18</td>\n",
       "      <td>5.081404</td>\n",
       "      <td>4</td>\n",
       "      <td>6</td>\n",
       "      <td>12648</td>\n",
       "      <td>3</td>\n",
       "      <td>0.693147</td>\n",
       "      <td>11</td>\n",
       "      <td>30</td>\n",
       "      <td>14</td>\n",
       "      <td>10</td>\n",
       "    </tr>\n",
       "    <tr>\n",
       "      <th>10682</th>\n",
       "      <td>1</td>\n",
       "      <td>2</td>\n",
       "      <td>1</td>\n",
       "      <td>108</td>\n",
       "      <td>6.216606</td>\n",
       "      <td>1</td>\n",
       "      <td>6</td>\n",
       "      <td>11753</td>\n",
       "      <td>5</td>\n",
       "      <td>2.302585</td>\n",
       "      <td>10</td>\n",
       "      <td>55</td>\n",
       "      <td>19</td>\n",
       "      <td>15</td>\n",
       "    </tr>\n",
       "  </tbody>\n",
       "</table>\n",
       "<p>10616 rows × 14 columns</p>\n",
       "</div>"
      ],
      "text/plain": [
       "       Airline  Source  Destination  Route  Duration  Total_Stops  \\\n",
       "0            3       0            2     18  5.141664            4   \n",
       "1            1       3            0     84  6.100319            1   \n",
       "2            4       2            1    118  7.039660            1   \n",
       "3            3       3            0     91  5.786897            0   \n",
       "4            3       0            2     29  5.655992            0   \n",
       "...        ...     ...          ...    ...       ...          ...   \n",
       "10678        0       3            0     64  5.017280            4   \n",
       "10679        1       3            0     64  5.049856            4   \n",
       "10680        4       0            2     18  5.198497            4   \n",
       "10681       10       0            2     18  5.081404            4   \n",
       "10682        1       2            1    108  6.216606            1   \n",
       "\n",
       "       Additional_Info  Price  Journey_Day  Journey_Month  Dep_Hour  Dep_Min  \\\n",
       "0                    6   3897           24       1.386294        22       20   \n",
       "1                    6   7662            5       0.693147         5       50   \n",
       "2                    6  13882            6       2.302585         9       25   \n",
       "3                    6   6218            5       2.564949        18        5   \n",
       "4                    6  13302            3       0.693147        16       50   \n",
       "...                ...    ...          ...            ...       ...      ...   \n",
       "10678                6   4107            4       2.302585        19       55   \n",
       "10679                6   4145           27       1.609438        20       45   \n",
       "10680                6   7229           27       1.609438         8       20   \n",
       "10681                6  12648            3       0.693147        11       30   \n",
       "10682                6  11753            5       2.302585        10       55   \n",
       "\n",
       "       Arrival_Hour  Arrival_Min  \n",
       "0                 1           10  \n",
       "1                13           15  \n",
       "2                 4           25  \n",
       "3                23           30  \n",
       "4                21           35  \n",
       "...             ...          ...  \n",
       "10678            22           25  \n",
       "10679            23           20  \n",
       "10680            11           20  \n",
       "10681            14           10  \n",
       "10682            19           15  \n",
       "\n",
       "[10616 rows x 14 columns]"
      ]
     },
     "execution_count": 54,
     "metadata": {},
     "output_type": "execute_result"
    }
   ],
   "source": [
    "from sklearn.preprocessing import LabelEncoder\n",
    "lbl = LabelEncoder()\n",
    "new_df[categorical_col] = new_df[categorical_col].apply(lbl.fit_transform)\n",
    "new_df"
   ]
  },
  {
   "cell_type": "markdown",
   "id": "5bedd18c",
   "metadata": {},
   "source": [
    "We have converted the categorical columns into numerical columns using label encoder."
   ]
  },
  {
   "cell_type": "markdown",
   "id": "be8260b3",
   "metadata": {},
   "source": [
    "# Correlation\n"
   ]
  },
  {
   "cell_type": "code",
   "execution_count": 55,
   "id": "17503718",
   "metadata": {
    "scrolled": true
   },
   "outputs": [
    {
     "data": {
      "text/plain": [
       "<AxesSubplot:>"
      ]
     },
     "execution_count": 55,
     "metadata": {},
     "output_type": "execute_result"
    },
    {
     "data": {
      "image/png": "[encoded data removed]",
      "text/plain": [
       "<Figure size 1440x1080 with 2 Axes>"
      ]
     },
     "metadata": {
      "needs_background": "light"
     },
     "output_type": "display_data"
    }
   ],
   "source": [
    "# Visualizing the correlation matrix by plotting heatmap.\n",
    "plt.figure(figsize = (20, 15))\n",
    "sns.heatmap(new_df.corr(), linewidths = 0.1, fmt = \".1g\", linecolor = \"black\", annot = True, cmap = \"YlGnBu\")\n"
   ]
  },
  {
   "cell_type": "markdown",
   "id": "de75c2ce",
   "metadata": {},
   "source": [
    "This heatmap shows the correaltion matrix by visualizing the data. We can observe the relation between one feature to other.\n",
    "\n",
    "1) This heatmap contain both positive and negative correlation.\n",
    "\n",
    "2) The feature Duration is moderately positively correlated with the target variable \"Price\".\n",
    "\n",
    "3) The feature Total_Stops is moderately Negatively correlated with the label.\n",
    "\n",
    "4) The features Duration, Total_Stops and Destination are highly negatively correlated with each other.This may lead to multicollinearity problem, we will check vif values to avoid this."
   ]
  },
  {
   "cell_type": "code",
   "execution_count": 60,
   "id": "e266bfde",
   "metadata": {},
   "outputs": [
    {
     "data": {
      "text/plain": [
       "Price              1.000000\n",
       "Duration           0.605879\n",
       "Route              0.163666\n",
       "Arrival_Hour       0.021087\n",
       "Source             0.016719\n",
       "Dep_Hour           0.011411\n",
       "Journey_Month     -0.013499\n",
       "Dep_Min           -0.025551\n",
       "Airline           -0.036918\n",
       "Arrival_Min       -0.088909\n",
       "Journey_Day       -0.163800\n",
       "Additional_Info   -0.193469\n",
       "Destination       -0.263341\n",
       "Total_Stops       -0.572460\n",
       "Name: Price, dtype: float64"
      ]
     },
     "execution_count": 60,
     "metadata": {},
     "output_type": "execute_result"
    }
   ],
   "source": [
    "new_df.corr()[\"Price\"].sort_values(ascending = False)\n"
   ]
  },
  {
   "cell_type": "markdown",
   "id": "e0330096",
   "metadata": {},
   "source": [
    "# Visualizing the correlation between features and label using bar plot."
   ]
  },
  {
   "cell_type": "code",
   "execution_count": 61,
   "id": "c71ba2a7",
   "metadata": {},
   "outputs": [
    {
     "data": {
      "image/png": "[encoded data removed]",
      "text/plain": [
       "<Figure size 1584x504 with 1 Axes>"
      ]
     },
     "metadata": {
      "needs_background": "light"
     },
     "output_type": "display_data"
    }
   ],
   "source": [
    "plt.figure(figsize = (22, 7))\n",
    "new_df.corr()[\"Price\"].sort_values(ascending = False).drop([\"Price\"]).plot(kind = \"bar\", color = \"purple\")\n",
    "plt.xlabel('Features', fontsize = 20)\n",
    "plt.ylabel('Target', fontsize = 20)\n",
    "plt.title('Correlation between label and features using barplot')\n",
    "plt.show()"
   ]
  },
  {
   "cell_type": "markdown",
   "id": "f90cd520",
   "metadata": {},
   "source": [
    "The features Journey_Month, Source, Arrival_Hour,Dep_Hour and Airline have very less correlation with the label so we will not  drop the columns."
   ]
  },
  {
   "cell_type": "markdown",
   "id": "645d7814",
   "metadata": {},
   "source": [
    "# Separating the features and label."
   ]
  },
  {
   "cell_type": "code",
   "execution_count": 62,
   "id": "bb61f965",
   "metadata": {},
   "outputs": [],
   "source": [
    "x = new_df.drop(\"Price\", axis = 1)\n",
    "y = new_df[\"Price\"]"
   ]
  },
  {
   "cell_type": "markdown",
   "id": "a35fce5f",
   "metadata": {},
   "source": [
    "# Feature Scaling using Standard Scalarization"
   ]
  },
  {
   "cell_type": "code",
   "execution_count": 63,
   "id": "d868cc01",
   "metadata": {},
   "outputs": [
    {
     "data": {
      "text/html": [
       "<div>\n",
       "<style scoped>\n",
       "    .dataframe tbody tr th:only-of-type {\n",
       "        vertical-align: middle;\n",
       "    }\n",
       "\n",
       "    .dataframe tbody tr th {\n",
       "        vertical-align: top;\n",
       "    }\n",
       "\n",
       "    .dataframe thead th {\n",
       "        text-align: right;\n",
       "    }\n",
       "</style>\n",
       "<table border=\"1\" class=\"dataframe\">\n",
       "  <thead>\n",
       "    <tr style=\"text-align: right;\">\n",
       "      <th></th>\n",
       "      <th>Airline</th>\n",
       "      <th>Source</th>\n",
       "      <th>Destination</th>\n",
       "      <th>Route</th>\n",
       "      <th>Duration</th>\n",
       "      <th>Total_Stops</th>\n",
       "      <th>Additional_Info</th>\n",
       "      <th>Journey_Day</th>\n",
       "      <th>Journey_Month</th>\n",
       "      <th>Dep_Hour</th>\n",
       "      <th>Dep_Min</th>\n",
       "      <th>Arrival_Hour</th>\n",
       "      <th>Arrival_Min</th>\n",
       "    </tr>\n",
       "  </thead>\n",
       "  <tbody>\n",
       "    <tr>\n",
       "      <th>0</th>\n",
       "      <td>-0.416389</td>\n",
       "      <td>-1.654961</td>\n",
       "      <td>0.812654</td>\n",
       "      <td>-1.543901</td>\n",
       "      <td>-1.058197</td>\n",
       "      <td>1.402261</td>\n",
       "      <td>0.331578</td>\n",
       "      <td>1.286080</td>\n",
       "      <td>-0.754902</td>\n",
       "      <td>1.649369</td>\n",
       "      <td>-0.235793</td>\n",
       "      <td>-1.794792</td>\n",
       "      <td>-0.889164</td>\n",
       "    </tr>\n",
       "    <tr>\n",
       "      <th>1</th>\n",
       "      <td>-1.267036</td>\n",
       "      <td>0.888086</td>\n",
       "      <td>-1.157011</td>\n",
       "      <td>0.254569</td>\n",
       "      <td>0.007466</td>\n",
       "      <td>-0.253869</td>\n",
       "      <td>0.331578</td>\n",
       "      <td>-0.873993</td>\n",
       "      <td>-2.141692</td>\n",
       "      <td>-1.312206</td>\n",
       "      <td>1.362831</td>\n",
       "      <td>-0.046108</td>\n",
       "      <td>-0.586436</td>\n",
       "    </tr>\n",
       "    <tr>\n",
       "      <th>2</th>\n",
       "      <td>0.008934</td>\n",
       "      <td>0.040404</td>\n",
       "      <td>-0.172179</td>\n",
       "      <td>1.181053</td>\n",
       "      <td>1.051660</td>\n",
       "      <td>-0.253869</td>\n",
       "      <td>0.331578</td>\n",
       "      <td>-0.760305</td>\n",
       "      <td>1.078334</td>\n",
       "      <td>-0.615365</td>\n",
       "      <td>0.030644</td>\n",
       "      <td>-1.357621</td>\n",
       "      <td>0.019020</td>\n",
       "    </tr>\n",
       "    <tr>\n",
       "      <th>3</th>\n",
       "      <td>-0.416389</td>\n",
       "      <td>0.888086</td>\n",
       "      <td>-1.157011</td>\n",
       "      <td>0.445315</td>\n",
       "      <td>-0.340940</td>\n",
       "      <td>-0.805912</td>\n",
       "      <td>0.331578</td>\n",
       "      <td>-0.873993</td>\n",
       "      <td>1.603250</td>\n",
       "      <td>0.952528</td>\n",
       "      <td>-1.035105</td>\n",
       "      <td>1.411128</td>\n",
       "      <td>0.321749</td>\n",
       "    </tr>\n",
       "    <tr>\n",
       "      <th>4</th>\n",
       "      <td>-0.416389</td>\n",
       "      <td>-1.654961</td>\n",
       "      <td>0.812654</td>\n",
       "      <td>-1.244156</td>\n",
       "      <td>-0.486458</td>\n",
       "      <td>-0.805912</td>\n",
       "      <td>0.331578</td>\n",
       "      <td>-1.101369</td>\n",
       "      <td>-2.141692</td>\n",
       "      <td>0.604107</td>\n",
       "      <td>1.362831</td>\n",
       "      <td>1.119681</td>\n",
       "      <td>0.624477</td>\n",
       "    </tr>\n",
       "    <tr>\n",
       "      <th>...</th>\n",
       "      <td>...</td>\n",
       "      <td>...</td>\n",
       "      <td>...</td>\n",
       "      <td>...</td>\n",
       "      <td>...</td>\n",
       "      <td>...</td>\n",
       "      <td>...</td>\n",
       "      <td>...</td>\n",
       "      <td>...</td>\n",
       "      <td>...</td>\n",
       "      <td>...</td>\n",
       "      <td>...</td>\n",
       "      <td>...</td>\n",
       "    </tr>\n",
       "    <tr>\n",
       "      <th>10611</th>\n",
       "      <td>-1.692360</td>\n",
       "      <td>0.888086</td>\n",
       "      <td>-1.157011</td>\n",
       "      <td>-0.290422</td>\n",
       "      <td>-1.196465</td>\n",
       "      <td>1.402261</td>\n",
       "      <td>0.331578</td>\n",
       "      <td>-0.987681</td>\n",
       "      <td>1.078334</td>\n",
       "      <td>1.126738</td>\n",
       "      <td>1.629269</td>\n",
       "      <td>1.265405</td>\n",
       "      <td>0.019020</td>\n",
       "    </tr>\n",
       "    <tr>\n",
       "      <th>10612</th>\n",
       "      <td>-1.267036</td>\n",
       "      <td>0.888086</td>\n",
       "      <td>-1.157011</td>\n",
       "      <td>-0.290422</td>\n",
       "      <td>-1.160252</td>\n",
       "      <td>1.402261</td>\n",
       "      <td>0.331578</td>\n",
       "      <td>1.627144</td>\n",
       "      <td>-0.308456</td>\n",
       "      <td>1.300948</td>\n",
       "      <td>1.096394</td>\n",
       "      <td>1.411128</td>\n",
       "      <td>-0.283708</td>\n",
       "    </tr>\n",
       "    <tr>\n",
       "      <th>10613</th>\n",
       "      <td>0.008934</td>\n",
       "      <td>-1.654961</td>\n",
       "      <td>0.812654</td>\n",
       "      <td>-1.543901</td>\n",
       "      <td>-0.995020</td>\n",
       "      <td>1.402261</td>\n",
       "      <td>0.331578</td>\n",
       "      <td>1.627144</td>\n",
       "      <td>-0.308456</td>\n",
       "      <td>-0.789575</td>\n",
       "      <td>-0.235793</td>\n",
       "      <td>-0.337556</td>\n",
       "      <td>-0.283708</td>\n",
       "    </tr>\n",
       "    <tr>\n",
       "      <th>10614</th>\n",
       "      <td>2.560876</td>\n",
       "      <td>-1.654961</td>\n",
       "      <td>0.812654</td>\n",
       "      <td>-1.543901</td>\n",
       "      <td>-1.125182</td>\n",
       "      <td>1.402261</td>\n",
       "      <td>0.331578</td>\n",
       "      <td>-1.101369</td>\n",
       "      <td>-2.141692</td>\n",
       "      <td>-0.266944</td>\n",
       "      <td>0.297082</td>\n",
       "      <td>0.099615</td>\n",
       "      <td>-0.889164</td>\n",
       "    </tr>\n",
       "    <tr>\n",
       "      <th>10615</th>\n",
       "      <td>-1.267036</td>\n",
       "      <td>0.040404</td>\n",
       "      <td>-0.172179</td>\n",
       "      <td>0.908558</td>\n",
       "      <td>0.136734</td>\n",
       "      <td>-0.253869</td>\n",
       "      <td>0.331578</td>\n",
       "      <td>-0.873993</td>\n",
       "      <td>1.078334</td>\n",
       "      <td>-0.441154</td>\n",
       "      <td>1.629269</td>\n",
       "      <td>0.828234</td>\n",
       "      <td>-0.586436</td>\n",
       "    </tr>\n",
       "  </tbody>\n",
       "</table>\n",
       "<p>10616 rows × 13 columns</p>\n",
       "</div>"
      ],
      "text/plain": [
       "        Airline    Source  Destination     Route  Duration  Total_Stops  \\\n",
       "0     -0.416389 -1.654961     0.812654 -1.543901 -1.058197     1.402261   \n",
       "1     -1.267036  0.888086    -1.157011  0.254569  0.007466    -0.253869   \n",
       "2      0.008934  0.040404    -0.172179  1.181053  1.051660    -0.253869   \n",
       "3     -0.416389  0.888086    -1.157011  0.445315 -0.340940    -0.805912   \n",
       "4     -0.416389 -1.654961     0.812654 -1.244156 -0.486458    -0.805912   \n",
       "...         ...       ...          ...       ...       ...          ...   \n",
       "10611 -1.692360  0.888086    -1.157011 -0.290422 -1.196465     1.402261   \n",
       "10612 -1.267036  0.888086    -1.157011 -0.290422 -1.160252     1.402261   \n",
       "10613  0.008934 -1.654961     0.812654 -1.543901 -0.995020     1.402261   \n",
       "10614  2.560876 -1.654961     0.812654 -1.543901 -1.125182     1.402261   \n",
       "10615 -1.267036  0.040404    -0.172179  0.908558  0.136734    -0.253869   \n",
       "\n",
       "       Additional_Info  Journey_Day  Journey_Month  Dep_Hour   Dep_Min  \\\n",
       "0             0.331578     1.286080      -0.754902  1.649369 -0.235793   \n",
       "1             0.331578    -0.873993      -2.141692 -1.312206  1.362831   \n",
       "2             0.331578    -0.760305       1.078334 -0.615365  0.030644   \n",
       "3             0.331578    -0.873993       1.603250  0.952528 -1.035105   \n",
       "4             0.331578    -1.101369      -2.141692  0.604107  1.362831   \n",
       "...                ...          ...            ...       ...       ...   \n",
       "10611         0.331578    -0.987681       1.078334  1.126738  1.629269   \n",
       "10612         0.331578     1.627144      -0.308456  1.300948  1.096394   \n",
       "10613         0.331578     1.627144      -0.308456 -0.789575 -0.235793   \n",
       "10614         0.331578    -1.101369      -2.141692 -0.266944  0.297082   \n",
       "10615         0.331578    -0.873993       1.078334 -0.441154  1.629269   \n",
       "\n",
       "       Arrival_Hour  Arrival_Min  \n",
       "0         -1.794792    -0.889164  \n",
       "1         -0.046108    -0.586436  \n",
       "2         -1.357621     0.019020  \n",
       "3          1.411128     0.321749  \n",
       "4          1.119681     0.624477  \n",
       "...             ...          ...  \n",
       "10611      1.265405     0.019020  \n",
       "10612      1.411128    -0.283708  \n",
       "10613     -0.337556    -0.283708  \n",
       "10614      0.099615    -0.889164  \n",
       "10615      0.828234    -0.586436  \n",
       "\n",
       "[10616 rows x 13 columns]"
      ]
     },
     "execution_count": 63,
     "metadata": {},
     "output_type": "execute_result"
    }
   ],
   "source": [
    "from sklearn.preprocessing import StandardScaler\n",
    "scaler = StandardScaler()\n",
    "x = pd.DataFrame(scaler.fit_transform(x), columns = x.columns)\n",
    "x"
   ]
  },
  {
   "cell_type": "markdown",
   "id": "fbf066c2",
   "metadata": {},
   "source": [
    "We have scaled the data using Standard Scalarization method to overcome the problem of biasness."
   ]
  },
  {
   "cell_type": "markdown",
   "id": "2a08b0ce",
   "metadata": {},
   "source": [
    "# Checking VIF(Variance Inflation Factor)"
   ]
  },
  {
   "cell_type": "code",
   "execution_count": 64,
   "id": "9f9f2a08",
   "metadata": {},
   "outputs": [
    {
     "data": {
      "text/html": [
       "<div>\n",
       "<style scoped>\n",
       "    .dataframe tbody tr th:only-of-type {\n",
       "        vertical-align: middle;\n",
       "    }\n",
       "\n",
       "    .dataframe tbody tr th {\n",
       "        vertical-align: top;\n",
       "    }\n",
       "\n",
       "    .dataframe thead th {\n",
       "        text-align: right;\n",
       "    }\n",
       "</style>\n",
       "<table border=\"1\" class=\"dataframe\">\n",
       "  <thead>\n",
       "    <tr style=\"text-align: right;\">\n",
       "      <th></th>\n",
       "      <th>VIF Values</th>\n",
       "      <th>Features</th>\n",
       "    </tr>\n",
       "  </thead>\n",
       "  <tbody>\n",
       "    <tr>\n",
       "      <th>0</th>\n",
       "      <td>1.047142</td>\n",
       "      <td>Airline</td>\n",
       "    </tr>\n",
       "    <tr>\n",
       "      <th>1</th>\n",
       "      <td>1.526467</td>\n",
       "      <td>Source</td>\n",
       "    </tr>\n",
       "    <tr>\n",
       "      <th>2</th>\n",
       "      <td>1.775449</td>\n",
       "      <td>Destination</td>\n",
       "    </tr>\n",
       "    <tr>\n",
       "      <th>3</th>\n",
       "      <td>1.568187</td>\n",
       "      <td>Route</td>\n",
       "    </tr>\n",
       "    <tr>\n",
       "      <th>4</th>\n",
       "      <td>3.303270</td>\n",
       "      <td>Duration</td>\n",
       "    </tr>\n",
       "    <tr>\n",
       "      <th>5</th>\n",
       "      <td>3.400207</td>\n",
       "      <td>Total_Stops</td>\n",
       "    </tr>\n",
       "    <tr>\n",
       "      <th>6</th>\n",
       "      <td>1.113892</td>\n",
       "      <td>Additional_Info</td>\n",
       "    </tr>\n",
       "    <tr>\n",
       "      <th>7</th>\n",
       "      <td>1.033601</td>\n",
       "      <td>Journey_Day</td>\n",
       "    </tr>\n",
       "    <tr>\n",
       "      <th>8</th>\n",
       "      <td>1.022376</td>\n",
       "      <td>Journey_Month</td>\n",
       "    </tr>\n",
       "    <tr>\n",
       "      <th>9</th>\n",
       "      <td>1.031377</td>\n",
       "      <td>Dep_Hour</td>\n",
       "    </tr>\n",
       "    <tr>\n",
       "      <th>10</th>\n",
       "      <td>1.020635</td>\n",
       "      <td>Dep_Min</td>\n",
       "    </tr>\n",
       "    <tr>\n",
       "      <th>11</th>\n",
       "      <td>1.037509</td>\n",
       "      <td>Arrival_Hour</td>\n",
       "    </tr>\n",
       "    <tr>\n",
       "      <th>12</th>\n",
       "      <td>1.095065</td>\n",
       "      <td>Arrival_Min</td>\n",
       "    </tr>\n",
       "  </tbody>\n",
       "</table>\n",
       "</div>"
      ],
      "text/plain": [
       "    VIF Values         Features\n",
       "0     1.047142          Airline\n",
       "1     1.526467           Source\n",
       "2     1.775449      Destination\n",
       "3     1.568187            Route\n",
       "4     3.303270         Duration\n",
       "5     3.400207      Total_Stops\n",
       "6     1.113892  Additional_Info\n",
       "7     1.033601      Journey_Day\n",
       "8     1.022376    Journey_Month\n",
       "9     1.031377         Dep_Hour\n",
       "10    1.020635          Dep_Min\n",
       "11    1.037509     Arrival_Hour\n",
       "12    1.095065      Arrival_Min"
      ]
     },
     "execution_count": 64,
     "metadata": {},
     "output_type": "execute_result"
    }
   ],
   "source": [
    "# Finding variance inflation factor\n",
    "from statsmodels.stats.outliers_influence import variance_inflation_factor\n",
    "vif = pd.DataFrame()\n",
    "vif[\"VIF Values\"] = [variance_inflation_factor(x.values, i) for i in range(len(x.columns))]\n",
    "vif['Features'] = x.columns\n",
    "vif"
   ]
  },
  {
   "cell_type": "markdown",
   "id": "ce78e804",
   "metadata": {},
   "source": [
    "As we can notice the vif values is less than 10 in all the columns,there is no multicollinearity exists. We can move ahead for model building."
   ]
  },
  {
   "cell_type": "markdown",
   "id": "f6a42207",
   "metadata": {},
   "source": [
    "# Modelling\n"
   ]
  },
  {
   "cell_type": "code",
   "execution_count": 66,
   "id": "d8c50cf4",
   "metadata": {},
   "outputs": [],
   "source": [
    "from sklearn.model_selection import train_test_split\n",
    "from sklearn.metrics import mean_absolute_error\n",
    "from sklearn.metrics import mean_squared_error\n",
    "from sklearn.metrics import r2_score"
   ]
  },
  {
   "cell_type": "code",
   "execution_count": 68,
   "id": "4f2a60b8",
   "metadata": {},
   "outputs": [
    {
     "name": "stdout",
     "output_type": "stream",
     "text": [
      "Collecting xgboost\n",
      "  Downloading xgboost-1.6.1-py3-none-win_amd64.whl (125.4 MB)\n",
      "Requirement already satisfied: numpy in d:\\users\\avina\\anaconda3_new\\lib\\site-packages (from xgboost) (1.20.3)\n",
      "Requirement already satisfied: scipy in d:\\users\\avina\\anaconda3_new\\lib\\site-packages (from xgboost) (1.7.1)\n",
      "Installing collected packages: xgboost\n",
      "Successfully installed xgboost-1.6.1\n",
      "Note: you may need to restart the kernel to use updated packages.\n"
     ]
    },
    {
     "name": "stderr",
     "output_type": "stream",
     "text": [
      "WARNING: Ignoring invalid distribution -rotobuf (d:\\users\\avina\\anaconda3_new\\lib\\site-packages)\n",
      "WARNING: Ignoring invalid distribution -rotobuf (d:\\users\\avina\\anaconda3_new\\lib\\site-packages)\n",
      "WARNING: Ignoring invalid distribution -rotobuf (d:\\users\\avina\\anaconda3_new\\lib\\site-packages)\n",
      "WARNING: Ignoring invalid distribution -rotobuf (d:\\users\\avina\\anaconda3_new\\lib\\site-packages)\n",
      "WARNING: Ignoring invalid distribution -rotobuf (d:\\users\\avina\\anaconda3_new\\lib\\site-packages)\n",
      "WARNING: Ignoring invalid distribution -rotobuf (d:\\users\\avina\\anaconda3_new\\lib\\site-packages)\n",
      "WARNING: Ignoring invalid distribution -rotobuf (d:\\users\\avina\\anaconda3_new\\lib\\site-packages)\n"
     ]
    }
   ],
   "source": [
    "pip install xgboost"
   ]
  },
  {
   "cell_type": "code",
   "execution_count": 69,
   "id": "a753c205",
   "metadata": {},
   "outputs": [],
   "source": [
    "from sklearn.ensemble import RandomForestRegressor,GradientBoostingRegressor,AdaBoostRegressor,BaggingRegressor\n",
    "from sklearn.tree import DecisionTreeRegressor\n",
    "import xgboost as xgb\n",
    "from sklearn.ensemble import ExtraTreesRegressor\n",
    "from sklearn.metrics import classification_report\n",
    "from sklearn.model_selection import cross_val_score\n",
    "from sklearn import metrics"
   ]
  },
  {
   "cell_type": "markdown",
   "id": "63102e2f",
   "metadata": {},
   "source": [
    "# Creating new train_test_split"
   ]
  },
  {
   "cell_type": "code",
   "execution_count": 87,
   "id": "fccf89e8",
   "metadata": {},
   "outputs": [],
   "source": [
    "x_train, x_test, y_train, y_test = train_test_split(x, y, test_size = 0.30, random_state=25)\n"
   ]
  },
  {
   "cell_type": "markdown",
   "id": "f60c3724",
   "metadata": {},
   "source": [
    "# Regression Algorithms\n"
   ]
  },
  {
   "cell_type": "markdown",
   "id": "0718e582",
   "metadata": {},
   "source": [
    "# Random Forest Regressor\n"
   ]
  },
  {
   "cell_type": "code",
   "execution_count": 88,
   "id": "b21a50f9",
   "metadata": {},
   "outputs": [
    {
     "name": "stdout",
     "output_type": "stream",
     "text": [
      "R2_score: 0.8776528184236054\n",
      "MAE: 669.9984563953053\n",
      "MSE: 2509318.522065049\n",
      "RSME: 1584.082864645991\n"
     ]
    }
   ],
   "source": [
    "# Checking R2 score for RandomForestRegressor\n",
    "RFR = RandomForestRegressor()\n",
    "RFR.fit(x_train, y_train)\n",
    "predRFR = RFR.predict(x_test)\n",
    "print(\"R2_score:\", r2_score(y_test, predRFR))\n",
    "print(\"MAE:\", metrics.mean_absolute_error(y_test, predRFR))\n",
    "print(\"MSE:\", metrics.mean_squared_error(y_test, predRFR))\n",
    "print(\"RSME:\", np.sqrt(metrics.mean_squared_error(y_test, predRFR)))"
   ]
  },
  {
   "cell_type": "code",
   "execution_count": 89,
   "id": "75f2d960",
   "metadata": {},
   "outputs": [
    {
     "data": {
      "image/png": "[encoded data removed]",
      "text/plain": [
       "<Figure size 432x288 with 1 Axes>"
      ]
     },
     "metadata": {
      "needs_background": "light"
     },
     "output_type": "display_data"
    }
   ],
   "source": [
    "# Visualizing the predicted values\n",
    "sns.regplot(y_test, predRFR, color = 'darkorange')\n",
    "plt.show()"
   ]
  },
  {
   "cell_type": "code",
   "execution_count": 90,
   "id": "4d2ab2a2",
   "metadata": {},
   "outputs": [
    {
     "name": "stdout",
     "output_type": "stream",
     "text": [
      "R2_score: 0.7310445777717354\n",
      "MAE: 768.0802197802197\n",
      "MSE: 5516226.969117391\n",
      "RSME: 2348.664933343492\n"
     ]
    }
   ],
   "source": [
    "# Checking R2 score for DecisionTreeRegressor\n",
    "DTR = DecisionTreeRegressor()\n",
    "DTR.fit(x_train, y_train)\n",
    "predDTR = DTR.predict(x_test)\n",
    "print(\"R2_score:\", r2_score(y_test, predDTR))\n",
    "print(\"MAE:\", metrics.mean_absolute_error(y_test, predDTR))\n",
    "print(\"MSE:\", metrics.mean_squared_error(y_test, predDTR))\n",
    "print(\"RSME:\", np.sqrt(metrics.mean_squared_error(y_test, predDTR)))"
   ]
  },
  {
   "cell_type": "code",
   "execution_count": 91,
   "id": "0fbfd59d",
   "metadata": {},
   "outputs": [
    {
     "data": {
      "image/png": "[encoded data removed]",
      "text/plain": [
       "<Figure size 432x288 with 1 Axes>"
      ]
     },
     "metadata": {
      "needs_background": "light"
     },
     "output_type": "display_data"
    }
   ],
   "source": [
    "# Visualizing the predicted values\n",
    "sns.regplot(y_test, predDTR, color = 'darkorange')\n",
    "plt.show()"
   ]
  },
  {
   "cell_type": "markdown",
   "id": "f1c0684c",
   "metadata": {},
   "source": [
    "# GradientBoostingRegressor"
   ]
  },
  {
   "cell_type": "code",
   "execution_count": 92,
   "id": "772218ec",
   "metadata": {},
   "outputs": [
    {
     "name": "stdout",
     "output_type": "stream",
     "text": [
      "R2_score: 0.8364841078089145\n",
      "MAE: 1209.4950893093405\n",
      "MSE: 3353681.316074121\n",
      "RSME: 1831.3059045593996\n"
     ]
    }
   ],
   "source": [
    "# Checking R2 score for GradientBoostingRegressor\n",
    "GB = GradientBoostingRegressor()\n",
    "GB.fit(x_train, y_train)\n",
    "predGB = GB.predict(x_test)\n",
    "print(\"R2_score:\", r2_score(y_test, predGB))\n",
    "print(\"MAE:\", metrics.mean_absolute_error(y_test, predGB))\n",
    "print(\"MSE:\", metrics.mean_squared_error(y_test, predGB))\n",
    "print(\"RSME:\", np.sqrt(metrics.mean_squared_error(y_test, predGB)))"
   ]
  },
  {
   "cell_type": "code",
   "execution_count": 93,
   "id": "851096a3",
   "metadata": {},
   "outputs": [
    {
     "data": {
      "image/png": "[encoded data removed]",
      "text/plain": [
       "<Figure size 432x288 with 1 Axes>"
      ]
     },
     "metadata": {
      "needs_background": "light"
     },
     "output_type": "display_data"
    }
   ],
   "source": [
    "# Visualizing the predicted values\n",
    "sns.regplot(y_test, predGB, color = 'darkorange')\n",
    "plt.show()"
   ]
  },
  {
   "cell_type": "markdown",
   "id": "3b07ef9d",
   "metadata": {},
   "source": [
    "# BaggingRegressor"
   ]
  },
  {
   "cell_type": "code",
   "execution_count": 94,
   "id": "0c2fa70d",
   "metadata": {},
   "outputs": [
    {
     "name": "stdout",
     "output_type": "stream",
     "text": [
      "R2_score: 0.8518615609602473\n",
      "MAE: 721.4538033440482\n",
      "MSE: 3038292.5386813777\n",
      "RSME: 1743.0698605280793\n"
     ]
    }
   ],
   "source": [
    "# Checking R2 score for BaggingRegressor\n",
    "BR = BaggingRegressor()\n",
    "BR.fit(x_train, y_train)\n",
    "predBR = BR.predict(x_test)\n",
    "print(\"R2_score:\", r2_score(y_test, predBR))\n",
    "print(\"MAE:\", metrics.mean_absolute_error(y_test, predBR))\n",
    "print(\"MSE:\", metrics.mean_squared_error(y_test, predBR))\n",
    "print(\"RSME:\", np.sqrt(metrics.mean_squared_error(y_test, predBR)))"
   ]
  },
  {
   "cell_type": "code",
   "execution_count": 95,
   "id": "de5251e6",
   "metadata": {},
   "outputs": [
    {
     "data": {
      "image/png": "[encoded data removed]",
      "text/plain": [
       "<Figure size 432x288 with 1 Axes>"
      ]
     },
     "metadata": {
      "needs_background": "light"
     },
     "output_type": "display_data"
    }
   ],
   "source": [
    "# Visualizing the predicted values\n",
    "sns.regplot(y_test, predBR, color = 'darkorange')\n",
    "plt.show()"
   ]
  },
  {
   "cell_type": "markdown",
   "id": "e2136dd5",
   "metadata": {},
   "source": [
    "# ExtraTreesRegressor"
   ]
  },
  {
   "cell_type": "code",
   "execution_count": 96,
   "id": "2c4c234f",
   "metadata": {},
   "outputs": [
    {
     "name": "stdout",
     "output_type": "stream",
     "text": [
      "R2_score: 0.9079924579367838\n",
      "MAE: 612.8775813710099\n",
      "MSE: 1887058.0138762447\n",
      "RSME: 1373.70230176565\n"
     ]
    }
   ],
   "source": [
    "# Checking R2 score for ExtraTreesRegressor\n",
    "XT = ExtraTreesRegressor()\n",
    "XT.fit(x_train, y_train)\n",
    "predXT = XT.predict(x_test)\n",
    "print(\"R2_score:\", r2_score(y_test, predXT))\n",
    "print(\"MAE:\", metrics.mean_absolute_error(y_test, predXT))\n",
    "print(\"MSE:\", metrics.mean_squared_error(y_test, predXT))\n",
    "print(\"RSME:\", np.sqrt(metrics.mean_squared_error(y_test, predXT)))"
   ]
  },
  {
   "cell_type": "code",
   "execution_count": 97,
   "id": "d6e656f0",
   "metadata": {
    "scrolled": true
   },
   "outputs": [
    {
     "data": {
      "image/png": "[encoded data removed]",
      "text/plain": [
       "<Figure size 432x288 with 1 Axes>"
      ]
     },
     "metadata": {
      "needs_background": "light"
     },
     "output_type": "display_data"
    }
   ],
   "source": [
    "# Visualizing the predicted values\n",
    "sns.regplot(y_test, predXT, color = 'darkorange')\n",
    "plt.show()"
   ]
  },
  {
   "cell_type": "markdown",
   "id": "426989a4",
   "metadata": {},
   "source": [
    "# XGBRegressor"
   ]
  },
  {
   "cell_type": "code",
   "execution_count": 98,
   "id": "d9334ca7",
   "metadata": {},
   "outputs": [
    {
     "name": "stdout",
     "output_type": "stream",
     "text": [
      "R2_score: 0.9195194306748535\n",
      "MAE: 721.2293748313629\n",
      "MSE: 1650641.8919656947\n",
      "RSME: 1284.7730896799228\n"
     ]
    }
   ],
   "source": [
    "# Checking R2 score for XGB Regressor\n",
    "from xgboost import XGBRegressor as xgb\n",
    "\n",
    "XGB = xgb(verbosity = 0)\n",
    "XGB.fit(x_train, y_train)\n",
    "predXGB = XGB.predict(x_test)\n",
    "print(\"R2_score:\", r2_score(y_test, predXGB))\n",
    "print(\"MAE:\", metrics.mean_absolute_error(y_test, predXGB))\n",
    "print(\"MSE:\", metrics.mean_squared_error(y_test, predXGB))\n",
    "print(\"RSME:\", np.sqrt(metrics.mean_squared_error(y_test, predXGB)))"
   ]
  },
  {
   "cell_type": "code",
   "execution_count": 99,
   "id": "dacb5de3",
   "metadata": {},
   "outputs": [
    {
     "data": {
      "image/png": "[encoded data removed]",
      "text/plain": [
       "<Figure size 432x288 with 1 Axes>"
      ]
     },
     "metadata": {
      "needs_background": "light"
     },
     "output_type": "display_data"
    }
   ],
   "source": [
    "# Visualizing the predicted values\n",
    "sns.regplot(y_test, predXGB, color = 'darkorange')\n",
    "plt.show()"
   ]
  },
  {
   "cell_type": "markdown",
   "id": "9b9a18ee",
   "metadata": {},
   "source": [
    "# Checking the cross validation score\n"
   ]
  },
  {
   "cell_type": "code",
   "execution_count": 100,
   "id": "4bf0e0f4",
   "metadata": {},
   "outputs": [],
   "source": [
    "from sklearn.model_selection import cross_val_score\n"
   ]
  },
  {
   "cell_type": "code",
   "execution_count": 102,
   "id": "81c524b8",
   "metadata": {},
   "outputs": [
    {
     "name": "stdout",
     "output_type": "stream",
     "text": [
      "[0.87163641 0.88381513 0.8819117  0.9017569  0.83161271]\n",
      "cross validation score:   0.8741465701032549\n",
      "Difference between R2 score and cross validation score is -  0.0035062483203505135\n"
     ]
    }
   ],
   "source": [
    "# Checking cv score for Random Forest Regressor\n",
    "score = cross_val_score(RFR, x, y, cv = 5)\n",
    "print(score)\n",
    "print(\"cross validation score:  \",score.mean())\n",
    "print(\"Difference between R2 score and cross validation score is - \", r2_score(y_test, predRFR)-abs(score.mean()))"
   ]
  },
  {
   "cell_type": "code",
   "execution_count": 103,
   "id": "34d73309",
   "metadata": {},
   "outputs": [
    {
     "name": "stdout",
     "output_type": "stream",
     "text": [
      "[0.81164743 0.81003859 0.82780545 0.82971118 0.82708748]\n",
      "cross validation score:   0.8212580267061107\n",
      "Difference between R2 score and cross validatio score is -  0.015226081102803768\n"
     ]
    }
   ],
   "source": [
    "# Checking cv score for GradientBoostingRegressor\n",
    "score = cross_val_score(GB, x, y, cv = 5)\n",
    "print(score)\n",
    "print(\"cross validation score:  \", score.mean())\n",
    "print(\"Difference between R2 score and cross validatio score is - \", r2_score(y_test, predGB)-abs(score.mean()))"
   ]
  },
  {
   "cell_type": "code",
   "execution_count": 104,
   "id": "9d930e13",
   "metadata": {
    "scrolled": true
   },
   "outputs": [
    {
     "name": "stdout",
     "output_type": "stream",
     "text": [
      "[0.85610999 0.87387218 0.86829719 0.88847326 0.80690165]\n",
      "cross validation score:   0.8587308515817856\n",
      "Difference between R2 score and cross validatio score is -  -0.006869290621538293\n"
     ]
    }
   ],
   "source": [
    "\n",
    "# Checking cv score for BaggingRegressor\n",
    "score = cross_val_score(BR, x, y, cv = 5)\n",
    "print(score)\n",
    "print(\"cross validation score:  \", score.mean())\n",
    "print(\"Difference between R2 score and cross validatio score is - \", r2_score(y_test, predBR)-abs(score.mean()))"
   ]
  },
  {
   "cell_type": "code",
   "execution_count": 105,
   "id": "ad8655dc",
   "metadata": {},
   "outputs": [
    {
     "name": "stdout",
     "output_type": "stream",
     "text": [
      "[0.9000165  0.91074904 0.8959699  0.90242624 0.88960017]\n",
      "cross validation score:   0.8997523706715658\n",
      "Difference between R2 score and cross validatio score is -  0.008240087265218077\n"
     ]
    }
   ],
   "source": [
    "# Checking cv score for ExtraTreesRegressor\n",
    "score = cross_val_score(XT, x, y, cv = 5)\n",
    "print(score)\n",
    "print(\"cross validation score:  \", score.mean())\n",
    "print(\"Difference between R2 score and cross validatio score is - \", r2_score(y_test, predXT)-abs(score.mean()))"
   ]
  },
  {
   "cell_type": "code",
   "execution_count": 106,
   "id": "ded9d390",
   "metadata": {},
   "outputs": [
    {
     "name": "stdout",
     "output_type": "stream",
     "text": [
      "[0.89592224 0.89265441 0.91382119 0.91081705 0.88964839]\n",
      "cross validation score:   0.9005726551562951\n",
      "Difference between R2 score and cross validatio score is -  0.01894677551855839\n"
     ]
    }
   ],
   "source": [
    "# Checking cv score for XGBRegressor\n",
    "score = cross_val_score(XGB, x, y, cv = 5)\n",
    "print(score)\n",
    "print(\"cross validation score:  \", score.mean())\n",
    "print(\"Difference between R2 score and cross validatio score is - \", r2_score(y_test, predXGB)-abs(score.mean()))"
   ]
  },
  {
   "cell_type": "markdown",
   "id": "8a43c9c3",
   "metadata": {},
   "source": [
    "XGBRegressor model have highest accuracy i.e. 91.95%% with 90.05% cross validation score which is good and the difference is too less"
   ]
  },
  {
   "cell_type": "markdown",
   "id": "3d068009",
   "metadata": {},
   "source": [
    "# Hyperparameter tuning\n"
   ]
  },
  {
   "cell_type": "code",
   "execution_count": 107,
   "id": "d1792159",
   "metadata": {},
   "outputs": [],
   "source": [
    "from sklearn.model_selection import GridSearchCV\n"
   ]
  },
  {
   "cell_type": "code",
   "execution_count": 108,
   "id": "2f545b9c",
   "metadata": {},
   "outputs": [],
   "source": [
    "#XGBRegressor\n",
    "\n",
    "parameters = {'n_estimator':[50, 100, 200, 400],\n",
    "            'gamma':np.arange(0, 0.2, 0.1),\n",
    "            'max_depth':[4, 6, 8, 10],\n",
    "            'n_jobs':[-2, -1, 1]}"
   ]
  },
  {
   "cell_type": "code",
   "execution_count": 109,
   "id": "32fd7b17",
   "metadata": {},
   "outputs": [],
   "source": [
    "GCV = GridSearchCV(xgb(), parameters, cv = 5)"
   ]
  },
  {
   "cell_type": "code",
   "execution_count": 110,
   "id": "98a3a205",
   "metadata": {},
   "outputs": [
    {
     "data": {
      "text/plain": [
       "GridSearchCV(cv=5,\n",
       "             estimator=XGBRegressor(base_score=None, booster=None,\n",
       "                                    callbacks=None, colsample_bylevel=None,\n",
       "                                    colsample_bynode=None,\n",
       "                                    colsample_bytree=None,\n",
       "                                    early_stopping_rounds=None,\n",
       "                                    enable_categorical=False, eval_metric=None,\n",
       "                                    gamma=None, gpu_id=None, grow_policy=None,\n",
       "                                    importance_type=None,\n",
       "                                    interaction_constraints=None,\n",
       "                                    learning_rate=None, max_bin=None,\n",
       "                                    max_cat...ot=None, max_delta_step=None,\n",
       "                                    max_depth=None, max_leaves=None,\n",
       "                                    min_child_weight=None, missing=nan,\n",
       "                                    monotone_constraints=None, n_estimators=100,\n",
       "                                    n_jobs=None, num_parallel_tree=None,\n",
       "                                    predictor=None, random_state=None,\n",
       "                                    reg_alpha=None, reg_lambda=None, ...),\n",
       "             param_grid={'gamma': array([0. , 0.1]), 'max_depth': [4, 6, 8, 10],\n",
       "                         'n_estimator': [50, 100, 200, 400],\n",
       "                         'n_jobs': [-2, -1, 1]})"
      ]
     },
     "execution_count": 110,
     "metadata": {},
     "output_type": "execute_result"
    }
   ],
   "source": [
    "GCV.fit(x_train, y_train)"
   ]
  },
  {
   "cell_type": "code",
   "execution_count": 111,
   "id": "2ec7d541",
   "metadata": {},
   "outputs": [
    {
     "data": {
      "text/plain": [
       "{'gamma': 0.0, 'max_depth': 6, 'n_estimator': 50, 'n_jobs': -2}"
      ]
     },
     "execution_count": 111,
     "metadata": {},
     "output_type": "execute_result"
    }
   ],
   "source": [
    "GCV.best_params_"
   ]
  },
  {
   "cell_type": "code",
   "execution_count": 112,
   "id": "310d7544",
   "metadata": {},
   "outputs": [
    {
     "name": "stdout",
     "output_type": "stream",
     "text": [
      "R2_Score: 91.95194306748536\n",
      "RMSE value: 1284.7730896799228\n",
      "MAE: 721.2293748313629\n",
      "MSE: 1650641.8919656947\n"
     ]
    }
   ],
   "source": [
    "Final_model = xgb(gamma = 0.0, max_depth = 6, n_estimator = 50, n_jobs = -2)\n",
    "Final_model.fit(x_train, y_train)\n",
    "pred = Final_model.predict(x_test)\n",
    "print('R2_Score:', r2_score(y_test, pred)*100)\n",
    "print(\"RMSE value:\", np.sqrt(metrics.mean_squared_error(y_test, pred)))\n",
    "print('MAE:', metrics.mean_absolute_error(y_test, pred))\n",
    "print('MSE:', metrics.mean_squared_error(y_test, pred))"
   ]
  },
  {
   "cell_type": "markdown",
   "id": "e21e3a2a",
   "metadata": {},
   "source": [
    "After tuning, the best R2 score is 91.95%."
   ]
  },
  {
   "cell_type": "markdown",
   "id": "3188c8cb",
   "metadata": {},
   "source": [
    "# Saving the model"
   ]
  },
  {
   "cell_type": "code",
   "execution_count": 113,
   "id": "9e60d4ec",
   "metadata": {},
   "outputs": [
    {
     "data": {
      "text/plain": [
       "['Flight_Prediction.pkl']"
      ]
     },
     "execution_count": 113,
     "metadata": {},
     "output_type": "execute_result"
    }
   ],
   "source": [
    "# Saving the model using .pkl\n",
    "import joblib\n",
    "joblib.dump(Final_model,'Flight_Prediction.pkl')"
   ]
  },
  {
   "cell_type": "markdown",
   "id": "aca020c7",
   "metadata": {},
   "source": [
    "# Predicting the saved model"
   ]
  },
  {
   "cell_type": "code",
   "execution_count": 114,
   "id": "4c0c5204",
   "metadata": {
    "scrolled": true
   },
   "outputs": [
    {
     "data": {
      "text/html": [
       "<div>\n",
       "<style scoped>\n",
       "    .dataframe tbody tr th:only-of-type {\n",
       "        vertical-align: middle;\n",
       "    }\n",
       "\n",
       "    .dataframe tbody tr th {\n",
       "        vertical-align: top;\n",
       "    }\n",
       "\n",
       "    .dataframe thead th {\n",
       "        text-align: right;\n",
       "    }\n",
       "</style>\n",
       "<table border=\"1\" class=\"dataframe\">\n",
       "  <thead>\n",
       "    <tr style=\"text-align: right;\">\n",
       "      <th></th>\n",
       "      <th>Original</th>\n",
       "      <th>Predicted</th>\n",
       "    </tr>\n",
       "  </thead>\n",
       "  <tbody>\n",
       "    <tr>\n",
       "      <th>0</th>\n",
       "      <td>8266</td>\n",
       "      <td>8304.930664</td>\n",
       "    </tr>\n",
       "    <tr>\n",
       "      <th>1</th>\n",
       "      <td>10441</td>\n",
       "      <td>10583.240234</td>\n",
       "    </tr>\n",
       "    <tr>\n",
       "      <th>2</th>\n",
       "      <td>12723</td>\n",
       "      <td>11455.773438</td>\n",
       "    </tr>\n",
       "    <tr>\n",
       "      <th>3</th>\n",
       "      <td>4049</td>\n",
       "      <td>4625.344727</td>\n",
       "    </tr>\n",
       "    <tr>\n",
       "      <th>4</th>\n",
       "      <td>3943</td>\n",
       "      <td>4444.159180</td>\n",
       "    </tr>\n",
       "    <tr>\n",
       "      <th>...</th>\n",
       "      <td>...</td>\n",
       "      <td>...</td>\n",
       "    </tr>\n",
       "    <tr>\n",
       "      <th>3180</th>\n",
       "      <td>12954</td>\n",
       "      <td>11471.839844</td>\n",
       "    </tr>\n",
       "    <tr>\n",
       "      <th>3181</th>\n",
       "      <td>12436</td>\n",
       "      <td>12634.972656</td>\n",
       "    </tr>\n",
       "    <tr>\n",
       "      <th>3182</th>\n",
       "      <td>13377</td>\n",
       "      <td>12990.258789</td>\n",
       "    </tr>\n",
       "    <tr>\n",
       "      <th>3183</th>\n",
       "      <td>10262</td>\n",
       "      <td>10691.648438</td>\n",
       "    </tr>\n",
       "    <tr>\n",
       "      <th>3184</th>\n",
       "      <td>15764</td>\n",
       "      <td>17018.582031</td>\n",
       "    </tr>\n",
       "  </tbody>\n",
       "</table>\n",
       "<p>3185 rows × 2 columns</p>\n",
       "</div>"
      ],
      "text/plain": [
       "      Original     Predicted\n",
       "0         8266   8304.930664\n",
       "1        10441  10583.240234\n",
       "2        12723  11455.773438\n",
       "3         4049   4625.344727\n",
       "4         3943   4444.159180\n",
       "...        ...           ...\n",
       "3180     12954  11471.839844\n",
       "3181     12436  12634.972656\n",
       "3182     13377  12990.258789\n",
       "3183     10262  10691.648438\n",
       "3184     15764  17018.582031\n",
       "\n",
       "[3185 rows x 2 columns]"
      ]
     },
     "execution_count": 114,
     "metadata": {},
     "output_type": "execute_result"
    }
   ],
   "source": [
    "# Loading the saved model\n",
    "Model = joblib.load(\"Flight_Prediction.pkl\")\n",
    "\n",
    "# prediction\n",
    "a = np.array(y_test)\n",
    "predicted = np.array(Model.predict(x_test))\n",
    "df_com = pd.DataFrame({\"Original\" : a, \"Predicted\" : predicted}, index =  range(len(a)))\n",
    "df_com"
   ]
  },
  {
   "cell_type": "markdown",
   "id": "16dfca71",
   "metadata": {},
   "source": [
    "# Prediction Visualization"
   ]
  },
  {
   "cell_type": "code",
   "execution_count": 115,
   "id": "afd4060d",
   "metadata": {},
   "outputs": [
    {
     "data": {
      "image/png": "[encoded data removed]",
      "text/plain": [
       "<Figure size 720x720 with 1 Axes>"
      ]
     },
     "metadata": {
      "needs_background": "light"
     },
     "output_type": "display_data"
    }
   ],
   "source": [
    "plt.figure(figsize = (10, 10))\n",
    "plt.scatter(y_test, predicted, c = 'crimson')\n",
    "plt.yscale('log')\n",
    "plt.xscale('log')\n",
    "p1 = max(max(predicted), max(y_test))\n",
    "p2 = min(min(predicted), min(y_test))\n",
    "plt.plot([p1, p2], [p1, p2], 'b-')\n",
    "plt.xlabel('Actual Price', fontsize = 15)\n",
    "plt.ylabel('Predicted Price', fontsize = 15)\n",
    "plt.axis('equal')\n",
    "plt.show()"
   ]
  },
  {
   "cell_type": "markdown",
   "id": "0694a4dd",
   "metadata": {},
   "source": [
    "# Test Data"
   ]
  },
  {
   "cell_type": "markdown",
   "id": "ff0bf826",
   "metadata": {},
   "source": [
    "# Importing Test data"
   ]
  },
  {
   "cell_type": "code",
   "execution_count": 117,
   "id": "219ab78a",
   "metadata": {},
   "outputs": [
    {
     "data": {
      "text/html": [
       "<div>\n",
       "<style scoped>\n",
       "    .dataframe tbody tr th:only-of-type {\n",
       "        vertical-align: middle;\n",
       "    }\n",
       "\n",
       "    .dataframe tbody tr th {\n",
       "        vertical-align: top;\n",
       "    }\n",
       "\n",
       "    .dataframe thead th {\n",
       "        text-align: right;\n",
       "    }\n",
       "</style>\n",
       "<table border=\"1\" class=\"dataframe\">\n",
       "  <thead>\n",
       "    <tr style=\"text-align: right;\">\n",
       "      <th></th>\n",
       "      <th>Airline</th>\n",
       "      <th>Date_of_Journey</th>\n",
       "      <th>Source</th>\n",
       "      <th>Destination</th>\n",
       "      <th>Route</th>\n",
       "      <th>Dep_Time</th>\n",
       "      <th>Arrival_Time</th>\n",
       "      <th>Duration</th>\n",
       "      <th>Total_Stops</th>\n",
       "      <th>Additional_Info</th>\n",
       "    </tr>\n",
       "  </thead>\n",
       "  <tbody>\n",
       "    <tr>\n",
       "      <th>0</th>\n",
       "      <td>Jet Airways</td>\n",
       "      <td>6/06/2019</td>\n",
       "      <td>Delhi</td>\n",
       "      <td>Cochin</td>\n",
       "      <td>DEL → BOM → COK</td>\n",
       "      <td>17:30</td>\n",
       "      <td>04:25 07 Jun</td>\n",
       "      <td>10h 55m</td>\n",
       "      <td>1 stop</td>\n",
       "      <td>No info</td>\n",
       "    </tr>\n",
       "    <tr>\n",
       "      <th>1</th>\n",
       "      <td>IndiGo</td>\n",
       "      <td>12/05/2019</td>\n",
       "      <td>Kolkata</td>\n",
       "      <td>Banglore</td>\n",
       "      <td>CCU → MAA → BLR</td>\n",
       "      <td>06:20</td>\n",
       "      <td>10:20</td>\n",
       "      <td>4h</td>\n",
       "      <td>1 stop</td>\n",
       "      <td>No info</td>\n",
       "    </tr>\n",
       "    <tr>\n",
       "      <th>2</th>\n",
       "      <td>Jet Airways</td>\n",
       "      <td>21/05/2019</td>\n",
       "      <td>Delhi</td>\n",
       "      <td>Cochin</td>\n",
       "      <td>DEL → BOM → COK</td>\n",
       "      <td>19:15</td>\n",
       "      <td>19:00 22 May</td>\n",
       "      <td>23h 45m</td>\n",
       "      <td>1 stop</td>\n",
       "      <td>In-flight meal not included</td>\n",
       "    </tr>\n",
       "    <tr>\n",
       "      <th>3</th>\n",
       "      <td>Multiple carriers</td>\n",
       "      <td>21/05/2019</td>\n",
       "      <td>Delhi</td>\n",
       "      <td>Cochin</td>\n",
       "      <td>DEL → BOM → COK</td>\n",
       "      <td>08:00</td>\n",
       "      <td>21:00</td>\n",
       "      <td>13h</td>\n",
       "      <td>1 stop</td>\n",
       "      <td>No info</td>\n",
       "    </tr>\n",
       "    <tr>\n",
       "      <th>4</th>\n",
       "      <td>Air Asia</td>\n",
       "      <td>24/06/2019</td>\n",
       "      <td>Banglore</td>\n",
       "      <td>Delhi</td>\n",
       "      <td>BLR → DEL</td>\n",
       "      <td>23:55</td>\n",
       "      <td>02:45 25 Jun</td>\n",
       "      <td>2h 50m</td>\n",
       "      <td>non-stop</td>\n",
       "      <td>No info</td>\n",
       "    </tr>\n",
       "  </tbody>\n",
       "</table>\n",
       "</div>"
      ],
      "text/plain": [
       "             Airline Date_of_Journey    Source Destination            Route  \\\n",
       "0        Jet Airways       6/06/2019     Delhi      Cochin  DEL → BOM → COK   \n",
       "1             IndiGo      12/05/2019   Kolkata    Banglore  CCU → MAA → BLR   \n",
       "2        Jet Airways      21/05/2019     Delhi      Cochin  DEL → BOM → COK   \n",
       "3  Multiple carriers      21/05/2019     Delhi      Cochin  DEL → BOM → COK   \n",
       "4           Air Asia      24/06/2019  Banglore       Delhi        BLR → DEL   \n",
       "\n",
       "  Dep_Time  Arrival_Time Duration Total_Stops              Additional_Info  \n",
       "0    17:30  04:25 07 Jun  10h 55m      1 stop                      No info  \n",
       "1    06:20         10:20       4h      1 stop                      No info  \n",
       "2    19:15  19:00 22 May  23h 45m      1 stop  In-flight meal not included  \n",
       "3    08:00         21:00      13h      1 stop                      No info  \n",
       "4    23:55  02:45 25 Jun   2h 50m    non-stop                      No info  "
      ]
     },
     "execution_count": 117,
     "metadata": {},
     "output_type": "execute_result"
    }
   ],
   "source": [
    "# Reading the excel file \n",
    "test_df = pd.read_excel(\"Flight_Price_Prediction_Test_set.xlsx\")\n",
    "test_df.head()"
   ]
  },
  {
   "cell_type": "markdown",
   "id": "d645314c",
   "metadata": {},
   "source": [
    "## Feature Engineering\n",
    "1) The columns Date_of_Journey, Dep_Time and Arrival_Time showing object datatype.\n",
    "\n",
    "2) As the data in it is datetime format, we have to convert it to timestamp for proper prediction."
   ]
  },
  {
   "cell_type": "code",
   "execution_count": 119,
   "id": "2c1ee884",
   "metadata": {},
   "outputs": [],
   "source": [
    "# Converting Date and Time columns from object type to Date type\n",
    "test_df['Date_of_Journey'] = pd.to_datetime(test_df['Date_of_Journey'])\n",
    "test_df['Dep_Time'] = pd.to_datetime(test_df['Dep_Time'])\n",
    "test_df['Arrival_Time'] = pd.to_datetime(test_df['Arrival_Time'])"
   ]
  },
  {
   "cell_type": "code",
   "execution_count": 120,
   "id": "a5181a55",
   "metadata": {},
   "outputs": [],
   "source": [
    "# Extracting Day from Date_of_journey column\n",
    "test_df['Journey_Day'] = pd.to_datetime(test_df.Date_of_Journey, format = \"%d/%m/%Y\").dt.day\n",
    "\n",
    "# Extracting Month from Date_of_journey column\n",
    "test_df['Journey_Month'] = pd.to_datetime(test_df.Date_of_Journey, format = \"%d/%m/%Y\").dt.month"
   ]
  },
  {
   "cell_type": "markdown",
   "id": "d557e777",
   "metadata": {},
   "source": [
    "So we have splitted the column Date_of_Journey into integer datatype , now we can drop this column as it is of no use."
   ]
  },
  {
   "cell_type": "code",
   "execution_count": 121,
   "id": "639117e5",
   "metadata": {},
   "outputs": [],
   "source": [
    "# Dropping Date_of_journey column\n",
    "test_df.drop(\"Date_of_Journey\", axis = 1, inplace = True)"
   ]
  },
  {
   "cell_type": "code",
   "execution_count": 122,
   "id": "87da0e9e",
   "metadata": {},
   "outputs": [],
   "source": [
    "# Duration\n",
    "\n",
    "test_df['Duration'] = test_df['Duration'].str.replace('h', '*60').str.replace(' ','+').str.replace('m', '*1').apply(eval)\n",
    "\n",
    "#now lets convert this column into a numeric\n",
    "\n",
    "test_df['Duration'] = pd.to_numeric(test_df['Duration'])"
   ]
  },
  {
   "cell_type": "markdown",
   "id": "ef49d0ff",
   "metadata": {},
   "source": [
    "Extracting hours and mins from Arrival_Time column and dropping that column."
   ]
  },
  {
   "cell_type": "code",
   "execution_count": 123,
   "id": "8cad6420",
   "metadata": {},
   "outputs": [],
   "source": [
    "# Extracting Hours from Dep_Time column\n",
    "test_df['Dep_Hour'] = pd.to_datetime(test_df['Dep_Time']).dt.hour\n",
    "\n",
    "# Extracting Minutes from Dep_Time column\n",
    "test_df['Dep_Min'] = pd.to_datetime(test_df['Dep_Time']).dt.minute"
   ]
  },
  {
   "cell_type": "code",
   "execution_count": 124,
   "id": "e00a9ec9",
   "metadata": {},
   "outputs": [],
   "source": [
    "# Dropping Dep_Time column\n",
    "test_df.drop(\"Dep_Time\", axis = 1, inplace = True)"
   ]
  },
  {
   "cell_type": "markdown",
   "id": "15426188",
   "metadata": {},
   "source": [
    "Similarly extracting hours and mins from Arrival_Time column and dropping that column."
   ]
  },
  {
   "cell_type": "code",
   "execution_count": 125,
   "id": "e7de054f",
   "metadata": {},
   "outputs": [],
   "source": [
    "# Extracting Arrival_Hour from Arrival_Time column\n",
    "test_df['Arrival_Hour'] = pd.to_datetime(test_df['Arrival_Time']).dt.hour\n",
    "\n",
    "# Extracting Arrival_Min from Arrival_Time column\n",
    "test_df['Arrival_Min'] = pd.to_datetime(test_df['Arrival_Time']).dt.minute\n",
    "\n",
    "# Dropping Arruval_Time column\n",
    "test_df.drop(\"Arrival_Time\", axis = 1, inplace = True)"
   ]
  },
  {
   "cell_type": "code",
   "execution_count": 126,
   "id": "b6277c66",
   "metadata": {},
   "outputs": [],
   "source": [
    "\n",
    "\n",
    "# Replacing \"New Delhi\" as \"Delhi\" in Destination column\n",
    "test_df[\"Destination\"] = test_df[\"Destination\"].replace(\"New Delhi\", \"Delhi\")\n",
    "\n",
    "# In the column Additional Info, \"No Info\" and \"No info\" are one and the same so replace it by \"No Info\" \n",
    "test_df[\"Additional_Info\"] = test_df[\"Additional_Info\"].replace(\"No info\", \"No Info\")\n"
   ]
  },
  {
   "cell_type": "markdown",
   "id": "2ee53ad9",
   "metadata": {},
   "source": [
    "# Encoding Categorical data"
   ]
  },
  {
   "cell_type": "code",
   "execution_count": 128,
   "id": "8fe197ec",
   "metadata": {},
   "outputs": [
    {
     "data": {
      "text/html": [
       "<div>\n",
       "<style scoped>\n",
       "    .dataframe tbody tr th:only-of-type {\n",
       "        vertical-align: middle;\n",
       "    }\n",
       "\n",
       "    .dataframe tbody tr th {\n",
       "        vertical-align: top;\n",
       "    }\n",
       "\n",
       "    .dataframe thead th {\n",
       "        text-align: right;\n",
       "    }\n",
       "</style>\n",
       "<table border=\"1\" class=\"dataframe\">\n",
       "  <thead>\n",
       "    <tr style=\"text-align: right;\">\n",
       "      <th></th>\n",
       "      <th>Airline</th>\n",
       "      <th>Source</th>\n",
       "      <th>Destination</th>\n",
       "      <th>Route</th>\n",
       "      <th>Duration</th>\n",
       "      <th>Total_Stops</th>\n",
       "      <th>Additional_Info</th>\n",
       "      <th>Journey_Day</th>\n",
       "      <th>Journey_Month</th>\n",
       "      <th>Dep_Hour</th>\n",
       "      <th>Dep_Min</th>\n",
       "      <th>Arrival_Hour</th>\n",
       "      <th>Arrival_Min</th>\n",
       "    </tr>\n",
       "  </thead>\n",
       "  <tbody>\n",
       "    <tr>\n",
       "      <th>0</th>\n",
       "      <td>4</td>\n",
       "      <td>2</td>\n",
       "      <td>1</td>\n",
       "      <td>76</td>\n",
       "      <td>655</td>\n",
       "      <td>0</td>\n",
       "      <td>4</td>\n",
       "      <td>6</td>\n",
       "      <td>6</td>\n",
       "      <td>17</td>\n",
       "      <td>30</td>\n",
       "      <td>4</td>\n",
       "      <td>25</td>\n",
       "    </tr>\n",
       "    <tr>\n",
       "      <th>1</th>\n",
       "      <td>3</td>\n",
       "      <td>3</td>\n",
       "      <td>0</td>\n",
       "      <td>65</td>\n",
       "      <td>240</td>\n",
       "      <td>0</td>\n",
       "      <td>4</td>\n",
       "      <td>5</td>\n",
       "      <td>12</td>\n",
       "      <td>6</td>\n",
       "      <td>20</td>\n",
       "      <td>10</td>\n",
       "      <td>20</td>\n",
       "    </tr>\n",
       "    <tr>\n",
       "      <th>2</th>\n",
       "      <td>4</td>\n",
       "      <td>2</td>\n",
       "      <td>1</td>\n",
       "      <td>76</td>\n",
       "      <td>1425</td>\n",
       "      <td>0</td>\n",
       "      <td>3</td>\n",
       "      <td>21</td>\n",
       "      <td>5</td>\n",
       "      <td>19</td>\n",
       "      <td>15</td>\n",
       "      <td>19</td>\n",
       "      <td>0</td>\n",
       "    </tr>\n",
       "    <tr>\n",
       "      <th>3</th>\n",
       "      <td>6</td>\n",
       "      <td>2</td>\n",
       "      <td>1</td>\n",
       "      <td>76</td>\n",
       "      <td>780</td>\n",
       "      <td>0</td>\n",
       "      <td>4</td>\n",
       "      <td>21</td>\n",
       "      <td>5</td>\n",
       "      <td>8</td>\n",
       "      <td>0</td>\n",
       "      <td>21</td>\n",
       "      <td>0</td>\n",
       "    </tr>\n",
       "    <tr>\n",
       "      <th>4</th>\n",
       "      <td>0</td>\n",
       "      <td>0</td>\n",
       "      <td>2</td>\n",
       "      <td>16</td>\n",
       "      <td>170</td>\n",
       "      <td>4</td>\n",
       "      <td>4</td>\n",
       "      <td>24</td>\n",
       "      <td>6</td>\n",
       "      <td>23</td>\n",
       "      <td>55</td>\n",
       "      <td>2</td>\n",
       "      <td>45</td>\n",
       "    </tr>\n",
       "    <tr>\n",
       "      <th>...</th>\n",
       "      <td>...</td>\n",
       "      <td>...</td>\n",
       "      <td>...</td>\n",
       "      <td>...</td>\n",
       "      <td>...</td>\n",
       "      <td>...</td>\n",
       "      <td>...</td>\n",
       "      <td>...</td>\n",
       "      <td>...</td>\n",
       "      <td>...</td>\n",
       "      <td>...</td>\n",
       "      <td>...</td>\n",
       "      <td>...</td>\n",
       "    </tr>\n",
       "    <tr>\n",
       "      <th>2666</th>\n",
       "      <td>1</td>\n",
       "      <td>3</td>\n",
       "      <td>0</td>\n",
       "      <td>51</td>\n",
       "      <td>1435</td>\n",
       "      <td>0</td>\n",
       "      <td>4</td>\n",
       "      <td>6</td>\n",
       "      <td>6</td>\n",
       "      <td>20</td>\n",
       "      <td>30</td>\n",
       "      <td>20</td>\n",
       "      <td>25</td>\n",
       "    </tr>\n",
       "    <tr>\n",
       "      <th>2667</th>\n",
       "      <td>3</td>\n",
       "      <td>3</td>\n",
       "      <td>0</td>\n",
       "      <td>43</td>\n",
       "      <td>155</td>\n",
       "      <td>4</td>\n",
       "      <td>4</td>\n",
       "      <td>27</td>\n",
       "      <td>3</td>\n",
       "      <td>14</td>\n",
       "      <td>20</td>\n",
       "      <td>16</td>\n",
       "      <td>55</td>\n",
       "    </tr>\n",
       "    <tr>\n",
       "      <th>2668</th>\n",
       "      <td>4</td>\n",
       "      <td>2</td>\n",
       "      <td>1</td>\n",
       "      <td>76</td>\n",
       "      <td>395</td>\n",
       "      <td>0</td>\n",
       "      <td>4</td>\n",
       "      <td>3</td>\n",
       "      <td>6</td>\n",
       "      <td>21</td>\n",
       "      <td>50</td>\n",
       "      <td>4</td>\n",
       "      <td>25</td>\n",
       "    </tr>\n",
       "    <tr>\n",
       "      <th>2669</th>\n",
       "      <td>1</td>\n",
       "      <td>2</td>\n",
       "      <td>1</td>\n",
       "      <td>76</td>\n",
       "      <td>915</td>\n",
       "      <td>0</td>\n",
       "      <td>4</td>\n",
       "      <td>3</td>\n",
       "      <td>6</td>\n",
       "      <td>4</td>\n",
       "      <td>0</td>\n",
       "      <td>19</td>\n",
       "      <td>15</td>\n",
       "    </tr>\n",
       "    <tr>\n",
       "      <th>2670</th>\n",
       "      <td>6</td>\n",
       "      <td>2</td>\n",
       "      <td>1</td>\n",
       "      <td>76</td>\n",
       "      <td>860</td>\n",
       "      <td>0</td>\n",
       "      <td>4</td>\n",
       "      <td>15</td>\n",
       "      <td>6</td>\n",
       "      <td>4</td>\n",
       "      <td>55</td>\n",
       "      <td>19</td>\n",
       "      <td>15</td>\n",
       "    </tr>\n",
       "  </tbody>\n",
       "</table>\n",
       "<p>2671 rows × 13 columns</p>\n",
       "</div>"
      ],
      "text/plain": [
       "      Airline  Source  Destination  Route  Duration  Total_Stops  \\\n",
       "0           4       2            1     76       655            0   \n",
       "1           3       3            0     65       240            0   \n",
       "2           4       2            1     76      1425            0   \n",
       "3           6       2            1     76       780            0   \n",
       "4           0       0            2     16       170            4   \n",
       "...       ...     ...          ...    ...       ...          ...   \n",
       "2666        1       3            0     51      1435            0   \n",
       "2667        3       3            0     43       155            4   \n",
       "2668        4       2            1     76       395            0   \n",
       "2669        1       2            1     76       915            0   \n",
       "2670        6       2            1     76       860            0   \n",
       "\n",
       "      Additional_Info  Journey_Day  Journey_Month  Dep_Hour  Dep_Min  \\\n",
       "0                   4            6              6        17       30   \n",
       "1                   4            5             12         6       20   \n",
       "2                   3           21              5        19       15   \n",
       "3                   4           21              5         8        0   \n",
       "4                   4           24              6        23       55   \n",
       "...               ...          ...            ...       ...      ...   \n",
       "2666                4            6              6        20       30   \n",
       "2667                4           27              3        14       20   \n",
       "2668                4            3              6        21       50   \n",
       "2669                4            3              6         4        0   \n",
       "2670                4           15              6         4       55   \n",
       "\n",
       "      Arrival_Hour  Arrival_Min  \n",
       "0                4           25  \n",
       "1               10           20  \n",
       "2               19            0  \n",
       "3               21            0  \n",
       "4                2           45  \n",
       "...            ...          ...  \n",
       "2666            20           25  \n",
       "2667            16           55  \n",
       "2668             4           25  \n",
       "2669            19           15  \n",
       "2670            19           15  \n",
       "\n",
       "[2671 rows x 13 columns]"
      ]
     },
     "execution_count": 128,
     "metadata": {},
     "output_type": "execute_result"
    }
   ],
   "source": [
    "# Encoding data using label encoding method\n",
    "from sklearn.preprocessing import LabelEncoder\n",
    "LE=LabelEncoder()\n",
    "test_df[categorical_col] = test_df[categorical_col].apply(LE.fit_transform)\n",
    "test_df"
   ]
  },
  {
   "cell_type": "code",
   "execution_count": 129,
   "id": "f27bc5a9",
   "metadata": {},
   "outputs": [
    {
     "data": {
      "text/plain": [
       "array([12959.024, 13036.171, 12741.288, ..., 12959.024, 13249.424,\n",
       "       12959.024], dtype=float32)"
      ]
     },
     "execution_count": 129,
     "metadata": {},
     "output_type": "execute_result"
    }
   ],
   "source": [
    "# Predicting the flight price from the features of the testing data\n",
    "Predicted_Price = Model.predict(test_df)\n",
    "Predicted_Price"
   ]
  },
  {
   "cell_type": "markdown",
   "id": "eb682ba2",
   "metadata": {},
   "source": [
    "# Creating DataFrame and Saving the Predictions"
   ]
  },
  {
   "cell_type": "code",
   "execution_count": 130,
   "id": "ae4e708b",
   "metadata": {},
   "outputs": [
    {
     "data": {
      "text/html": [
       "<div>\n",
       "<style scoped>\n",
       "    .dataframe tbody tr th:only-of-type {\n",
       "        vertical-align: middle;\n",
       "    }\n",
       "\n",
       "    .dataframe tbody tr th {\n",
       "        vertical-align: top;\n",
       "    }\n",
       "\n",
       "    .dataframe thead th {\n",
       "        text-align: right;\n",
       "    }\n",
       "</style>\n",
       "<table border=\"1\" class=\"dataframe\">\n",
       "  <thead>\n",
       "    <tr style=\"text-align: right;\">\n",
       "      <th></th>\n",
       "      <th>Price</th>\n",
       "    </tr>\n",
       "  </thead>\n",
       "  <tbody>\n",
       "    <tr>\n",
       "      <th>0</th>\n",
       "      <td>12959.024414</td>\n",
       "    </tr>\n",
       "    <tr>\n",
       "      <th>1</th>\n",
       "      <td>13036.170898</td>\n",
       "    </tr>\n",
       "    <tr>\n",
       "      <th>2</th>\n",
       "      <td>12741.288086</td>\n",
       "    </tr>\n",
       "    <tr>\n",
       "      <th>3</th>\n",
       "      <td>11081.267578</td>\n",
       "    </tr>\n",
       "    <tr>\n",
       "      <th>4</th>\n",
       "      <td>13608.871094</td>\n",
       "    </tr>\n",
       "    <tr>\n",
       "      <th>...</th>\n",
       "      <td>...</td>\n",
       "    </tr>\n",
       "    <tr>\n",
       "      <th>2666</th>\n",
       "      <td>13437.703125</td>\n",
       "    </tr>\n",
       "    <tr>\n",
       "      <th>2667</th>\n",
       "      <td>13036.170898</td>\n",
       "    </tr>\n",
       "    <tr>\n",
       "      <th>2668</th>\n",
       "      <td>12959.024414</td>\n",
       "    </tr>\n",
       "    <tr>\n",
       "      <th>2669</th>\n",
       "      <td>13249.423828</td>\n",
       "    </tr>\n",
       "    <tr>\n",
       "      <th>2670</th>\n",
       "      <td>12959.024414</td>\n",
       "    </tr>\n",
       "  </tbody>\n",
       "</table>\n",
       "<p>2671 rows × 1 columns</p>\n",
       "</div>"
      ],
      "text/plain": [
       "             Price\n",
       "0     12959.024414\n",
       "1     13036.170898\n",
       "2     12741.288086\n",
       "3     11081.267578\n",
       "4     13608.871094\n",
       "...            ...\n",
       "2666  13437.703125\n",
       "2667  13036.170898\n",
       "2668  12959.024414\n",
       "2669  13249.423828\n",
       "2670  12959.024414\n",
       "\n",
       "[2671 rows x 1 columns]"
      ]
     },
     "execution_count": 130,
     "metadata": {},
     "output_type": "execute_result"
    }
   ],
   "source": [
    "Prediction = pd.DataFrame()\n",
    "Prediction['Price'] = Predicted_Price\n",
    "Prediction"
   ]
  },
  {
   "cell_type": "code",
   "execution_count": 131,
   "id": "9bf6d904",
   "metadata": {},
   "outputs": [],
   "source": [
    "# Saving the Predictions\n",
    "Prediction.to_csv(\"Predicted_Flight_Price_Data.csv\", index = False)"
   ]
  }
 ],
 "metadata": {
  "kernelspec": {
   "display_name": "Python 3 (ipykernel)",
   "language": "python",
   "name": "python3"
  },
  "language_info": {
   "codemirror_mode": {
    "name": "ipython",
    "version": 3
   },
   "file_extension": ".py",
   "mimetype": "text/x-python",
   "name": "python",
   "nbconvert_exporter": "python",
   "pygments_lexer": "ipython3",
   "version": "3.9.7"
  }
 },
 "nbformat": 4,
 "nbformat_minor": 5
}
